{
 "cells": [
  {
   "cell_type": "code",
   "execution_count": 13,
   "metadata": {},
   "outputs": [
    {
     "data": {
      "text/plain": [
       "'2.8.0'"
      ]
     },
     "execution_count": 13,
     "metadata": {},
     "output_type": "execute_result"
    }
   ],
   "source": [
    "import tensorflow as tf\n",
    "tf.__version__"
   ]
  },
  {
   "cell_type": "code",
   "execution_count": 14,
   "metadata": {},
   "outputs": [],
   "source": [
    "import numpy as np\n",
    "import matplotlib.pyplot as plt\n",
    "from tensorflow.keras.layers import Input, Conv2D, Dense, Flatten, Dropout\n",
    "from tensorflow.keras.models import Model"
   ]
  },
  {
   "cell_type": "code",
   "execution_count": 15,
   "metadata": {},
   "outputs": [
    {
     "name": "stdout",
     "output_type": "stream",
     "text": [
      "x_train.shape: (60000, 28, 28)\n"
     ]
    }
   ],
   "source": [
    "# Load in the data\n",
    "fashion_mnist = tf.keras.datasets.fashion_mnist\n",
    "\n",
    "(x_train, y_train), (x_test, y_test) = fashion_mnist.load_data()\n",
    "x_train, x_test = x_train / 255.0, x_test / 255.0\n",
    "print(\"x_train.shape:\", x_train.shape)"
   ]
  },
  {
   "cell_type": "code",
   "execution_count": 16,
   "metadata": {},
   "outputs": [
    {
     "name": "stdout",
     "output_type": "stream",
     "text": [
      "(60000, 28, 28, 1)\n"
     ]
    }
   ],
   "source": [
    "# the data is only 2D\n",
    "# convolution expects height x width x color\n",
    "x_train = np.expand_dims(x_train, -1)\n",
    "x_test = np.expand_dims(x_test, -1)\n",
    "print(x_train.shape)"
   ]
  },
  {
   "cell_type": "code",
   "execution_count": 17,
   "metadata": {},
   "outputs": [
    {
     "name": "stdout",
     "output_type": "stream",
     "text": [
      "number of classes: 10\n"
     ]
    }
   ],
   "source": [
    "# number of classes\n",
    "K = len(set(y_train))\n",
    "print(\"number of classes:\", K)"
   ]
  },
  {
   "cell_type": "code",
   "execution_count": 18,
   "metadata": {},
   "outputs": [
    {
     "name": "stdout",
     "output_type": "stream",
     "text": [
      "Model: \"model_1\"\n",
      "_________________________________________________________________\n",
      " Layer (type)                Output Shape              Param #   \n",
      "=================================================================\n",
      " input_2 (InputLayer)        [(None, 28, 28, 1)]       0         \n",
      "                                                                 \n",
      " conv2d_3 (Conv2D)           (None, 13, 13, 32)        320       \n",
      "                                                                 \n",
      " conv2d_4 (Conv2D)           (None, 6, 6, 64)          18496     \n",
      "                                                                 \n",
      " conv2d_5 (Conv2D)           (None, 2, 2, 128)         73856     \n",
      "                                                                 \n",
      " flatten_1 (Flatten)         (None, 512)               0         \n",
      "                                                                 \n",
      " dropout_2 (Dropout)         (None, 512)               0         \n",
      "                                                                 \n",
      " dense_2 (Dense)             (None, 512)               262656    \n",
      "                                                                 \n",
      " dropout_3 (Dropout)         (None, 512)               0         \n",
      "                                                                 \n",
      " dense_3 (Dense)             (None, 10)                5130      \n",
      "                                                                 \n",
      "=================================================================\n",
      "Total params: 360,458\n",
      "Trainable params: 360,458\n",
      "Non-trainable params: 0\n",
      "_________________________________________________________________\n"
     ]
    }
   ],
   "source": [
    "# Build the model using the functional API\n",
    "i = Input(shape=x_train[0].shape)\n",
    "x = Conv2D(32, (3, 3), strides=2, activation='relu')(i)\n",
    "x = Conv2D(64, (3, 3), strides=2, activation='relu')(x)\n",
    "x = Conv2D(128, (3, 3), strides=2, activation='relu')(x)\n",
    "x = Flatten()(x)\n",
    "x = Dropout(0.2)(x)\n",
    "x = Dense(512, activation='relu')(x)\n",
    "x = Dropout(0.2)(x)\n",
    "x = Dense(K, activation='softmax')(x)\n",
    "\n",
    "model = Model(i, x)\n",
    "model.summary()"
   ]
  },
  {
   "cell_type": "code",
   "execution_count": 19,
   "metadata": {},
   "outputs": [
    {
     "name": "stdout",
     "output_type": "stream",
     "text": [
      "Epoch 1/15\n",
      "1875/1875 [==============================] - 13s 7ms/step - loss: 0.5279 - accuracy: 0.8056 - val_loss: 0.3869 - val_accuracy: 0.8523\n",
      "Epoch 2/15\n",
      "1875/1875 [==============================] - 12s 7ms/step - loss: 0.3656 - accuracy: 0.8628 - val_loss: 0.3640 - val_accuracy: 0.8614\n",
      "Epoch 3/15\n",
      "1875/1875 [==============================] - 11s 6ms/step - loss: 0.3163 - accuracy: 0.8807 - val_loss: 0.3250 - val_accuracy: 0.8798\n",
      "Epoch 4/15\n",
      "1875/1875 [==============================] - 11s 6ms/step - loss: 0.2847 - accuracy: 0.8935 - val_loss: 0.3272 - val_accuracy: 0.8812\n",
      "Epoch 5/15\n",
      "1875/1875 [==============================] - 11s 6ms/step - loss: 0.2550 - accuracy: 0.9024 - val_loss: 0.3125 - val_accuracy: 0.8892\n",
      "Epoch 6/15\n",
      "1875/1875 [==============================] - 12s 6ms/step - loss: 0.2351 - accuracy: 0.9122 - val_loss: 0.2925 - val_accuracy: 0.8953\n",
      "Epoch 7/15\n",
      "1875/1875 [==============================] - 11s 6ms/step - loss: 0.2162 - accuracy: 0.9180 - val_loss: 0.3069 - val_accuracy: 0.8933\n",
      "Epoch 8/15\n",
      "1875/1875 [==============================] - 12s 7ms/step - loss: 0.1983 - accuracy: 0.9244 - val_loss: 0.2975 - val_accuracy: 0.9000\n",
      "Epoch 9/15\n",
      "1875/1875 [==============================] - 12s 6ms/step - loss: 0.1854 - accuracy: 0.9298 - val_loss: 0.3091 - val_accuracy: 0.9013\n",
      "Epoch 10/15\n",
      "1875/1875 [==============================] - 12s 6ms/step - loss: 0.1747 - accuracy: 0.9340 - val_loss: 0.3135 - val_accuracy: 0.8954\n",
      "Epoch 11/15\n",
      "1875/1875 [==============================] - 11s 6ms/step - loss: 0.1634 - accuracy: 0.9379 - val_loss: 0.3284 - val_accuracy: 0.8982\n",
      "Epoch 12/15\n",
      "1875/1875 [==============================] - 11s 6ms/step - loss: 0.1512 - accuracy: 0.9429 - val_loss: 0.3294 - val_accuracy: 0.9018\n",
      "Epoch 13/15\n",
      "1875/1875 [==============================] - 11s 6ms/step - loss: 0.1471 - accuracy: 0.9440 - val_loss: 0.3478 - val_accuracy: 0.8964\n",
      "Epoch 14/15\n",
      "1875/1875 [==============================] - 11s 6ms/step - loss: 0.1377 - accuracy: 0.9473 - val_loss: 0.3381 - val_accuracy: 0.9021\n",
      "Epoch 15/15\n",
      "1875/1875 [==============================] - 11s 6ms/step - loss: 0.1304 - accuracy: 0.9511 - val_loss: 0.3656 - val_accuracy: 0.8999\n"
     ]
    }
   ],
   "source": [
    "model.compile(optimizer='adam', loss='sparse_categorical_crossentropy', metrics=['accuracy'])\n",
    "r = model.fit(x_train, y_train, validation_data=(x_test, y_test), epochs=15)"
   ]
  },
  {
   "cell_type": "code",
   "execution_count": 20,
   "metadata": {},
   "outputs": [
    {
     "data": {
      "text/plain": [
       "<matplotlib.legend.Legend at 0x14ea14544c0>"
      ]
     },
     "execution_count": 20,
     "metadata": {},
     "output_type": "execute_result"
    },
    {
     "data": {
      "image/png": "[encoded data removed]",
      "text/plain": [
       "<Figure size 432x288 with 1 Axes>"
      ]
     },
     "metadata": {
      "needs_background": "light"
     },
     "output_type": "display_data"
    }
   ],
   "source": [
    "# Plot loss per iteration\n",
    "import matplotlib.pyplot as plt\n",
    "plt.plot(r.history['loss'], label='loss')\n",
    "plt.plot(r.history['val_loss'], label='val_loss')\n",
    "plt.legend()"
   ]
  },
  {
   "cell_type": "code",
   "execution_count": 23,
   "metadata": {},
   "outputs": [
    {
     "data": {
      "text/plain": [
       "<matplotlib.legend.Legend at 0x14ea1521490>"
      ]
     },
     "execution_count": 23,
     "metadata": {},
     "output_type": "execute_result"
    },
    {
     "data": {
      "image/png": "[encoded data removed]",
      "text/plain": [
       "<Figure size 432x288 with 1 Axes>"
      ]
     },
     "metadata": {
      "needs_background": "light"
     },
     "output_type": "display_data"
    }
   ],
   "source": [
    "# Plot accuracy per iteration\n",
    "import matplotlib.pyplot as plt\n",
    "plt.plot(r.history['accuracy'], label='accuracy')\n",
    "plt.plot(r.history['val_accuracy'], label='val_accuracy')\n",
    "plt.legend()"
   ]
  },
  {
   "cell_type": "code",
   "execution_count": 24,
   "metadata": {},
   "outputs": [
    {
     "name": "stdout",
     "output_type": "stream",
     "text": [
      "Consusion matrix, without normalization\n",
      "[[874   1  23  18   2   1  77   0   4   0]\n",
      " [  2 976   1  14   3   0   2   0   2   0]\n",
      " [ 14   1 884   9  33   0  55   0   4   0]\n",
      " [ 21   3  17 913  12   0  31   0   3   0]\n",
      " [  0   2 114  36 782   0  62   0   4   0]\n",
      " [  0   0   0   1   0 971   0  17   0  11]\n",
      " [124   1  72  17  78   1 695   0  12   0]\n",
      " [  0   0   0   0   0   2   0 949   0  49]\n",
      " [  2   0   4   4   2   3   0   5 979   1]\n",
      " [  1   0   0   0   0   5   0  17   1 976]]\n"
     ]
    },
    {
     "data": {
      "image/png": "[encoded data removed]",
      "text/plain": [
       "<Figure size 432x288 with 2 Axes>"
      ]
     },
     "metadata": {
      "needs_background": "light"
     },
     "output_type": "display_data"
    }
   ],
   "source": [
    "from sklearn.metrics import confusion_matrix\n",
    "import itertools\n",
    "def plt_confusion_matrix(cm, classes, \n",
    "                          normalize=False, \n",
    "                          title='Confusion matrix',\n",
    "                          cmap=plt.cm.Blues):\n",
    "  '''\n",
    "  This function prints and plots the confusion matrix.\n",
    "  Normalization can be appled by setting `normalize=True`.\n",
    "  '''\n",
    "  if normalize:\n",
    "    cm = cm.astype('float') / cm.sum(axis=1)[:, np.newaxis]\n",
    "    print('normalized confusion matrix')\n",
    "  else:\n",
    "    print('Consusion matrix, without normalization')\n",
    "  print(cm)\n",
    "\n",
    "  plt.imshow(cm, interpolation='nearest', cmap=cmap)\n",
    "  plt.title(title)\n",
    "  plt.colorbar()\n",
    "  tick_marks = np.arange(len(classes))\n",
    "  plt.xticks(tick_marks, classes, rotation=45)\n",
    "  plt.yticks(tick_marks, classes)\n",
    "\n",
    "  fmt = '.2f' if normalize else 'd'\n",
    "  thresh = cm.max() / 2.\n",
    "  for i, j in itertools.product(range(cm.shape[0]), range(cm.shape[1])):\n",
    "    plt.text(j, i, format(cm[i, j], fmt),\n",
    "             horizontalalignment=\"center\",\n",
    "             color=\"white\" if cm[i, j] > thresh else \"black\")\n",
    "  \n",
    "  plt.tight_layout()\n",
    "  plt.ylabel('True label')\n",
    "  plt.xlabel('Predicted label')\n",
    "  plt.show()\n",
    "\n",
    "p_test = model.predict(x_test).argmax(axis=1)\n",
    "cm = confusion_matrix(y_test, p_test)\n",
    "plt_confusion_matrix(cm, list(range(10)))\n"
   ]
  },
  {
   "cell_type": "code",
   "execution_count": 25,
   "metadata": {},
   "outputs": [],
   "source": [
    "# Label mapping\n",
    "labels = '''T-shirt/top\n",
    "Trouser\n",
    "Pullover\n",
    "Dress\n",
    "Coat\n",
    "Sandal\n",
    "Shirt\n",
    "Sneaker\n",
    "Bag\n",
    "Ankle boot'''.split()"
   ]
  },
  {
   "cell_type": "code",
   "execution_count": 26,
   "metadata": {},
   "outputs": [
    {
     "data": {
      "text/plain": [
       "Text(0.5, 1.0, 'True label: Coat, Predicted: Pullover')"
      ]
     },
     "execution_count": 26,
     "metadata": {},
     "output_type": "execute_result"
    },
    {
     "data": {
      "image/png": "[encoded data removed]",
      "text/plain": [
       "<Figure size 432x288 with 1 Axes>"
      ]
     },
     "metadata": {
      "needs_background": "light"
     },
     "output_type": "display_data"
    }
   ],
   "source": [
    "# Show some misclassified examples\n",
    "misclassified_idx = np.where(p_test != y_test)[0]\n",
    "i = np.random.choice(misclassified_idx)\n",
    "plt.imshow(x_test[i].reshape(28, 28), cmap='gray')\n",
    "plt.title(\"True label: %s, Predicted: %s\" % (labels[y_test[i]], labels[p_test[i]]))"
   ]
  },
  {
   "cell_type": "code",
   "execution_count": null,
   "metadata": {},
   "outputs": [],
   "source": []
  },
  {
   "cell_type": "code",
   "execution_count": null,
   "metadata": {},
   "outputs": [],
   "source": []
  }
 ],
 "metadata": {
  "kernelspec": {
   "display_name": "Python 3 (ipykernel)",
   "language": "python",
   "name": "python3"
  },
  "language_info": {
   "codemirror_mode": {
    "name": "ipython",
    "version": 3
   },
   "file_extension": ".py",
   "mimetype": "text/x-python",
   "name": "python",
   "nbconvert_exporter": "python",
   "pygments_lexer": "ipython3",
   "version": "3.9.7"
  }
 },
 "nbformat": 4,
 "nbformat_minor": 4
}
