





<!DOCTYPE html>
<html lang="en" data-color-mode="auto" data-light-theme="light" data-dark-theme="dark" >
  <head>
    <meta charset="utf-8">
  <link rel="dns-prefetch" href="https://github.githubassets.com">
  <link rel="dns-prefetch" href="https://avatars.githubusercontent.com">
  <link rel="dns-prefetch" href="https://github-cloud.s3.amazonaws.com">
  <link rel="dns-prefetch" href="https://user-images.githubusercontent.com/">
  <link rel="preconnect" href="https://github.githubassets.com" crossorigin>
  <link rel="preconnect" href="https://avatars.githubusercontent.com">



  <link crossorigin="anonymous" media="all" integrity="sha512-sD8zc/Dn1lguLc4FdbeVhD2gfxFCTXGr/y+MpJG3oX1vkAyaFf/7BHPtvv1dAHA0KG4bDEW3Ex1EPrzGTMtN2Q==" rel="stylesheet" href="https://github.githubassets.com/assets/light-b03f3373f0e7.css" /><link crossorigin="anonymous" media="all" integrity="sha512-V0872pNNqPTaPQFzdwX9tHIzJvB4F1Foi6VYDciZAMo/qHgBC8PvN2d/SkMweiNDbR6eF3cXcG0aPVrEtC8zqw==" rel="stylesheet" href="https://github.githubassets.com/assets/dark-574f3bda934d.css" /><link data-color-theme="dark_dimmed" crossorigin="anonymous" media="all" integrity="sha512-PzuUWYSTZfXfFMEstZYF7zd5TnBiunweYKf7SA0USRWwzNBPELoB8ZhGVGTwcMSwF5ff9kyBAdGzEbfJ2/4cig==" rel="stylesheet" data-href="https://github.githubassets.com/assets/dark_dimmed-3f3b94598493.css" /><link data-color-theme="dark_high_contrast" crossorigin="anonymous" media="all" integrity="sha512-PDguTqV/sgFBBIdGLWGe50pI4GUQjVg3NQIm1ue9+6Wtn5qdx122aGJ1/M6IydIYhVs1tRfeLBl8P+7lNRRHlg==" rel="stylesheet" data-href="https://github.githubassets.com/assets/dark_high_contrast-3c382e4ea57f.css" /><link data-color-theme="dark_colorblind" crossorigin="anonymous" media="all" integrity="sha512-PZ0pkh4DltajJswDsmdCrHotI3eS5qb+etb48dcRDxUuiy0g2YP+kw5sQi04CE7AO+J33JXg86PAQoivVKkdKg==" rel="stylesheet" data-href="https://github.githubassets.com/assets/dark_colorblind-3d9d29921e03.css" /><link data-color-theme="light_colorblind" crossorigin="anonymous" media="all" integrity="sha512-P+VDoZFVyqfAb06foA/ZLUzHkdMPqEQq1d1B0VSzEzOF3fidwKWULgI+b1E+OoF7VnC5HXRS4lMJPKKc6wrc8g==" rel="stylesheet" data-href="https://github.githubassets.com/assets/light_colorblind-3fe543a19155.css" /><link data-color-theme="light_high_contrast" crossorigin="anonymous" media="all" integrity="sha512-33ulzUgAM4pZv65KAcvjwZLHiC4bQaF61LiK9BiAQ/kuCG/+LtNi2clT1gfb72sa9SOsiu4fs4bEBL543Ms3Iw==" rel="stylesheet" data-href="https://github.githubassets.com/assets/light_high_contrast-df7ba5cd4800.css" />
    <link crossorigin="anonymous" media="all" integrity="sha512-Pd4DlGdp/KPKDXzj7Ag3B+GMsPHzBw38b1EJjLCldUa+MTlbZGTpm6Rb35lZl3gh6toNtaLGkwzrZtSgRF0RPw==" rel="stylesheet" href="https://github.githubassets.com/assets/frameworks-3dde03946769.css" />
    <link crossorigin="anonymous" media="all" integrity="sha512-VbLTQP8rYT5x8UvTJf+BrQ548XN3zk+EOXTb/XKF1VyYxv+1ERTE0g0I+KcrWKGgzKj8Tg/ZFKTOuAYxftw6cg==" rel="stylesheet" href="https://github.githubassets.com/assets/behaviors-55b2d340ff2b.css" />
    <link crossorigin="anonymous" media="all" integrity="sha512-zrsFD6SjRcuSfHSnFM4iQcYUXIvUl8nIpZSoq3G8z9JOK0ncxG6rDsqvMHn/FrCtBvr+r+VRvJQo/RtHaM2AMA==" rel="stylesheet" href="https://github.githubassets.com/assets/tab-size-fix-cebb050fa4a3.css" />
  <link crossorigin="anonymous" media="all" integrity="sha512-ld3F3PZ5wmOy9UxXV87FuwzL8tkzOoMwIMAOg3uk2pvCQDKz7q5EXrztrUV+gu7YZJt8yItj5Ob0p2kNtkf1Wg==" rel="stylesheet" href="https://github.githubassets.com/assets/github-95ddc5dcf679.css" />



  <script crossorigin="anonymous" defer="defer" type="application/javascript" integrity="sha512-SdcMcjM0jEaIvlyw8oqk8a9Lcz3cUQ8e1Se9n02dlMIJGRDTsBrUc9MMLYO8izhTS4QZKSJux6MgU9EGkNlg3g==" src="https://github.githubassets.com/assets/runtime-49d70c723334.js"></script>
<script crossorigin="anonymous" defer="defer" type="application/javascript" integrity="sha512-o0cxfMCZ7A2uDJmgCUTvKotuDHkCq83aB8D511EijQnhPr3rmq0xqePektaf3Cs8HJWdwq5Hc2MVDwcymjpkOw==" src="https://github.githubassets.com/assets/environment-a347317cc099.js"></script>
<script crossorigin="anonymous" defer="defer" type="application/javascript" integrity="sha512-rB/EVqzuiKzqcb6RaaDSx+i7s/HApAXhuINThOQOfSCzOsY0zTZf2Ba2GjECWMqWsDjDbJBMP23O6Lc83vygpg==" src="https://github.githubassets.com/assets/9048-ac1fc456acee.js"></script>
<script crossorigin="anonymous" defer="defer" type="application/javascript" integrity="sha512-HGeV9MtF7qlJk/b5sDswl5jAS3cfQncdrcrvwSIjS0FoGJanQ+P9873q4kkIRjiWs/98fqkXbbY/RoXHUCmSbA==" src="https://github.githubassets.com/assets/9758-1c6795f4cb45.js"></script>
<script crossorigin="anonymous" defer="defer" type="application/javascript" integrity="sha512-jjPr0ZAftDw2p5OPu0DRLB9f7B5l1lZmKij0neI7TQquIKCMD6ZZTVqZTYimRo6PPUyegWiGbJmygZsiwlS43g==" src="https://github.githubassets.com/assets/6038-8e33ebd1901f.js"></script>
<script crossorigin="anonymous" defer="defer" type="application/javascript" integrity="sha512-KkL7rbbpZr7Qbu8Ooi2vKIlpcdPWG//bfCZa8MhXRdJ0+SBpOInUwyWSH0esyZY/XojaXnoiGag22Bj19wtNQw==" src="https://github.githubassets.com/assets/github-elements-2a42fbadb6e9.js"></script>
<script crossorigin="anonymous" defer="defer" type="application/javascript" integrity="sha512-qk6DTpAtts03U43T27YBi2GGDQsOLdCLJ7JR3PfUshJ/z5EqEUGh8LdD4w4gOClo9Zr7+YWtxOhIA25s6zO/1g==" src="https://github.githubassets.com/assets/element-registry-aa4e834e902d.js"></script>
<script crossorigin="anonymous" defer="defer" type="application/javascript" integrity="sha512-Qv2lL056rpQocE0oqgYds356Kr0VteNXu+I2H+xqjO5p0YJ7aBCngsWeS1IszuUIaiEmDoOp7umaTcXQ5P75+w==" src="https://github.githubassets.com/assets/762-42fda52f4e7a.js"></script>
<script crossorigin="anonymous" defer="defer" type="application/javascript" integrity="sha512-kyutNFnVyXNirOp6jgLzir/lHojSmZRtKkCvj/18DUnh7DOxXyxa1uE7JKsGnXyDFvyDXAz0P76liKUpyrl5+A==" src="https://github.githubassets.com/assets/8933-932bad3459d5.js"></script>
<script crossorigin="anonymous" defer="defer" type="application/javascript" integrity="sha512-WOGryZiEX4rxCv+yzuST7+eEDb+yYgZI0/JXge0gHDt36/QbHlCyIukOTeTEcV5Owb10K6CZPzYkyRZrCIAmKA==" src="https://github.githubassets.com/assets/52-58e1abc99884.js"></script>
<script crossorigin="anonymous" defer="defer" type="application/javascript" integrity="sha512-4LnNDBotTstM2Et+yZ2gqy7JvdmdSzxgBNgYXyMwcTBLSioeQ22M8v0V7Sj+TlUCJaPlk0kQjTwItcZ4NlMTXg==" src="https://github.githubassets.com/assets/7105-e0b9cd0c1a2d.js"></script>
<script crossorigin="anonymous" defer="defer" type="application/javascript" integrity="sha512-y0Ky7pWSieHl1aMPGzJ4HjAkahyiqC7ILqLq33fCkVXV/7s7AXm4y9vUMTjAsz4Kk6ASA3x/T/M67vaQUgmN3A==" src="https://github.githubassets.com/assets/2308-cb42b2ee9592.js"></script>
<script crossorigin="anonymous" defer="defer" type="application/javascript" integrity="sha512-UQioBOJDApdwFc+p3sk/gCC7/AeniZ1u/g98H/QeeqYiYg5fivFgpe4L1q1y2OO5VjnB/CC/JpOU38OR1zsrOg==" src="https://github.githubassets.com/assets/2662-5108a804e243.js"></script>
<script crossorigin="anonymous" defer="defer" type="application/javascript" integrity="sha512-pnXCfKVWaHkJY5S205OfY/ei+CVFBeIyKsEP6aF2UiOZt0H97kFtGTJ0Ic9BgoYhr5JJm94xnuEHmFPRTjkGYg==" src="https://github.githubassets.com/assets/4686-a675c27ca556.js"></script>
<script crossorigin="anonymous" defer="defer" type="application/javascript" integrity="sha512-DK5RpldZj6z5BGVg4bzqDMndRZ4QbcB/xtJ6sYe2UqpnEaGrhithb/RD0ccOMVkWi1tA22NPVPZ5tcIkEGeKuQ==" src="https://github.githubassets.com/assets/8851-0cae51a65759.js"></script>
<script crossorigin="anonymous" defer="defer" type="application/javascript" integrity="sha512-WjMM57Ne4AtZ7ttu8mmGi8EUXolmE0pm3DUAXXEjs0p4qwCBLyt85Vw+BZsQ+P9jgEfL4eCj8sIXoV930aDnOw==" src="https://github.githubassets.com/assets/1316-5a330ce7b35e.js"></script>
<script crossorigin="anonymous" defer="defer" type="application/javascript" integrity="sha512-znuRGfjwMsuDy8hyVAP2f/f7DqUaQepd47k+xykB/IdObFvNAvUHzjd8heZKSOCbUWYVAH0b1J5IHYxEY5XIyA==" src="https://github.githubassets.com/assets/6832-ce7b9119f8f0.js"></script>
<script crossorigin="anonymous" defer="defer" type="application/javascript" integrity="sha512-nOFW2fN6dF9lB292YmnZpyAPUK9+WLa7h3zJV5bXg+LNf0vbC6ofYh5ApR14cjrTOEcrm/n/cSwjMujDcl6iNQ==" src="https://github.githubassets.com/assets/behaviors-9ce156d9f37a.js"></script>
<script crossorigin="anonymous" defer="defer" type="application/javascript" integrity="sha512-vZv147xO15/NwrEoMon2Lor5F4tSROpvyfxSqmUkr5RguhmLN7dhL6WaqFtGe+MapYypxQgz3XTi8RdZKiEfQw==" src="https://github.githubassets.com/assets/1953-bd9bf5e3bc4e.js"></script>
<script crossorigin="anonymous" defer="defer" type="application/javascript" integrity="sha512-efy3CN9EBi6LnUt+QFNWzFmQSoOt7Bj5v7kf9K5gcCe6hbT804Wgu0wWP3sQiabIioL49Bq7DsrfQXlMNbn3fg==" src="https://github.githubassets.com/assets/notifications-global-79fcb708df44.js"></script>
<script crossorigin="anonymous" defer="defer" type="application/javascript" integrity="sha512-xxAQo8UuHY7yQyM3UUNUUffL9a1iqePJ/et0uLTcIZ+nO/ensbzeT44PLq54Gxnc7kF2xwV6RsfkDWeRDLZaLQ==" src="https://github.githubassets.com/assets/7429-c71010a3c52e.js"></script>
<script crossorigin="anonymous" defer="defer" type="application/javascript" integrity="sha512-7tglo0ern9xE7zRfdh51LLnRSjQ3JfpX1t38tYICwiNrd+TNcSehyiDeFW+T5JAT9kqCLoTcAdsW3dbw4uydSg==" src="https://github.githubassets.com/assets/3578-eed825a347ab.js"></script>
<script crossorigin="anonymous" defer="defer" type="application/javascript" integrity="sha512-Sdwc3+z/WPKJn72KWAnQ6kRBxE5fePZR8idB0QDEAEFL8NGySe0iXZoVfKymgjPGcIWO3jv+wZ4PV1nptAg7ZA==" src="https://github.githubassets.com/assets/7460-49dc1cdfecff.js"></script>
<script crossorigin="anonymous" defer="defer" type="application/javascript" integrity="sha512-4Tg4dsOGatitnO1t/M8XDSD4mAEsBmkXr9NpHJ17oAF5ptoIMLWN/N96wTJRW/ogOjwlcmoTyJbGp7hLsmqShg==" src="https://github.githubassets.com/assets/9976-e1383876c386.js"></script>
<script crossorigin="anonymous" defer="defer" type="application/javascript" integrity="sha512-MOmGz5k1U7ku8siwvGYrsp7yZPmJAGAWBVvS87zR7nub1KZCPskffPuMQBa8HbzCU6guKiShYqMbjVInVAk0bg==" src="https://github.githubassets.com/assets/repositories-30e986cf9935.js"></script>
<script crossorigin="anonymous" defer="defer" type="application/javascript" integrity="sha512-gPeKo6ftR3gkx9TZJ+kZIwlVU1R7aElDIyhhAelKa5ON68Xo3vn8cqMUKmPGHlCFneKCva3CAp5LmHBp+js38A==" src="https://github.githubassets.com/assets/diffs-80f78aa3a7ed.js"></script>
  

  <meta name="viewport" content="width=device-width">
  
  <title>ssac/6.rnn/simplernn-1.ipynb at master · joneconsulting/ssac</title>
    <meta name="description" content="Contribute to joneconsulting/ssac development by creating an account on GitHub.">
    <link rel="search" type="application/opensearchdescription+xml" href="/opensearch.xml" title="GitHub">
  <link rel="fluid-icon" href="https://github.com/fluidicon.png" title="GitHub">
  <meta property="fb:app_id" content="1401488693436528">
  <meta name="apple-itunes-app" content="app-id=1477376905" />
    <meta name="twitter:image:src" content="https://opengraph.githubassets.com/39a466333d49db5e5a15b9e45a4fdfefac17ebd7050d3ecac01ade31dc3cd966/joneconsulting/ssac" /><meta name="twitter:site" content="@github" /><meta name="twitter:card" content="summary_large_image" /><meta name="twitter:title" content="ssac/6.rnn/simplernn-1.ipynb at master · joneconsulting/ssac" /><meta name="twitter:description" content="Contribute to joneconsulting/ssac development by creating an account on GitHub." />
    <meta property="og:image" content="https://opengraph.githubassets.com/39a466333d49db5e5a15b9e45a4fdfefac17ebd7050d3ecac01ade31dc3cd966/joneconsulting/ssac" /><meta property="og:image:alt" content="Contribute to joneconsulting/ssac development by creating an account on GitHub." /><meta property="og:image:width" content="1200" /><meta property="og:image:height" content="600" /><meta property="og:site_name" content="GitHub" /><meta property="og:type" content="object" /><meta property="og:title" content="ssac/6.rnn/simplernn-1.ipynb at master · joneconsulting/ssac" /><meta property="og:url" content="https://github.com/joneconsulting/ssac" /><meta property="og:description" content="Contribute to joneconsulting/ssac development by creating an account on GitHub." />
    



    

  <link rel="assets" href="https://github.githubassets.com/">
    <link rel="shared-web-socket" href="wss://alive.github.com/_sockets/u/46781961/ws?session=eyJ2IjoiVjMiLCJ1Ijo0Njc4MTk2MSwicyI6ODQ2ODY3ODQ0LCJjIjoyNDkwOTE1MDg3LCJ0IjoxNjQ3MzIzOTc0fQ==--121b5e37ff7f744fe1bc7dee5003fae70e98fa548ea216da611254a000a244aa" data-refresh-url="/_alive" data-session-id="2ddf2ac061b787ec89f2ec10945b46e34b6f39151df96d2bc3a07ea999d5264a">
    <link rel="shared-web-socket-src" href="/assets-cdn/worker/socket-worker-dae024e51136.js">
  <link rel="sudo-modal" href="/sessions/sudo_modal">

  <meta name="request-id" content="9335:7395:CF06A7:F65F3D:62302B40" data-pjax-transient="true" /><meta name="html-safe-nonce" content="452c5dfab0d9f2d103d125e0fb957753ae304f9488b42c9b8ea5ba50c6d72b9e" data-pjax-transient="true" /><meta name="visitor-payload" content="eyJyZWZlcnJlciI6Imh0dHBzOi8vZ2l0aHViLmNvbS9qb25lY29uc3VsdGluZy9zc2FjL2Jsb2IvbWFzdGVyLzYucm5uL3NpbXBsZXJubi0xLmlweW5iIiwicmVxdWVzdF9pZCI6IjkzMzU6NzM5NTpDRjA2QTc6RjY1RjNEOjYyMzAyQjQwIiwidmlzaXRvcl9pZCI6Ijg4MjgyMzg3MTA4NzY2MDE4MjEiLCJyZWdpb25fZWRnZSI6ImFwLW5vcnRoZWFzdC0yIiwicmVnaW9uX3JlbmRlciI6ImlhZCJ9" data-pjax-transient="true" /><meta name="visitor-hmac" content="9546dca7876e8672ff9ac7f4b18fcfe916d910114d26c23e9a6344b8e697577a" data-pjax-transient="true" />

    <meta name="hovercard-subject-tag" content="repository:466882907" data-pjax-transient>


  <meta name="github-keyboard-shortcuts" content="repository" data-pjax-transient="true" />

  

  <meta name="selected-link" value="repo_source" data-pjax-transient>

    <meta name="google-site-verification" content="c1kuD-K2HIVF635lypcsWPoD4kilo5-jA_wBFyT4uMY">
  <meta name="google-site-verification" content="KT5gs8h0wvaagLKAVWq8bbeNwnZZK1r1XQysX3xurLU">
  <meta name="google-site-verification" content="ZzhVyEFwb7w3e0-uOTltm8Jsck2F5StVihD0exw2fsA">
  <meta name="google-site-verification" content="GXs5KoUUkNCoaAZn7wPN-t01Pywp9M3sEjnt_3_ZWPc">

<meta name="octolytics-url" content="https://collector.github.com/github/collect" /><meta name="octolytics-actor-id" content="46781961" /><meta name="octolytics-actor-login" content="ansimhyang60" /><meta name="octolytics-actor-hash" content="7ceab20e8c877de9a30d287ebd63e4713444098dc3cff86fbf10dda9852d99c9" />

  <meta name="analytics-location" content="/&lt;user-name&gt;/&lt;repo-name&gt;/blob/blame" data-pjax-transient="true" />

  




  

      <meta name="hostname" content="github.com">
    <meta name="user-login" content="ansimhyang60">


    <meta name="keyboard-shortcuts-preference" content="all">
    <script type="application/json" id="memex_keyboard_shortcuts_preference">"all"</script>

      <meta name="expected-hostname" content="github.com">

      <meta name="js-proxy-site-detection-payload" content="MDQ5YWZkNDE3ZjM0MjcwZjg5NTQwNDE5Y2VhMjVkMDUwYzBlMzI0ZWJhOTBjOWUzMzJhN2RmNzQyNDNmODk2NXx7InJlbW90ZV9hZGRyZXNzIjoiMTEyLjE3Mi4xMjguMSIsInJlcXVlc3RfaWQiOiI5MzM1OjczOTU6Q0YwNkE3OkY2NUYzRDo2MjMwMkI0MCIsInRpbWVzdGFtcCI6MTY0NzMyMzk3NCwiaG9zdCI6ImdpdGh1Yi5jb20ifQ==">

    <meta name="enabled-features" content="ACTIONS_CALLABLE_WORKFLOWS,MARKETPLACE_PENDING_INSTALLATIONS,PRESENCE_IDLE">


  <meta http-equiv="x-pjax-version" content="86a500f904e37701b4c7f8f5647a6faf4dacfd1ccaea3752151a6bcd53895dd9" data-turbo-track="reload">
  <meta http-equiv="x-pjax-csp-version" content="ad743a89372c421844ffcba4fd906096b07b7fd7c2a57617ff2d2f0fdf463e56" data-turbo-track="reload">
  <meta http-equiv="x-pjax-css-version" content="1f7e8b1aeadcfd5a24876f39d01e11e8f02bfc7418b60714261f0d4e7d128288" data-turbo-track="reload">
  <meta http-equiv="x-pjax-js-version" content="4efde82bf3844920726278568fba8f0903edf7feccb542079e39bf157147bca4" data-turbo-track="reload">
  

    
  <meta name="go-import" content="github.com/joneconsulting/ssac git https://github.com/joneconsulting/ssac.git">

  <meta name="octolytics-dimension-user_id" content="34033082" /><meta name="octolytics-dimension-user_login" content="joneconsulting" /><meta name="octolytics-dimension-repository_id" content="466882907" /><meta name="octolytics-dimension-repository_nwo" content="joneconsulting/ssac" /><meta name="octolytics-dimension-repository_public" content="true" /><meta name="octolytics-dimension-repository_is_fork" content="false" /><meta name="octolytics-dimension-repository_network_root_id" content="466882907" /><meta name="octolytics-dimension-repository_network_root_nwo" content="joneconsulting/ssac" />





  <meta name="browser-stats-url" content="https://api.github.com/_private/browser/stats">

  <meta name="browser-errors-url" content="https://api.github.com/_private/browser/errors">

  <meta name="browser-optimizely-client-errors-url" content="https://api.github.com/_private/browser/optimizely_client/errors">

  <link rel="mask-icon" href="https://github.githubassets.com/pinned-octocat.svg" color="#000000">
  <link rel="alternate icon" class="js-site-favicon" type="image/png" href="https://github.githubassets.com/favicons/favicon.png">
  <link rel="icon" class="js-site-favicon" type="image/svg+xml" href="https://github.githubassets.com/favicons/favicon.svg">

<meta name="theme-color" content="#1e2327">
<meta name="color-scheme" content="light dark" />


  <link rel="manifest" href="/manifest.json" crossOrigin="use-credentials">

  </head>

  <body class="logged-in env-production page-responsive full-width" style="word-wrap: break-word;">
    

    <div class="position-relative js-header-wrapper ">
      <a href="#start-of-content" class="p-3 color-bg-accent-emphasis color-fg-on-emphasis show-on-focus js-skip-to-content">Skip to content</a>
      <span data-view-component="true" class="progress-pjax-loader js-pjax-loader-bar Progress position-fixed width-full">
    <span style="width: 0%;" data-view-component="true" class="Progress-item progress-pjax-loader-bar left-0 top-0 color-bg-accent-emphasis"></span>
</span>      
      


        <script crossorigin="anonymous" defer="defer" type="application/javascript" integrity="sha512-+EkHyTyMKL4C3n8EfuoQu/99gJNPozXTtAfaYO3xdHa8BGJeiLMjZZpkxSJIn/oUN42hSKuLNGezsLNZSMWwqQ==" src="https://github.githubassets.com/assets/2403-f84907c93c8c.js"></script>
<script crossorigin="anonymous" defer="defer" type="application/javascript" integrity="sha512-9EJuJYdCh6MaxAhNcj0MpJh/fu33M4MaiAFNsiG9zES+EpCmDPotg257ZgEz5jaDI//MlhdKFq4i4JNMgoMY+A==" src="https://github.githubassets.com/assets/2243-f4426e258742.js"></script>
<script crossorigin="anonymous" defer="defer" type="application/javascript" integrity="sha512-8CjwN7N7V7uNR/5XITNAypc9QQC8a3h4Rci9PZUJT1XQLN8A7aNX4MkVF5PPTqQimtS8p8bgGafF4Xie4x0ecQ==" src="https://github.githubassets.com/assets/7253-f028f037b37b.js"></script>
<script crossorigin="anonymous" defer="defer" type="application/javascript" integrity="sha512-MaryyuKwU0hr35vWEGWRbXnNczPJMbxbhYvh5HnWIoBpP2IpWPJ5nTboz+MdrknWMTWKsCEzwWYs8D2xwyewdw==" src="https://github.githubassets.com/assets/command-palette-31aaf2cae2b0.js"></script>

            <header class="Header js-details-container Details px-3 px-md-4 px-lg-5 flex-wrap flex-md-nowrap" role="banner" >
    <div class="Header-item mt-n1 mb-n1  d-none d-md-flex">
      <a
  class="Header-link "
  href="https://github.com/"
  data-hotkey="g d"
  aria-label="Homepage "
  data-analytics-event="{&quot;category&quot;:&quot;Header&quot;,&quot;action&quot;:&quot;go to dashboard&quot;,&quot;label&quot;:&quot;icon:logo&quot;}"
>
  <svg height="32" aria-hidden="true" viewBox="0 0 16 16" version="1.1" width="32" data-view-component="true" class="octicon octicon-mark-github v-align-middle">
    <path fill-rule="evenodd" d="M8 0C3.58 0 0 3.58 0 8c0 3.54 2.29 6.53 5.47 7.59.4.07.55-.17.55-.38 0-.19-.01-.82-.01-1.49-2.01.37-2.53-.49-2.69-.94-.09-.23-.48-.94-.82-1.13-.28-.15-.68-.52-.01-.53.63-.01 1.08.58 1.23.82.72 1.21 1.87.87 2.33.66.07-.52.28-.87.51-1.07-1.78-.2-3.64-.89-3.64-3.95 0-.87.31-1.59.82-2.15-.08-.2-.36-1.02.08-2.12 0 0 .67-.21 2.2.82.64-.18 1.32-.27 2-.27.68 0 1.36.09 2 .27 1.53-1.04 2.2-.82 2.2-.82.44 1.1.16 1.92.08 2.12.51.56.82 1.27.82 2.15 0 3.07-1.87 3.75-3.65 3.95.29.25.54.73.54 1.48 0 1.07-.01 1.93-.01 2.2 0 .21.15.46.55.38A8.013 8.013 0 0016 8c0-4.42-3.58-8-8-8z"></path>
</svg>
</a>

    </div>

    <div class="Header-item d-md-none">
      <button aria-label="Toggle navigation" aria-expanded="false" type="button" data-view-component="true" class="Header-link js-details-target btn-link">  <svg aria-hidden="true" height="24" viewBox="0 0 16 16" version="1.1" width="24" data-view-component="true" class="octicon octicon-three-bars">
    <path fill-rule="evenodd" d="M1 2.75A.75.75 0 011.75 2h12.5a.75.75 0 110 1.5H1.75A.75.75 0 011 2.75zm0 5A.75.75 0 011.75 7h12.5a.75.75 0 110 1.5H1.75A.75.75 0 011 7.75zM1.75 12a.75.75 0 100 1.5h12.5a.75.75 0 100-1.5H1.75z"></path>
</svg>
</button>    </div>

    <div class="Header-item Header-item--full flex-column flex-md-row width-full flex-order-2 flex-md-order-none mr-0 mr-md-3 mt-3 mt-md-0 Details-content--hidden-not-important d-md-flex">
          



<div class="header-search flex-auto js-site-search position-relative flex-self-stretch flex-md-self-auto mb-3 mb-md-0 mr-0 mr-md-3 scoped-search site-scoped-search js-jump-to"
>
  <div class="position-relative">
    <!-- '"` --><!-- </textarea></xmp> --></option></form><form class="js-site-search-form" role="search" aria-label="Site" data-scope-type="Repository" data-scope-id="466882907" data-scoped-search-url="/joneconsulting/ssac/search" data-owner-scoped-search-url="/users/joneconsulting/search" data-unscoped-search-url="/search" data-turbo="false" action="/joneconsulting/ssac/search" accept-charset="UTF-8" method="get">
      <label class="form-control input-sm header-search-wrapper p-0 js-chromeless-input-container header-search-wrapper-jump-to position-relative d-flex flex-justify-between flex-items-center">
        <input type="text"
          class="form-control input-sm header-search-input jump-to-field js-jump-to-field js-site-search-focus js-site-search-field is-clearable"
          data-hotkey=s,/
          name="q"
          data-test-selector="nav-search-input"
          placeholder="Search or jump to…"
          data-unscoped-placeholder="Search or jump to…"
          data-scoped-placeholder="Search or jump to…"
          autocapitalize="off"
          role="combobox"
          aria-haspopup="listbox"
          aria-expanded="false"
          aria-autocomplete="list"
          aria-controls="jump-to-results"
          aria-label="Search or jump to…"
          data-jump-to-suggestions-path="/_graphql/GetSuggestedNavigationDestinations"
          spellcheck="false"
          autocomplete="off"
        >
        <input type="hidden" value="gjk4M5euf5g0SlrG4i1mRDRp_OYyrdWOHvfc9UBdKvkCbvV0xFCHzm9IOr9ohvbzErgu_8Zs5CbRNXSSUAUKag" data-csrf="true" class="js-data-jump-to-suggestions-path-csrf" />
        <input type="hidden" class="js-site-search-type-field" name="type" >
            <svg xmlns="http://www.w3.org/2000/svg" width="22" height="20" aria-hidden="true" class="mr-1 header-search-key-slash"><path fill="none" stroke="#979A9C" opacity=".4" d="M3.5.5h12c1.7 0 3 1.3 3 3v13c0 1.7-1.3 3-3 3h-12c-1.7 0-3-1.3-3-3v-13c0-1.7 1.3-3 3-3z"></path><path fill="#979A9C" d="M11.8 6L8 15.1h-.9L10.8 6h1z"></path></svg>


          <div class="Box position-absolute overflow-hidden d-none jump-to-suggestions js-jump-to-suggestions-container">
            
<ul class="d-none js-jump-to-suggestions-template-container">
  

<li class="d-flex flex-justify-start flex-items-center p-0 f5 navigation-item js-navigation-item js-jump-to-suggestion" role="option">
  <a tabindex="-1" class="no-underline d-flex flex-auto flex-items-center jump-to-suggestions-path js-jump-to-suggestion-path js-navigation-open p-2" href="" data-item-type="suggestion">
    <div class="jump-to-octicon js-jump-to-octicon flex-shrink-0 mr-2 text-center d-none">
      <svg title="Repository" aria-label="Repository" role="img" height="16" viewBox="0 0 16 16" version="1.1" width="16" data-view-component="true" class="octicon octicon-repo js-jump-to-octicon-repo d-none flex-shrink-0">
    <path fill-rule="evenodd" d="M2 2.5A2.5 2.5 0 014.5 0h8.75a.75.75 0 01.75.75v12.5a.75.75 0 01-.75.75h-2.5a.75.75 0 110-1.5h1.75v-2h-8a1 1 0 00-.714 1.7.75.75 0 01-1.072 1.05A2.495 2.495 0 012 11.5v-9zm10.5-1V9h-8c-.356 0-.694.074-1 .208V2.5a1 1 0 011-1h8zM5 12.25v3.25a.25.25 0 00.4.2l1.45-1.087a.25.25 0 01.3 0L8.6 15.7a.25.25 0 00.4-.2v-3.25a.25.25 0 00-.25-.25h-3.5a.25.25 0 00-.25.25z"></path>
</svg>
      <svg title="Project" aria-label="Project" role="img" height="16" viewBox="0 0 16 16" version="1.1" width="16" data-view-component="true" class="octicon octicon-project js-jump-to-octicon-project d-none flex-shrink-0">
    <path fill-rule="evenodd" d="M1.75 0A1.75 1.75 0 000 1.75v12.5C0 15.216.784 16 1.75 16h12.5A1.75 1.75 0 0016 14.25V1.75A1.75 1.75 0 0014.25 0H1.75zM1.5 1.75a.25.25 0 01.25-.25h12.5a.25.25 0 01.25.25v12.5a.25.25 0 01-.25.25H1.75a.25.25 0 01-.25-.25V1.75zM11.75 3a.75.75 0 00-.75.75v7.5a.75.75 0 001.5 0v-7.5a.75.75 0 00-.75-.75zm-8.25.75a.75.75 0 011.5 0v5.5a.75.75 0 01-1.5 0v-5.5zM8 3a.75.75 0 00-.75.75v3.5a.75.75 0 001.5 0v-3.5A.75.75 0 008 3z"></path>
</svg>
      <svg title="Search" aria-label="Search" role="img" height="16" viewBox="0 0 16 16" version="1.1" width="16" data-view-component="true" class="octicon octicon-search js-jump-to-octicon-search d-none flex-shrink-0">
    <path fill-rule="evenodd" d="M11.5 7a4.499 4.499 0 11-8.998 0A4.499 4.499 0 0111.5 7zm-.82 4.74a6 6 0 111.06-1.06l3.04 3.04a.75.75 0 11-1.06 1.06l-3.04-3.04z"></path>
</svg>
    </div>

    <img class="avatar mr-2 flex-shrink-0 js-jump-to-suggestion-avatar d-none" alt="" aria-label="Team" src="" width="28" height="28">

    <div class="jump-to-suggestion-name js-jump-to-suggestion-name flex-auto overflow-hidden text-left no-wrap css-truncate css-truncate-target">
    </div>

    <div class="border rounded-2 flex-shrink-0 color-bg-subtle px-1 color-fg-muted ml-1 f6 d-none js-jump-to-badge-search">
      <span class="js-jump-to-badge-search-text-default d-none" aria-label="in this repository">
        In this repository
      </span>
      <span class="js-jump-to-badge-search-text-global d-none" aria-label="in all of GitHub">
        All GitHub
      </span>
      <span aria-hidden="true" class="d-inline-block ml-1 v-align-middle">↵</span>
    </div>

    <div aria-hidden="true" class="border rounded-2 flex-shrink-0 color-bg-subtle px-1 color-fg-muted ml-1 f6 d-none d-on-nav-focus js-jump-to-badge-jump">
      Jump to
      <span class="d-inline-block ml-1 v-align-middle">↵</span>
    </div>
  </a>
</li>

</ul>

<ul class="d-none js-jump-to-no-results-template-container">
  <li class="d-flex flex-justify-center flex-items-center f5 d-none js-jump-to-suggestion p-2">
    <span class="color-fg-muted">No suggested jump to results</span>
  </li>
</ul>

<ul id="jump-to-results" role="listbox" class="p-0 m-0 js-navigation-container jump-to-suggestions-results-container js-jump-to-suggestions-results-container">
  

<li class="d-flex flex-justify-start flex-items-center p-0 f5 navigation-item js-navigation-item js-jump-to-scoped-search d-none" role="option">
  <a tabindex="-1" class="no-underline d-flex flex-auto flex-items-center jump-to-suggestions-path js-jump-to-suggestion-path js-navigation-open p-2" href="" data-item-type="scoped_search">
    <div class="jump-to-octicon js-jump-to-octicon flex-shrink-0 mr-2 text-center d-none">
      <svg title="Repository" aria-label="Repository" role="img" height="16" viewBox="0 0 16 16" version="1.1" width="16" data-view-component="true" class="octicon octicon-repo js-jump-to-octicon-repo d-none flex-shrink-0">
    <path fill-rule="evenodd" d="M2 2.5A2.5 2.5 0 014.5 0h8.75a.75.75 0 01.75.75v12.5a.75.75 0 01-.75.75h-2.5a.75.75 0 110-1.5h1.75v-2h-8a1 1 0 00-.714 1.7.75.75 0 01-1.072 1.05A2.495 2.495 0 012 11.5v-9zm10.5-1V9h-8c-.356 0-.694.074-1 .208V2.5a1 1 0 011-1h8zM5 12.25v3.25a.25.25 0 00.4.2l1.45-1.087a.25.25 0 01.3 0L8.6 15.7a.25.25 0 00.4-.2v-3.25a.25.25 0 00-.25-.25h-3.5a.25.25 0 00-.25.25z"></path>
</svg>
      <svg title="Project" aria-label="Project" role="img" height="16" viewBox="0 0 16 16" version="1.1" width="16" data-view-component="true" class="octicon octicon-project js-jump-to-octicon-project d-none flex-shrink-0">
    <path fill-rule="evenodd" d="M1.75 0A1.75 1.75 0 000 1.75v12.5C0 15.216.784 16 1.75 16h12.5A1.75 1.75 0 0016 14.25V1.75A1.75 1.75 0 0014.25 0H1.75zM1.5 1.75a.25.25 0 01.25-.25h12.5a.25.25 0 01.25.25v12.5a.25.25 0 01-.25.25H1.75a.25.25 0 01-.25-.25V1.75zM11.75 3a.75.75 0 00-.75.75v7.5a.75.75 0 001.5 0v-7.5a.75.75 0 00-.75-.75zm-8.25.75a.75.75 0 011.5 0v5.5a.75.75 0 01-1.5 0v-5.5zM8 3a.75.75 0 00-.75.75v3.5a.75.75 0 001.5 0v-3.5A.75.75 0 008 3z"></path>
</svg>
      <svg title="Search" aria-label="Search" role="img" height="16" viewBox="0 0 16 16" version="1.1" width="16" data-view-component="true" class="octicon octicon-search js-jump-to-octicon-search d-none flex-shrink-0">
    <path fill-rule="evenodd" d="M11.5 7a4.499 4.499 0 11-8.998 0A4.499 4.499 0 0111.5 7zm-.82 4.74a6 6 0 111.06-1.06l3.04 3.04a.75.75 0 11-1.06 1.06l-3.04-3.04z"></path>
</svg>
    </div>

    <img class="avatar mr-2 flex-shrink-0 js-jump-to-suggestion-avatar d-none" alt="" aria-label="Team" src="" width="28" height="28">

    <div class="jump-to-suggestion-name js-jump-to-suggestion-name flex-auto overflow-hidden text-left no-wrap css-truncate css-truncate-target">
    </div>

    <div class="border rounded-2 flex-shrink-0 color-bg-subtle px-1 color-fg-muted ml-1 f6 d-none js-jump-to-badge-search">
      <span class="js-jump-to-badge-search-text-default d-none" aria-label="in this repository">
        In this repository
      </span>
      <span class="js-jump-to-badge-search-text-global d-none" aria-label="in all of GitHub">
        All GitHub
      </span>
      <span aria-hidden="true" class="d-inline-block ml-1 v-align-middle">↵</span>
    </div>

    <div aria-hidden="true" class="border rounded-2 flex-shrink-0 color-bg-subtle px-1 color-fg-muted ml-1 f6 d-none d-on-nav-focus js-jump-to-badge-jump">
      Jump to
      <span class="d-inline-block ml-1 v-align-middle">↵</span>
    </div>
  </a>
</li>

  

<li class="d-flex flex-justify-start flex-items-center p-0 f5 navigation-item js-navigation-item js-jump-to-owner-scoped-search d-none" role="option">
  <a tabindex="-1" class="no-underline d-flex flex-auto flex-items-center jump-to-suggestions-path js-jump-to-suggestion-path js-navigation-open p-2" href="" data-item-type="owner_scoped_search">
    <div class="jump-to-octicon js-jump-to-octicon flex-shrink-0 mr-2 text-center d-none">
      <svg title="Repository" aria-label="Repository" role="img" height="16" viewBox="0 0 16 16" version="1.1" width="16" data-view-component="true" class="octicon octicon-repo js-jump-to-octicon-repo d-none flex-shrink-0">
    <path fill-rule="evenodd" d="M2 2.5A2.5 2.5 0 014.5 0h8.75a.75.75 0 01.75.75v12.5a.75.75 0 01-.75.75h-2.5a.75.75 0 110-1.5h1.75v-2h-8a1 1 0 00-.714 1.7.75.75 0 01-1.072 1.05A2.495 2.495 0 012 11.5v-9zm10.5-1V9h-8c-.356 0-.694.074-1 .208V2.5a1 1 0 011-1h8zM5 12.25v3.25a.25.25 0 00.4.2l1.45-1.087a.25.25 0 01.3 0L8.6 15.7a.25.25 0 00.4-.2v-3.25a.25.25 0 00-.25-.25h-3.5a.25.25 0 00-.25.25z"></path>
</svg>
      <svg title="Project" aria-label="Project" role="img" height="16" viewBox="0 0 16 16" version="1.1" width="16" data-view-component="true" class="octicon octicon-project js-jump-to-octicon-project d-none flex-shrink-0">
    <path fill-rule="evenodd" d="M1.75 0A1.75 1.75 0 000 1.75v12.5C0 15.216.784 16 1.75 16h12.5A1.75 1.75 0 0016 14.25V1.75A1.75 1.75 0 0014.25 0H1.75zM1.5 1.75a.25.25 0 01.25-.25h12.5a.25.25 0 01.25.25v12.5a.25.25 0 01-.25.25H1.75a.25.25 0 01-.25-.25V1.75zM11.75 3a.75.75 0 00-.75.75v7.5a.75.75 0 001.5 0v-7.5a.75.75 0 00-.75-.75zm-8.25.75a.75.75 0 011.5 0v5.5a.75.75 0 01-1.5 0v-5.5zM8 3a.75.75 0 00-.75.75v3.5a.75.75 0 001.5 0v-3.5A.75.75 0 008 3z"></path>
</svg>
      <svg title="Search" aria-label="Search" role="img" height="16" viewBox="0 0 16 16" version="1.1" width="16" data-view-component="true" class="octicon octicon-search js-jump-to-octicon-search d-none flex-shrink-0">
    <path fill-rule="evenodd" d="M11.5 7a4.499 4.499 0 11-8.998 0A4.499 4.499 0 0111.5 7zm-.82 4.74a6 6 0 111.06-1.06l3.04 3.04a.75.75 0 11-1.06 1.06l-3.04-3.04z"></path>
</svg>
    </div>

    <img class="avatar mr-2 flex-shrink-0 js-jump-to-suggestion-avatar d-none" alt="" aria-label="Team" src="" width="28" height="28">

    <div class="jump-to-suggestion-name js-jump-to-suggestion-name flex-auto overflow-hidden text-left no-wrap css-truncate css-truncate-target">
    </div>

    <div class="border rounded-2 flex-shrink-0 color-bg-subtle px-1 color-fg-muted ml-1 f6 d-none js-jump-to-badge-search">
      <span class="js-jump-to-badge-search-text-default d-none" aria-label="in this user">
        In this user
      </span>
      <span class="js-jump-to-badge-search-text-global d-none" aria-label="in all of GitHub">
        All GitHub
      </span>
      <span aria-hidden="true" class="d-inline-block ml-1 v-align-middle">↵</span>
    </div>

    <div aria-hidden="true" class="border rounded-2 flex-shrink-0 color-bg-subtle px-1 color-fg-muted ml-1 f6 d-none d-on-nav-focus js-jump-to-badge-jump">
      Jump to
      <span class="d-inline-block ml-1 v-align-middle">↵</span>
    </div>
  </a>
</li>

  

<li class="d-flex flex-justify-start flex-items-center p-0 f5 navigation-item js-navigation-item js-jump-to-global-search d-none" role="option">
  <a tabindex="-1" class="no-underline d-flex flex-auto flex-items-center jump-to-suggestions-path js-jump-to-suggestion-path js-navigation-open p-2" href="" data-item-type="global_search">
    <div class="jump-to-octicon js-jump-to-octicon flex-shrink-0 mr-2 text-center d-none">
      <svg title="Repository" aria-label="Repository" role="img" height="16" viewBox="0 0 16 16" version="1.1" width="16" data-view-component="true" class="octicon octicon-repo js-jump-to-octicon-repo d-none flex-shrink-0">
    <path fill-rule="evenodd" d="M2 2.5A2.5 2.5 0 014.5 0h8.75a.75.75 0 01.75.75v12.5a.75.75 0 01-.75.75h-2.5a.75.75 0 110-1.5h1.75v-2h-8a1 1 0 00-.714 1.7.75.75 0 01-1.072 1.05A2.495 2.495 0 012 11.5v-9zm10.5-1V9h-8c-.356 0-.694.074-1 .208V2.5a1 1 0 011-1h8zM5 12.25v3.25a.25.25 0 00.4.2l1.45-1.087a.25.25 0 01.3 0L8.6 15.7a.25.25 0 00.4-.2v-3.25a.25.25 0 00-.25-.25h-3.5a.25.25 0 00-.25.25z"></path>
</svg>
      <svg title="Project" aria-label="Project" role="img" height="16" viewBox="0 0 16 16" version="1.1" width="16" data-view-component="true" class="octicon octicon-project js-jump-to-octicon-project d-none flex-shrink-0">
    <path fill-rule="evenodd" d="M1.75 0A1.75 1.75 0 000 1.75v12.5C0 15.216.784 16 1.75 16h12.5A1.75 1.75 0 0016 14.25V1.75A1.75 1.75 0 0014.25 0H1.75zM1.5 1.75a.25.25 0 01.25-.25h12.5a.25.25 0 01.25.25v12.5a.25.25 0 01-.25.25H1.75a.25.25 0 01-.25-.25V1.75zM11.75 3a.75.75 0 00-.75.75v7.5a.75.75 0 001.5 0v-7.5a.75.75 0 00-.75-.75zm-8.25.75a.75.75 0 011.5 0v5.5a.75.75 0 01-1.5 0v-5.5zM8 3a.75.75 0 00-.75.75v3.5a.75.75 0 001.5 0v-3.5A.75.75 0 008 3z"></path>
</svg>
      <svg title="Search" aria-label="Search" role="img" height="16" viewBox="0 0 16 16" version="1.1" width="16" data-view-component="true" class="octicon octicon-search js-jump-to-octicon-search d-none flex-shrink-0">
    <path fill-rule="evenodd" d="M11.5 7a4.499 4.499 0 11-8.998 0A4.499 4.499 0 0111.5 7zm-.82 4.74a6 6 0 111.06-1.06l3.04 3.04a.75.75 0 11-1.06 1.06l-3.04-3.04z"></path>
</svg>
    </div>

    <img class="avatar mr-2 flex-shrink-0 js-jump-to-suggestion-avatar d-none" alt="" aria-label="Team" src="" width="28" height="28">

    <div class="jump-to-suggestion-name js-jump-to-suggestion-name flex-auto overflow-hidden text-left no-wrap css-truncate css-truncate-target">
    </div>

    <div class="border rounded-2 flex-shrink-0 color-bg-subtle px-1 color-fg-muted ml-1 f6 d-none js-jump-to-badge-search">
      <span class="js-jump-to-badge-search-text-default d-none" aria-label="in this repository">
        In this repository
      </span>
      <span class="js-jump-to-badge-search-text-global d-none" aria-label="in all of GitHub">
        All GitHub
      </span>
      <span aria-hidden="true" class="d-inline-block ml-1 v-align-middle">↵</span>
    </div>

    <div aria-hidden="true" class="border rounded-2 flex-shrink-0 color-bg-subtle px-1 color-fg-muted ml-1 f6 d-none d-on-nav-focus js-jump-to-badge-jump">
      Jump to
      <span class="d-inline-block ml-1 v-align-middle">↵</span>
    </div>
  </a>
</li>


    <li class="d-flex flex-justify-center flex-items-center p-0 f5 js-jump-to-suggestion">
      <svg style="box-sizing: content-box; color: var(--color-icon-primary);" width="32" height="32" viewBox="0 0 16 16" fill="none" data-view-component="true" class="m-3 anim-rotate">
  <circle cx="8" cy="8" r="7" stroke="currentColor" stroke-opacity="0.25" stroke-width="2" vector-effect="non-scaling-stroke" />
  <path d="M15 8a7.002 7.002 0 00-7-7" stroke="currentColor" stroke-width="2" stroke-linecap="round" vector-effect="non-scaling-stroke" />
</svg>
    </li>
</ul>

          </div>
      </label>
</form>  </div>
</div>

        <nav class="d-flex flex-column flex-md-row flex-self-stretch flex-md-self-auto" aria-label="Global">
      <a class="Header-link py-md-3 d-block d-md-none py-2 border-top border-md-top-0 border-white-fade" data-ga-click="Header, click, Nav menu - item:dashboard:user" aria-label="Dashboard" href="/dashboard">
        Dashboard
</a>
    <a class="js-selected-navigation-item Header-link mt-md-n3 mb-md-n3 py-2 py-md-3 mr-0 mr-md-3 border-top border-md-top-0 border-white-fade" data-hotkey="g p" data-ga-click="Header, click, Nav menu - item:pulls context:user" aria-label="Pull requests you created" data-selected-links="/pulls /pulls/assigned /pulls/mentioned /pulls" href="/pulls">
        Pull<span class="d-inline d-md-none d-lg-inline"> request</span>s
</a>
    <a class="js-selected-navigation-item Header-link mt-md-n3 mb-md-n3 py-2 py-md-3 mr-0 mr-md-3 border-top border-md-top-0 border-white-fade" data-hotkey="g i" data-ga-click="Header, click, Nav menu - item:issues context:user" aria-label="Issues you created" data-selected-links="/issues /issues/assigned /issues/mentioned /issues" href="/issues">
      Issues
</a>
      <div class="d-flex position-relative">
        <a class="js-selected-navigation-item Header-link flex-auto mt-md-n3 mb-md-n3 py-2 py-md-3 mr-0 mr-md-3 border-top border-md-top-0 border-white-fade" data-ga-click="Header, click, Nav menu - item:marketplace context:user" data-octo-click="marketplace_click" data-octo-dimensions="location:nav_bar" data-selected-links=" /marketplace" href="/marketplace">
          Marketplace
</a>      </div>

    <a class="js-selected-navigation-item Header-link mt-md-n3 mb-md-n3 py-2 py-md-3 mr-0 mr-md-3 border-top border-md-top-0 border-white-fade" data-ga-click="Header, click, Nav menu - item:explore" data-selected-links="/explore /trending /trending/developers /integrations /integrations/feature/code /integrations/feature/collaborate /integrations/feature/ship showcases showcases_search showcases_landing /explore" href="/explore">
      Explore
</a>
    <a class="js-selected-navigation-item Header-link d-block d-md-none py-2 py-md-3 border-top border-md-top-0 border-white-fade" data-ga-click="Header, click, Nav menu - item:workspaces context:user" data-selected-links="/codespaces /codespaces" href="/codespaces">
      Codespaces
</a>
      <a class="js-selected-navigation-item Header-link d-block d-md-none py-2 py-md-3 border-top border-md-top-0 border-white-fade" data-ga-click="Header, click, Nav menu - item:Sponsors" data-hydro-click="{&quot;event_type&quot;:&quot;sponsors.button_click&quot;,&quot;payload&quot;:{&quot;button&quot;:&quot;HEADER_SPONSORS_DASHBOARD&quot;,&quot;sponsorable_login&quot;:&quot;ansimhyang60&quot;,&quot;originating_url&quot;:&quot;https://github.com/joneconsulting/ssac/blame/master/6.rnn/simplernn-1.ipynb&quot;,&quot;user_id&quot;:46781961}}" data-hydro-click-hmac="e424743af4f6e738ae046b4e6fd8594b07f78309ac21ceb202cb5b9ff2168f86" data-selected-links=" /sponsors/accounts" href="/sponsors/accounts">Sponsors</a>

    <a class="Header-link d-block d-md-none mr-0 mr-md-3 py-2 py-md-3 border-top border-md-top-0 border-white-fade" href="/settings/profile">
      Settings
</a>
    <a class="Header-link d-block d-md-none mr-0 mr-md-3 py-2 py-md-3 border-top border-md-top-0 border-white-fade" href="/ansimhyang60">
      <img class="avatar avatar-user" loading="lazy" decoding="async" src="https://avatars.githubusercontent.com/u/46781961?s=40&amp;v=4" width="20" height="20" alt="@ansimhyang60" />
      ansimhyang60
</a>
    <!-- '"` --><!-- </textarea></xmp> --></option></form><form data-turbo="false" action="/logout" accept-charset="UTF-8" method="post"><input type="hidden" name="authenticity_token" value="h0g6N-RkNkIi45rZmnBPCM9yfRv4hVZj0MgxaNOY4IDeVNG3ruyq1AATK9NxF_Ic7UNCFOVn7IaQ6QY3-PXsPA" />
      <button
        type="submit"
        class="Header-link mr-0 mr-md-3 py-2 py-md-3 border-top border-md-top-0 border-white-fade d-md-none btn-link d-block width-full text-left"
        style="padding-left: 2px;"
        data-analytics-event="{&quot;category&quot;:&quot;Header&quot;,&quot;action&quot;:&quot;sign out&quot;,&quot;label&quot;:&quot;icon:logout&quot;}"
      >
        <svg aria-hidden="true" height="16" viewBox="0 0 16 16" version="1.1" width="16" data-view-component="true" class="octicon octicon-sign-out v-align-middle">
    <path fill-rule="evenodd" d="M2 2.75C2 1.784 2.784 1 3.75 1h2.5a.75.75 0 010 1.5h-2.5a.25.25 0 00-.25.25v10.5c0 .138.112.25.25.25h2.5a.75.75 0 010 1.5h-2.5A1.75 1.75 0 012 13.25V2.75zm10.44 4.5H6.75a.75.75 0 000 1.5h5.69l-1.97 1.97a.75.75 0 101.06 1.06l3.25-3.25a.75.75 0 000-1.06l-3.25-3.25a.75.75 0 10-1.06 1.06l1.97 1.97z"></path>
</svg>
        Sign out
      </button>
</form></nav>

    </div>

    <div class="Header-item Header-item--full flex-justify-center d-md-none position-relative">
        <a
  class="Header-link "
  href="https://github.com/"
  data-hotkey="g d"
  aria-label="Homepage "
  data-analytics-event="{&quot;category&quot;:&quot;Header&quot;,&quot;action&quot;:&quot;go to dashboard&quot;,&quot;label&quot;:&quot;icon:logo&quot;}"
>
  <svg height="32" aria-hidden="true" viewBox="0 0 16 16" version="1.1" width="32" data-view-component="true" class="octicon octicon-mark-github v-align-middle">
    <path fill-rule="evenodd" d="M8 0C3.58 0 0 3.58 0 8c0 3.54 2.29 6.53 5.47 7.59.4.07.55-.17.55-.38 0-.19-.01-.82-.01-1.49-2.01.37-2.53-.49-2.69-.94-.09-.23-.48-.94-.82-1.13-.28-.15-.68-.52-.01-.53.63-.01 1.08.58 1.23.82.72 1.21 1.87.87 2.33.66.07-.52.28-.87.51-1.07-1.78-.2-3.64-.89-3.64-3.95 0-.87.31-1.59.82-2.15-.08-.2-.36-1.02.08-2.12 0 0 .67-.21 2.2.82.64-.18 1.32-.27 2-.27.68 0 1.36.09 2 .27 1.53-1.04 2.2-.82 2.2-.82.44 1.1.16 1.92.08 2.12.51.56.82 1.27.82 2.15 0 3.07-1.87 3.75-3.65 3.95.29.25.54.73.54 1.48 0 1.07-.01 1.93-.01 2.2 0 .21.15.46.55.38A8.013 8.013 0 0016 8c0-4.42-3.58-8-8-8z"></path>
</svg>
</a>

    </div>

    <div class="Header-item mr-0 mr-md-3 flex-order-1 flex-md-order-none">
        


      <notification-indicator
        class="js-socket-channel"
        data-test-selector="notifications-indicator"
        data-channel="eyJjIjoibm90aWZpY2F0aW9uLWNoYW5nZWQ6NDY3ODE5NjEiLCJ0IjoxNjQ3MzIzOTc0fQ==--b472349ad1e94b333c4cb56e2e8c967da3b0873d5b59897a1198b1bc355bf55e">
        <a href="/notifications"
          data-turbo=false
          class="Header-link notification-indicator position-relative tooltipped tooltipped-sw"
          
          aria-label="You have no unread notifications"
          data-hotkey="g n"
          data-ga-click="Header, go to notifications, icon:read"
          data-target="notification-indicator.link">
          <span class="mail-status  " data-target="notification-indicator.modifier"></span>
          <svg aria-hidden="true" height="16" viewBox="0 0 16 16" version="1.1" width="16" data-view-component="true" class="octicon octicon-bell">
    <path d="M8 16a2 2 0 001.985-1.75c.017-.137-.097-.25-.235-.25h-3.5c-.138 0-.252.113-.235.25A2 2 0 008 16z"></path><path fill-rule="evenodd" d="M8 1.5A3.5 3.5 0 004.5 5v2.947c0 .346-.102.683-.294.97l-1.703 2.556a.018.018 0 00-.003.01l.001.006c0 .002.002.004.004.006a.017.017 0 00.006.004l.007.001h10.964l.007-.001a.016.016 0 00.006-.004.016.016 0 00.004-.006l.001-.007a.017.017 0 00-.003-.01l-1.703-2.554a1.75 1.75 0 01-.294-.97V5A3.5 3.5 0 008 1.5zM3 5a5 5 0 0110 0v2.947c0 .05.015.098.042.139l1.703 2.555A1.518 1.518 0 0113.482 13H2.518a1.518 1.518 0 01-1.263-2.36l1.703-2.554A.25.25 0 003 7.947V5z"></path>
</svg>
        </a>
      </notification-indicator>

    </div>


    <div class="Header-item position-relative d-none d-md-flex">
        <details class="details-overlay details-reset">
  <summary
    class="Header-link"
    aria-label="Create new…"
    data-analytics-event="{&quot;category&quot;:&quot;Header&quot;,&quot;action&quot;:&quot;create new&quot;,&quot;label&quot;:&quot;icon:add&quot;}"
  >
      <svg aria-hidden="true" height="16" viewBox="0 0 16 16" version="1.1" width="16" data-view-component="true" class="octicon octicon-plus">
    <path fill-rule="evenodd" d="M7.75 2a.75.75 0 01.75.75V7h4.25a.75.75 0 110 1.5H8.5v4.25a.75.75 0 11-1.5 0V8.5H2.75a.75.75 0 010-1.5H7V2.75A.75.75 0 017.75 2z"></path>
</svg> <span class="dropdown-caret"></span>
  </summary>
  <details-menu class="dropdown-menu dropdown-menu-sw">
    
<a role="menuitem" class="dropdown-item" href="/new" data-ga-click="Header, create new repository">
  New repository
</a>

  <a role="menuitem" class="dropdown-item" href="/new/import" data-ga-click="Header, import a repository">
    Import repository
  </a>

<a role="menuitem" class="dropdown-item" href="https://gist.github.com/" data-ga-click="Header, create new gist">
  New gist
</a>

  <a role="menuitem" class="dropdown-item" href="/organizations/new" data-ga-click="Header, create new organization">
    New organization
  </a>



  </details-menu>
</details>

    </div>

    <div class="Header-item position-relative mr-0 d-none d-md-flex">
        
  <details class="details-overlay details-reset js-feature-preview-indicator-container" data-feature-preview-indicator-src="/users/ansimhyang60/feature_preview/indicator_check">

  <summary
    class="Header-link"
    aria-label="View profile and more"
    data-analytics-event="{&quot;category&quot;:&quot;Header&quot;,&quot;action&quot;:&quot;show menu&quot;,&quot;label&quot;:&quot;icon:avatar&quot;}"
  >
    <img src="https://avatars.githubusercontent.com/u/46781961?s=40&amp;v=4" alt="@ansimhyang60" size="20" height="20" width="20" data-view-component="true" class="avatar avatar-small circle" />
      <span class="feature-preview-indicator js-feature-preview-indicator" style="top: 1px;" hidden></span>
    <span class="dropdown-caret"></span>
  </summary>
  <details-menu
      class="dropdown-menu dropdown-menu-sw"
      style="width: 180px"
      
      preload>
      <include-fragment src="/users/46781961/menu" loading="lazy">
        <p class="text-center mt-3" data-hide-on-error>
          <svg style="box-sizing: content-box; color: var(--color-icon-primary);" width="32" height="32" viewBox="0 0 16 16" fill="none" data-view-component="true" class="anim-rotate">
  <circle cx="8" cy="8" r="7" stroke="currentColor" stroke-opacity="0.25" stroke-width="2" vector-effect="non-scaling-stroke" />
  <path d="M15 8a7.002 7.002 0 00-7-7" stroke="currentColor" stroke-width="2" stroke-linecap="round" vector-effect="non-scaling-stroke" />
</svg>
        </p>
        <p class="ml-1 mb-2 mt-2 color-fg-default" data-show-on-error>
          <svg aria-hidden="true" height="16" viewBox="0 0 16 16" version="1.1" width="16" data-view-component="true" class="octicon octicon-alert">
    <path fill-rule="evenodd" d="M8.22 1.754a.25.25 0 00-.44 0L1.698 13.132a.25.25 0 00.22.368h12.164a.25.25 0 00.22-.368L8.22 1.754zm-1.763-.707c.659-1.234 2.427-1.234 3.086 0l6.082 11.378A1.75 1.75 0 0114.082 15H1.918a1.75 1.75 0 01-1.543-2.575L6.457 1.047zM9 11a1 1 0 11-2 0 1 1 0 012 0zm-.25-5.25a.75.75 0 00-1.5 0v2.5a.75.75 0 001.5 0v-2.5z"></path>
</svg>
          Sorry, something went wrong.
        </p>
      </include-fragment>
  </details-menu>
</details>

    </div>
</header>

            
    </div>

  <div id="start-of-content" class="show-on-focus"></div>







    <div data-pjax-replace id="js-flash-container">


  <template class="js-flash-template">
    <div class="flash flash-full  {{ className }}">
  <div class="px-2" >
    <button class="flash-close js-flash-close" type="button" aria-label="Dismiss this message">
      <svg aria-hidden="true" height="16" viewBox="0 0 16 16" version="1.1" width="16" data-view-component="true" class="octicon octicon-x">
    <path fill-rule="evenodd" d="M3.72 3.72a.75.75 0 011.06 0L8 6.94l3.22-3.22a.75.75 0 111.06 1.06L9.06 8l3.22 3.22a.75.75 0 11-1.06 1.06L8 9.06l-3.22 3.22a.75.75 0 01-1.06-1.06L6.94 8 3.72 4.78a.75.75 0 010-1.06z"></path>
</svg>
    </button>
    
      <div>{{ message }}</div>

  </div>
</div>
  </template>
</div>


    

  <include-fragment class="js-notification-shelf-include-fragment" data-base-src="https://github.com/notifications/beta/shelf"></include-fragment>




      <details class="details-reset details-overlay details-overlay-dark js-command-palette-dialog">
  <summary class="command-palette-details-summary" aria-label="command palette trigger">
  </summary>
  <details-dialog class="command-palette-details-dialog d-flex flex-column flex-justify-center height-fit" aria-label="command palette">
    <command-palette
      class="command-palette color-bg-default rounded-3 border color-shadow-small"
      data-return-to=/joneconsulting/ssac/blame/master/6.rnn/simplernn-1.ipynb
      data-user-id="46781961"
      data-activation-hotkey="Mod+k,Mod+Alt+k"
      data-command-mode-hotkey="Mod+Shift+k"
        data-action="
          keydown:command-palette#onKeydown
          loadingStateChanged:command-palette#loadingStateChanged
          selectedItemChanged:command-palette#selectedItemChanged
        "
      >


      <input type="hidden" name="color-mode-path" id="color-mode-path" value="/settings/appearance/color_mode" class="js-color-mode-path" autocomplete="off" />
      <input type="hidden" value="RPMQMFtAndRCfGxx7T_aPcamipa7GhYu7tVigR_xqCHwjycUp1w7Vo145Pm1mnkvc5hKA_2ySbQp3K6bwOZYoA" data-csrf="true" class="js-color-mode-csrf" />

        <command-palette-mode
          data-char="#"
            data-scope-types="[&quot;&quot;]"
            data-placeholder="Search issues and pull requests"
        ></command-palette-mode>
        <command-palette-mode
          data-char="#"
            data-scope-types="[&quot;owner&quot;,&quot;repository&quot;]"
            data-placeholder="Search issues, pull requests, discussions, and projects"
        ></command-palette-mode>
        <command-palette-mode
          data-char="!"
            data-scope-types="[&quot;owner&quot;,&quot;repository&quot;]"
            data-placeholder="Search projects"
        ></command-palette-mode>
        <command-palette-mode
          data-char="@"
            data-scope-types="[&quot;&quot;]"
            data-placeholder="Search or jump to a user, organization, or repository"
        ></command-palette-mode>
        <command-palette-mode
          data-char="@"
            data-scope-types="[&quot;owner&quot;]"
            data-placeholder="Search or jump to a repository"
        ></command-palette-mode>
        <command-palette-mode
          data-char="/"
            data-scope-types="[&quot;repository&quot;]"
            data-placeholder="Search files"
        ></command-palette-mode>
        <command-palette-mode
          data-char="?"
        ></command-palette-mode>
        <command-palette-mode
          data-char="&gt;"
            data-placeholder="Run a command"
        ></command-palette-mode>
        <command-palette-mode
          data-char=""
            data-scope-types="[&quot;owner&quot;]"
            data-placeholder="Search or jump to..."
        ></command-palette-mode>
      <command-palette-mode
        class="js-command-palette-default-mode"
        data-char=""
        data-placeholder="Search or jump to..."
      ></command-palette-mode>

      <command-palette-input placeholder="Search or jump to..."
        data-action="
          command-palette-input:command-palette#onInput
          command-palette-select:command-palette#onSelect
          command-palette-descope:command-palette#onDescope
          command-palette-cleared:command-palette#onInputClear
        "
      >
        <div class="js-search-icon d-flex flex-items-center mr-2" style="height: 26px">
          <svg aria-hidden="true" height="16" viewBox="0 0 16 16" version="1.1" width="16" data-view-component="true" class="octicon octicon-search color-fg-muted">
    <path fill-rule="evenodd" d="M11.5 7a4.499 4.499 0 11-8.998 0A4.499 4.499 0 0111.5 7zm-.82 4.74a6 6 0 111.06-1.06l3.04 3.04a.75.75 0 11-1.06 1.06l-3.04-3.04z"></path>
</svg>
        </div>
        <div class="js-spinner d-flex flex-items-center mr-2 color-fg-muted" hidden>
          <svg aria-label="Loading" class="anim-rotate" viewBox="0 0 16 16" fill="none" width="16" height="16">
            <circle
              cx="8"
              cy="8"
              r="7"
              stroke="currentColor"
              stroke-opacity="0.25"
              stroke-width="2"
              vector-effect="non-scaling-stroke"
            ></circle>
            <path
              d="M15 8a7.002 7.002 0 00-7-7"
              stroke="currentColor"
              stroke-width="2"
              stroke-linecap="round"
              vector-effect="non-scaling-stroke"
            ></path>
          </svg>
        </div>
        <command-palette-scope >
          <div data-target="command-palette-scope.placeholder" hidden class="color-fg-subtle">/&nbsp;&nbsp;<span class="text-semibold color-fg-default">...</span>&nbsp;&nbsp;/&nbsp;&nbsp;</div>
              <command-palette-token
                data-text="joneconsulting"
                data-id="MDQ6VXNlcjM0MDMzMDgy"
                data-type="owner"
                data-value="joneconsulting"
                data-targets="command-palette-scope.tokens"
                class="color-fg-default text-semibold"
                style="white-space:nowrap;line-height:20px;"
                >joneconsulting<span class="color-fg-subtle text-normal">&nbsp;&nbsp;/&nbsp;&nbsp;</span></command-palette-token>
              <command-palette-token
                data-text="ssac"
                data-id="R_kgDOG9QRWw"
                data-type="repository"
                data-value="ssac"
                data-targets="command-palette-scope.tokens"
                class="color-fg-default text-semibold"
                style="white-space:nowrap;line-height:20px;"
                >ssac<span class="color-fg-subtle text-normal">&nbsp;&nbsp;/&nbsp;&nbsp;</span></command-palette-token>
        </command-palette-scope>
        <div class="command-palette-input-group flex-1 form-control border-0 box-shadow-none" style="z-index: 0">
          <div class="command-palette-typeahead position-absolute d-flex flex-items-center Truncate">
            <span class="typeahead-segment input-mirror" data-target="command-palette-input.mirror"></span>
            <span class="Truncate-text" data-target="command-palette-input.typeaheadText"></span>
            <span class="typeahead-segment" data-target="command-palette-input.typeaheadPlaceholder"></span>
          </div>
          <input
            class="js-overlay-input typeahead-input d-none"
            disabled
            tabindex="-1"
            aria-label="Hidden input for typeahead"
          >
          <input
            type="text"
            autocomplete="off"
            autocorrect="off"
            autocapitalize="off"
            spellcheck="false"
            class="js-input typeahead-input form-control border-0 box-shadow-none input-block width-full"
            aria-label="Command palette input"
            aria-haspopup="listbox"
            aria-expanded="false"
            aria-autocomplete="list"
            aria-controls="command-palette-item-stack"
            role="combobox"
            data-action="
              input:command-palette-input#onInput
              keydown:command-palette-input#onKeydown
            "
          >
        </div>
        <button aria-label="clear command palette" aria-keyshortcuts="Control+Backspace" data-action="click:command-palette-input#onClear keydown:command-palette-input#onClear" id="command-palette-clear-button" type="button" data-view-component="true" class="btn-octicon js-clear command-palette-input-clear-button"><svg aria-hidden="true" height="16" viewBox="0 0 16 16" version="1.1" width="16" data-view-component="true" class="octicon octicon-x-circle-fill">
    <path fill-rule="evenodd" d="M2.343 13.657A8 8 0 1113.657 2.343 8 8 0 012.343 13.657zM6.03 4.97a.75.75 0 00-1.06 1.06L6.94 8 4.97 9.97a.75.75 0 101.06 1.06L8 9.06l1.97 1.97a.75.75 0 101.06-1.06L9.06 8l1.97-1.97a.75.75 0 10-1.06-1.06L8 6.94 6.03 4.97z"></path>
</svg></button>
        <primer-tooltip hidden="hidden" for="command-palette-clear-button" data-direction="w" data-type="description" data-view-component="true">Clear</primer-tooltip>
      </command-palette-input>

        <command-palette-item-stack
          id="command-palette-item-stack"
          class="item-stack-transition-height"
          
          role="listbox"
          aria-label="Command palette results"
          data-action="itemsUpdated:command-palette#itemsUpdated"
        >
            <command-palette-tip
              class="color-fg-muted f6 px-3 py-1 my-2"
              data-mode=""
              data-value="">
              <div class="d-flex flex-items-start flex-justify-between">
                <div>
                  <span class="text-bold">Tip:</span>
                    Type <kbd class="hx_kbd">#</kbd> to search pull requests
                </div>
                <div class="ml-2 flex-shrink-0">
                  Type <kbd class="hx_kbd">?</kbd> for help and tips
                </div>
              </div>
            </command-palette-tip>
            <command-palette-tip
              class="color-fg-muted f6 px-3 py-1 my-2"
              data-mode=""
              data-value="">
              <div class="d-flex flex-items-start flex-justify-between">
                <div>
                  <span class="text-bold">Tip:</span>
                    Type <kbd class="hx_kbd">#</kbd> to search issues
                </div>
                <div class="ml-2 flex-shrink-0">
                  Type <kbd class="hx_kbd">?</kbd> for help and tips
                </div>
              </div>
            </command-palette-tip>
            <command-palette-tip
              class="color-fg-muted f6 px-3 py-1 my-2"
                data-scope-types="[&quot;owner&quot;,&quot;repository&quot;]"
              data-mode=""
              data-value="">
              <div class="d-flex flex-items-start flex-justify-between">
                <div>
                  <span class="text-bold">Tip:</span>
                    Type <kbd class="hx_kbd">#</kbd> to search discussions
                </div>
                <div class="ml-2 flex-shrink-0">
                  Type <kbd class="hx_kbd">?</kbd> for help and tips
                </div>
              </div>
            </command-palette-tip>
            <command-palette-tip
              class="color-fg-muted f6 px-3 py-1 my-2"
                data-scope-types="[&quot;owner&quot;,&quot;repository&quot;]"
              data-mode=""
              data-value="">
              <div class="d-flex flex-items-start flex-justify-between">
                <div>
                  <span class="text-bold">Tip:</span>
                    Type <kbd class="hx_kbd">!</kbd> to search projects
                </div>
                <div class="ml-2 flex-shrink-0">
                  Type <kbd class="hx_kbd">?</kbd> for help and tips
                </div>
              </div>
            </command-palette-tip>
            <command-palette-tip
              class="color-fg-muted f6 px-3 py-1 my-2"
                data-scope-types="[&quot;owner&quot;]"
              data-mode=""
              data-value="">
              <div class="d-flex flex-items-start flex-justify-between">
                <div>
                  <span class="text-bold">Tip:</span>
                    Type <kbd class="hx_kbd">@</kbd> to search teams
                </div>
                <div class="ml-2 flex-shrink-0">
                  Type <kbd class="hx_kbd">?</kbd> for help and tips
                </div>
              </div>
            </command-palette-tip>
            <command-palette-tip
              class="color-fg-muted f6 px-3 py-1 my-2"
                data-scope-types="[&quot;&quot;]"
              data-mode=""
              data-value="">
              <div class="d-flex flex-items-start flex-justify-between">
                <div>
                  <span class="text-bold">Tip:</span>
                    Type <kbd class="hx_kbd">@</kbd> to search people and organizations
                </div>
                <div class="ml-2 flex-shrink-0">
                  Type <kbd class="hx_kbd">?</kbd> for help and tips
                </div>
              </div>
            </command-palette-tip>
            <command-palette-tip
              class="color-fg-muted f6 px-3 py-1 my-2"
              data-mode=""
              data-value="">
              <div class="d-flex flex-items-start flex-justify-between">
                <div>
                  <span class="text-bold">Tip:</span>
                    Type <kbd class="hx_kbd">&gt;</kbd> to activate command mode
                </div>
                <div class="ml-2 flex-shrink-0">
                  Type <kbd class="hx_kbd">?</kbd> for help and tips
                </div>
              </div>
            </command-palette-tip>
            <command-palette-tip
              class="color-fg-muted f6 px-3 py-1 my-2"
              data-mode=""
              data-value="">
              <div class="d-flex flex-items-start flex-justify-between">
                <div>
                  <span class="text-bold">Tip:</span>
                    Go to your accessibility settings to change your keyboard shortcuts
                </div>
                <div class="ml-2 flex-shrink-0">
                  Type <kbd class="hx_kbd">?</kbd> for help and tips
                </div>
              </div>
            </command-palette-tip>
            <command-palette-tip
              class="color-fg-muted f6 px-3 py-1 my-2"
              data-mode="#"
              data-value="">
              <div class="d-flex flex-items-start flex-justify-between">
                <div>
                  <span class="text-bold">Tip:</span>
                    Type author:@me to search your content
                </div>
                <div class="ml-2 flex-shrink-0">
                  Type <kbd class="hx_kbd">?</kbd> for help and tips
                </div>
              </div>
            </command-palette-tip>
            <command-palette-tip
              class="color-fg-muted f6 px-3 py-1 my-2"
              data-mode="#"
              data-value="">
              <div class="d-flex flex-items-start flex-justify-between">
                <div>
                  <span class="text-bold">Tip:</span>
                    Type is:pr to filter to pull requests
                </div>
                <div class="ml-2 flex-shrink-0">
                  Type <kbd class="hx_kbd">?</kbd> for help and tips
                </div>
              </div>
            </command-palette-tip>
            <command-palette-tip
              class="color-fg-muted f6 px-3 py-1 my-2"
              data-mode="#"
              data-value="">
              <div class="d-flex flex-items-start flex-justify-between">
                <div>
                  <span class="text-bold">Tip:</span>
                    Type is:issue to filter to issues
                </div>
                <div class="ml-2 flex-shrink-0">
                  Type <kbd class="hx_kbd">?</kbd> for help and tips
                </div>
              </div>
            </command-palette-tip>
            <command-palette-tip
              class="color-fg-muted f6 px-3 py-1 my-2"
                data-scope-types="[&quot;owner&quot;,&quot;repository&quot;]"
              data-mode="#"
              data-value="">
              <div class="d-flex flex-items-start flex-justify-between">
                <div>
                  <span class="text-bold">Tip:</span>
                    Type is:project to filter to projects
                </div>
                <div class="ml-2 flex-shrink-0">
                  Type <kbd class="hx_kbd">?</kbd> for help and tips
                </div>
              </div>
            </command-palette-tip>
            <command-palette-tip
              class="color-fg-muted f6 px-3 py-1 my-2"
              data-mode="#"
              data-value="">
              <div class="d-flex flex-items-start flex-justify-between">
                <div>
                  <span class="text-bold">Tip:</span>
                    Type is:open to filter to open content
                </div>
                <div class="ml-2 flex-shrink-0">
                  Type <kbd class="hx_kbd">?</kbd> for help and tips
                </div>
              </div>
            </command-palette-tip>
          <command-palette-tip class="mx-3 my-2 flash flash-error d-flex flex-items-center" data-on-error>
            <div>
              <svg aria-hidden="true" height="16" viewBox="0 0 16 16" version="1.1" width="16" data-view-component="true" class="octicon octicon-alert">
    <path fill-rule="evenodd" d="M8.22 1.754a.25.25 0 00-.44 0L1.698 13.132a.25.25 0 00.22.368h12.164a.25.25 0 00.22-.368L8.22 1.754zm-1.763-.707c.659-1.234 2.427-1.234 3.086 0l6.082 11.378A1.75 1.75 0 0114.082 15H1.918a1.75 1.75 0 01-1.543-2.575L6.457 1.047zM9 11a1 1 0 11-2 0 1 1 0 012 0zm-.25-5.25a.75.75 0 00-1.5 0v2.5a.75.75 0 001.5 0v-2.5z"></path>
</svg>
            </div>
            <div class="px-2">
              We’ve encountered an error and some results aren't available at this time. Type a new search or try again later.
            </div>
          </command-palette-tip>
          <command-palette-tip class="h4 color-fg-default pl-3 pb-2 pt-3" data-on-empty data-match-mode="[^?]|^$">
            No results matched your search
          </command-palette-tip>

            <command-palette-item-group
              data-group-id="top"
              data-group-title="Top result"
              data-group-hint=""
              data-group-limits="{}"
              data-targets="command-palette-item-stack.groups"
            >
            </command-palette-item-group>
            <command-palette-item-group
              data-group-id="commands"
              data-group-title="Commands"
              data-group-hint="Type &gt; to filter"
              data-group-limits="{}"
              data-targets="command-palette-item-stack.groups"
            >
            </command-palette-item-group>
            <command-palette-item-group
              data-group-id="global_commands"
              data-group-title="Global Commands"
              data-group-hint="Type &gt; to filter"
              data-group-limits="{}"
              data-targets="command-palette-item-stack.groups"
            >
            </command-palette-item-group>
            <command-palette-item-group
              data-group-id="files"
              data-group-title="Files"
              data-group-hint=""
              data-group-limits="{}"
              data-targets="command-palette-item-stack.groups"
            >
            </command-palette-item-group>
            <command-palette-item-group
              data-group-id="pages"
              data-group-title="Pages"
              data-group-hint=""
              data-group-limits="{&quot;repository&quot;:10}"
              data-targets="command-palette-item-stack.groups"
            >
            </command-palette-item-group>
            <command-palette-item-group
              data-group-id="access_policies"
              data-group-title="Access Policies"
              data-group-hint=""
              data-group-limits="{}"
              data-targets="command-palette-item-stack.groups"
            >
            </command-palette-item-group>
            <command-palette-item-group
              data-group-id="organizations"
              data-group-title="Organizations"
              data-group-hint=""
              data-group-limits="{}"
              data-targets="command-palette-item-stack.groups"
            >
            </command-palette-item-group>
            <command-palette-item-group
              data-group-id="repositories"
              data-group-title="Repositories"
              data-group-hint=""
              data-group-limits="{}"
              data-targets="command-palette-item-stack.groups"
            >
            </command-palette-item-group>
            <command-palette-item-group
              data-group-id="references"
              data-group-title="Issues, pull requests, and discussions"
              data-group-hint="Type # to filter"
              data-group-limits="{}"
              data-targets="command-palette-item-stack.groups"
            >
            </command-palette-item-group>
            <command-palette-item-group
              data-group-id="teams"
              data-group-title="Teams"
              data-group-hint=""
              data-group-limits="{}"
              data-targets="command-palette-item-stack.groups"
            >
            </command-palette-item-group>
            <command-palette-item-group
              data-group-id="users"
              data-group-title="Users"
              data-group-hint=""
              data-group-limits="{}"
              data-targets="command-palette-item-stack.groups"
            >
            </command-palette-item-group>
            <command-palette-item-group
              data-group-id="projects"
              data-group-title="Projects"
              data-group-hint=""
              data-group-limits="{}"
              data-targets="command-palette-item-stack.groups"
            >
            </command-palette-item-group>
            <command-palette-item-group
              data-group-id="footer"
              data-group-title="Footer"
              data-group-hint=""
              data-group-limits="{}"
              data-targets="command-palette-item-stack.groups"
            >
            </command-palette-item-group>
            <command-palette-item-group
              data-group-id="modes_help"
              data-group-title="Modes"
              data-group-hint=""
              data-group-limits="{}"
              data-targets="command-palette-item-stack.groups"
            >
            </command-palette-item-group>
            <command-palette-item-group
              data-group-id="filters_help"
              data-group-title="Use filters in issues, pull requests, discussions, and projects"
              data-group-hint=""
              data-group-limits="{}"
              data-targets="command-palette-item-stack.groups"
            >
            </command-palette-item-group>
        </command-palette-item-stack>

      <div class="js-command-local-provider-octicons" hidden>
          <div data-local-provider-octicon-id="arrow-right-color-fg-muted">
            <svg height="16" class="octicon octicon-arrow-right color-fg-muted" viewBox="0 0 16 16" version="1.1" width="16" aria-hidden="true"><path fill-rule="evenodd" d="M8.22 2.97a.75.75 0 011.06 0l4.25 4.25a.75.75 0 010 1.06l-4.25 4.25a.75.75 0 01-1.06-1.06l2.97-2.97H3.75a.75.75 0 010-1.5h7.44L8.22 4.03a.75.75 0 010-1.06z"></path></svg>
          </div>
          <div data-local-provider-octicon-id="arrow-right-color-fg-default">
            <svg height="16" class="octicon octicon-arrow-right color-fg-default" viewBox="0 0 16 16" version="1.1" width="16" aria-hidden="true"><path fill-rule="evenodd" d="M8.22 2.97a.75.75 0 011.06 0l4.25 4.25a.75.75 0 010 1.06l-4.25 4.25a.75.75 0 01-1.06-1.06l2.97-2.97H3.75a.75.75 0 010-1.5h7.44L8.22 4.03a.75.75 0 010-1.06z"></path></svg>
          </div>
          <div data-local-provider-octicon-id="codespaces-color-fg-muted">
            <svg height="16" class="octicon octicon-codespaces color-fg-muted" viewBox="0 0 16 16" version="1.1" width="16" aria-hidden="true"><path fill-rule="evenodd" d="M2 1.75C2 .784 2.784 0 3.75 0h8.5C13.216 0 14 .784 14 1.75v5a1.75 1.75 0 01-1.75 1.75h-8.5A1.75 1.75 0 012 6.75v-5zm1.75-.25a.25.25 0 00-.25.25v5c0 .138.112.25.25.25h8.5a.25.25 0 00.25-.25v-5a.25.25 0 00-.25-.25h-8.5zM0 11.25c0-.966.784-1.75 1.75-1.75h12.5c.966 0 1.75.784 1.75 1.75v3A1.75 1.75 0 0114.25 16H1.75A1.75 1.75 0 010 14.25v-3zM1.75 11a.25.25 0 00-.25.25v3c0 .138.112.25.25.25h12.5a.25.25 0 00.25-.25v-3a.25.25 0 00-.25-.25H1.75z"></path><path fill-rule="evenodd" d="M3 12.75a.75.75 0 01.75-.75h.5a.75.75 0 010 1.5h-.5a.75.75 0 01-.75-.75zm4 0a.75.75 0 01.75-.75h4.5a.75.75 0 010 1.5h-4.5a.75.75 0 01-.75-.75z"></path></svg>
          </div>
          <div data-local-provider-octicon-id="copy-color-fg-muted">
            <svg height="16" class="octicon octicon-copy color-fg-muted" viewBox="0 0 16 16" version="1.1" width="16" aria-hidden="true"><path fill-rule="evenodd" d="M0 6.75C0 5.784.784 5 1.75 5h1.5a.75.75 0 010 1.5h-1.5a.25.25 0 00-.25.25v7.5c0 .138.112.25.25.25h7.5a.25.25 0 00.25-.25v-1.5a.75.75 0 011.5 0v1.5A1.75 1.75 0 019.25 16h-7.5A1.75 1.75 0 010 14.25v-7.5z"></path><path fill-rule="evenodd" d="M5 1.75C5 .784 5.784 0 6.75 0h7.5C15.216 0 16 .784 16 1.75v7.5A1.75 1.75 0 0114.25 11h-7.5A1.75 1.75 0 015 9.25v-7.5zm1.75-.25a.25.25 0 00-.25.25v7.5c0 .138.112.25.25.25h7.5a.25.25 0 00.25-.25v-7.5a.25.25 0 00-.25-.25h-7.5z"></path></svg>
          </div>
          <div data-local-provider-octicon-id="dash-color-fg-muted">
            <svg height="16" class="octicon octicon-dash color-fg-muted" viewBox="0 0 16 16" version="1.1" width="16" aria-hidden="true"><path fill-rule="evenodd" d="M2 7.75A.75.75 0 012.75 7h10a.75.75 0 010 1.5h-10A.75.75 0 012 7.75z"></path></svg>
          </div>
          <div data-local-provider-octicon-id="file-color-fg-muted">
            <svg height="16" class="octicon octicon-file color-fg-muted" viewBox="0 0 16 16" version="1.1" width="16" aria-hidden="true"><path fill-rule="evenodd" d="M3.75 1.5a.25.25 0 00-.25.25v11.5c0 .138.112.25.25.25h8.5a.25.25 0 00.25-.25V6H9.75A1.75 1.75 0 018 4.25V1.5H3.75zm5.75.56v2.19c0 .138.112.25.25.25h2.19L9.5 2.06zM2 1.75C2 .784 2.784 0 3.75 0h5.086c.464 0 .909.184 1.237.513l3.414 3.414c.329.328.513.773.513 1.237v8.086A1.75 1.75 0 0112.25 15h-8.5A1.75 1.75 0 012 13.25V1.75z"></path></svg>
          </div>
          <div data-local-provider-octicon-id="lock-color-fg-muted">
            <svg height="16" class="octicon octicon-lock color-fg-muted" viewBox="0 0 16 16" version="1.1" width="16" aria-hidden="true"><path fill-rule="evenodd" d="M4 4v2h-.25A1.75 1.75 0 002 7.75v5.5c0 .966.784 1.75 1.75 1.75h8.5A1.75 1.75 0 0014 13.25v-5.5A1.75 1.75 0 0012.25 6H12V4a4 4 0 10-8 0zm6.5 2V4a2.5 2.5 0 00-5 0v2h5zM12 7.5h.25a.25.25 0 01.25.25v5.5a.25.25 0 01-.25.25h-8.5a.25.25 0 01-.25-.25v-5.5a.25.25 0 01.25-.25H12z"></path></svg>
          </div>
          <div data-local-provider-octicon-id="moon-color-fg-muted">
            <svg height="16" class="octicon octicon-moon color-fg-muted" viewBox="0 0 16 16" version="1.1" width="16" aria-hidden="true"><path fill-rule="evenodd" d="M9.598 1.591a.75.75 0 01.785-.175 7 7 0 11-8.967 8.967.75.75 0 01.961-.96 5.5 5.5 0 007.046-7.046.75.75 0 01.175-.786zm1.616 1.945a7 7 0 01-7.678 7.678 5.5 5.5 0 107.678-7.678z"></path></svg>
          </div>
          <div data-local-provider-octicon-id="person-color-fg-muted">
            <svg height="16" class="octicon octicon-person color-fg-muted" viewBox="0 0 16 16" version="1.1" width="16" aria-hidden="true"><path fill-rule="evenodd" d="M10.5 5a2.5 2.5 0 11-5 0 2.5 2.5 0 015 0zm.061 3.073a4 4 0 10-5.123 0 6.004 6.004 0 00-3.431 5.142.75.75 0 001.498.07 4.5 4.5 0 018.99 0 .75.75 0 101.498-.07 6.005 6.005 0 00-3.432-5.142z"></path></svg>
          </div>
          <div data-local-provider-octicon-id="pencil-color-fg-muted">
            <svg height="16" class="octicon octicon-pencil color-fg-muted" viewBox="0 0 16 16" version="1.1" width="16" aria-hidden="true"><path fill-rule="evenodd" d="M11.013 1.427a1.75 1.75 0 012.474 0l1.086 1.086a1.75 1.75 0 010 2.474l-8.61 8.61c-.21.21-.47.364-.756.445l-3.251.93a.75.75 0 01-.927-.928l.929-3.25a1.75 1.75 0 01.445-.758l8.61-8.61zm1.414 1.06a.25.25 0 00-.354 0L10.811 3.75l1.439 1.44 1.263-1.263a.25.25 0 000-.354l-1.086-1.086zM11.189 6.25L9.75 4.81l-6.286 6.287a.25.25 0 00-.064.108l-.558 1.953 1.953-.558a.249.249 0 00.108-.064l6.286-6.286z"></path></svg>
          </div>
          <div data-local-provider-octicon-id="issue-opened-open">
            <svg height="16" class="octicon octicon-issue-opened open" viewBox="0 0 16 16" version="1.1" width="16" aria-hidden="true"><path d="M8 9.5a1.5 1.5 0 100-3 1.5 1.5 0 000 3z"></path><path fill-rule="evenodd" d="M8 0a8 8 0 100 16A8 8 0 008 0zM1.5 8a6.5 6.5 0 1113 0 6.5 6.5 0 01-13 0z"></path></svg>
          </div>
          <div data-local-provider-octicon-id="git-pull-request-draft-color-fg-muted">
            <svg height="16" class="octicon octicon-git-pull-request-draft color-fg-muted" viewBox="0 0 16 16" version="1.1" width="16" aria-hidden="true"><path fill-rule="evenodd" d="M2.5 3.25a.75.75 0 111.5 0 .75.75 0 01-1.5 0zM3.25 1a2.25 2.25 0 00-.75 4.372v5.256a2.251 2.251 0 101.5 0V5.372A2.25 2.25 0 003.25 1zm0 11a.75.75 0 100 1.5.75.75 0 000-1.5zm9.5 3a2.25 2.25 0 100-4.5 2.25 2.25 0 000 4.5zm0-3a.75.75 0 100 1.5.75.75 0 000-1.5z"></path><path d="M14 7.5a1.25 1.25 0 11-2.5 0 1.25 1.25 0 012.5 0zm0-4.25a1.25 1.25 0 11-2.5 0 1.25 1.25 0 012.5 0z"></path></svg>
          </div>
          <div data-local-provider-octicon-id="search-color-fg-muted">
            <svg height="16" class="octicon octicon-search color-fg-muted" viewBox="0 0 16 16" version="1.1" width="16" aria-hidden="true"><path fill-rule="evenodd" d="M11.5 7a4.499 4.499 0 11-8.998 0A4.499 4.499 0 0111.5 7zm-.82 4.74a6 6 0 111.06-1.06l3.04 3.04a.75.75 0 11-1.06 1.06l-3.04-3.04z"></path></svg>
          </div>
          <div data-local-provider-octicon-id="sun-color-fg-muted">
            <svg height="16" class="octicon octicon-sun color-fg-muted" viewBox="0 0 16 16" version="1.1" width="16" aria-hidden="true"><path fill-rule="evenodd" d="M8 10.5a2.5 2.5 0 100-5 2.5 2.5 0 000 5zM8 12a4 4 0 100-8 4 4 0 000 8zM8 0a.75.75 0 01.75.75v1.5a.75.75 0 01-1.5 0V.75A.75.75 0 018 0zm0 13a.75.75 0 01.75.75v1.5a.75.75 0 01-1.5 0v-1.5A.75.75 0 018 13zM2.343 2.343a.75.75 0 011.061 0l1.06 1.061a.75.75 0 01-1.06 1.06l-1.06-1.06a.75.75 0 010-1.06zm9.193 9.193a.75.75 0 011.06 0l1.061 1.06a.75.75 0 01-1.06 1.061l-1.061-1.06a.75.75 0 010-1.061zM16 8a.75.75 0 01-.75.75h-1.5a.75.75 0 010-1.5h1.5A.75.75 0 0116 8zM3 8a.75.75 0 01-.75.75H.75a.75.75 0 010-1.5h1.5A.75.75 0 013 8zm10.657-5.657a.75.75 0 010 1.061l-1.061 1.06a.75.75 0 11-1.06-1.06l1.06-1.06a.75.75 0 011.06 0zm-9.193 9.193a.75.75 0 010 1.06l-1.06 1.061a.75.75 0 11-1.061-1.06l1.06-1.061a.75.75 0 011.061 0z"></path></svg>
          </div>
          <div data-local-provider-octicon-id="sync-color-fg-muted">
            <svg height="16" class="octicon octicon-sync color-fg-muted" viewBox="0 0 16 16" version="1.1" width="16" aria-hidden="true"><path fill-rule="evenodd" d="M8 2.5a5.487 5.487 0 00-4.131 1.869l1.204 1.204A.25.25 0 014.896 6H1.25A.25.25 0 011 5.75V2.104a.25.25 0 01.427-.177l1.38 1.38A7.001 7.001 0 0114.95 7.16a.75.75 0 11-1.49.178A5.501 5.501 0 008 2.5zM1.705 8.005a.75.75 0 01.834.656 5.501 5.501 0 009.592 2.97l-1.204-1.204a.25.25 0 01.177-.427h3.646a.25.25 0 01.25.25v3.646a.25.25 0 01-.427.177l-1.38-1.38A7.001 7.001 0 011.05 8.84a.75.75 0 01.656-.834z"></path></svg>
          </div>
          <div data-local-provider-octicon-id="trash-color-fg-muted">
            <svg height="16" class="octicon octicon-trash color-fg-muted" viewBox="0 0 16 16" version="1.1" width="16" aria-hidden="true"><path fill-rule="evenodd" d="M6.5 1.75a.25.25 0 01.25-.25h2.5a.25.25 0 01.25.25V3h-3V1.75zm4.5 0V3h2.25a.75.75 0 010 1.5H2.75a.75.75 0 010-1.5H5V1.75C5 .784 5.784 0 6.75 0h2.5C10.216 0 11 .784 11 1.75zM4.496 6.675a.75.75 0 10-1.492.15l.66 6.6A1.75 1.75 0 005.405 15h5.19c.9 0 1.652-.681 1.741-1.576l.66-6.6a.75.75 0 00-1.492-.149l-.66 6.6a.25.25 0 01-.249.225h-5.19a.25.25 0 01-.249-.225l-.66-6.6z"></path></svg>
          </div>
          <div data-local-provider-octicon-id="key-color-fg-muted">
            <svg height="16" class="octicon octicon-key color-fg-muted" viewBox="0 0 16 16" version="1.1" width="16" aria-hidden="true"><path fill-rule="evenodd" d="M6.5 5.5a4 4 0 112.731 3.795.75.75 0 00-.768.18L7.44 10.5H6.25a.75.75 0 00-.75.75v1.19l-.06.06H4.25a.75.75 0 00-.75.75v1.19l-.06.06H1.75a.25.25 0 01-.25-.25v-1.69l5.024-5.023a.75.75 0 00.181-.768A3.995 3.995 0 016.5 5.5zm4-5.5a5.5 5.5 0 00-5.348 6.788L.22 11.72a.75.75 0 00-.22.53v2C0 15.216.784 16 1.75 16h2a.75.75 0 00.53-.22l.5-.5a.75.75 0 00.22-.53V14h.75a.75.75 0 00.53-.22l.5-.5a.75.75 0 00.22-.53V12h.75a.75.75 0 00.53-.22l.932-.932A5.5 5.5 0 1010.5 0zm.5 6a1 1 0 100-2 1 1 0 000 2z"></path></svg>
          </div>
          <div data-local-provider-octicon-id="comment-discussion-color-fg-muted">
            <svg height="16" class="octicon octicon-comment-discussion color-fg-muted" viewBox="0 0 16 16" version="1.1" width="16" aria-hidden="true"><path fill-rule="evenodd" d="M1.5 2.75a.25.25 0 01.25-.25h8.5a.25.25 0 01.25.25v5.5a.25.25 0 01-.25.25h-3.5a.75.75 0 00-.53.22L3.5 11.44V9.25a.75.75 0 00-.75-.75h-1a.25.25 0 01-.25-.25v-5.5zM1.75 1A1.75 1.75 0 000 2.75v5.5C0 9.216.784 10 1.75 10H2v1.543a1.457 1.457 0 002.487 1.03L7.061 10h3.189A1.75 1.75 0 0012 8.25v-5.5A1.75 1.75 0 0010.25 1h-8.5zM14.5 4.75a.25.25 0 00-.25-.25h-.5a.75.75 0 110-1.5h.5c.966 0 1.75.784 1.75 1.75v5.5A1.75 1.75 0 0114.25 12H14v1.543a1.457 1.457 0 01-2.487 1.03L9.22 12.28a.75.75 0 111.06-1.06l2.22 2.22v-2.19a.75.75 0 01.75-.75h1a.25.25 0 00.25-.25v-5.5z"></path></svg>
          </div>
          <div data-local-provider-octicon-id="bell-color-fg-muted">
            <svg height="16" class="octicon octicon-bell color-fg-muted" viewBox="0 0 16 16" version="1.1" width="16" aria-hidden="true"><path d="M8 16a2 2 0 001.985-1.75c.017-.137-.097-.25-.235-.25h-3.5c-.138 0-.252.113-.235.25A2 2 0 008 16z"></path><path fill-rule="evenodd" d="M8 1.5A3.5 3.5 0 004.5 5v2.947c0 .346-.102.683-.294.97l-1.703 2.556a.018.018 0 00-.003.01l.001.006c0 .002.002.004.004.006a.017.017 0 00.006.004l.007.001h10.964l.007-.001a.016.016 0 00.006-.004.016.016 0 00.004-.006l.001-.007a.017.017 0 00-.003-.01l-1.703-2.554a1.75 1.75 0 01-.294-.97V5A3.5 3.5 0 008 1.5zM3 5a5 5 0 0110 0v2.947c0 .05.015.098.042.139l1.703 2.555A1.518 1.518 0 0113.482 13H2.518a1.518 1.518 0 01-1.263-2.36l1.703-2.554A.25.25 0 003 7.947V5z"></path></svg>
          </div>
          <div data-local-provider-octicon-id="bell-slash-color-fg-muted">
            <svg height="16" class="octicon octicon-bell-slash color-fg-muted" viewBox="0 0 16 16" version="1.1" width="16" aria-hidden="true"><path fill-rule="evenodd" d="M8 1.5c-.997 0-1.895.416-2.534 1.086A.75.75 0 014.38 1.55 5 5 0 0113 5v2.373a.75.75 0 01-1.5 0V5A3.5 3.5 0 008 1.5zM4.182 4.31L1.19 2.143a.75.75 0 10-.88 1.214L3 5.305v2.642a.25.25 0 01-.042.139L1.255 10.64A1.518 1.518 0 002.518 13h11.108l1.184.857a.75.75 0 10.88-1.214l-1.375-.996a1.196 1.196 0 00-.013-.01L4.198 4.321a.733.733 0 00-.016-.011zm7.373 7.19L4.5 6.391v1.556c0 .346-.102.683-.294.97l-1.703 2.556a.018.018 0 00-.003.01.015.015 0 00.005.012.017.017 0 00.006.004l.007.001h9.037zM8 16a2 2 0 001.985-1.75c.017-.137-.097-.25-.235-.25h-3.5c-.138 0-.252.113-.235.25A2 2 0 008 16z"></path></svg>
          </div>
          <div data-local-provider-octicon-id="paintbrush-color-fg-muted">
            <svg height="16" class="octicon octicon-paintbrush color-fg-muted" viewBox="0 0 16 16" version="1.1" width="16" aria-hidden="true"><path fill-rule="evenodd" d="M11.134 1.535C9.722 2.562 8.16 4.057 6.889 5.312 5.8 6.387 5.041 7.401 4.575 8.294a3.745 3.745 0 00-3.227 1.054c-.43.431-.69 1.066-.86 1.657a11.982 11.982 0 00-.358 1.914A21.263 21.263 0 000 15.203v.054l.75-.007-.007.75h.054a14.404 14.404 0 00.654-.012 21.243 21.243 0 001.63-.118c.62-.07 1.3-.18 1.914-.357.592-.17 1.226-.43 1.657-.861a3.745 3.745 0 001.055-3.217c.908-.461 1.942-1.216 3.04-2.3 1.279-1.262 2.764-2.825 3.775-4.249.501-.706.923-1.428 1.125-2.096.2-.659.235-1.469-.368-2.07-.606-.607-1.42-.55-2.069-.34-.66.213-1.376.646-2.076 1.155zm-3.95 8.48a3.76 3.76 0 00-1.19-1.192 9.758 9.758 0 011.161-1.607l1.658 1.658a9.853 9.853 0 01-1.63 1.142zM.742 16l.007-.75-.75.008A.75.75 0 00.743 16zM12.016 2.749c-1.224.89-2.605 2.189-3.822 3.384l1.718 1.718c1.21-1.205 2.51-2.597 3.387-3.833.47-.662.78-1.227.912-1.662.134-.444.032-.551.009-.575h-.001V1.78c-.014-.014-.112-.113-.548.027-.432.14-.995.462-1.655.942zM1.62 13.089a19.56 19.56 0 00-.104 1.395 19.55 19.55 0 001.396-.104 10.528 10.528 0 001.668-.309c.526-.151.856-.325 1.011-.48a2.25 2.25 0 00-3.182-3.182c-.155.155-.329.485-.48 1.01a10.515 10.515 0 00-.309 1.67z"></path></svg>
          </div>
      </div>

      <server-defined-provider data-type="search-links" data-targets="command-palette.serverDefinedProviderElements"></server-defined-provider>
      <server-defined-provider data-type="help" data-targets="command-palette.serverDefinedProviderElements">
          <command-palette-help
            data-group="modes_help"
              data-prefix="#"
              data-scope-types="[&quot;&quot;]"
          >
            <span data-target="command-palette-help.titleElement">Search for <strong>issues</strong> and <strong>pull requests</strong></span>
              <span data-target="command-palette-help.hintElement">
                <kbd class="hx_kbd">#</kbd>
              </span>
          </command-palette-help>
          <command-palette-help
            data-group="modes_help"
              data-prefix="#"
              data-scope-types="[&quot;owner&quot;,&quot;repository&quot;]"
          >
            <span data-target="command-palette-help.titleElement">Search for <strong>issues, pull requests, discussions,</strong> and <strong>projects</strong></span>
              <span data-target="command-palette-help.hintElement">
                <kbd class="hx_kbd">#</kbd>
              </span>
          </command-palette-help>
          <command-palette-help
            data-group="modes_help"
              data-prefix="@"
              data-scope-types="[&quot;&quot;]"
          >
            <span data-target="command-palette-help.titleElement">Search for <strong>organizations, repositories,</strong> and <strong>users</strong></span>
              <span data-target="command-palette-help.hintElement">
                <kbd class="hx_kbd">@</kbd>
              </span>
          </command-palette-help>
          <command-palette-help
            data-group="modes_help"
              data-prefix="!"
              data-scope-types="[&quot;owner&quot;,&quot;repository&quot;]"
          >
            <span data-target="command-palette-help.titleElement">Search for <strong>projects</strong></span>
              <span data-target="command-palette-help.hintElement">
                <kbd class="hx_kbd">!</kbd>
              </span>
          </command-palette-help>
          <command-palette-help
            data-group="modes_help"
              data-prefix="/"
              data-scope-types="[&quot;repository&quot;]"
          >
            <span data-target="command-palette-help.titleElement">Search for <strong>files</strong></span>
              <span data-target="command-palette-help.hintElement">
                <kbd class="hx_kbd">/</kbd>
              </span>
          </command-palette-help>
          <command-palette-help
            data-group="modes_help"
              data-prefix="&gt;"
          >
            <span data-target="command-palette-help.titleElement">Activate <strong>command mode</strong></span>
              <span data-target="command-palette-help.hintElement">
                <kbd class="hx_kbd">&gt;</kbd>
              </span>
          </command-palette-help>
          <command-palette-help
            data-group="filters_help"
              data-prefix="# author:@me"
          >
            <span data-target="command-palette-help.titleElement">Search your issues, pull requests, and discussions</span>
              <span data-target="command-palette-help.hintElement">
                <kbd class="hx_kbd"># author:@me</kbd>
              </span>
          </command-palette-help>
          <command-palette-help
            data-group="filters_help"
              data-prefix="# author:@me"
          >
            <span data-target="command-palette-help.titleElement">Search your issues, pull requests, and discussions</span>
              <span data-target="command-palette-help.hintElement">
                <kbd class="hx_kbd"># author:@me</kbd>
              </span>
          </command-palette-help>
          <command-palette-help
            data-group="filters_help"
              data-prefix="# is:pr"
          >
            <span data-target="command-palette-help.titleElement">Filter to pull requests</span>
              <span data-target="command-palette-help.hintElement">
                <kbd class="hx_kbd"># is:pr</kbd>
              </span>
          </command-palette-help>
          <command-palette-help
            data-group="filters_help"
              data-prefix="# is:issue"
          >
            <span data-target="command-palette-help.titleElement">Filter to issues</span>
              <span data-target="command-palette-help.hintElement">
                <kbd class="hx_kbd"># is:issue</kbd>
              </span>
          </command-palette-help>
          <command-palette-help
            data-group="filters_help"
              data-prefix="# is:discussion"
              data-scope-types="[&quot;owner&quot;,&quot;repository&quot;]"
          >
            <span data-target="command-palette-help.titleElement">Filter to discussions</span>
              <span data-target="command-palette-help.hintElement">
                <kbd class="hx_kbd"># is:discussion</kbd>
              </span>
          </command-palette-help>
          <command-palette-help
            data-group="filters_help"
              data-prefix="# is:project"
              data-scope-types="[&quot;owner&quot;,&quot;repository&quot;]"
          >
            <span data-target="command-palette-help.titleElement">Filter to projects</span>
              <span data-target="command-palette-help.hintElement">
                <kbd class="hx_kbd"># is:project</kbd>
              </span>
          </command-palette-help>
          <command-palette-help
            data-group="filters_help"
              data-prefix="# is:open"
          >
            <span data-target="command-palette-help.titleElement">Filter to open issues, pull requests, and discussions</span>
              <span data-target="command-palette-help.hintElement">
                <kbd class="hx_kbd"># is:open</kbd>
              </span>
          </command-palette-help>
      </server-defined-provider>

        <server-defined-provider
          data-type="prefetched"
          data-fetch-debounce="0"
            data-src="/command_palette/commands"
          data-supported-modes="[&quot;&gt;&quot;]"
            data-supports-commands
          
          data-targets="command-palette.serverDefinedProviderElements"
          ></server-defined-provider>
        <server-defined-provider
          data-type="prefetched"
          data-fetch-debounce="0"
            data-src="/command_palette/jump_to_page_navigation"
          data-supported-modes="[&quot;&quot;]"
          
          data-targets="command-palette.serverDefinedProviderElements"
          ></server-defined-provider>
        <server-defined-provider
          data-type="remote"
          data-fetch-debounce="200"
            data-src="/command_palette/issues"
          data-supported-modes="[&quot;#&quot;,&quot;#&quot;]"
            data-supported-scope-types="[&quot;owner&quot;,&quot;repository&quot;,&quot;&quot;]"
          
          data-targets="command-palette.serverDefinedProviderElements"
          ></server-defined-provider>
        <server-defined-provider
          data-type="remote"
          data-fetch-debounce="200"
            data-src="/command_palette/jump_to"
          data-supported-modes="[&quot;@&quot;,&quot;@&quot;]"
            data-supported-scope-types="[&quot;&quot;,&quot;owner&quot;]"
          
          data-targets="command-palette.serverDefinedProviderElements"
          ></server-defined-provider>
        <server-defined-provider
          data-type="remote"
          data-fetch-debounce="200"
            data-src="/command_palette/jump_to_members_only"
          data-supported-modes="[&quot;&quot;]"
          
          data-targets="command-palette.serverDefinedProviderElements"
          ></server-defined-provider>
        <server-defined-provider
          data-type="prefetched"
          data-fetch-debounce="0"
            data-src="/command_palette/jump_to_members_only_prefetched"
          data-supported-modes="[&quot;@&quot;,&quot;@&quot;,&quot;&quot;]"
            data-supported-scope-types="[&quot;&quot;,&quot;owner&quot;]"
          
          data-targets="command-palette.serverDefinedProviderElements"
          ></server-defined-provider>
        <server-defined-provider
          data-type="files"
          data-fetch-debounce="0"
            data-src="/command_palette/files"
          data-supported-modes="[&quot;/&quot;]"
            data-supported-scope-types="[&quot;repository&quot;]"
          
          data-targets="command-palette.serverDefinedProviderElements"
          ></server-defined-provider>
        <server-defined-provider
          data-type="remote"
          data-fetch-debounce="200"
            data-src="/command_palette/discussions"
          data-supported-modes="[&quot;#&quot;]"
            data-supported-scope-types="[&quot;owner&quot;,&quot;repository&quot;]"
          
          data-targets="command-palette.serverDefinedProviderElements"
          ></server-defined-provider>
        <server-defined-provider
          data-type="remote"
          data-fetch-debounce="200"
            data-src="/command_palette/projects"
          data-supported-modes="[&quot;#&quot;,&quot;!&quot;]"
            data-supported-scope-types="[&quot;owner&quot;,&quot;repository&quot;]"
          
          data-targets="command-palette.serverDefinedProviderElements"
          ></server-defined-provider>
        <server-defined-provider
          data-type="prefetched"
          data-fetch-debounce="0"
            data-src="/command_palette/recent_issues"
          data-supported-modes="[&quot;#&quot;,&quot;#&quot;]"
            data-supported-scope-types="[&quot;owner&quot;,&quot;repository&quot;,&quot;&quot;]"
          
          data-targets="command-palette.serverDefinedProviderElements"
          ></server-defined-provider>
        <server-defined-provider
          data-type="remote"
          data-fetch-debounce="200"
            data-src="/command_palette/teams"
          data-supported-modes="[&quot;@&quot;,&quot;&quot;]"
            data-supported-scope-types="[&quot;owner&quot;]"
          
          data-targets="command-palette.serverDefinedProviderElements"
          ></server-defined-provider>
        <server-defined-provider
          data-type="remote"
          data-fetch-debounce="200"
            data-src="/command_palette/name_with_owner_repository"
          data-supported-modes="[&quot;&quot;]"
          
          data-targets="command-palette.serverDefinedProviderElements"
          ></server-defined-provider>
    </command-palette>
  </details-dialog>
</details>

<div class="position-fixed bottom-0 left-0 ml-5 mb-5 js-command-palette-toasts" style="z-index: 1000">
  <div hidden class="Toast Toast--loading">
    <span class="Toast-icon">
      <svg class="Toast--spinner" viewBox="0 0 32 32" width="18" height="18" aria-hidden="true">
        <path
          fill="#959da5"
          d="M16 0 A16 16 0 0 0 16 32 A16 16 0 0 0 16 0 M16 4 A12 12 0 0 1 16 28 A12 12 0 0 1 16 4"
        />
        <path fill="#ffffff" d="M16 0 A16 16 0 0 1 32 16 L28 16 A12 12 0 0 0 16 4z"></path>
      </svg>
    </span>
    <span class="Toast-content"></span>
  </div>

  <div hidden class="anim-fade-in fast Toast Toast--error">
    <span class="Toast-icon">
      <svg aria-hidden="true" height="16" viewBox="0 0 16 16" version="1.1" width="16" data-view-component="true" class="octicon octicon-stop">
    <path fill-rule="evenodd" d="M4.47.22A.75.75 0 015 0h6a.75.75 0 01.53.22l4.25 4.25c.141.14.22.331.22.53v6a.75.75 0 01-.22.53l-4.25 4.25A.75.75 0 0111 16H5a.75.75 0 01-.53-.22L.22 11.53A.75.75 0 010 11V5a.75.75 0 01.22-.53L4.47.22zm.84 1.28L1.5 5.31v5.38l3.81 3.81h5.38l3.81-3.81V5.31L10.69 1.5H5.31zM8 4a.75.75 0 01.75.75v3.5a.75.75 0 01-1.5 0v-3.5A.75.75 0 018 4zm0 8a1 1 0 100-2 1 1 0 000 2z"></path>
</svg>
    </span>
    <span class="Toast-content"></span>
  </div>

  <div hidden class="anim-fade-in fast Toast Toast--warning">
    <span class="Toast-icon">
      <svg aria-hidden="true" height="16" viewBox="0 0 16 16" version="1.1" width="16" data-view-component="true" class="octicon octicon-alert">
    <path fill-rule="evenodd" d="M8.22 1.754a.25.25 0 00-.44 0L1.698 13.132a.25.25 0 00.22.368h12.164a.25.25 0 00.22-.368L8.22 1.754zm-1.763-.707c.659-1.234 2.427-1.234 3.086 0l6.082 11.378A1.75 1.75 0 0114.082 15H1.918a1.75 1.75 0 01-1.543-2.575L6.457 1.047zM9 11a1 1 0 11-2 0 1 1 0 012 0zm-.25-5.25a.75.75 0 00-1.5 0v2.5a.75.75 0 001.5 0v-2.5z"></path>
</svg>
    </span>
    <span class="Toast-content"></span>
  </div>


  <div hidden class="anim-fade-in fast Toast Toast--success">
    <span class="Toast-icon">
      <svg aria-hidden="true" height="16" viewBox="0 0 16 16" version="1.1" width="16" data-view-component="true" class="octicon octicon-check">
    <path fill-rule="evenodd" d="M13.78 4.22a.75.75 0 010 1.06l-7.25 7.25a.75.75 0 01-1.06 0L2.22 9.28a.75.75 0 011.06-1.06L6 10.94l6.72-6.72a.75.75 0 011.06 0z"></path>
</svg>
    </span>
    <span class="Toast-content"></span>
  </div>

  <div hidden class="anim-fade-in fast Toast">
    <span class="Toast-icon">
      <svg aria-hidden="true" height="16" viewBox="0 0 16 16" version="1.1" width="16" data-view-component="true" class="octicon octicon-info">
    <path fill-rule="evenodd" d="M8 1.5a6.5 6.5 0 100 13 6.5 6.5 0 000-13zM0 8a8 8 0 1116 0A8 8 0 010 8zm6.5-.25A.75.75 0 017.25 7h1a.75.75 0 01.75.75v2.75h.25a.75.75 0 010 1.5h-2a.75.75 0 010-1.5h.25v-2h-.25a.75.75 0 01-.75-.75zM8 6a1 1 0 100-2 1 1 0 000 2z"></path>
</svg>
    </span>
    <span class="Toast-content"></span>
  </div>
</div>

        <command-palette-pjax-metadata hidden class="js-command-palette-pjax-metadata" data-pjax-replace id="command-palette-pjax-metadata"
  data-default-scope-id="R_kgDOG9QRWw"
  data-default-scope-type="Repository"
>
</command-palette-pjax-metadata>


  <div
    class="application-main "
    data-commit-hovercards-enabled
    data-discussion-hovercards-enabled
    data-issue-and-pr-hovercards-enabled
  >
        <div itemscope itemtype="http://schema.org/SoftwareSourceCode" class="">
    <main id="js-repo-pjax-container" data-pjax-container >
      
    






  <div id="repository-container-header" class="pt-3 hide-full-screen mb-5" style="background-color: var(--color-page-header-bg);" data-pjax-replace>

      <div class="d-flex mb-3 px-3 px-md-4 px-lg-5">

        <div class="flex-auto min-width-0 width-fit mr-3">
            <h1 class=" d-flex flex-wrap flex-items-center wb-break-word f3 text-normal">
    <svg aria-hidden="true" height="16" viewBox="0 0 16 16" version="1.1" width="16" data-view-component="true" class="octicon octicon-repo color-fg-muted mr-2">
    <path fill-rule="evenodd" d="M2 2.5A2.5 2.5 0 014.5 0h8.75a.75.75 0 01.75.75v12.5a.75.75 0 01-.75.75h-2.5a.75.75 0 110-1.5h1.75v-2h-8a1 1 0 00-.714 1.7.75.75 0 01-1.072 1.05A2.495 2.495 0 012 11.5v-9zm10.5-1V9h-8c-.356 0-.694.074-1 .208V2.5a1 1 0 011-1h8zM5 12.25v3.25a.25.25 0 00.4.2l1.45-1.087a.25.25 0 01.3 0L8.6 15.7a.25.25 0 00.4-.2v-3.25a.25.25 0 00-.25-.25h-3.5a.25.25 0 00-.25.25z"></path>
</svg>
  <span class="author flex-self-stretch" itemprop="author">
    <a class="url fn" rel="author" data-hovercard-type="user" data-hovercard-url="/users/joneconsulting/hovercard" data-octo-click="hovercard-link-click" data-octo-dimensions="link_type:self" href="/joneconsulting">joneconsulting</a>
  </span>
  <span class="mx-1 flex-self-stretch color-fg-muted">/</span>
  <strong itemprop="name" class="mr-2 flex-self-stretch">
    <a data-pjax="#repo-content-pjax-container" href="/joneconsulting/ssac">ssac</a>
  </strong>

  <span></span><span class="Label Label--secondary v-align-middle mr-1">Public</span>
</h1>

        </div>

          <ul class="pagehead-actions flex-shrink-0 d-none d-md-inline" style="padding: 2px 0;">

  

  <li>
        <notifications-list-subscription-form
      data-action="notifications-dialog-label-toggled:notifications-list-subscription-form#handleDialogLabelToggle"
      class="f5 position-relative"
    >
      <details
        class="details-reset details-overlay f5 position-relative"
        data-target="notifications-list-subscription-form.details"
        data-action="toggle:notifications-list-subscription-form#detailsToggled"
      >

      <summary data-hydro-click="{&quot;event_type&quot;:&quot;repository.click&quot;,&quot;payload&quot;:{&quot;target&quot;:&quot;WATCH_BUTTON&quot;,&quot;repository_id&quot;:466882907,&quot;originating_url&quot;:&quot;https://github.com/joneconsulting/ssac/blame/master/6.rnn/simplernn-1.ipynb&quot;,&quot;user_id&quot;:46781961}}" data-hydro-click-hmac="885addd4fb18e01cdd366b7bca98eb65e7ff85fddfde211d13d008badfc4f0bc" data-ga-click="Repository, click Watch settings, action:blob#blame" aria-label="Notification settings" data-view-component="true" class="btn-sm btn">  <span data-menu-button>
            <span
              hidden
              
              data-target="notifications-list-subscription-form.unwatchButtonCopy"
            >
              <svg aria-hidden="true" height="16" viewBox="0 0 16 16" version="1.1" width="16" data-view-component="true" class="octicon octicon-eye">
    <path fill-rule="evenodd" d="M1.679 7.932c.412-.621 1.242-1.75 2.366-2.717C5.175 4.242 6.527 3.5 8 3.5c1.473 0 2.824.742 3.955 1.715 1.124.967 1.954 2.096 2.366 2.717a.119.119 0 010 .136c-.412.621-1.242 1.75-2.366 2.717C10.825 11.758 9.473 12.5 8 12.5c-1.473 0-2.824-.742-3.955-1.715C2.92 9.818 2.09 8.69 1.679 8.068a.119.119 0 010-.136zM8 2c-1.981 0-3.67.992-4.933 2.078C1.797 5.169.88 6.423.43 7.1a1.619 1.619 0 000 1.798c.45.678 1.367 1.932 2.637 3.024C4.329 13.008 6.019 14 8 14c1.981 0 3.67-.992 4.933-2.078 1.27-1.091 2.187-2.345 2.637-3.023a1.619 1.619 0 000-1.798c-.45-.678-1.367-1.932-2.637-3.023C11.671 2.992 9.981 2 8 2zm0 8a2 2 0 100-4 2 2 0 000 4z"></path>
</svg>
              Unwatch
            </span>
            <span
              hidden
              
              data-target="notifications-list-subscription-form.stopIgnoringButtonCopy"
            >
              <svg aria-hidden="true" height="16" viewBox="0 0 16 16" version="1.1" width="16" data-view-component="true" class="octicon octicon-bell-slash">
    <path fill-rule="evenodd" d="M8 1.5c-.997 0-1.895.416-2.534 1.086A.75.75 0 014.38 1.55 5 5 0 0113 5v2.373a.75.75 0 01-1.5 0V5A3.5 3.5 0 008 1.5zM4.182 4.31L1.19 2.143a.75.75 0 10-.88 1.214L3 5.305v2.642a.25.25 0 01-.042.139L1.255 10.64A1.518 1.518 0 002.518 13h11.108l1.184.857a.75.75 0 10.88-1.214l-1.375-.996a1.196 1.196 0 00-.013-.01L4.198 4.321a.733.733 0 00-.016-.011zm7.373 7.19L4.5 6.391v1.556c0 .346-.102.683-.294.97l-1.703 2.556a.018.018 0 00-.003.01.015.015 0 00.005.012.017.017 0 00.006.004l.007.001h9.037zM8 16a2 2 0 001.985-1.75c.017-.137-.097-.25-.235-.25h-3.5c-.138 0-.252.113-.235.25A2 2 0 008 16z"></path>
</svg>
              Stop ignoring
            </span>
            <span
              
              
              data-target="notifications-list-subscription-form.watchButtonCopy"
            >
              <svg aria-hidden="true" height="16" viewBox="0 0 16 16" version="1.1" width="16" data-view-component="true" class="octicon octicon-eye">
    <path fill-rule="evenodd" d="M1.679 7.932c.412-.621 1.242-1.75 2.366-2.717C5.175 4.242 6.527 3.5 8 3.5c1.473 0 2.824.742 3.955 1.715 1.124.967 1.954 2.096 2.366 2.717a.119.119 0 010 .136c-.412.621-1.242 1.75-2.366 2.717C10.825 11.758 9.473 12.5 8 12.5c-1.473 0-2.824-.742-3.955-1.715C2.92 9.818 2.09 8.69 1.679 8.068a.119.119 0 010-.136zM8 2c-1.981 0-3.67.992-4.933 2.078C1.797 5.169.88 6.423.43 7.1a1.619 1.619 0 000 1.798c.45.678 1.367 1.932 2.637 3.024C4.329 13.008 6.019 14 8 14c1.981 0 3.67-.992 4.933-2.078 1.27-1.091 2.187-2.345 2.637-3.023a1.619 1.619 0 000-1.798c-.45-.678-1.367-1.932-2.637-3.023C11.671 2.992 9.981 2 8 2zm0 8a2 2 0 100-4 2 2 0 000 4z"></path>
</svg>
              Watch
            </span>
          </span>
            <span id="repo-notifications-counter" data-target="notifications-list-subscription-form.socialCount" data-pjax-replace="true" title="2" data-view-component="true" class="Counter">2</span>
          <span class="dropdown-caret"></span>
</summary>
        <details-menu
          class="SelectMenu  "
          role="menu"
          data-target="notifications-list-subscription-form.menu"
          
        >
          <div class="SelectMenu-modal notifications-component-menu-modal">
            <header class="SelectMenu-header">
              <h3 class="SelectMenu-title">Notifications</h3>
              <button class="SelectMenu-closeButton" type="button" aria-label="Close menu" data-action="click:notifications-list-subscription-form#closeMenu">
                <svg aria-hidden="true" height="16" viewBox="0 0 16 16" version="1.1" width="16" data-view-component="true" class="octicon octicon-x">
    <path fill-rule="evenodd" d="M3.72 3.72a.75.75 0 011.06 0L8 6.94l3.22-3.22a.75.75 0 111.06 1.06L9.06 8l3.22 3.22a.75.75 0 11-1.06 1.06L8 9.06l-3.22 3.22a.75.75 0 01-1.06-1.06L6.94 8 3.72 4.78a.75.75 0 010-1.06z"></path>
</svg>
              </button>
            </header>

            <div class="SelectMenu-list">
              <form data-target="notifications-list-subscription-form.form" data-action="submit:notifications-list-subscription-form#submitForm" data-turbo="false" action="/notifications/subscribe" accept-charset="UTF-8" method="post"><input type="hidden" name="authenticity_token" value="nJKZRrJVU4ClM2DbCUviUUcj1frLuCNtLktBuique5AejnNyCuI7mMiA4fuZIBUuZENVHXbOBRfAhAndbCb3mg" autocomplete="off" />

                <input type="hidden" name="repository_id" value="466882907">

                <button
                  type="submit"
                  name="do"
                  value="included"
                  class="SelectMenu-item flex-items-start"
                  role="menuitemradio"
                  aria-checked="true"
                  data-targets="notifications-list-subscription-form.subscriptionButtons"
                  
                >
                  <span class="f5">
                    <svg aria-hidden="true" height="16" viewBox="0 0 16 16" version="1.1" width="16" data-view-component="true" class="octicon octicon-check SelectMenu-icon SelectMenu-icon--check">
    <path fill-rule="evenodd" d="M13.78 4.22a.75.75 0 010 1.06l-7.25 7.25a.75.75 0 01-1.06 0L2.22 9.28a.75.75 0 011.06-1.06L6 10.94l6.72-6.72a.75.75 0 011.06 0z"></path>
</svg>
                  </span>
                  <div>
                    <div class="f5 text-bold">
                      Participating and @mentions
                    </div>
                    <div class="text-small color-fg-muted text-normal pb-1">
                      Only receive notifications from this repository when participating or @mentioned.
                    </div>
                  </div>
                </button>

                <button
                  type="submit"
                  name="do"
                  value="subscribed"
                  class="SelectMenu-item flex-items-start"
                  role="menuitemradio"
                  aria-checked="false"
                  data-targets="notifications-list-subscription-form.subscriptionButtons"
                >
                  <span class="f5">
                    <svg aria-hidden="true" height="16" viewBox="0 0 16 16" version="1.1" width="16" data-view-component="true" class="octicon octicon-check SelectMenu-icon SelectMenu-icon--check">
    <path fill-rule="evenodd" d="M13.78 4.22a.75.75 0 010 1.06l-7.25 7.25a.75.75 0 01-1.06 0L2.22 9.28a.75.75 0 011.06-1.06L6 10.94l6.72-6.72a.75.75 0 011.06 0z"></path>
</svg>
                  </span>
                  <div>
                    <div class="f5 text-bold">
                      All Activity
                    </div>
                    <div class="text-small color-fg-muted text-normal pb-1">
                      Notified of all notifications on this repository.
                    </div>
                  </div>
                </button>

                <button
                  type="submit"
                  name="do"
                  value="ignore"
                  class="SelectMenu-item flex-items-start"
                  role="menuitemradio"
                  aria-checked="false"
                  data-targets="notifications-list-subscription-form.subscriptionButtons"
                >
                  <span class="f5">
                    <svg aria-hidden="true" height="16" viewBox="0 0 16 16" version="1.1" width="16" data-view-component="true" class="octicon octicon-check SelectMenu-icon SelectMenu-icon--check">
    <path fill-rule="evenodd" d="M13.78 4.22a.75.75 0 010 1.06l-7.25 7.25a.75.75 0 01-1.06 0L2.22 9.28a.75.75 0 011.06-1.06L6 10.94l6.72-6.72a.75.75 0 011.06 0z"></path>
</svg>
                  </span>
                  <div>
                    <div class="f5 text-bold">
                      Ignore
                    </div>
                    <div class="text-small color-fg-muted text-normal pb-1">
                      Never be notified.
                    </div>
                  </div>
                </button>
</form>
              <button
                class="SelectMenu-item flex-items-start pr-3"
                type="button"
                role="menuitemradio"
                data-target="notifications-list-subscription-form.customButton"
                data-action="click:notifications-list-subscription-form#openCustomDialog"
                aria-haspopup="true"
                aria-checked="false"
                
              >
                <span class="f5">
                  <svg aria-hidden="true" height="16" viewBox="0 0 16 16" version="1.1" width="16" data-view-component="true" class="octicon octicon-check SelectMenu-icon SelectMenu-icon--check">
    <path fill-rule="evenodd" d="M13.78 4.22a.75.75 0 010 1.06l-7.25 7.25a.75.75 0 01-1.06 0L2.22 9.28a.75.75 0 011.06-1.06L6 10.94l6.72-6.72a.75.75 0 011.06 0z"></path>
</svg>
                </span>
                <div>
                  <div class="d-flex flex-items-start flex-justify-between">
                    <div class="f5 text-bold">Custom</div>
                    <div class="f5 pr-1">
                      <svg aria-hidden="true" height="16" viewBox="0 0 16 16" version="1.1" width="16" data-view-component="true" class="octicon octicon-arrow-right">
    <path fill-rule="evenodd" d="M8.22 2.97a.75.75 0 011.06 0l4.25 4.25a.75.75 0 010 1.06l-4.25 4.25a.75.75 0 01-1.06-1.06l2.97-2.97H3.75a.75.75 0 010-1.5h7.44L8.22 4.03a.75.75 0 010-1.06z"></path>
</svg>
                    </div>
                  </div>
                  <div class="text-small color-fg-muted text-normal pb-1">
                    Select events you want to be notified of in addition to participating and @mentions.
                  </div>
                </div>
              </button>

            </div>
          </div>
        </details-menu>

        <details-dialog
          class="notifications-component-dialog "
          data-target="notifications-list-subscription-form.customDialog"
          aria-label="Custom dialog"
          hidden
        >
          <div class="SelectMenu-modal notifications-component-dialog-modal overflow-visible">
            <form data-target="notifications-list-subscription-form.customform" data-action="submit:notifications-list-subscription-form#submitCustomForm" data-turbo="false" action="/notifications/subscribe" accept-charset="UTF-8" method="post"><input type="hidden" name="authenticity_token" value="YbV1zI65BMX4V9mgynLsDgslmz36bONCr5enLZ7xOgnjqZ_4Ng5s3ZXkWIBaGRtxKEUb2kcaxThBWO9K2Hm2Aw" autocomplete="off" />

              <input type="hidden" name="repository_id" value="466882907">

              <header class="d-sm-none SelectMenu-header pb-0 border-bottom-0 px-2 px-sm-3">
                <h1 class="f3 SelectMenu-title d-inline-flex">
                  <button
                    class="color-bg-default border-0 px-2 py-0 m-0 Link--secondary f5"
                    aria-label="Return to menu"
                    type="button"
                    data-action="click:notifications-list-subscription-form#closeCustomDialog"
                  >
                    <svg aria-hidden="true" height="16" viewBox="0 0 16 16" version="1.1" width="16" data-view-component="true" class="octicon octicon-arrow-left">
    <path fill-rule="evenodd" d="M7.78 12.53a.75.75 0 01-1.06 0L2.47 8.28a.75.75 0 010-1.06l4.25-4.25a.75.75 0 011.06 1.06L4.81 7h7.44a.75.75 0 010 1.5H4.81l2.97 2.97a.75.75 0 010 1.06z"></path>
</svg>
                  </button>
                  Custom
                </h1>
              </header>

              <header class="d-none d-sm-flex flex-items-start pt-1">
                <button
                  class="border-0 px-2 pt-1 m-0 Link--secondary f5"
                  style="background-color: transparent;"
                  aria-label="Return to menu"
                  type="button"
                  data-action="click:notifications-list-subscription-form#closeCustomDialog"
                >
                  <svg style="position: relative; left: 2px; top: 1px" aria-hidden="true" height="16" viewBox="0 0 16 16" version="1.1" width="16" data-view-component="true" class="octicon octicon-arrow-left">
    <path fill-rule="evenodd" d="M7.78 12.53a.75.75 0 01-1.06 0L2.47 8.28a.75.75 0 010-1.06l4.25-4.25a.75.75 0 011.06 1.06L4.81 7h7.44a.75.75 0 010 1.5H4.81l2.97 2.97a.75.75 0 010 1.06z"></path>
</svg>
                </button>

                <h1 class="pt-1 pr-4 pb-0 pl-0 f5 text-bold">
                  Custom
                </h1>
              </header>

              <fieldset>
                <legend>
                  <div class="text-small color-fg-muted pt-0 pr-3 pb-3 pl-6 pl-sm-5 border-bottom mb-3">
                    Select events you want to be notified of in addition to participating and @mentions.
                  </div>
                </legend>
                <div data-target="notifications-list-subscription-form.labelInputs">
                </div>
                  <div class="form-checkbox mr-3 ml-6 ml-sm-5 mb-2 mt-0">
                    <label class="f5 text-normal">
                      <input
                        type="checkbox"
                        name="thread_types[]"
                        value="Issue"
                        data-targets="notifications-list-subscription-form.threadTypeCheckboxes"
                        data-action="change:notifications-list-subscription-form#threadTypeCheckboxesUpdated"
                        
                      >
                      Issues
                    </label>

                  </div>
                  <div class="form-checkbox mr-3 ml-6 ml-sm-5 mb-2 mt-0">
                    <label class="f5 text-normal">
                      <input
                        type="checkbox"
                        name="thread_types[]"
                        value="PullRequest"
                        data-targets="notifications-list-subscription-form.threadTypeCheckboxes"
                        data-action="change:notifications-list-subscription-form#threadTypeCheckboxesUpdated"
                        
                      >
                      Pull requests
                    </label>

                  </div>
                  <div class="form-checkbox mr-3 ml-6 ml-sm-5 mb-2 mt-0">
                    <label class="f5 text-normal">
                      <input
                        type="checkbox"
                        name="thread_types[]"
                        value="Release"
                        data-targets="notifications-list-subscription-form.threadTypeCheckboxes"
                        data-action="change:notifications-list-subscription-form#threadTypeCheckboxesUpdated"
                        
                      >
                      Releases
                    </label>

                  </div>
                  <div class="form-checkbox mr-3 ml-6 ml-sm-5 mb-2 mt-0">
                    <label class="f5 text-normal">
                      <input
                        type="checkbox"
                        name="thread_types[]"
                        value="Discussion"
                        data-targets="notifications-list-subscription-form.threadTypeCheckboxes"
                        data-action="change:notifications-list-subscription-form#threadTypeCheckboxesUpdated"
                        
                      >
                      Discussions
                    </label>

                      <span
                        class="tooltipped tooltipped-nw mr-2 p-1 float-right"
                        
                        aria-label="Discussions are not enabled for this repo">
                        <svg aria-hidden="true" height="16" viewBox="0 0 16 16" version="1.1" width="16" data-view-component="true" class="octicon octicon-info color-fg-muted">
    <path fill-rule="evenodd" d="M8 1.5a6.5 6.5 0 100 13 6.5 6.5 0 000-13zM0 8a8 8 0 1116 0A8 8 0 010 8zm6.5-.25A.75.75 0 017.25 7h1a.75.75 0 01.75.75v2.75h.25a.75.75 0 010 1.5h-2a.75.75 0 010-1.5h.25v-2h-.25a.75.75 0 01-.75-.75zM8 6a1 1 0 100-2 1 1 0 000 2z"></path>
</svg>
                      </span>
                  </div>
                  <div class="form-checkbox mr-3 ml-6 ml-sm-5 mb-2 mt-0">
                    <label class="f5 text-normal">
                      <input
                        type="checkbox"
                        name="thread_types[]"
                        value="SecurityAlert"
                        data-targets="notifications-list-subscription-form.threadTypeCheckboxes"
                        data-action="change:notifications-list-subscription-form#threadTypeCheckboxesUpdated"
                        
                      >
                      Security alerts
                    </label>

                  </div>
              </fieldset>
              <div class="pt-2 pb-3 px-3 d-flex flex-justify-start flex-row-reverse">
                <button name="do" value="custom" data-target="notifications-list-subscription-form.customSubmit" disabled="disabled" type="submit" data-view-component="true" class="btn-primary btn-sm btn ml-2">  Apply
</button>

                <button data-action="click:notifications-list-subscription-form#resetForm" data-close-dialog="" type="button" data-view-component="true" class="btn-sm btn">  Cancel
</button>
              </div>
</form>          </div>
        </details-dialog>


        <div class="notifications-component-dialog-overlay"></div>
      </details>
    </notifications-list-subscription-form>



  </li>

  <li>
            <form class="btn-with-count" data-turbo="false" action="/joneconsulting/ssac/fork" accept-charset="UTF-8" method="post"><input type="hidden" name="authenticity_token" value="CxS3X5hwdFWDB8LON9Xep_BYAmATi-c_loKWi9nd0NiqZlqahHECiB_0Nr9dMkjTfE6k1EBDtj8umP0mFGBClQ" autocomplete="off" />
        <button data-hydro-click="{&quot;event_type&quot;:&quot;repository.click&quot;,&quot;payload&quot;:{&quot;target&quot;:&quot;FORK_BUTTON&quot;,&quot;repository_id&quot;:466882907,&quot;originating_url&quot;:&quot;https://github.com/joneconsulting/ssac/blame/master/6.rnn/simplernn-1.ipynb&quot;,&quot;user_id&quot;:46781961}}" data-hydro-click-hmac="90fc310f9fd3ad96cfe2a4a930b0447a19484832d38d048604eb2c88333eade8" data-ga-click="Repository, show fork modal, action:blob#blame; text:Fork" aria-label="Fork your own copy of joneconsulting/ssac to your account" type="submit" data-view-component="true" class="btn-sm btn">  <svg aria-hidden="true" height="16" viewBox="0 0 16 16" version="1.1" width="16" data-view-component="true" class="octicon octicon-repo-forked mr-2">
    <path fill-rule="evenodd" d="M5 3.25a.75.75 0 11-1.5 0 .75.75 0 011.5 0zm0 2.122a2.25 2.25 0 10-1.5 0v.878A2.25 2.25 0 005.75 8.5h1.5v2.128a2.251 2.251 0 101.5 0V8.5h1.5a2.25 2.25 0 002.25-2.25v-.878a2.25 2.25 0 10-1.5 0v.878a.75.75 0 01-.75.75h-4.5A.75.75 0 015 6.25v-.878zm3.75 7.378a.75.75 0 11-1.5 0 .75.75 0 011.5 0zm3-8.75a.75.75 0 100-1.5.75.75 0 000 1.5z"></path>
</svg>Fork
          <span id="repo-network-counter" data-pjax-replace="true" title="1" data-view-component="true" class="Counter">1</span>
</button></form>
  </li>

  <li>
        <template class="js-unstar-confirmation-dialog-template">
  <div class="Box-header">
    <h2 class="Box-title">Unstar this repository?</h2>
  </div>
  <div class="Box-body">
    <p class="mb-3">
      This will remove {{ repoNameWithOwner }} from the {{ listsWithCount }} that it's been added to.
    </p>
    <div class="form-actions">
      <form class="js-social-confirmation-form" action="{{ confirmUrl }}" accept-charset="UTF-8" method="post">
        <input type="hidden" name="authenticity_token" value="{{ confirmCsrfToken }}">
        <input type="hidden" name="confirm" value="true">
        <button data-close-dialog="true" type="submit" data-view-component="true" class="btn-danger btn width-full">  Unstar
</button>
</form>    </div>
  </div>
</template>

  <div data-view-component="true" class="js-toggler-container js-social-container starring-container on BtnGroup d-flex">
    <form class="starred js-social-form BtnGroup-parent flex-auto js-deferred-toggler-target" data-turbo="false" action="/joneconsulting/ssac/unstar" accept-charset="UTF-8" method="post"><input type="hidden" name="authenticity_token" value="rYRwBy_tsGB4kR3HLh5y9m8uIog4TQlvOhUOHyTIqi2JRAmBtWOlTBIeH6Yta6ZkX2Wg55dkV20Fdd9MdMGlvA" autocomplete="off" />
        <input type="hidden" value="fJ0_AYf5dZApBEmV3dwt4W2m3cN_XKeNvUyL10BfLUhYXUaHHXdgvEOLS_TeqflzXe1frNB1-Y-CLFqEEFYi2Q" data-csrf="true" class="js-confirm-csrf-token" />
      <input type="hidden" name="context" value="repository">
      <button data-hydro-click="{&quot;event_type&quot;:&quot;repository.click&quot;,&quot;payload&quot;:{&quot;target&quot;:&quot;UNSTAR_BUTTON&quot;,&quot;repository_id&quot;:466882907,&quot;originating_url&quot;:&quot;https://github.com/joneconsulting/ssac/blame/master/6.rnn/simplernn-1.ipynb&quot;,&quot;user_id&quot;:46781961}}" data-hydro-click-hmac="e9f7432081db9dbc6200fc86633b11218684622207f546764f025a18661ef321" data-ga-click="Repository, click unstar button, action:blob#blame; text:Unstar" aria-label="Unstar this repository" type="submit" data-view-component="true" class="rounded-left-2 border-right-0 btn-sm btn BtnGroup-item">  <svg aria-hidden="true" height="16" viewBox="0 0 16 16" version="1.1" width="16" data-view-component="true" class="octicon octicon-star-fill starred-button-icon d-inline-block mr-2">
    <path fill-rule="evenodd" d="M8 .25a.75.75 0 01.673.418l1.882 3.815 4.21.612a.75.75 0 01.416 1.279l-3.046 2.97.719 4.192a.75.75 0 01-1.088.791L8 12.347l-3.766 1.98a.75.75 0 01-1.088-.79l.72-4.194L.818 6.374a.75.75 0 01.416-1.28l4.21-.611L7.327.668A.75.75 0 018 .25z"></path>
</svg><span data-view-component="true" class="d-inline">
          Starred
</span>          <span id="repo-stars-counter-unstar" aria-label="3 users starred this repository" data-singular-suffix="user starred this repository" data-plural-suffix="users starred this repository" data-pjax-replace="true" title="3" data-view-component="true" class="Counter js-social-count">3</span>
</button></form>
    <form class="unstarred js-social-form BtnGroup-parent flex-auto" data-turbo="false" action="/joneconsulting/ssac/star" accept-charset="UTF-8" method="post"><input type="hidden" name="authenticity_token" value="yl6z95-Rt8yTVwCiravMYvZETpl6ZmQT9RoMcKG-EBSSDGcQvzXTXbpUVGFkiOI1SgboXd30V0gsJc6fG_3CAw" autocomplete="off" />
      <input type="hidden" name="context" value="repository">
      <button data-hydro-click="{&quot;event_type&quot;:&quot;repository.click&quot;,&quot;payload&quot;:{&quot;target&quot;:&quot;STAR_BUTTON&quot;,&quot;repository_id&quot;:466882907,&quot;originating_url&quot;:&quot;https://github.com/joneconsulting/ssac/blame/master/6.rnn/simplernn-1.ipynb&quot;,&quot;user_id&quot;:46781961}}" data-hydro-click-hmac="3a14854ab54c99f6c8369f525c27699f7837ef3d86f4bfd5cbee80b371dbf927" data-ga-click="Repository, click star button, action:blob#blame; text:Star" aria-label="Star this repository" type="submit" data-view-component="true" class="js-toggler-target rounded-left-2 btn-sm btn BtnGroup-item">  <svg aria-hidden="true" height="16" viewBox="0 0 16 16" version="1.1" width="16" data-view-component="true" class="octicon octicon-star d-inline-block mr-2">
    <path fill-rule="evenodd" d="M8 .25a.75.75 0 01.673.418l1.882 3.815 4.21.612a.75.75 0 01.416 1.279l-3.046 2.97.719 4.192a.75.75 0 01-1.088.791L8 12.347l-3.766 1.98a.75.75 0 01-1.088-.79l.72-4.194L.818 6.374a.75.75 0 01.416-1.28l4.21-.611L7.327.668A.75.75 0 018 .25zm0 2.445L6.615 5.5a.75.75 0 01-.564.41l-3.097.45 2.24 2.184a.75.75 0 01.216.664l-.528 3.084 2.769-1.456a.75.75 0 01.698 0l2.77 1.456-.53-3.084a.75.75 0 01.216-.664l2.24-2.183-3.096-.45a.75.75 0 01-.564-.41L8 2.694v.001z"></path>
</svg><span data-view-component="true" class="d-inline">
          Star
</span>          <span id="repo-stars-counter-star" aria-label="3 users starred this repository" data-singular-suffix="user starred this repository" data-plural-suffix="users starred this repository" data-pjax-replace="true" title="3" data-view-component="true" class="Counter js-social-count">3</span>
</button></form>
      <details id="details-user-list-466882907" data-view-component="true" class="details-reset details-overlay BtnGroup-parent js-user-list-menu d-inline-block position-relative">
      <summary aria-label="Add this repository to a list" data-view-component="true" class="btn-sm btn BtnGroup-item px-2 float-none">  <svg aria-hidden="true" height="16" viewBox="0 0 16 16" version="1.1" width="16" data-view-component="true" class="octicon octicon-triangle-down">
    <path d="M4.427 7.427l3.396 3.396a.25.25 0 00.354 0l3.396-3.396A.25.25 0 0011.396 7H4.604a.25.25 0 00-.177.427z"></path>
</svg>
</summary>
  <details-menu
    class="SelectMenu right-0"
      src="/joneconsulting/ssac/lists"
      
      role="menu"
      
>
    <div class="SelectMenu-modal">
        <button class="SelectMenu-closeButton position-absolute right-0 m-2" type="button" aria-label="Close menu" data-toggle-for="details-72cd6b">
          <svg aria-hidden="true" height="16" viewBox="0 0 16 16" version="1.1" width="16" data-view-component="true" class="octicon octicon-x">
    <path fill-rule="evenodd" d="M3.72 3.72a.75.75 0 011.06 0L8 6.94l3.22-3.22a.75.75 0 111.06 1.06L9.06 8l3.22 3.22a.75.75 0 11-1.06 1.06L8 9.06l-3.22 3.22a.75.75 0 01-1.06-1.06L6.94 8 3.72 4.78a.75.75 0 010-1.06z"></path>
</svg>
        </button>
      <div
        id="filter-menu-72cd6b"
        class="d-flex flex-column flex-1 overflow-hidden"
>
        <div
          class="SelectMenu-list"
          >

            <include-fragment class="SelectMenu-loading" aria-label="Loading">
              <svg style="box-sizing: content-box; color: var(--color-icon-primary);" width="32" height="32" viewBox="0 0 16 16" fill="none" data-view-component="true" class="anim-rotate">
  <circle cx="8" cy="8" r="7" stroke="currentColor" stroke-opacity="0.25" stroke-width="2" vector-effect="non-scaling-stroke" />
  <path d="M15 8a7.002 7.002 0 00-7-7" stroke="currentColor" stroke-width="2" stroke-linecap="round" vector-effect="non-scaling-stroke" />
</svg>
            </include-fragment>
        </div>
        
      </div>
    </div>
  </details-menu>
</details>
</div>
  </li>

  

</ul>

      </div>

      <div id="responsive-meta-container" data-pjax-replace>
</div>


        
<nav data-pjax="#js-repo-pjax-container" aria-label="Repository" data-view-component="true" class="js-repo-nav js-sidenav-container-pjax js-responsive-underlinenav overflow-hidden UnderlineNav px-3 px-md-4 px-lg-5">

  <ul data-view-component="true" class="UnderlineNav-body list-style-none">
      <li data-view-component="true" class="d-inline-flex">
  <a id="code-tab" href="/joneconsulting/ssac" data-tab-item="i0code-tab" data-selected-links="repo_source repo_downloads repo_commits repo_releases repo_tags repo_branches repo_packages repo_deployments /joneconsulting/ssac" data-pjax="#repo-content-pjax-container" data-hotkey="g c" data-ga-click="Repository, Navigation click, Code tab" aria-current="page" data-view-component="true" class="UnderlineNav-item hx_underlinenav-item no-wrap js-responsive-underlinenav-item js-selected-navigation-item selected">
    
                  <svg aria-hidden="true" height="16" viewBox="0 0 16 16" version="1.1" width="16" data-view-component="true" class="octicon octicon-code UnderlineNav-octicon d-none d-sm-inline">
    <path fill-rule="evenodd" d="M4.72 3.22a.75.75 0 011.06 1.06L2.06 8l3.72 3.72a.75.75 0 11-1.06 1.06L.47 8.53a.75.75 0 010-1.06l4.25-4.25zm6.56 0a.75.75 0 10-1.06 1.06L13.94 8l-3.72 3.72a.75.75 0 101.06 1.06l4.25-4.25a.75.75 0 000-1.06l-4.25-4.25z"></path>
</svg>
          <span data-content="Code">Code</span>
            <span id="code-repo-tab-count" data-pjax-replace="" title="Not available" data-view-component="true" class="Counter"></span>


    
</a></li>
      <li data-view-component="true" class="d-inline-flex">
  <a id="issues-tab" href="/joneconsulting/ssac/issues" data-tab-item="i1issues-tab" data-selected-links="repo_issues repo_labels repo_milestones /joneconsulting/ssac/issues" data-pjax="#repo-content-pjax-container" data-hotkey="g i" data-ga-click="Repository, Navigation click, Issues tab" data-view-component="true" class="UnderlineNav-item hx_underlinenav-item no-wrap js-responsive-underlinenav-item js-selected-navigation-item">
    
                  <svg aria-hidden="true" height="16" viewBox="0 0 16 16" version="1.1" width="16" data-view-component="true" class="octicon octicon-issue-opened UnderlineNav-octicon d-none d-sm-inline">
    <path d="M8 9.5a1.5 1.5 0 100-3 1.5 1.5 0 000 3z"></path><path fill-rule="evenodd" d="M8 0a8 8 0 100 16A8 8 0 008 0zM1.5 8a6.5 6.5 0 1113 0 6.5 6.5 0 01-13 0z"></path>
</svg>
          <span data-content="Issues">Issues</span>
            <span id="issues-repo-tab-count" data-pjax-replace="" title="0" hidden="hidden" data-view-component="true" class="Counter">0</span>


    
</a></li>
      <li data-view-component="true" class="d-inline-flex">
  <a id="pull-requests-tab" href="/joneconsulting/ssac/pulls" data-tab-item="i2pull-requests-tab" data-selected-links="repo_pulls checks /joneconsulting/ssac/pulls" data-pjax="#repo-content-pjax-container" data-hotkey="g p" data-ga-click="Repository, Navigation click, Pull requests tab" data-view-component="true" class="UnderlineNav-item hx_underlinenav-item no-wrap js-responsive-underlinenav-item js-selected-navigation-item">
    
                  <svg aria-hidden="true" height="16" viewBox="0 0 16 16" version="1.1" width="16" data-view-component="true" class="octicon octicon-git-pull-request UnderlineNav-octicon d-none d-sm-inline">
    <path fill-rule="evenodd" d="M7.177 3.073L9.573.677A.25.25 0 0110 .854v4.792a.25.25 0 01-.427.177L7.177 3.427a.25.25 0 010-.354zM3.75 2.5a.75.75 0 100 1.5.75.75 0 000-1.5zm-2.25.75a2.25 2.25 0 113 2.122v5.256a2.251 2.251 0 11-1.5 0V5.372A2.25 2.25 0 011.5 3.25zM11 2.5h-1V4h1a1 1 0 011 1v5.628a2.251 2.251 0 101.5 0V5A2.5 2.5 0 0011 2.5zm1 10.25a.75.75 0 111.5 0 .75.75 0 01-1.5 0zM3.75 12a.75.75 0 100 1.5.75.75 0 000-1.5z"></path>
</svg>
          <span data-content="Pull requests">Pull requests</span>
            <span id="pull-requests-repo-tab-count" data-pjax-replace="" title="0" hidden="hidden" data-view-component="true" class="Counter">0</span>


    
</a></li>
      <li data-view-component="true" class="d-inline-flex">
  <a id="actions-tab" href="/joneconsulting/ssac/actions" data-tab-item="i3actions-tab" data-selected-links="repo_actions /joneconsulting/ssac/actions" data-pjax="#repo-content-pjax-container" data-hotkey="g a" data-ga-click="Repository, Navigation click, Actions tab" data-view-component="true" class="UnderlineNav-item hx_underlinenav-item no-wrap js-responsive-underlinenav-item js-selected-navigation-item">
    
                  <svg aria-hidden="true" height="16" viewBox="0 0 16 16" version="1.1" width="16" data-view-component="true" class="octicon octicon-play UnderlineNav-octicon d-none d-sm-inline">
    <path fill-rule="evenodd" d="M1.5 8a6.5 6.5 0 1113 0 6.5 6.5 0 01-13 0zM8 0a8 8 0 100 16A8 8 0 008 0zM6.379 5.227A.25.25 0 006 5.442v5.117a.25.25 0 00.379.214l4.264-2.559a.25.25 0 000-.428L6.379 5.227z"></path>
</svg>
          <span data-content="Actions">Actions</span>
            <span id="actions-repo-tab-count" data-pjax-replace="" title="Not available" data-view-component="true" class="Counter"></span>


    
</a></li>
      <li data-view-component="true" class="d-inline-flex">
  <a id="projects-tab" href="/joneconsulting/ssac/projects?type=beta" data-tab-item="i4projects-tab" data-selected-links="repo_projects new_repo_project repo_project /joneconsulting/ssac/projects?type=beta" data-pjax="#repo-content-pjax-container" data-hotkey="g b" data-ga-click="Repository, Navigation click, Projects tab" data-view-component="true" class="UnderlineNav-item hx_underlinenav-item no-wrap js-responsive-underlinenav-item js-selected-navigation-item">
    
                  <svg aria-hidden="true" height="16" viewBox="0 0 16 16" version="1.1" width="16" data-view-component="true" class="octicon octicon-table UnderlineNav-octicon d-none d-sm-inline">
    <path fill-rule="evenodd" d="M0 1.75C0 .784.784 0 1.75 0h12.5C15.216 0 16 .784 16 1.75v3.585a.746.746 0 010 .83v8.085A1.75 1.75 0 0114.25 16H6.309a.748.748 0 01-1.118 0H1.75A1.75 1.75 0 010 14.25V6.165a.746.746 0 010-.83V1.75zM1.5 6.5v7.75c0 .138.112.25.25.25H5v-8H1.5zM5 5H1.5V1.75a.25.25 0 01.25-.25H5V5zm1.5 1.5v8h7.75a.25.25 0 00.25-.25V6.5h-8zm8-1.5h-8V1.5h7.75a.25.25 0 01.25.25V5z"></path>
</svg>
          <span data-content="Projects">Projects</span>
            <span id="projects-repo-tab-count" data-pjax-replace="" title="0" hidden="hidden" data-view-component="true" class="Counter">0</span>


    
</a></li>
      <li data-view-component="true" class="d-inline-flex">
  <a id="wiki-tab" href="/joneconsulting/ssac/wiki" data-tab-item="i5wiki-tab" data-selected-links="repo_wiki /joneconsulting/ssac/wiki" data-pjax="#repo-content-pjax-container" data-hotkey="g w" data-ga-click="Repository, Navigation click, Wikis tab" data-view-component="true" class="UnderlineNav-item hx_underlinenav-item no-wrap js-responsive-underlinenav-item js-selected-navigation-item">
    
                  <svg aria-hidden="true" height="16" viewBox="0 0 16 16" version="1.1" width="16" data-view-component="true" class="octicon octicon-book UnderlineNav-octicon d-none d-sm-inline">
    <path fill-rule="evenodd" d="M0 1.75A.75.75 0 01.75 1h4.253c1.227 0 2.317.59 3 1.501A3.744 3.744 0 0111.006 1h4.245a.75.75 0 01.75.75v10.5a.75.75 0 01-.75.75h-4.507a2.25 2.25 0 00-1.591.659l-.622.621a.75.75 0 01-1.06 0l-.622-.621A2.25 2.25 0 005.258 13H.75a.75.75 0 01-.75-.75V1.75zm8.755 3a2.25 2.25 0 012.25-2.25H14.5v9h-3.757c-.71 0-1.4.201-1.992.572l.004-7.322zm-1.504 7.324l.004-5.073-.002-2.253A2.25 2.25 0 005.003 2.5H1.5v9h3.757a3.75 3.75 0 011.994.574z"></path>
</svg>
          <span data-content="Wiki">Wiki</span>
            <span id="wiki-repo-tab-count" data-pjax-replace="" title="Not available" data-view-component="true" class="Counter"></span>


    
</a></li>
      <li data-view-component="true" class="d-inline-flex">
  <a id="security-tab" href="/joneconsulting/ssac/security" data-tab-item="i6security-tab" data-selected-links="security overview alerts policy token_scanning code_scanning /joneconsulting/ssac/security" data-pjax="#repo-content-pjax-container" data-hotkey="g s" data-ga-click="Repository, Navigation click, Security tab" data-view-component="true" class="UnderlineNav-item hx_underlinenav-item no-wrap js-responsive-underlinenav-item js-selected-navigation-item">
    
                  <svg aria-hidden="true" height="16" viewBox="0 0 16 16" version="1.1" width="16" data-view-component="true" class="octicon octicon-shield UnderlineNav-octicon d-none d-sm-inline">
    <path fill-rule="evenodd" d="M7.467.133a1.75 1.75 0 011.066 0l5.25 1.68A1.75 1.75 0 0115 3.48V7c0 1.566-.32 3.182-1.303 4.682-.983 1.498-2.585 2.813-5.032 3.855a1.7 1.7 0 01-1.33 0c-2.447-1.042-4.049-2.357-5.032-3.855C1.32 10.182 1 8.566 1 7V3.48a1.75 1.75 0 011.217-1.667l5.25-1.68zm.61 1.429a.25.25 0 00-.153 0l-5.25 1.68a.25.25 0 00-.174.238V7c0 1.358.275 2.666 1.057 3.86.784 1.194 2.121 2.34 4.366 3.297a.2.2 0 00.154 0c2.245-.956 3.582-2.104 4.366-3.298C13.225 9.666 13.5 8.36 13.5 7V3.48a.25.25 0 00-.174-.237l-5.25-1.68zM9 10.5a1 1 0 11-2 0 1 1 0 012 0zm-.25-5.75a.75.75 0 10-1.5 0v3a.75.75 0 001.5 0v-3z"></path>
</svg>
          <span data-content="Security">Security</span>
            <include-fragment src="/joneconsulting/ssac/security/overall-count" accept="text/fragment+html"></include-fragment>

    
</a></li>
      <li data-view-component="true" class="d-inline-flex">
  <a id="insights-tab" href="/joneconsulting/ssac/pulse" data-tab-item="i7insights-tab" data-selected-links="repo_graphs repo_contributors dependency_graph dependabot_updates pulse people community /joneconsulting/ssac/pulse" data-pjax="#repo-content-pjax-container" data-ga-click="Repository, Navigation click, Insights tab" data-view-component="true" class="UnderlineNav-item hx_underlinenav-item no-wrap js-responsive-underlinenav-item js-selected-navigation-item">
    
                  <svg aria-hidden="true" height="16" viewBox="0 0 16 16" version="1.1" width="16" data-view-component="true" class="octicon octicon-graph UnderlineNav-octicon d-none d-sm-inline">
    <path fill-rule="evenodd" d="M1.5 1.75a.75.75 0 00-1.5 0v12.5c0 .414.336.75.75.75h14.5a.75.75 0 000-1.5H1.5V1.75zm14.28 2.53a.75.75 0 00-1.06-1.06L10 7.94 7.53 5.47a.75.75 0 00-1.06 0L3.22 8.72a.75.75 0 001.06 1.06L7 7.06l2.47 2.47a.75.75 0 001.06 0l5.25-5.25z"></path>
</svg>
          <span data-content="Insights">Insights</span>
            <span id="insights-repo-tab-count" data-pjax-replace="" title="Not available" data-view-component="true" class="Counter"></span>


    
</a></li>
</ul>
    <div style="visibility:hidden;" data-view-component="true" class="UnderlineNav-actions js-responsive-underlinenav-overflow position-absolute pr-3 pr-md-4 pr-lg-5 right-0">      <details data-view-component="true" class="details-overlay details-reset position-relative">
  <summary role="button" data-view-component="true">          <div class="UnderlineNav-item mr-0 border-0">
            <svg aria-hidden="true" height="16" viewBox="0 0 16 16" version="1.1" width="16" data-view-component="true" class="octicon octicon-kebab-horizontal">
    <path d="M8 9a1.5 1.5 0 100-3 1.5 1.5 0 000 3zM1.5 9a1.5 1.5 0 100-3 1.5 1.5 0 000 3zm13 0a1.5 1.5 0 100-3 1.5 1.5 0 000 3z"></path>
</svg>
            <span class="sr-only">More</span>
          </div>
</summary>
  <div data-view-component="true">          <details-menu role="menu" data-view-component="true" class="dropdown-menu dropdown-menu-sw">
  
            <ul>
                <li data-menu-item="i0code-tab" hidden>
                  <a role="menuitem" class="js-selected-navigation-item selected dropdown-item" aria-current="page" data-selected-links="repo_source repo_downloads repo_commits repo_releases repo_tags repo_branches repo_packages repo_deployments /joneconsulting/ssac" href="/joneconsulting/ssac">
                    Code
</a>                </li>
                <li data-menu-item="i1issues-tab" hidden>
                  <a role="menuitem" class="js-selected-navigation-item dropdown-item" data-selected-links="repo_issues repo_labels repo_milestones /joneconsulting/ssac/issues" href="/joneconsulting/ssac/issues">
                    Issues
</a>                </li>
                <li data-menu-item="i2pull-requests-tab" hidden>
                  <a role="menuitem" class="js-selected-navigation-item dropdown-item" data-selected-links="repo_pulls checks /joneconsulting/ssac/pulls" href="/joneconsulting/ssac/pulls">
                    Pull requests
</a>                </li>
                <li data-menu-item="i3actions-tab" hidden>
                  <a role="menuitem" class="js-selected-navigation-item dropdown-item" data-selected-links="repo_actions /joneconsulting/ssac/actions" href="/joneconsulting/ssac/actions">
                    Actions
</a>                </li>
                <li data-menu-item="i4projects-tab" hidden>
                  <a role="menuitem" class="js-selected-navigation-item dropdown-item" data-selected-links="repo_projects new_repo_project repo_project /joneconsulting/ssac/projects?type=beta" href="/joneconsulting/ssac/projects?type=beta">
                    Projects
</a>                </li>
                <li data-menu-item="i5wiki-tab" hidden>
                  <a role="menuitem" class="js-selected-navigation-item dropdown-item" data-selected-links="repo_wiki /joneconsulting/ssac/wiki" href="/joneconsulting/ssac/wiki">
                    Wiki
</a>                </li>
                <li data-menu-item="i6security-tab" hidden>
                  <a role="menuitem" class="js-selected-navigation-item dropdown-item" data-selected-links="security overview alerts policy token_scanning code_scanning /joneconsulting/ssac/security" href="/joneconsulting/ssac/security">
                    Security
</a>                </li>
                <li data-menu-item="i7insights-tab" hidden>
                  <a role="menuitem" class="js-selected-navigation-item dropdown-item" data-selected-links="repo_graphs repo_contributors dependency_graph dependabot_updates pulse people community /joneconsulting/ssac/pulse" href="/joneconsulting/ssac/pulse">
                    Insights
</a>                </li>
            </ul>

</details-menu></div>
</details></div>
</nav>
  </div>



<div class="clearfix new-discussion-timeline container-xl px-3 px-md-4 px-lg-5">
  <div id="repo-content-pjax-container" class="repository-content " >

    
    


    
      

  
<div class="wants-full-width-container"></div>

<a class="d-none js-permalink-shortcut" data-hotkey="y" href="/joneconsulting/ssac/blame/7ab66f292e51b0042554a917902cee53ed7f4164/6.rnn/simplernn-1.ipynb">Permalink</a>

<div class="breadcrumb css-truncate blame-breadcrumb">
  <span id="blob-path" class="css-truncate-target"><span class="js-repo-root text-bold"><span class="js-path-segment d-inline-block wb-break-all"><a data-pjax="true" href="/joneconsulting/ssac"><span>ssac</span></a></span></span><span class="separator">/</span><span class="js-path-segment d-inline-block wb-break-all"><a data-pjax="true" href="/joneconsulting/ssac/tree/master/6.rnn"><span>6.rnn</span></a></span><span class="separator">/</span><strong class="final-path">simplernn-1.ipynb</strong></span>
  <clipboard-copy aria-label="Copy file path to clipboard" value="6.rnn/simplernn-1.ipynb" data-view-component="true" class="btn btn-sm">
    <svg aria-hidden="true" height="16" viewBox="0 0 16 16" version="1.1" width="16" data-view-component="true" class="octicon octicon-copy">
    <path fill-rule="evenodd" d="M0 6.75C0 5.784.784 5 1.75 5h1.5a.75.75 0 010 1.5h-1.5a.25.25 0 00-.25.25v7.5c0 .138.112.25.25.25h7.5a.25.25 0 00.25-.25v-1.5a.75.75 0 011.5 0v1.5A1.75 1.75 0 019.25 16h-7.5A1.75 1.75 0 010 14.25v-7.5z"></path><path fill-rule="evenodd" d="M5 1.75C5 .784 5.784 0 6.75 0h7.5C15.216 0 16 .784 16 1.75v7.5A1.75 1.75 0 0114.25 11h-7.5A1.75 1.75 0 015 9.25v-7.5zm1.75-.25a.25.25 0 00-.25.25v7.5c0 .138.112.25.25.25h7.5a.25.25 0 00.25-.25v-7.5a.25.25 0 00-.25-.25h-7.5z"></path>
</svg>
    <svg style="display: none;" aria-hidden="true" height="16" viewBox="0 0 16 16" version="1.1" width="16" data-view-component="true" class="octicon octicon-check color-fg-success">
    <path fill-rule="evenodd" d="M13.78 4.22a.75.75 0 010 1.06l-7.25 7.25a.75.75 0 01-1.06 0L2.22 9.28a.75.75 0 011.06-1.06L6 10.94l6.72-6.72a.75.75 0 011.06 0z"></path>
</svg>
</clipboard-copy>
</div>

<div class="line-age-legend float-right mt-n4 f6">
  <span>Newer</span>
  <ol class="d-inline-block mx-1 list-style-none">
      <li class="heat d-inline-block" data-heat="1"></li>
      <li class="heat d-inline-block" data-heat="2"></li>
      <li class="heat d-inline-block" data-heat="3"></li>
      <li class="heat d-inline-block" data-heat="4"></li>
      <li class="heat d-inline-block" data-heat="5"></li>
      <li class="heat d-inline-block" data-heat="6"></li>
      <li class="heat d-inline-block" data-heat="7"></li>
      <li class="heat d-inline-block" data-heat="8"></li>
      <li class="heat d-inline-block" data-heat="9"></li>
      <li class="heat d-inline-block" data-heat="10"></li>
  </ol>
  <span>Older</span>
</div>


  <div class="file">
    <div class="file-header">
      <div class="file-actions">
        <div data-view-component="true" class="BtnGroup">
    <a href="/joneconsulting/ssac/raw/master/6.rnn/simplernn-1.ipynb" id="raw-url" data-view-component="true" class="btn-sm btn BtnGroup-item">  Raw
</a>
    <a href="/joneconsulting/ssac/blob/master/6.rnn/simplernn-1.ipynb" data-view-component="true" class="js-update-url-with-hash btn-sm btn BtnGroup-item">  Normal view
</a>
    <a href="/joneconsulting/ssac/commits/master/6.rnn/simplernn-1.ipynb" rel="nofollow" data-view-component="true" class="btn-sm btn BtnGroup-item">  History
</a>
</div>      </div>


  

      <div class="file-info">
        <svg aria-hidden="true" height="16" viewBox="0 0 16 16" version="1.1" width="16" data-view-component="true" class="octicon octicon-file">
    <path fill-rule="evenodd" d="M3.75 1.5a.25.25 0 00-.25.25v11.5c0 .138.112.25.25.25h8.5a.25.25 0 00.25-.25V6H9.75A1.75 1.75 0 018 4.25V1.5H3.75zm5.75.56v2.19c0 .138.112.25.25.25h2.19L9.5 2.06zM2 1.75C2 .784 2.784 0 3.75 0h5.086c.464 0 .909.184 1.237.513l3.414 3.414c.329.328.513.773.513 1.237v8.086A1.75 1.75 0 0112.25 15h-8.5A1.75 1.75 0 012 13.25V1.75z"></path>
</svg>
        <span class="file-mode" title="File Mode">100644</span>
        <span class="file-info-divider"></span>
          550 lines (550 sloc)
          <span class="file-info-divider"></span>
        136 KB
      </div>
    </div>

    <div class="blob-wrapper">
      <div class="blame-container  highlight data js-file-line-container tab-size" data-tab-size="8" data-paste-markdown-skip>

          <div class="blame-hunk d-flex color-border-muted border-bottom">

            <div class="blame-commit flex-self-stretch mr-1" data-heat="1">
              <div class="blame-commit-info pl-1 pr-2">

                <div class="no-wrap d-flex flex-items-start">
                  
<div class="AvatarStack flex-self-start  " >
  <div class="AvatarStack-body" aria-label="" >
  </div>
</div>

                  <div class="blame-commit-content d-flex no-wrap flex-items-center">
                    <div class="blame-commit-message overflow-hidden pt-1 f6">
                      <a class="message f6 color-fg-default markdown-title" data-hovercard-type="commit" data-hovercard-url="/joneconsulting/ssac/commit/7ab66f292e51b0042554a917902cee53ed7f4164/hovercard" data-pjax="true" href="/joneconsulting/ssac/commit/7ab66f292e51b0042554a917902cee53ed7f4164">uploaded rnn samples</a>
                    </div>
                  </div>
                  <div class="blame-commit-date ml-3" data-heat="1"><time-ago datetime="2022-03-15T05:52:51Z" data-view-component="true" class="no-wrap">Mar 15, 2022</time-ago></div>
                </div>
              </div>
            </div>

            <div class="blob-reblame pl-1 pr-1">
              
            </div>

            <div class="width-full">
                <div class="d-flex flex-justify-start flex-items-start">
                  <div class="blob-num blame-blob-num color-bg-subtle js-line-number" id="L1">1</div>
                  <div class="blob-code blob-code-inner js-file-line" id="LC1">{</div>
                </div>
                <div class="d-flex flex-justify-start flex-items-start">
                  <div class="blob-num blame-blob-num color-bg-subtle js-line-number" id="L2">2</div>
                  <div class="blob-code blob-code-inner js-file-line" id="LC2"> <span class="pl-ent">&quot;cells&quot;</span>: [</div>
                </div>
                <div class="d-flex flex-justify-start flex-items-start">
                  <div class="blob-num blame-blob-num color-bg-subtle js-line-number" id="L3">3</div>
                  <div class="blob-code blob-code-inner js-file-line" id="LC3">  {</div>
                </div>
                <div class="d-flex flex-justify-start flex-items-start">
                  <div class="blob-num blame-blob-num color-bg-subtle js-line-number" id="L4">4</div>
                  <div class="blob-code blob-code-inner js-file-line" id="LC4">   <span class="pl-ent">&quot;cell_type&quot;</span>: <span class="pl-s"><span class="pl-pds">&quot;</span>code<span class="pl-pds">&quot;</span></span>,</div>
                </div>
                <div class="d-flex flex-justify-start flex-items-start">
                  <div class="blob-num blame-blob-num color-bg-subtle js-line-number" id="L5">5</div>
                  <div class="blob-code blob-code-inner js-file-line" id="LC5">   <span class="pl-ent">&quot;execution_count&quot;</span>: <span class="pl-c1">1</span>,</div>
                </div>
                <div class="d-flex flex-justify-start flex-items-start">
                  <div class="blob-num blame-blob-num color-bg-subtle js-line-number" id="L6">6</div>
                  <div class="blob-code blob-code-inner js-file-line" id="LC6">   <span class="pl-ent">&quot;id&quot;</span>: <span class="pl-s"><span class="pl-pds">&quot;</span>e5dcd034<span class="pl-pds">&quot;</span></span>,</div>
                </div>
                <div class="d-flex flex-justify-start flex-items-start">
                  <div class="blob-num blame-blob-num color-bg-subtle js-line-number" id="L7">7</div>
                  <div class="blob-code blob-code-inner js-file-line" id="LC7">   <span class="pl-ent">&quot;metadata&quot;</span>: {},</div>
                </div>
                <div class="d-flex flex-justify-start flex-items-start">
                  <div class="blob-num blame-blob-num color-bg-subtle js-line-number" id="L8">8</div>
                  <div class="blob-code blob-code-inner js-file-line" id="LC8">   <span class="pl-ent">&quot;outputs&quot;</span>: [],</div>
                </div>
                <div class="d-flex flex-justify-start flex-items-start">
                  <div class="blob-num blame-blob-num color-bg-subtle js-line-number" id="L9">9</div>
                  <div class="blob-code blob-code-inner js-file-line" id="LC9">   <span class="pl-ent">&quot;source&quot;</span>: [</div>
                </div>
                <div class="d-flex flex-justify-start flex-items-start">
                  <div class="blob-num blame-blob-num color-bg-subtle js-line-number" id="L10">10</div>
                  <div class="blob-code blob-code-inner js-file-line" id="LC10">    <span class="pl-s"><span class="pl-pds">&quot;</span>from tensorflow.keras.layers import Input, SimpleRNN, Dense, Flatten<span class="pl-cce">\n</span><span class="pl-pds">&quot;</span></span>,</div>
                </div>
                <div class="d-flex flex-justify-start flex-items-start">
                  <div class="blob-num blame-blob-num color-bg-subtle js-line-number" id="L11">11</div>
                  <div class="blob-code blob-code-inner js-file-line" id="LC11">    <span class="pl-s"><span class="pl-pds">&quot;</span>from tensorflow.keras.models import Model<span class="pl-cce">\n</span><span class="pl-pds">&quot;</span></span>,</div>
                </div>
                <div class="d-flex flex-justify-start flex-items-start">
                  <div class="blob-num blame-blob-num color-bg-subtle js-line-number" id="L12">12</div>
                  <div class="blob-code blob-code-inner js-file-line" id="LC12">    <span class="pl-s"><span class="pl-pds">&quot;</span>from tensorflow.keras.optimizers import SGD, Adam<span class="pl-pds">&quot;</span></span></div>
                </div>
                <div class="d-flex flex-justify-start flex-items-start">
                  <div class="blob-num blame-blob-num color-bg-subtle js-line-number" id="L13">13</div>
                  <div class="blob-code blob-code-inner js-file-line" id="LC13">   ]</div>
                </div>
                <div class="d-flex flex-justify-start flex-items-start">
                  <div class="blob-num blame-blob-num color-bg-subtle js-line-number" id="L14">14</div>
                  <div class="blob-code blob-code-inner js-file-line" id="LC14">  },</div>
                </div>
                <div class="d-flex flex-justify-start flex-items-start">
                  <div class="blob-num blame-blob-num color-bg-subtle js-line-number" id="L15">15</div>
                  <div class="blob-code blob-code-inner js-file-line" id="LC15">  {</div>
                </div>
                <div class="d-flex flex-justify-start flex-items-start">
                  <div class="blob-num blame-blob-num color-bg-subtle js-line-number" id="L16">16</div>
                  <div class="blob-code blob-code-inner js-file-line" id="LC16">   <span class="pl-ent">&quot;cell_type&quot;</span>: <span class="pl-s"><span class="pl-pds">&quot;</span>code<span class="pl-pds">&quot;</span></span>,</div>
                </div>
                <div class="d-flex flex-justify-start flex-items-start">
                  <div class="blob-num blame-blob-num color-bg-subtle js-line-number" id="L17">17</div>
                  <div class="blob-code blob-code-inner js-file-line" id="LC17">   <span class="pl-ent">&quot;execution_count&quot;</span>: <span class="pl-c1">2</span>,</div>
                </div>
                <div class="d-flex flex-justify-start flex-items-start">
                  <div class="blob-num blame-blob-num color-bg-subtle js-line-number" id="L18">18</div>
                  <div class="blob-code blob-code-inner js-file-line" id="LC18">   <span class="pl-ent">&quot;id&quot;</span>: <span class="pl-s"><span class="pl-pds">&quot;</span>8511f427<span class="pl-pds">&quot;</span></span>,</div>
                </div>
                <div class="d-flex flex-justify-start flex-items-start">
                  <div class="blob-num blame-blob-num color-bg-subtle js-line-number" id="L19">19</div>
                  <div class="blob-code blob-code-inner js-file-line" id="LC19">   <span class="pl-ent">&quot;metadata&quot;</span>: {},</div>
                </div>
                <div class="d-flex flex-justify-start flex-items-start">
                  <div class="blob-num blame-blob-num color-bg-subtle js-line-number" id="L20">20</div>
                  <div class="blob-code blob-code-inner js-file-line" id="LC20">   <span class="pl-ent">&quot;outputs&quot;</span>: [],</div>
                </div>
                <div class="d-flex flex-justify-start flex-items-start">
                  <div class="blob-num blame-blob-num color-bg-subtle js-line-number" id="L21">21</div>
                  <div class="blob-code blob-code-inner js-file-line" id="LC21">   <span class="pl-ent">&quot;source&quot;</span>: [</div>
                </div>
                <div class="d-flex flex-justify-start flex-items-start">
                  <div class="blob-num blame-blob-num color-bg-subtle js-line-number" id="L22">22</div>
                  <div class="blob-code blob-code-inner js-file-line" id="LC22">    <span class="pl-s"><span class="pl-pds">&quot;</span>import numpy as np<span class="pl-cce">\n</span><span class="pl-pds">&quot;</span></span>,</div>
                </div>
                <div class="d-flex flex-justify-start flex-items-start">
                  <div class="blob-num blame-blob-num color-bg-subtle js-line-number" id="L23">23</div>
                  <div class="blob-code blob-code-inner js-file-line" id="LC23">    <span class="pl-s"><span class="pl-pds">&quot;</span>import pandas as pd<span class="pl-cce">\n</span><span class="pl-pds">&quot;</span></span>,</div>
                </div>
                <div class="d-flex flex-justify-start flex-items-start">
                  <div class="blob-num blame-blob-num color-bg-subtle js-line-number" id="L24">24</div>
                  <div class="blob-code blob-code-inner js-file-line" id="LC24">    <span class="pl-s"><span class="pl-pds">&quot;</span>import matplotlib.pyplot as plt<span class="pl-pds">&quot;</span></span></div>
                </div>
                <div class="d-flex flex-justify-start flex-items-start">
                  <div class="blob-num blame-blob-num color-bg-subtle js-line-number" id="L25">25</div>
                  <div class="blob-code blob-code-inner js-file-line" id="LC25">   ]</div>
                </div>
                <div class="d-flex flex-justify-start flex-items-start">
                  <div class="blob-num blame-blob-num color-bg-subtle js-line-number" id="L26">26</div>
                  <div class="blob-code blob-code-inner js-file-line" id="LC26">  },</div>
                </div>
                <div class="d-flex flex-justify-start flex-items-start">
                  <div class="blob-num blame-blob-num color-bg-subtle js-line-number" id="L27">27</div>
                  <div class="blob-code blob-code-inner js-file-line" id="LC27">  {</div>
                </div>
                <div class="d-flex flex-justify-start flex-items-start">
                  <div class="blob-num blame-blob-num color-bg-subtle js-line-number" id="L28">28</div>
                  <div class="blob-code blob-code-inner js-file-line" id="LC28">   <span class="pl-ent">&quot;cell_type&quot;</span>: <span class="pl-s"><span class="pl-pds">&quot;</span>code<span class="pl-pds">&quot;</span></span>,</div>
                </div>
                <div class="d-flex flex-justify-start flex-items-start">
                  <div class="blob-num blame-blob-num color-bg-subtle js-line-number" id="L29">29</div>
                  <div class="blob-code blob-code-inner js-file-line" id="LC29">   <span class="pl-ent">&quot;execution_count&quot;</span>: <span class="pl-c1">3</span>,</div>
                </div>
                <div class="d-flex flex-justify-start flex-items-start">
                  <div class="blob-num blame-blob-num color-bg-subtle js-line-number" id="L30">30</div>
                  <div class="blob-code blob-code-inner js-file-line" id="LC30">   <span class="pl-ent">&quot;id&quot;</span>: <span class="pl-s"><span class="pl-pds">&quot;</span>4e117cb8<span class="pl-pds">&quot;</span></span>,</div>
                </div>
                <div class="d-flex flex-justify-start flex-items-start">
                  <div class="blob-num blame-blob-num color-bg-subtle js-line-number" id="L31">31</div>
                  <div class="blob-code blob-code-inner js-file-line" id="LC31">   <span class="pl-ent">&quot;metadata&quot;</span>: {},</div>
                </div>
                <div class="d-flex flex-justify-start flex-items-start">
                  <div class="blob-num blame-blob-num color-bg-subtle js-line-number" id="L32">32</div>
                  <div class="blob-code blob-code-inner js-file-line" id="LC32">   <span class="pl-ent">&quot;outputs&quot;</span>: [</div>
                </div>
                <div class="d-flex flex-justify-start flex-items-start">
                  <div class="blob-num blame-blob-num color-bg-subtle js-line-number" id="L33">33</div>
                  <div class="blob-code blob-code-inner js-file-line" id="LC33">    {</div>
                </div>
                <div class="d-flex flex-justify-start flex-items-start">
                  <div class="blob-num blame-blob-num color-bg-subtle js-line-number" id="L34">34</div>
                  <div class="blob-code blob-code-inner js-file-line" id="LC34">     <span class="pl-ent">&quot;data&quot;</span>: {</div>
                </div>
                <div class="d-flex flex-justify-start flex-items-start">
                  <div class="blob-num blame-blob-num color-bg-subtle js-line-number" id="L35">35</div>
                  <div class="blob-code blob-code-inner js-file-line" id="LC35">      &quot;image/png&quot;: &quot;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\n&quot;,</div>
                </div>
                <div class="d-flex flex-justify-start flex-items-start">
                  <div class="blob-num blame-blob-num color-bg-subtle js-line-number" id="L36">36</div>
                  <div class="blob-code blob-code-inner js-file-line" id="LC36">      <span class="pl-ent">&quot;text/plain&quot;</span>: [</div>
                </div>
                <div class="d-flex flex-justify-start flex-items-start">
                  <div class="blob-num blame-blob-num color-bg-subtle js-line-number" id="L37">37</div>
                  <div class="blob-code blob-code-inner js-file-line" id="LC37">       <span class="pl-s"><span class="pl-pds">&quot;</span>&lt;Figure size 432x288 with 1 Axes&gt;<span class="pl-pds">&quot;</span></span></div>
                </div>
                <div class="d-flex flex-justify-start flex-items-start">
                  <div class="blob-num blame-blob-num color-bg-subtle js-line-number" id="L38">38</div>
                  <div class="blob-code blob-code-inner js-file-line" id="LC38">      ]</div>
                </div>
                <div class="d-flex flex-justify-start flex-items-start">
                  <div class="blob-num blame-blob-num color-bg-subtle js-line-number" id="L39">39</div>
                  <div class="blob-code blob-code-inner js-file-line" id="LC39">     },</div>
                </div>
                <div class="d-flex flex-justify-start flex-items-start">
                  <div class="blob-num blame-blob-num color-bg-subtle js-line-number" id="L40">40</div>
                  <div class="blob-code blob-code-inner js-file-line" id="LC40">     <span class="pl-ent">&quot;metadata&quot;</span>: {</div>
                </div>
                <div class="d-flex flex-justify-start flex-items-start">
                  <div class="blob-num blame-blob-num color-bg-subtle js-line-number" id="L41">41</div>
                  <div class="blob-code blob-code-inner js-file-line" id="LC41">      <span class="pl-ent">&quot;needs_background&quot;</span>: <span class="pl-s"><span class="pl-pds">&quot;</span>light<span class="pl-pds">&quot;</span></span></div>
                </div>
                <div class="d-flex flex-justify-start flex-items-start">
                  <div class="blob-num blame-blob-num color-bg-subtle js-line-number" id="L42">42</div>
                  <div class="blob-code blob-code-inner js-file-line" id="LC42">     },</div>
                </div>
                <div class="d-flex flex-justify-start flex-items-start">
                  <div class="blob-num blame-blob-num color-bg-subtle js-line-number" id="L43">43</div>
                  <div class="blob-code blob-code-inner js-file-line" id="LC43">     <span class="pl-ent">&quot;output_type&quot;</span>: <span class="pl-s"><span class="pl-pds">&quot;</span>display_data<span class="pl-pds">&quot;</span></span></div>
                </div>
                <div class="d-flex flex-justify-start flex-items-start">
                  <div class="blob-num blame-blob-num color-bg-subtle js-line-number" id="L44">44</div>
                  <div class="blob-code blob-code-inner js-file-line" id="LC44">    }</div>
                </div>
                <div class="d-flex flex-justify-start flex-items-start">
                  <div class="blob-num blame-blob-num color-bg-subtle js-line-number" id="L45">45</div>
                  <div class="blob-code blob-code-inner js-file-line" id="LC45">   ],</div>
                </div>
                <div class="d-flex flex-justify-start flex-items-start">
                  <div class="blob-num blame-blob-num color-bg-subtle js-line-number" id="L46">46</div>
                  <div class="blob-code blob-code-inner js-file-line" id="LC46">   <span class="pl-ent">&quot;source&quot;</span>: [</div>
                </div>
                <div class="d-flex flex-justify-start flex-items-start">
                  <div class="blob-num blame-blob-num color-bg-subtle js-line-number" id="L47">47</div>
                  <div class="blob-code blob-code-inner js-file-line" id="LC47">    <span class="pl-s"><span class="pl-pds">&quot;</span>series = np.sin(0.1 * np.arange(200)) # + np.random.randn(200) * 0.1 <span class="pl-cce">\n</span><span class="pl-pds">&quot;</span></span>,</div>
                </div>
                <div class="d-flex flex-justify-start flex-items-start">
                  <div class="blob-num blame-blob-num color-bg-subtle js-line-number" id="L48">48</div>
                  <div class="blob-code blob-code-inner js-file-line" id="LC48">    <span class="pl-s"><span class="pl-pds">&quot;</span>plt.plot(series)<span class="pl-cce">\n</span><span class="pl-pds">&quot;</span></span>,</div>
                </div>
                <div class="d-flex flex-justify-start flex-items-start">
                  <div class="blob-num blame-blob-num color-bg-subtle js-line-number" id="L49">49</div>
                  <div class="blob-code blob-code-inner js-file-line" id="LC49">    <span class="pl-s"><span class="pl-pds">&quot;</span>plt.show()<span class="pl-pds">&quot;</span></span></div>
                </div>
                <div class="d-flex flex-justify-start flex-items-start">
                  <div class="blob-num blame-blob-num color-bg-subtle js-line-number" id="L50">50</div>
                  <div class="blob-code blob-code-inner js-file-line" id="LC50">   ]</div>
                </div>
                <div class="d-flex flex-justify-start flex-items-start">
                  <div class="blob-num blame-blob-num color-bg-subtle js-line-number" id="L51">51</div>
                  <div class="blob-code blob-code-inner js-file-line" id="LC51">  },</div>
                </div>
                <div class="d-flex flex-justify-start flex-items-start">
                  <div class="blob-num blame-blob-num color-bg-subtle js-line-number" id="L52">52</div>
                  <div class="blob-code blob-code-inner js-file-line" id="LC52">  {</div>
                </div>
                <div class="d-flex flex-justify-start flex-items-start">
                  <div class="blob-num blame-blob-num color-bg-subtle js-line-number" id="L53">53</div>
                  <div class="blob-code blob-code-inner js-file-line" id="LC53">   <span class="pl-ent">&quot;cell_type&quot;</span>: <span class="pl-s"><span class="pl-pds">&quot;</span>code<span class="pl-pds">&quot;</span></span>,</div>
                </div>
                <div class="d-flex flex-justify-start flex-items-start">
                  <div class="blob-num blame-blob-num color-bg-subtle js-line-number" id="L54">54</div>
                  <div class="blob-code blob-code-inner js-file-line" id="LC54">   <span class="pl-ent">&quot;execution_count&quot;</span>: <span class="pl-c1">4</span>,</div>
                </div>
                <div class="d-flex flex-justify-start flex-items-start">
                  <div class="blob-num blame-blob-num color-bg-subtle js-line-number" id="L55">55</div>
                  <div class="blob-code blob-code-inner js-file-line" id="LC55">   <span class="pl-ent">&quot;id&quot;</span>: <span class="pl-s"><span class="pl-pds">&quot;</span>5569c6a2<span class="pl-pds">&quot;</span></span>,</div>
                </div>
                <div class="d-flex flex-justify-start flex-items-start">
                  <div class="blob-num blame-blob-num color-bg-subtle js-line-number" id="L56">56</div>
                  <div class="blob-code blob-code-inner js-file-line" id="LC56">   <span class="pl-ent">&quot;metadata&quot;</span>: {},</div>
                </div>
                <div class="d-flex flex-justify-start flex-items-start">
                  <div class="blob-num blame-blob-num color-bg-subtle js-line-number" id="L57">57</div>
                  <div class="blob-code blob-code-inner js-file-line" id="LC57">   <span class="pl-ent">&quot;outputs&quot;</span>: [</div>
                </div>
                <div class="d-flex flex-justify-start flex-items-start">
                  <div class="blob-num blame-blob-num color-bg-subtle js-line-number" id="L58">58</div>
                  <div class="blob-code blob-code-inner js-file-line" id="LC58">    {</div>
                </div>
                <div class="d-flex flex-justify-start flex-items-start">
                  <div class="blob-num blame-blob-num color-bg-subtle js-line-number" id="L59">59</div>
                  <div class="blob-code blob-code-inner js-file-line" id="LC59">     <span class="pl-ent">&quot;data&quot;</span>: {</div>
                </div>
                <div class="d-flex flex-justify-start flex-items-start">
                  <div class="blob-num blame-blob-num color-bg-subtle js-line-number" id="L60">60</div>
                  <div class="blob-code blob-code-inner js-file-line" id="LC60">      &quot;image/png&quot;: &quot;iVBORw0KGgoAAAANSUhEUgAAAXwAAAD4CAYAAADvsV2wAAAAOXRFWHRTb2Z0d2FyZQBNYXRwbG90bGliIHZlcnNpb24zLjUuMCwgaHR0cHM6Ly9tYXRwbG90bGliLm9yZy8/fFQqAAAACXBIWXMAAAsTAAALEwEAmpwYAABI5ElEQVR4nO29eXxkV3nn/T2171Uq7VJLrd7cu+1ut40XdgxeCFuSIZhA8mZ5CSHMJJOFkJdMkslk5k0mw8ybvBA8MGECmSSEAMYwGGwwmw22cdtu293ubvferX2tUpVqrzrzx11UkiW11KrlVtX5fj76dNXVbd2jW1e/+9zfec7zCCklCoVCoWh+bPUegEKhUChqgxJ8hUKhaBGU4CsUCkWLoARfoVAoWgQl+AqFQtEiOOo9gLXo6OiQQ0ND9R6GQqFQNAzPPPPMtJSyc6XvWVrwh4aGOHr0aL2HoVAoFA2DEOLSat9Tlo5CoVC0CErwFQqFokVQgq9QKBQtghJ8hUKhaBGU4CsUCkWLoARfoVAoWgQl+AqFQtEiKMFXWJZCscQ/P32ZQrFU76EoFE2BEnyFZTl6aY7f//KLPH52ut5DUSiaAiX4CsuSzhUBGItn6jwShaI5UIKvsCzZghJ8q3J+KsnlmVS9h6HYIErwFZYlW9C8+wkl+JbjI196gT988Hi9h6HYIJYunqZobbJ5TfDH5pXgW42xeIagR8lHo6Ei/Gvg4RPj/MJnf0JeZY9UFcPSGY+nV90nlStwx59/l0dPTtRqWC2PlJLpZJZYKl/voSg2iBL8DZIvlvizb7zED1+e4tGTk/UeTlNjWDqGhz8aS5sTuQYnxxKMxNK8OBKv+fhalYVckWyhxGwqh5Sy3sNRbAAl+Bvkq8+NcGU2jcth459+crnew2lqDMFPZAocuxLjjr/4Lvv/+Fv8zhefN/c5PZ4AYHYhV5cxtiLTiSwAuUKJdL54lb0VVkIJ/gaQUvLJ753lQH+ID75uBz88M8WVWZWpUC2yZWLywLPDSAk3DkT43y+MmouxXp7QBH9GCX7V+cenLvOdlyaYWcia2+aUrdNQKMHfAMNzaS7OpPi5mwf5uZsHEMA/PKVF+X//xEWeuTRX3wE2GUaED/DQ8XF6Qh7ed+tWsoUS56cXADg1Pg/AbFIJfrX5/797hv/54wtMl53rOXWjbSiU4G8Awz7Y1xuiP+Ll3oO9fP6Ji3zzxTH+3YMn+OzjF+o8wuaiXPCnEllu2trG/r4wACdG40gpzc9kLqWEp5oUiiUmE1muzKaZTpZH+Oq8NxJK8DeAEU3u7gkC8Ft3XkcmX+Q3/vFZAC7NLtRtbM1ItlAk7HWa7w9vbWNHpx+3w8aJkXmmklnmUnnsNqEsnSozncxRLElGY2km5pdaOn/7+AX+6jtn6jg6xXpRgr8BTo4nGIh6Cbi1/OOdXQHeeWM/JQnbO/xcnE6prIUKks2XCHudtPk00b9paxsOu409PUFOjM6b0f31W8LMLaiMkWoypqfGFkqSEyNxbELbHkvleOC5YR58fqSOo1OsFyX4G+D0eII9PaEl2/747fv59Ptv4n23biWZLahIs4JkCyXcDhs9YS9uh419vdq539cX5sRonFNjmuDfvqOdQkkyny7Uc7hNzUTZ4rdjV2IMRH0AzC3kuTKbZqos6ldYl4oIvhDis0KISSHEimuthcZfCyHOCiFeEEIcrsRxa0kmX+TC9AJ7dDvHIOx18pb9PWzr8ANwaUbZOpUiWyjidto4NBjhjXu6cDm0y3V/X4j5TIHPPHae/oiXnV0BgCXZI4rKUl7PaGYhR3fIQ9Dt4NLMAvF0nkS28Io1EgrrUakI/++Au9f4/j3ALv3rA8CnKnTcmnF2MkmxJF8R4RtsbdcinovTKk2zUmgRvp3/9K6DfOp9N5nb9/dpn0G+WOKTP3+YqN8NqFz8ajIez+Cy20wrpyPgos3vWrLgbSqhbrhWpyKCL6X8ITC7xi7vAD4vNZ4EIkKI3kocu1ac0v3iPb3BFb+/pc2H3SZUhF9BsnnN0lnODVsifOzevXz512/nxoEI7X4XoHLxq8lYPENP2ENv2AtAu99Nm8/J2amkuc9kQtU8sjq1qn7UD1wpez+sbxtbvqMQ4gNoTwEMDg7WZHDr4cRoHLfDxlC7f8Xvuxw2+iNeLqiSsRUjUyjS7na9YrvNJvi/X7vdfB/VBV9F+NVjfF4TfJuAkViajoCbiM9F+Ty5ivCtT60mbcUK21ZMqZBSflpKeURKeaSzs7PKw1o/Ry/OcWgwgt220q+isbXdpyL8CqJF+Par7qcEv/qMxzP0hj0MtGnWZXvAZWZPGX8Tk0rwLU+tBH8YGCh7vwUYrdGxN00yW+DEaJxbhqJr7jfU7ufC9IJKD6wQxqTt1fA47fhcdmbUatuKk8kXKRRLjOuWjpGdY3j4ANd1B7HbhIrwG4BaCf7XgF/Qs3VuBeJSylfYOVblmUtzlCTcsq19zf22tvtIZAoq0qwQRlrmeoj6XcyqLJ1rolSSvO4vv8dXnh1+xfd++m9+zK9+/ii5YonekIeBqObhdwTctPk0wd8a9dERcCkPvwGoVFrmPwFPALuFEMNCiF8RQnxQCPFBfZeHgPPAWeAzwIcqcdxa8ZMLM9htgkODkTX3u3FA+/6Pz81Uf1AtgJGlsx7a/S41aXuN5IolLs2kOD4y/4rvXZpZ4PunpwDoCXt4874efufN13HDQMS0dAaiXrqCHhXhNwAVmbSVUt53le9L4Dcqcax68PSFOQ70h/G71z5dhwbb6Ai4eOSlCd52Q1+NRte8ZPPFDUX4hof8wHPDfPyRl/nOb78Oj3N9N4xWxugstvwJqVAssVCWW98T1laZ/+s37QIgokf4g1Ef56YWlizOUlgTtdL2KqRyWi32W4barrqv3Sa4c2833zs1aXZrUqyfXKG0pItYtlBal4cPEPW7zcqNLwzHGZ5L8/TFtTKFFQbGtTq7rNRxIqOtXL57fw+HByPmAjeDzqC2/mFru5+uoFtF+A2AEvyr8E8/uUKuWOLuAz3r2v8t+7tJZgs8eV6JzUZ5/98+ZTY3KRRLFEpy3ZZOR8DFtF5PxxCeH748VbWxNhNGVVIjwv/Tr2sd3eYz2g3gzn3dfOVDd5g1pAxuGYry399/E6/e2UFn0M10MkuxpBIWrIwS/FWQUpIrlPgfj53nlm1Rbtq6doaOwe07OvC57HznJdVjdaNcmF7g6y+McmF6gZwe6a/X0ukMuskVSsTTebN87w+U4K8LM8JP5sgXS3z2Rxf41olxszZRaJVm5Tab4K79Pdhsgq6gm5JU5S2sjhL8FZiYz3DwTx7hdX/5PcbiGT70+h3r/r8ep509PUHOTyevvrPCREpJLJ1HSvjbx8+bvvJ6Bb8n7AFgYj5rRvgvTyTNKo+K1cno53pmIWfOg8RSOTPCD5WVqF4Nw95Rto61UYK/At9+aYJktkBfxMvd+3t43XUbWwDWE/YwHlcTWBshky+RK5RwOWx86ZlhJvQUP/c6J127Q5rgj89nmEpkzTUTj708XZ0BNxGGpZMtlLgwpS0cnFvIkzAE37MewdfO/+R8lky+yG9+4TnOT6mgx2oowV+B752aZCDq5UsfvI37338TQqy+unYlukOeJU0iFFcnntbE5Q27O8nkS5zQUwTXG+F364JzZTbFfKbAq3dpvvLjZ5XgX43yBIOTY9p5n0vlFi0d79WT+YxqsWcmExy7EuPBY6N899RkFUar2AxK8JeRzhV5/Ow0b9rTvWGhN+gJeUhmCySzqj77eomltQybbR1aJsi4nuK33rTKrpBmKZwY1QSrM+jmVduiPHVhRq18vgrlrSSXCP4GLJ2o30Vf2MPxkXmO6xU0x9RTruVQgr+MJ85Pky2UeOOermv+GYafrGyd9RPTUwK3dWhL942c7vVG+B6nnYjPyYlRTWw6A25etb2difksl1RBuzUx5ksAXjIFP088nUcICLjWt1xnf3+Y46PxMsFX8ydWQwn+Mr53agqfy86rtq8vK2clDD9ZLURZP4alY1QjNW6W603LBO3JyuiC1Rl0c+s27TN86oJa+bwW5ZbO2UnNd88VSkzMZwi6HdjWKBhYzoG+MBemF3j64hwAozF1/VsNJfjLOD4a5/ot4Q0JzXJ6QirC3yhxPcLvi3hx2MRihL/OhVcAXSGPmc7ZEXSzsytAu9/FU2pNxJqUWzqFsjz6izOpddk5Bvv7QkiplU8GFeFbESX4ZUgpOTuRZFfXyk1O1otp6agIf90YHn6b30XE5zInvddr6QD06D4+aAuxhBDcsi3KUxeU4K9FueDD4jm/MptaV4aOwYH+sPl6f1+IyUSWeDrPHX/+Xb6t1qVYAiX4ZUwmsiSyBXZ1B66+8xp4nHbCXqeK8DdALJXHYRP4XZoXb1Re3MiTlmGlhb1O8//dPBRlJJZW9toaZPOapePVJ8h3632bx+IZgqssulqJ7pCbjoBWX+fN+7qRUst4G4mlOarKXKyb0+MJnrk0W5VkAyX4ZZyZ0PzL5TVDroWekMeM8F+eSHD4P3xb5SWvQTydJ+x1IoSgzefEcBY2EuF36YJviA5g3rzPT6nGNKthRPi9Ee387S3r27wRS0cIwYH+MJ1Bt1k59pGXxgG4MqcmztfLZx+/wAc+/8w1ZwmuhRL8Ms5MahN+lRD87rDHjCq/dXyc2YUczw/HNv1zm5VYOk9YL7drVGGEjXn4xtyJseoTFvPDL0wrwV8NQ/CN82dE+LC+RVfl/OFb9/LJ9x6mL6LVzf+BXlp5eE75+evl7FSSHRXQoJWoVU/bhuDMZJKw10lnwH31na9CT8jNKT3FzVj8MzyrLvrViKfyRPRo0qizDhu1dLTPzVj1CdAX9uJ22LigSl2sSraglaE2WkUuEfx1LLoqZ6c+/2Ws0jXKK1+ZVRH+epBScnYyyVuv763Kz1cRfhnahG2gIo9SPSEP00lt0uq5y1qamnqsXR3D0oFlEf6GJm1faenYbIJtHX5l6ayB1jvYRrsu+P0Rr1kwbaMRvkHQ4ySoV9cMuh3MpfJqIeI6mE7miKfz7OysToSvBL+Ms1PJTU/YGnSHPZQkfP35UfJFicth44qK8Fclls6ZQh9ZEuGv/xJtD2ipmIZ/bLCtw68snTXQ+g7Y6Ql7cdoF3SGP2a92Ix7+cow5gTfu1RYxqij/6hjrICphK6+EEnydmWSW2YUcOyp0Zz3Qp6Wo/fuvn8DlsPHG3V0qwl+BQrFEsSSJpRYjfKNXqt0mcNjXf4nabYLv/PbreMeN/Uu2b+vwc3k2taS5imIRw9J5/21b+fKv347XZTdvvquVRl4PvWHNx7/ngGZPKMG/OmenlODXhEv6xWhM8m2WGwYi/M9fupmgx8nrrutkZ1eAsXiGghKdJbzzb37Ef3roJIlMoUzwtX83Et2vxbYOP4WSVBOHq2A0iw+4HVy/JQIsfgabifB3dQXoj3i5We8Wd0Wd/6tybjKJ32WnN+y5+s7XgJq01ZlNagt/2iswYWvwht1d/Oj33wjAg8dGKJYkY/EMA1FfxY7R6FyaTpm1biLLsnQqJfjbO43UzGTFbujNhObhL50cj5oR/rUL/u+8ZTe/9rodRP0ufC47w+oJ96qcndQydKqRkgkqwjeZ1fuhGhNXlcLrsuN12U2RV7bOIlJKFnIFs3fqouAbEX5lGpBvV6mZa5ItFF+R/mpaOhvM0inH67LTGXQjhGCgzafmsNbB2clk1SZsQQm+yYwu+NEKC77BQJsm+Co1c5FMvkR5C9SIVzv3hoe/kRz8tWjzu+gIuPnMY+f5wk8uV+RnNhOGpVOOaelsIsIvZyDqVRH+VUhmC4zPZ6qWgw8tLPiPnpxY0vN0LpXD7bDhc1UmqlxOb8SDTagIv5zlaXoh7/IIv3KX5/3vO0xP2MtHv/Iil1W55CVogr/0ur9hIML2Dv+SRWybYSDq4+LMAnN6YKXQSOeK/MFXXmQ8nuFpvfzEwbKaRJWmZQX/v377ZT7ypecp6iHmTDJHu99VNe/MabfRG/aqTIUyUjlN8Ld3apaL8XTldtjxuewVs3QAjgxF+b237AZUFcflZPPFV9xcX3tdJ9/93devuwHN1fi5mwfIFyX/+eFTFfl5zcJPLs7yTz+5zOefuMgPTk/hcdq4Zdu1l2a/Gi07aRtP55mYz/LYmSlev7uL2YUs0UB17ByDLW1elSlShhHhf+j1OylJyVD74mR2xOusaIQP0BHUPt/ppIoyy8npefjVZE9PiF++Y4jPPHaBf3VkgMODbVU9XqNgrMb/2vOjOGyC27a3V+wmuxItG+HP6w03/uWZYUCbtG3zVVfwu0MeJhOq161BSl923x1y8+4jA0uertr8rop5+AYdegbWdFJ9BuWs5OFXg9+68zq8TjtfOzZa9WM1CqfHtfpdw3NpLs6keN11nVU9XktG+KWSJJEt4LQLvn1iglgqx8xCruope51BtxKbMowI3+9+5WX4u3ftxr2BRVfroc3nwiZgSt10l2AsvKo2freDvb1Bs42iAk6OJ7h5qI3nh+PkCiVev/vaW6uuh5aM8BPZAlLCnXu7yRVL/OTCLHMLOaL+yuXgr0Rn0E0qV2RB1RQBMM+Df4WeqW/Y3cXtOzsqejy7TdAeUDfd5ayUh18t9vWFODk2rxrLA/liibOTCY4MRbnnQA+7u4MMVTnobEnBN+ycI0Pa5MjJsQQLuSLtVfbwDUtBRZgaqaxm6fjdtREb0D4DJfhLyRZKuGoQ4QPs7Q2RyBTUXBZaj4Z8UbKnJ8hf/Mz1fOnXb6v6MVtS8I2G2VvavHQG3WY6VLVy8A2MFDclOBrJNSL8atERcDGlJm1NSiVJrlgbDx9gX6/WXEXZOnBqXDsHe3pCeJx2ghVa87AWLSn4RoQf9jrZ0ennWb18cdUFX0X4SzDSMlfy8KtFZ8DNtDr/JkbT90pPkK/Gnp4QNgEvjSrBPzWewGkXZlpyLWhJwTci/JDHyY7OgJktUumyCssxIvwpFeEDkMwWcdpFzewEgI6gm6lkVnnIOtm8Lvg18vC9LjtDHX5Oqgifl8cT7OgM4KxwcsJatKTgz+vdeMI+55JyyNWO8KN+lSVSTipXqGl0D5qlkyuUSKiJc0DL0IHKrmq+Gvt6Q8rSASYSGbMVZK1oScGPl1k65Y9T1RZ8u00Q9atJQ4NktlBT/x7KcvHVTRdY7GdbS8Hf2xtieC7d8h2wphLZirRT3QgV+ZSFEHcLIU4LIc4KIT66wvdfL4SICyGO6V9/VInjXivz6QJ2m8DvspsRvt0mKlYoai06g+6WjfCH51L8y9Er5vtUtljTDB0oX3ylJm5LJUkmr0f4VV5pW85QuxZktXJNo1JJMp3MVaxW0XrZtOALIezAJ4F7gH3AfUKIfSvs+piU8kb96083e9zNEE/nCXkcCCHoj2hNrtt8Lmy26tTRKacj4GpZwf9fT17m9770ghnZLdTF0lGZUqDZaYf/7Nt89dgIUNsIf6teQuPybOuWq55L5SiWZOMJPnALcFZKeV5KmQO+ALyjAj+3asxn8mZlRptNsL0zUPUJWwNttW1rRpdG4TjDTlmoh6Vj1tNpbcG/PJsilsrz43MzQG0Ff1AX/IstHOEbiRuNKPj9wJWy98P6tuXcJoR4XgjxTSHE/tV+mBDiA0KIo0KIo1NTU6vttini6cX+qQC/dMcQP3/rYFWOtRzD0mnFLBGjNLQhtgt1sHTa/W41cQ6MxrSFT2cmtB6qtcrSAS07rs3nNDudtSLG9Vdrwa9EeLWSD7JczZ4Ftkopk0KIe4GvArtW+mFSyk8DnwY4cuRIVVRxPp1f4te/+8hANQ6zIp0BN7liifl0gbCv+nMGVsKM8HXBr8ekrTZx7mr5CH8klgEWF7/VKg/fYGu7v6UtHVPwG3DSdhgoV8wtwJJyeFLKeSllUn/9EOAUQlS2UMoGWB7h15JWzcVPZPLMpbTsKONir0daJkBv2NvS0SUsRvgGtbR0QPPxW/kzqFeEX4lP+WlglxBimxDCBbwH+Fr5DkKIHqHXvhVC3KIfd6YCx94QH/nS8/zN988ynylsqlfnZmjV1bbl/UyN0gYL2SK+Gls6ADcMhHlhOG42v2lFXin4tf0ctkZ9jMbS5PS00FZjMpHF57LXPODZtOBLKQvAh4GHgZPAF6WUJ4QQHxRCfFDf7WeB40KI54G/Bt4ja2xiSyn55ovj/PPTV7QsnTpF+L36QotWe5wtb+04ncySK5TIFUsEamzpABwaaCOZLXBuKlnzY1uF0Vgap33Rja11hD/Y7qckadk+t1OJbM2je6hQPXzdpnlo2bb7y15/AvhEJY51rcTTeRLZgrnCsl6WzmDUh89l5+RYoi7HrxeGf98V1GrZGHV0fHWwdG4cjADw3OU5rusO1vz4VmBkLs2NAxGevqjVkaq9h69l6jx9cZaLMwu8cU93TY9fD0olaaZ+12PRFbTQSttySwGoySKrlbDbBLt7Wq8JxPBcmqDbwa7uAFPJLAt6/aJAHSydbe1+wl4nz12O1fzYVqBQLDE+n+HIUBSHLkA1t3R0wf/9L7/IL//d0aa3OI+PxNn9777JPX/1GN94YYypZH0i/JYR/Mt6hGl00atXhA/a0vJWawJxeTbFlqhPq1aZzC42P6lDhG+zCW4ciLSs4E8kspSk9rTZ36ZZjLW2dDoDbjqDbrz6Ct9mz5o6P63Vvp9dyPKxr77IRDyjBL+aGB7yq/UuSvXy8EErHpXIFBiJtU4TiCuzKQajXq0BSSK3ZrerWnBoMMLLkwkSeiG9VsKYsO2LeNmqlzmoteALIXjo37yG+99/EwBzC829GDGZ0a73j9y1h1hKs5eVpVNFLs+miPpd3LlX8wrrHeFD69QEl1IyPJdmoM1HR9BNOl80m7nXI8IHuGFLBClb5zMoxxD8/oiHbe0+vE77kgbytaIz6KY37AFgptkFP6sFFm/e382QbmepCL+KXJlNMdDm5acP9/ORu3dzoC9Ut7Hs6QkiBC0zcZstlEjni0QDLrOWzaUZLUvJ56q9hw9wXY82WfvyZOtl6oyURfi/9rod/M37DtdtLEaF2rlUswu+PmflcnDfLdqq/o46RPj1Ca/qwJXZFAf6wwQ9Tj70+p11HYvf7WCo3c9LY/G6jqNWpPUJWp/TbkY1xqKbQJ0i/L6wh4DbwZmJ1rjpAuQKJf7tF4/xvVOTtPtd+FwOfC5HzWuylxPRn7Rnmz3CzxQIuB3YbIL3vmqQ+Uye23e213wcLRHhF0uSkViagaiv3kMxuWlrG4+8NMEffvVFs0Rts5LWfz+vy06H3ij+hG6l1GPhFWge8s6uAC+3kOCfHJvnGy+M8frdnaZ3Xm8cdhthr7P5BT+bN4OboMfJ7921B18d5q9aIsIfn8+QL0oGLST4f/S2fQTcDv7uxxfpi3jr/tRRTQzB9zjt5kTVsSsxDg9G6jJxZbC7O8h3Tk7U7fi1xlho9ttv3s3OrsBV9q4d7X5X0wt+PQoFrkRLRPhGo4WBNusIfsjj5E/evp+btrbxwLMjTZ2iaVg6XqedqN+FEOB32fn/fu5QXSYLDXZ1B5hZyDHT5CmBBuenFnDYhJkDbxXa/K6m9/AT2QKBOq39KaclBN9IyRyI1s+rXI13HernzGTStDiakUyZpeOw2/i/bh/iv/3cjWZd9HphrLJ9eaI1Jm7PTSUZbPfVtGn2emjzuZhp8h4RyUyeYJ3mq8qx1idfJUZjaYSAHj0FzEq89WAvTrvgq8+N1HsoVcP08PVFNn/8tv28ZX9PPYcELAr+mcnW8PHPTSXZ3mEdK8egvQUifGXp1JDRWJrOgLvmy8fXQ5vfxeuu6+Lhl8brPZSqYVg6nhr2TV0P3SE3QY+jJSZuiyXJxekUO7r89R7KK2jzu5hbyDe1rZnMFgi4laVTE0Zjmbqmnl2N7Z1+Jueb10cuz9KxEkII9vWGeOZSrN5DqTrDcylyxRI7Oq0X4Uf9TnLFktmMpRlJZPIEPcrSqQmjsTT9Fhb8iM+pLU7KNWd6ZmaZpWMl7trfw8mxec42+QIsI0NnR6f1IvyoX8vUmltozjIXUkoWcsrSqQlSajn4fRHr+fcGbb7mXm1YnqVjNX7q+l6EgK8/P3r1nRuY81PaymYrevhRv2Z1zCw051NuJl+iWJLK0qkFsws5soWSpS2dNr23bdMKfl7ramQ1SwegK+Th1m3tfP2F0ab2kM9NJWn3u2jTSxlYiWYPeBJ6HZ2AsnSqz6jerNnKgh/RL/hYqjkfaQ0Pv9YVGdfL227o4/zUAqebePL21HjCUoutymnXLZ3ZJrV0FrL16/2wHGv+BVaQEbMyoHUFv63JBT+TL9atIuN6uGlrGwBnmjQfv1iSnBpLsL8vXO+hrEib36in05yWjlEaWVk6NaC89rdViTS7pZMrWtLOMTDmd5Y39m4WLs4skM4X2VfHCrFrEXA7cNpF00b4pqWjFl5Vn9FYGo/TZvrkVsQQ/FizCr4e4VuVoMdJ0ONoWsE/qbfT3Ntrzf69Qgja/e6m7Xq1aOnUX/DrP4IqMxpP0xfxWtZOAK2fqM9lZ65JLZ10voinxk2yN0p/xMuIPt/TbLw0Oo/TLtjVZU3BB63sidGGtFlIZgs8fHzcbKuqJm1rwEgsY2n/3qDN17zLyzMWt3RAs/yaNcJ/aWyenV1BXBadNAcYjPrNIofNwiMnxvmdf3meJ87NANaI8K17BVSIkbk0fWHrC37E5yTeZBH+2ckkOb3blZUtHdB8/NF4kwr+6Lxl7RyDre0+xuczTdUbwkjC+MnFWUAJftVJZPJMJ7Ns7bBWOdiVaLYIP57Kc89f/ZCvPDusWzpWF3wvsVTebK7eLEwns0wmsuzrteaErYFRsvlKE9k6CT0759JMCrtNWMLWrP8IqojRRm9bu/WWky8n7HM2VVrmaDxNvqitck7nrB/hG7bfWJNF+Q+f0Iry3TwUrfNI1sZoTnSxiWydRGbx7zngdlhiHrGpBf/8tLacfKjD+oLf5nM2VYQ/Ma9NgM6lcloefgN4+EBTTdxKKfn7Jy6xvy/E9VusmYNvsFUPyozm9s2AEeGDNewcaHLBv2gIfgNE+G0+F/F0nlKpOZb3Tya0FLu5hXxDePhGhN9ME7dHL81xajzB+2/daonoci3afE6CbkdTZeoY+fegBL9qpHNFPvD5o/zz05e5OL1Ab9hj+egStPIKJbk0KmhkpnTBn13Ikc5Z38PvCrqx20RTCf4//eQyQY+Dt9/YV++hXBUhBIPtPtOGbQYSmQI+XXuskJIJTZiH73XZOTuVJJ0vkswWGiK6h6UF1MIWXiS2XpZaOiXL33Qddhs9IY9ZiqMZePriLK/d1YnP1Rh/5kPtfl4aa55Wn/OZAjdsifD0xVn8KsKvHm/e282T52c4M5FsCP8emq9ioNHQZSqRJVcsWd7SAS01c2SuOQQ/lspxZTbNgX5re/flDLb7GJ5LUWwSWzORyRMNuHjV9qhl+hA0peDfua+bfFGSzBbY1gApmVBeXqE5MnUmE1qEP7Og3cCskJJ2NbqCnqZZ3n9iVIuUD/RbOx2znK1RH/mibBpbLZEpEPI4+PtffhV/9FP76j0coEkF//Bgm2mRbLNgw4eViDRbhJ9YKpyNEOFH/S7zBtXovDgSB+CARStkrsSWNi04axZbTWtr6MRmE5aZNG9KwbfbBG/Y0wXQMBF+V9CNy2HjgedGGv6RVkrJ5HyWjsBisw2rT9oCtAdcxFJ58sVSvYeyaY6PxNnS5rVkw5PV6G/TU2ObwFbLF0tk8iWCFvHuDZpS8AF+6fZtvP2GvoaZtPW7Hfz7t+/nsTPTfPyR0/UezqaIp/PkiiWu615czm/1SVuA9oDeW7UJnrKOj8QbKroH6A1rZaqbIcI3su2s0Li8nIoIvhDibiHEaSHEWSHER1f4vhBC/LX+/ReEEIcrcdy1OLglzF/fdwiHvXHuaffdMshPH+rn0z88T7KBl/gbds6enkX/uBEsnXY9Gp5JNrbgz2fyXJxJcdDii62W43Ha6Qi4myLCN1bZBj3WyrjbtBoKIezAJ4F7gH3AfUKI5TMU9wC79K8PAJ/a7HGblZ+5aQuFkuTpC7P1Hso1Y6Rk7ukpi/AbSPBnG9zHPzWmtWq0asOTtehv86oIv4pUIvy9BTgrpTwvpcwBXwDesWyfdwCflxpPAhEhRG8Fjt103LS1DZfdxhPnZ+o9lGvGSMncXSb4noawdDTBb/RMHaMAWaPYmeVsaZIy1fPNGuED/cCVsvfD+raN7gOAEOIDQoijQoijU1NTFRheY+Fx2jm8NcKPz03XeyjXjGHp7OwKYLdp2QmNEeEbzbQbO8I3BNPwxBsJI8KXsrETF5o5wl8p32j5p7WefbSNUn5aSnlESnmks7Nz04NrRG7b3sGJ0fmGbXk4Hk8TcDvwux1memwjCH7Y68RuEw3p4Y/F0/zq544ST+cZiaXpCLgbIjNqOf0RL9lCiekG/AzKMQQ/1IQR/jAwUPZ+CzB6DfsodG7f2Y6U8FQD+viFYolHXprg0GAEWFxB3AhZOjaboM2n5eI/9OIY9//gXL2HtG6evjjHd05OcPTiLCOxtJni2GgsVi1tPFsnmS2YKb2Lk7bNF+E/DewSQmwTQriA9wBfW7bP14Bf0LN1bgXiUsqxChy7KblhSwSnXXDsSqzeQ9kw3z01yVg8w8+/aiuAmQfeKNFmR8DFTDLL3z5+gf/y8OmGecqK6+M8M5nUBD/SeHYOLFYtbcRMnXv/6jHu/avHOD4SNyN8qxRNM9i04EspC8CHgYeBk8AXpZQnhBAfFEJ8UN/tIeA8cBb4DPChzR63mXE5bPRHGrOp8z88dZnukJs792oL3xrJ0gFtte1UMsvJsXkKJckjL03Ue0jrwijJ8fJEgtFYuiH6OK+E8WTSaBO3xZLk8myKM5NJfvb+H3NpJoXXacdpsbTwioxGSvmQlPI6KeUOKeV/1LfdL6W8X38tpZS/oX//oJTyaCWO28wMRH0N1+5tMpHhh2em+LmbB831D1G/C7tN4LRbY2n51WgPuDkxOk8qp/VWfejFxngQjaf1/qkXZsnkS6Y10miEvVpd/EazdIx1M2+9vpdMvsSjpyYsZ+dAE6+0bXQGo76Gi/DPTiaREm4pa6d3y7Yor97ZYZlaIlej3e8iV9B82Nfs6uBHZ6cborl8TBf8Yd0KadQIH7Rg58J0Y3W+Mjz7O3Z0EPQ4iKXySvAV62dru49YKm9Gbo2A8URiNKQGeNehLXzul2+p15A2jLH4ymW38W/etIt8UfLDM9ZPD15+nTTqpC3A/r4Qx0fiDZWaaXj2EZ+T27a3A9bLwQcl+JbFaOrcSLbO5dkUdptoyPxvA6OeznU9AXOlcCM0No+n8rgci3/OjRzhH9wSZmYhx1i8cfoLl+fd37Gzw3xtNZTgW5QBXfAbyda5NJOiP+JtqPpFy4nqEf7+3jABtwOXw9YQefnxdJ4b9No5fpedsNd60eV6Oag3bXlhOF7nkayfZHZxZa0h+FbLwQcl+JZlsAEF/8psaomd04gYJZ0P9IcQQtAZcDPVAKUWYukc2zr8tPmc9EW8DTNnshJ7e0PYbYLjI40j+OUR/o5OP9s7/WbQZiWs98yhALRIIep3NZTgX55Ncc/Bxi6RdKA/zPtuHeTuA9rv0RFwNcSqz3g6T9jr5PadHZarwb5RPE4713UHeaGBBH++TPCFEHz9w69eYrFZhca+MpqcgaiPyzONIfjzmTxzqbz5ZNKoeJx2/uydB8337QG3Wf3TqmTyRTL5EhGfi4+91Rqt9DbLwf4Q3zk5iZSyIZ5WzJW1bs3GsUrT8uVY7xakMGmk1EzjxrS1wQV/OVqEb21LZ17P0Ak1sG+/nINbIswu5Mw0U6uTyBRw2ITlezdbe3QtzmBUqxzYCC0PjWwiK/qWm6Ej4GYmmaNk4c/AyMGPNJHgHxqIAPDMpbn6DmSdaP1rHZZ/GlGCb2G6gh6KJdkQLfcu6YI/2OCTtstpD7gplKSl10MYY4v4mkfw9/aGCHocPHWhMfpCJDMFS+bdL0cJvoUxGnI0Qlrg5dkUbT6nJVPRNoORtTOzYF1bx6ij08ipmMux2wSv2hblyfONUTE2kSlYMu9+OUrwLYzRkGPG4h4yaJZOo0/YrkSnvhBrKmHdm64Z4XtddR5JZXnVtnYuTC9YftIclOArKoARXU43QAemSzMpBhuwpd7VMFbeWnni1ijh3EwRPsCrtms1mZ5sgHaf85m8snQUm8MQm1kLiw1oTU9GYmkGo427nH81TEvHwp/BfDqPENZcyr8Z9vWGCLodDdEIKJEpNMT6ByX4FibidWITMGPxCH8snqFYkk1p6bT5XNgEll58FUvnCXmc2GzWzhDZKA67jf39IU6PJ+o9lKuSzCpLR7FJbDZB1G/9lZ7GWoHBaPNZOtpn4La0pRNP55sqQ6ec7pCHqYR1zz2AlFIXfOt/BkrwLU67321pOwE0/x6aLyXTwOqLr2KpfNP59wZdQTeTiYylSyWnckWKJakifMXmaQ+4llg6J0bjTCaslbVweTaF0y7oCTVuWeS16Ay6Lf2UZdTRaUY6g24y+RIJvaOUFVksnGb9z0AJvsVpDyxG+NPJLD/zqR/z14+eqfOolnJlNsVAmw97k3nIBh0BN+enkvz47HS9h2Ly7v/+BJ/4rnYdzKVyRHzNlZJp0BXUgojJees+YZl1dFSEr9gs7f7FCP8zj50nky9ZbiHWpdmFpiupUM4v3LaVgNvBe//HU3zHIk3Nj4/EOXZFqyY5lcjSFXTXeUTVwfi9rPZUW055pUyrowTf4nQEXCQyBSbmM/z9E5cALefXSlyeafw6+GtxaLCN7/zO6wB4aWy+zqOBbKFIKldkKpEhmS2QyhXpbFbBDxkL36wb4RsNzJXgKzZNVF9te/8PzpHKFdna7mM+bR0/M57KM58pNGVKZjk+lwO/y26JmjrGGCbms0zqq1CbNcLvDGiWjpUFf9HSUR6+YpMY9XQeeG6Evb0hbhyIWCrCH45pGTpbGrhp9noJe51m3Zp6EtfHMJ3MMqF724bX3WyEvFqbyUlLC76K8BUVwljpGUvluXNvFyGP06x/bgUMAWxr0knDcsI+lyUifKMccqEkeXlCW5TUrJaOEEJLzbRwPR0V4SsqhlFADeBNe7sJeR3MZwqWyUs2BL9Zs0TKiXidxNP1nzAvf8ow+r42q6UD2u9m5b7CM8kcbocNv8te76FcFSX4FsewdDqDbq7vDxPyOCmWJKlcsS7j+eT3zvLZxy+Y72O6ADbrSs9yrGLpxMr6IxwfncdpF019/juDbkunZY7GM/SGPZZvfgJK8C1PwO0g6HZw594ubDZhtrEzfMNa88WjV3jw2Ij53rA4mnXhTzkRn9MSlk75GM5MJOgMuBtCbK6VrqDH0h7+eDxNT7gx5lCsP8vQ4ggh+MKv3cqWiJYFYzQYmc/ka36RFUuS0ViaTH7x6SKeyuN22PA4rf84u1nCXqfpn9eTWEqrjiml5uN3NukKZ4OuoJt4Os9vf/EYfpeD//DOA/Ue0hLG4hluHorWexjrQgl+A7C/L2y+Dnm1j6weE7cT8xnyRclUIkuhWMJhtxFLNW/hruWEfU5yhRKZfLGuN7hYOkebz0VRb73YzP49LObif+XZEbZ3WqtAX6kkmZjXLJ1GQFk6DUZ5hF9rjEblJblYLriZ67gsx/g96+3jx1J5Il6nKfTNmqFjUP77zVqsVPj0QpZ8USrBV1QHI9e3HouvhufS5utxPU0uls41XWu91TB+z3r7+PF0nrDPaUa+zR7hHxmK8r5bB7nvlgFiqTyFYqneQzIZj2t/Bz3hxliHogS/wTAmbesS4c+lzNfGhR5PF8wxNTuLEX59o8zFCF+LKpt10ZVByOPkz955kD09IYC6zaPE03nzKddgNKb9HagIX1EVFiP82l/0w3NpPE7tkjEaS8dTuZbx8I3fs94Tt7G0Vh2zVSwdg6hfe8Kql63z8UdO87P3/3jJGpjxuPbUqwRfURXcDjsep82s0FdLrsym2N8XxmkXZZaOFm22AkaEX29LJ7agzZt0hYwIXwl+LTg9nmBiPrukP8VYPIPLYTPHZnU2JfhCiKgQ4ttCiDP6v22r7HdRCPGiEOKYEOLoZo6poG7lFYbn0gxGfXQFPUzEM+QKJVK5YutM2uoRfryOk7b5otYMJOJzcstQlL29IctlrlSLegu+0crz7GTS3DbWQIuuYPMR/keBR6WUu4BH9fer8QYp5Y1SyiObPGbLE/I6a77wKl8sMRZPs6XNS0/Yw/h8xox0W8XSCbod2G2irhG+caOPeJ0c3BLmm7/5moao4VIJ6in4mXyRMX3e6sxkEiklUkrG45mG6vS2WcF/B/A5/fXngHdu8ucp1kHI46j5pO14PENJwkCbj56QIfjaH164BerogLYILuRxmOUk6kEs3Tq1i5ZjFOirh+CXT9aenUjw2R9d5Ob/+Cgnx+cbxr+HzQt+t5RyDED/t2uV/STwiBDiGSHEB9b6gUKIDwghjgohjk5NTW1yeM1JyFt7S8e44LdEvXSHPIzHM2Y+eqtYOqAJ7Vwqzx89eJxnL8/V/PjmOW+Rp6pyXA4bQY+jLoJ/aUa7/t0OG2enknz5mWGmk1kSmQJ9kcZIyYR1rLQVQnwH6FnhWx/bwHHukFKOCiG6gG8LIU5JKX+40o5Syk8DnwY4cuSINUpCWoyQx2legLViOKZlI/RHvPSE3aRyRTMvv1UmbUG72T728hTzmQI2ITg8uOK0VdUwnqpaoRz1SkT9riWCf2lmgS016Kd8cWYBgFfv7ODJ8zMs5Ir8zpuvoyPo5vW7O6t67EpyVcGXUt652veEEBNCiF4p5ZgQoheYXOVnjOr/TgohHgBuAVYUfMXVCXkdNY/wx2LGAhMP3bpneVqvxd5SEb7XaWZIGSJQS8xy1C10zsspF/yL0wu88ePf5xPvPcy9B3uretzLsymCHgdHhqI8ekqTubsP9LCrO1jV41aazVo6XwN+UX/9i8CDy3cQQviFEEHjNfAW4Pgmj9vShDxO5jP5mtbEH4un6Qi4cTvsZjvDJ87NAK0zaQtLf9eL07UX/Gm9Lnxbg6QBVpqob1Hwf3RumpLEnEytJpf0vs3XdQcAGIh62dkVqPpxK81mBf/PgTcLIc4Ab9bfI4ToE0I8pO/TDTwuhHge+AnwDSnltzZ53JYm6HGSL0oy+dotMR+JpemPaJH99Vsi9IQ8HLsSQ4jG6PRTKYynmdfv7uTKXJp8jZf5X5heIOp3tdRTVTnlEf6T52eB2ixCvDSzwNaon11dWkT/pj3dDZOKWc6mqmVKKWeAN62wfRS4V399HrhhM8dRLMWomBlP5/HWqMvOWDzDzk4torHbBG+/sY9P//C8marYKrz9hj5CHidb2318//QUw3NptnXULg/+3OQCO1ok734logFN8KWUPHVee8KsdopyoVhieC7NvQd7GYh6+cO37uWeKltI1UKttG1A+vRCTZdnazNxK6VkLJamN7KYfvbOG/uB1ksPPDIU5Xfv2m2KfK1tnfPTSbZ3NJ6VUCmiPhe5YonjI/NmU5RElVOUJxJZCiXJQNSHEIJffc12+hsoM6ccJfgNyP5+rYiU0c+02synCyzkiksu8r29QXZ3B80WjK3GkC74F2oo+PFUnulkjh1dLRzh63MX33hxDAC/y171NSnGDaUZbDTVAKUB6Qp66Aq6OT5aG8EfNQtELQq+EIJPve8whVJrZs62+10E3Y6aCv65aW1Jf0tH+Lrgf+Hpy/SEPGxp81bd0lnIaj/f1wBNyq+GivAblAP9YU6MzNfkWGOG4EeWrijc3hngugZLS6sUQgiGOvw1Tc08P6Uda0cDZodUivaAVihOSvj4u2/QFiFWOcJfyGotPQPuxo+PleA3KAf6QpyZTJDOFa++8yYZ0XPwG9W3rBZDHf7aRvhTSZx2wUBb634OB/vD/OFb9/L1D7+aO3Z2EPQ4ahjhK8FX1In9/WFKEk6NVz/KH4ulcdgEHYHWKMO7Xra1+xiNpckVapOaeX4qydZ2Pw576/7Z2m3apOlgu7YWJOip/iLEhZyK8BV15kC/1tj8+GgNBD+eoTvkaan0y/XQE/bq/X2zNTneuakFttcwBbQRCHm0yrHVXIRoRvhu5eEr6kRf2EObz8mLw7GqH0tbdNW6NsJqdOs9ZY3uX9Ukky9ycXqBXd2t69+vRNDjpFCSpPPVszYXcprgqwhfUTeEENy6vZ3vn56iVMFMmVyhxIvD8SUR01QiS3cDlYCtFUZNoYn56kf4L47EKZQkNw7Utlib1TEWIVbTx1/IFrDbBG5H48tl4/8GLcxd+3uYTGQ5VsEo/1+eucLbPvE4P/2pH5sTkrFUrmWLda1Flx7hTyaqH+E/p5diPjQYqfqxGgmjrEc1ffyFbBGfy96QpRSWowS/gXnDni4cNsHDJ8Yr9jPPTy3gsts4NZbgU98/S6kkiafzTbHopNK0+93YbaImls6zl2IMRn1q4nwZIY8W4Vezx/NCttAUdg6ohVcNTdjr5LYd7Xz92CjPX4lxeLCNj9y9Z1M/cyyeZiDqxe2wM5PMkcwVKMnWqoi5Xuw2QWfAXXVLR0rJs5fnuH1He1WP04iYEX4Vc/EXcoWmWHQFKsJveO7a38NoPMOT52f5wtNXNp2tMBrL0Bfx0uZ3MpfKmQ27QyrCX5HukLvqEf5ILM1kIsvhrcq/X064Jh5+UUX4Cmvw7iMDhLxOZpNZ/uTrL/HyRJLdPde++nU0lub1uztZyBUZi80vNipXgr8iXSEPl6vcfezZyzEADqkJ21dQGw+/gL9JBF9F+A2Oy2Hj7Tf08aa93QA8qZeMvRZyhRJTyawW4fv0CD/dPIWjqkF3yM1kIsNkIsM/PnW5Kvngx0fiuBw29vS2ZhmLtQjpgl/VCD9XbIpVtqAEv2kYiPrY0uY1u1BdCxPzGaTUyi+3+VzE03mz2USrlUFeL91BD3OpPJ/6/jn+nwde5IXhyhe0OzWeYGdnAGcLr7BdDY/ThsMmmM9o12qxCsX8tElb5eErLMat29t58sLMNeflj+qNyrUI30VJLtbcVxH+yhi5+A8eGwXgWxXMmDI4PT7Pnk3YdM2MEIKgx8HF6QXu+PPv8pVnhyt+jFSugE9ZOgqrcdv2dmKpvNlcfKOMllXFbPNrAn9JrwapsnRWxsjFn13IIQQ8fHy8orZOLJVjYj67qXmZZifkdfLdU5Ok80VOVKHUSLKJ0jKV4DcRe3u1xijXWsFxVK+K2Rf2mhbOxZkULocNj7M5HmkrjRHhA7zn5kHOTy9wdjJZsZ9/ely7eV+nBH9Vgh4HWb2AXaW7wBWKJTL5kkrLVFiPXr38wVj82tIEx+Jp2nxOvC47bYbgTy8oO2cNDMHvDLr5rTt3IQR86/jmbJ1HT06Yk+XG05qydFbHmLiFxSfSSpHKN0+lTFCC31REfE48Thtjuhe/UUZjGbOrVZtu4Uwmsiolcw3a9HP+2l2ddIc87OgM8OImWk+OxzP8yueO8v8+dBLQJmxDHgc9IVXLaDWC+mrbbR1+rsylV5zDiqfyfFNvi3g1Ls+kODup3WiNSpkqLVNhOYQQ9IW91xzhj8bS9OldrcqzclSEvzpCCP7ul27h9+/eDcBQu59Lm8jLNyL6Lz87zEgszenxBHt6Qk1Rx6VahL1OnHbBfbcMkCuUGF9hIdxXnhvm1//hWTMxYS3+9Ree49/+8/PAYrcrZekoLElvxGNOvq6HyUSGfFHzP8fiixF+yOMw69+rCdu1uXV7O116BD7U7uPS7MI1T9ye0QW/JOEjX3qel0bnua5HlURei1959Xb+6j2H2Ner9YhY6YY7k9TSi6/m8U8mMjx/JcbFae0zNCJ8ZekoLElPyMtYbH0Rfr5Y4k0f/wH/68lL5Aol4uk8nUEt60QIYdo6qqzC+tna7iOTLzGZuLb6OmcmkrT7Xbz7yBZ+dHaG/jYv771la4VH2Vzs7gly78FetupdsC7PvtLHn0utT/C/d2oSgES2QDydN2vhN8vCq+b4LRQmfREPk4kMhWLpqq3w5lI5EpkCl2ZS5gKrqH/Ryon4XEwnc0S8atHVetnarnWkuji9sCSDZ72cmUywqzvAH79tPx96/U4Gor5KD7Fp6Q17cNjEihF+TK8JNXwVwX/05KT5+spsuqkamIOK8JuOXr3t3noizLkF7Y9gOpllZkHbvyOwKO5GhK88/PVjRJnX4uNLKTkzmWRXVxCP067EfoM47Da2tHm5tIKoGxH+lbnV7c5MvsjjZ6e5SS9Sd3k21VTtDUEJftPRGzFSM6/u4xsiP5PMlUX4i/XWjYlb5eGvn/6IV4sydVvh7GSCt/y3HzBVdgP+i2+d4i8fPvWK/zuZyJLIFFQbw00w2O5fsZjdnB7hr2XpPH5mmlSuyC/ePgTAlblUU7U3BCX4TYeRiz+6Dh/fiPBnFrIrWjoqwt84RpR5URedoxfneHkiyUtj2grQx89M86nvn+N/v/DKFMGX9QnbnV1K8K+VoXYfL43N8+77n+DYlZi5PWZE+GsI/peeGaYj4OKeAz2EvU6ulEX4Ki1TYUmMLJuxeJpkdu0KgrP6H8FMMmdmMbQvEXzttRL8jVEeZRopsuPxNOlckT944AVteyzzinzxMxPaCt1dXWqR1bXyy3ds4+dfNcgLIzG+ePSKuT2WymMT2lNUZoWG57MLOR49NcE7b+zHabcxGPVxZW7Rw/c1yUpzJfhNRsjjwO+y8+VnRrj+Tx7mx+emV913To/qZ1M5ppJZ7DaxRNzbdPEPK0tnQwy1+7g4o6X1jeuCPxbP8OSFGa7Mav0GcsUS0wtL51lenkjQ5nMumUdRbIyhDj9/+o4D3LAlYtbVyeSLpPNF88lpeO6VUf6Dx0bIFyU/e2QLAANRL8N6hO9z2bHZmmMdhBL8JkMIQW/Ey+mJBCWpWQqrYdg4UsK5ySRtPueSC9von1oe9SuuzmDURyJTYC6VZ2zeiPAzZtR/9/4e4JW22wvDcQ70h9Uiqwqwvy/MqbF5CsWSmaFzsD8CaNk3y3noxTH29YbY06PVoxpo8zE8pz0lN0tKJijBb0q2d/jpDXvoDXt4aY3qgUbmAmjRZXSZsL/1YC+feO8hM9VQsT62d2rn68J0knF98nwsnuHybAqP08b1WyIAS1Z9ZvJFTk8kuH5LuObjbUb294XIFkpcmF4wr/MbBrRza0zcfugfnuEvvnUKKSWnxhJmdg7AlqiPXLHE42enzTaKzYAS/Cbkv7z7Br75m6/h8NY2c7JwJYySvgCXZlOvEHyvy85PXd9XzaE2JTs6Nevg7GSyzMPXBH8w6qO/TZtnKRf8E6PzFEvSvBkoNsf+fi1SPzE6bwr+zs4AHqfNnLh98vwsj56cYGI+SyJb4Lqy7KiBNmMuLMPv3bWnxqOvHkrwm5CQx0nE52Jfb4jLsynmMyv3+5xL5Rho03K9pYT2spRMxbWzpc2Hy2Hj+eE4iUwBm9Am0a/ogh/yOAi4HYyUCf4LwzEAblCCXxF2dAZwOWycGI2blk6b30V/xMtILE0mX2R2Ice5qQXz3O8smyw/2B9md3eQT9x3iLsP9NTjV6gKmxJ8IcS/EkKcEEKUhBBH1tjvbiHEaSHEWSHERzdzTMX62denRTknR+d5+uIs2cLS7IS5hTy7ylIAl0f4imvDbhNs7/Dzo7PahPl13UHmMwXOTy8wEPVpRe4iniUR/gvDcbqCbnrCqipmJXDabezpCS6J8CM+J/1tPkZiaSb0uZViSfINvYpm+fqH9oCbh//ta7nnYG/tB19FNhvhHwd+GvjhajsIIezAJ4F7gH3AfUKIfZs8rmId7NcbovzXb7/Mv7r/CR54dmTJ92cWsmzr8JtF0pTgV44dnQFzte2hQc0bzhVKDOqrZ/si3iWTts8Px5SdU2H294U4MTq/GOH7XPTrN9rxsoqyj5yYIOp3mUkKzcymBF9KeVJKefoqu90CnJVSnpdS5oAvAO/YzHEV66Mz6KYj4OKpC7MAPHt5MWMnnSuSyZdoD7hNoW9X6YAVY0fn4kT3ocGI+doovaAJvhbhz2fynJ9a4AY1YVtRbtgSIZ7Oc/TiLB6n1rWtL+xlOplbUvqiPGWz2amFh98PXCl7P6xvWxEhxAeEEEeFEEenpqaqPrhmRgjBvr4wTrtgZ1eAF4bjpHIF3v6Jx3nwmBbtR/1OM+1SRfiVY0eZgBwaiJivjQi/P+JlZiFHJl/keX1F6I1lNwbF5rl9RwcAj5+dNhcRGhPmRvBzQJ/c3dUign/VfCMhxHeAlWYtPialfHAdx1gpqXjVYuFSyk8DnwY4cuRI5bpBtyh/cM8eppNZnr44xye+e4ZvvjjOC8Nx4ulzgPaYqz3KJtSkbQUxMnU6Aq4lRdC2tBkRvubVj8TSPHsphhBwY9mNQbF5BqJec5LWqAvVF9EE/5lLcwTcDm4einJ8ZJ7rultjdfNVBV9KeecmjzEMDJS93wKMbvJnKtaJ0dg8VyhRkvDX3z0DLFZzjPpdppWjLJ3KYeTi94Q9eJx2on4XTrswm8H36SUwrsymeObyHLu7gwQ9akVzJRFCcPuOdv7lmWGzLlS/LvhnJpPs7Aqwv0+z0Volwq+FpfM0sEsIsU0I4QLeA3ytBsdVlGFMCF6aSS3pj9rmd5mRvbJ0KofP5TAjTNCEZmt00dff1xfC67TzrePjPHd5zpzYVVSW23e2A4t1oXrCHnPtSW/Yw1sP9vKn79jPq7a312uINWWzaZnvEkIMA7cB3xBCPKxv7xNCPAQgpSwAHwYeBk4CX5RSntjcsBUbpTPoNsXn9+/ZjcuhffRRn4uDW0IMRn3mH4WiMnzivsN89J69APzZOw/wx29fTE4Lepy89fpevvTMMIlMgcPKv68Kt23XfHyjxLfTbqM7qAU83SEPXpedX7htyMxUa3Y2tWZYSvkA8MAK20eBe8vePwQ8tJljKTbPDQNhppNZ7trfw1efG+WxM1OEvE7edWgL7zq0pd7DazpuKPPkb1jBn7/vlgG+9MwwAIe3qgi/GvSEPXz4DTt59a4Oc1tfxMP4fMYsJd5KNE+RCMVV+chde3jvLVvxuRz86zfu5MjWtpaJbKzI4cE2dnYFmE5m2d6h6hVVi9+9a/eS930RL89ejl1TC8pGRwl+CzHU4WdIF5YjQ1GODEXrPKLWRgjBX/7s9XpNI3XjrRVGaqaK8BUKRU1Rk7W1x5jLUhG+QqFQNDl3H+hhNJZhT09r5N6XowRfoVC0FF1BDx+9p3lKHm8EVR5ZoVAoWgQl+AqFQtEiKMFXKBSKFkEJvkKhULQISvAVCoWiRVCCr1AoFC2CEnyFQqFoEZTgKxQKRYsgpLRuUykhxBRw6Rr/ewcwXcHhVAo1ro1j1bGpcW0MNa6Ncy1j2yql7FzpG5YW/M0ghDgqpTxS73EsR41r41h1bGpcG0ONa+NUemzK0lEoFIoWQQm+QqFQtAjNLPifrvcAVkGNa+NYdWxqXBtDjWvjVHRsTevhKxQKhWIpzRzhKxQKhaIMJfgKhULRIjSd4Ash7hZCnBZCnBVCfLSO4xgQQnxPCHFSCHFCCPGb+vY/EUKMCCGO6V/31ml8F4UQL+pjOKpviwohvi2EOKP/W9P+e0KI3WXn5ZgQYl4I8Vv1OGdCiM8KISaFEMfLtq16foQQf6Bfc6eFEHfVYWx/KYQ4JYR4QQjxgBAiom8fEkKky87d/TUe16qfXa3O2Srj+ueyMV0UQhzTt9fyfK2mEdW7zqSUTfMF2IFzwHbABTwP7KvTWHqBw/rrIPAysA/4E+B3LXCuLgIdy7b9Z+Cj+uuPAn9R589yHNhaj3MGvBY4DBy/2vnRP9fnATewTb8G7TUe21sAh/76L8rGNlS+Xx3O2YqfXS3P2UrjWvb9jwN/VIfztZpGVO06a7YI/xbgrJTyvJQyB3wBeEc9BiKlHJNSPqu/TgAngf56jGUDvAP4nP76c8A76zcU3gSck1Je60rrTSGl/CEwu2zzaufnHcAXpJRZKeUF4CzatVizsUkpH5FSFvS3TwJbqnX8jYxrDWp2ztYalxBCAO8G/qkax16LNTSiatdZswl+P3Cl7P0wFhBZIcQQcAh4St/0Yf3R+7O1tk3KkMAjQohnhBAf0Ld1SynHQLsYga46jQ3gPSz9I7TCOVvt/Fjtuvtl4Jtl77cJIZ4TQvxACPGaOoxnpc/OKufsNcCElPJM2baan69lGlG166zZBF+ssK2ueadCiADwZeC3pJTzwKeAHcCNwBja42Q9uENKeRi4B/gNIcRr6zSOVyCEcAFvB/5F32SVc7YalrnuhBAfAwrAP+ibxoBBKeUh4LeBfxRChGo4pNU+O6ucs/tYGljU/HytoBGr7rrCtg2ds2YT/GFgoOz9FmC0TmNBCOFE+yD/QUr5FQAp5YSUsiilLAGfoYqP/mshpRzV/50EHtDHMSGE6NXH3gtM1mNsaDehZ6WUE/oYLXHOWP38WOK6E0L8IvBTwM9L3fTVH/9n9NfPoPm+19VqTGt8dnU/Z0IIB/DTwD8b22p9vlbSCKp4nTWb4D8N7BJCbNOjxPcAX6vHQHRv8G+Bk1LK/1q2vbdst3cBx5f/3xqMzS+ECBqv0Sb8jqOdq1/Ud/tF4MFaj01nSdRlhXOms9r5+RrwHiGEWwixDdgF/KSWAxNC3A38PvB2KWWqbHunEMKuv96uj+18Dce12mdX93MG3AmcklIOGxtqeb5W0wiqeZ3VYja6ll/AvWiz3eeAj9VxHK9Ge9x6ATimf90L/D3wor79a0BvHca2HW22/3nghHGegHbgUeCM/m+0DmPzATNAuGxbzc8Z2g1nDMijRVa/stb5AT6mX3OngXvqMLazaP6uca3dr+/7M/pn/DzwLPC2Go9r1c+uVudspXHp2/8O+OCyfWt5vlbTiKpdZ6q0gkKhULQIzWbpKBQKhWIVlOArFApFi6AEX6FQKFoEJfgKhULRIijBVygUihZBCb5CoVC0CErwFQqFokX4P1KgDJsiQudcAAAAAElFTkSuQmCC\n&quot;,</div>
                </div>
                <div class="d-flex flex-justify-start flex-items-start">
                  <div class="blob-num blame-blob-num color-bg-subtle js-line-number" id="L61">61</div>
                  <div class="blob-code blob-code-inner js-file-line" id="LC61">      <span class="pl-ent">&quot;text/plain&quot;</span>: [</div>
                </div>
                <div class="d-flex flex-justify-start flex-items-start">
                  <div class="blob-num blame-blob-num color-bg-subtle js-line-number" id="L62">62</div>
                  <div class="blob-code blob-code-inner js-file-line" id="LC62">       <span class="pl-s"><span class="pl-pds">&quot;</span>&lt;Figure size 432x288 with 1 Axes&gt;<span class="pl-pds">&quot;</span></span></div>
                </div>
                <div class="d-flex flex-justify-start flex-items-start">
                  <div class="blob-num blame-blob-num color-bg-subtle js-line-number" id="L63">63</div>
                  <div class="blob-code blob-code-inner js-file-line" id="LC63">      ]</div>
                </div>
                <div class="d-flex flex-justify-start flex-items-start">
                  <div class="blob-num blame-blob-num color-bg-subtle js-line-number" id="L64">64</div>
                  <div class="blob-code blob-code-inner js-file-line" id="LC64">     },</div>
                </div>
                <div class="d-flex flex-justify-start flex-items-start">
                  <div class="blob-num blame-blob-num color-bg-subtle js-line-number" id="L65">65</div>
                  <div class="blob-code blob-code-inner js-file-line" id="LC65">     <span class="pl-ent">&quot;metadata&quot;</span>: {</div>
                </div>
                <div class="d-flex flex-justify-start flex-items-start">
                  <div class="blob-num blame-blob-num color-bg-subtle js-line-number" id="L66">66</div>
                  <div class="blob-code blob-code-inner js-file-line" id="LC66">      <span class="pl-ent">&quot;needs_background&quot;</span>: <span class="pl-s"><span class="pl-pds">&quot;</span>light<span class="pl-pds">&quot;</span></span></div>
                </div>
                <div class="d-flex flex-justify-start flex-items-start">
                  <div class="blob-num blame-blob-num color-bg-subtle js-line-number" id="L67">67</div>
                  <div class="blob-code blob-code-inner js-file-line" id="LC67">     },</div>
                </div>
                <div class="d-flex flex-justify-start flex-items-start">
                  <div class="blob-num blame-blob-num color-bg-subtle js-line-number" id="L68">68</div>
                  <div class="blob-code blob-code-inner js-file-line" id="LC68">     <span class="pl-ent">&quot;output_type&quot;</span>: <span class="pl-s"><span class="pl-pds">&quot;</span>display_data<span class="pl-pds">&quot;</span></span></div>
                </div>
                <div class="d-flex flex-justify-start flex-items-start">
                  <div class="blob-num blame-blob-num color-bg-subtle js-line-number" id="L69">69</div>
                  <div class="blob-code blob-code-inner js-file-line" id="LC69">    }</div>
                </div>
                <div class="d-flex flex-justify-start flex-items-start">
                  <div class="blob-num blame-blob-num color-bg-subtle js-line-number" id="L70">70</div>
                  <div class="blob-code blob-code-inner js-file-line" id="LC70">   ],</div>
                </div>
                <div class="d-flex flex-justify-start flex-items-start">
                  <div class="blob-num blame-blob-num color-bg-subtle js-line-number" id="L71">71</div>
                  <div class="blob-code blob-code-inner js-file-line" id="LC71">   <span class="pl-ent">&quot;source&quot;</span>: [</div>
                </div>
                <div class="d-flex flex-justify-start flex-items-start">
                  <div class="blob-num blame-blob-num color-bg-subtle js-line-number" id="L72">72</div>
                  <div class="blob-code blob-code-inner js-file-line" id="LC72">    <span class="pl-s"><span class="pl-pds">&quot;</span>series = np.sin(0.1 * np.arange(200)) + np.random.randn(200) * 0.1 <span class="pl-cce">\n</span><span class="pl-pds">&quot;</span></span>,</div>
                </div>
                <div class="d-flex flex-justify-start flex-items-start">
                  <div class="blob-num blame-blob-num color-bg-subtle js-line-number" id="L73">73</div>
                  <div class="blob-code blob-code-inner js-file-line" id="LC73">    <span class="pl-s"><span class="pl-pds">&quot;</span>plt.plot(series)<span class="pl-cce">\n</span><span class="pl-pds">&quot;</span></span>,</div>
                </div>
                <div class="d-flex flex-justify-start flex-items-start">
                  <div class="blob-num blame-blob-num color-bg-subtle js-line-number" id="L74">74</div>
                  <div class="blob-code blob-code-inner js-file-line" id="LC74">    <span class="pl-s"><span class="pl-pds">&quot;</span>plt.show()<span class="pl-pds">&quot;</span></span></div>
                </div>
                <div class="d-flex flex-justify-start flex-items-start">
                  <div class="blob-num blame-blob-num color-bg-subtle js-line-number" id="L75">75</div>
                  <div class="blob-code blob-code-inner js-file-line" id="LC75">   ]</div>
                </div>
                <div class="d-flex flex-justify-start flex-items-start">
                  <div class="blob-num blame-blob-num color-bg-subtle js-line-number" id="L76">76</div>
                  <div class="blob-code blob-code-inner js-file-line" id="LC76">  },</div>
                </div>
                <div class="d-flex flex-justify-start flex-items-start">
                  <div class="blob-num blame-blob-num color-bg-subtle js-line-number" id="L77">77</div>
                  <div class="blob-code blob-code-inner js-file-line" id="LC77">  {</div>
                </div>
                <div class="d-flex flex-justify-start flex-items-start">
                  <div class="blob-num blame-blob-num color-bg-subtle js-line-number" id="L78">78</div>
                  <div class="blob-code blob-code-inner js-file-line" id="LC78">   <span class="pl-ent">&quot;cell_type&quot;</span>: <span class="pl-s"><span class="pl-pds">&quot;</span>code<span class="pl-pds">&quot;</span></span>,</div>
                </div>
                <div class="d-flex flex-justify-start flex-items-start">
                  <div class="blob-num blame-blob-num color-bg-subtle js-line-number" id="L79">79</div>
                  <div class="blob-code blob-code-inner js-file-line" id="LC79">   <span class="pl-ent">&quot;execution_count&quot;</span>: <span class="pl-c1">5</span>,</div>
                </div>
                <div class="d-flex flex-justify-start flex-items-start">
                  <div class="blob-num blame-blob-num color-bg-subtle js-line-number" id="L80">80</div>
                  <div class="blob-code blob-code-inner js-file-line" id="LC80">   <span class="pl-ent">&quot;id&quot;</span>: <span class="pl-s"><span class="pl-pds">&quot;</span>091e5461<span class="pl-pds">&quot;</span></span>,</div>
                </div>
                <div class="d-flex flex-justify-start flex-items-start">
                  <div class="blob-num blame-blob-num color-bg-subtle js-line-number" id="L81">81</div>
                  <div class="blob-code blob-code-inner js-file-line" id="LC81">   <span class="pl-ent">&quot;metadata&quot;</span>: {},</div>
                </div>
                <div class="d-flex flex-justify-start flex-items-start">
                  <div class="blob-num blame-blob-num color-bg-subtle js-line-number" id="L82">82</div>
                  <div class="blob-code blob-code-inner js-file-line" id="LC82">   <span class="pl-ent">&quot;outputs&quot;</span>: [</div>
                </div>
                <div class="d-flex flex-justify-start flex-items-start">
                  <div class="blob-num blame-blob-num color-bg-subtle js-line-number" id="L83">83</div>
                  <div class="blob-code blob-code-inner js-file-line" id="LC83">    {</div>
                </div>
                <div class="d-flex flex-justify-start flex-items-start">
                  <div class="blob-num blame-blob-num color-bg-subtle js-line-number" id="L84">84</div>
                  <div class="blob-code blob-code-inner js-file-line" id="LC84">     <span class="pl-ent">&quot;data&quot;</span>: {</div>
                </div>
                <div class="d-flex flex-justify-start flex-items-start">
                  <div class="blob-num blame-blob-num color-bg-subtle js-line-number" id="L85">85</div>
                  <div class="blob-code blob-code-inner js-file-line" id="LC85">      <span class="pl-ent">&quot;text/plain&quot;</span>: [</div>
                </div>
                <div class="d-flex flex-justify-start flex-items-start">
                  <div class="blob-num blame-blob-num color-bg-subtle js-line-number" id="L86">86</div>
                  <div class="blob-code blob-code-inner js-file-line" id="LC86">       <span class="pl-s"><span class="pl-pds">&quot;</span>(190, 10)<span class="pl-pds">&quot;</span></span></div>
                </div>
                <div class="d-flex flex-justify-start flex-items-start">
                  <div class="blob-num blame-blob-num color-bg-subtle js-line-number" id="L87">87</div>
                  <div class="blob-code blob-code-inner js-file-line" id="LC87">      ]</div>
                </div>
                <div class="d-flex flex-justify-start flex-items-start">
                  <div class="blob-num blame-blob-num color-bg-subtle js-line-number" id="L88">88</div>
                  <div class="blob-code blob-code-inner js-file-line" id="LC88">     },</div>
                </div>
                <div class="d-flex flex-justify-start flex-items-start">
                  <div class="blob-num blame-blob-num color-bg-subtle js-line-number" id="L89">89</div>
                  <div class="blob-code blob-code-inner js-file-line" id="LC89">     <span class="pl-ent">&quot;execution_count&quot;</span>: <span class="pl-c1">5</span>,</div>
                </div>
                <div class="d-flex flex-justify-start flex-items-start">
                  <div class="blob-num blame-blob-num color-bg-subtle js-line-number" id="L90">90</div>
                  <div class="blob-code blob-code-inner js-file-line" id="LC90">     <span class="pl-ent">&quot;metadata&quot;</span>: {},</div>
                </div>
                <div class="d-flex flex-justify-start flex-items-start">
                  <div class="blob-num blame-blob-num color-bg-subtle js-line-number" id="L91">91</div>
                  <div class="blob-code blob-code-inner js-file-line" id="LC91">     <span class="pl-ent">&quot;output_type&quot;</span>: <span class="pl-s"><span class="pl-pds">&quot;</span>execute_result<span class="pl-pds">&quot;</span></span></div>
                </div>
                <div class="d-flex flex-justify-start flex-items-start">
                  <div class="blob-num blame-blob-num color-bg-subtle js-line-number" id="L92">92</div>
                  <div class="blob-code blob-code-inner js-file-line" id="LC92">    }</div>
                </div>
                <div class="d-flex flex-justify-start flex-items-start">
                  <div class="blob-num blame-blob-num color-bg-subtle js-line-number" id="L93">93</div>
                  <div class="blob-code blob-code-inner js-file-line" id="LC93">   ],</div>
                </div>
                <div class="d-flex flex-justify-start flex-items-start">
                  <div class="blob-num blame-blob-num color-bg-subtle js-line-number" id="L94">94</div>
                  <div class="blob-code blob-code-inner js-file-line" id="LC94">   <span class="pl-ent">&quot;source&quot;</span>: [</div>
                </div>
                <div class="d-flex flex-justify-start flex-items-start">
                  <div class="blob-num blame-blob-num color-bg-subtle js-line-number" id="L95">95</div>
                  <div class="blob-code blob-code-inner js-file-line" id="LC95">    <span class="pl-s"><span class="pl-pds">&quot;</span># build the dataset<span class="pl-cce">\n</span><span class="pl-pds">&quot;</span></span>,</div>
                </div>
                <div class="d-flex flex-justify-start flex-items-start">
                  <div class="blob-num blame-blob-num color-bg-subtle js-line-number" id="L96">96</div>
                  <div class="blob-code blob-code-inner js-file-line" id="LC96">    <span class="pl-s"><span class="pl-pds">&quot;</span>T = 10<span class="pl-cce">\n</span><span class="pl-pds">&quot;</span></span>,</div>
                </div>
                <div class="d-flex flex-justify-start flex-items-start">
                  <div class="blob-num blame-blob-num color-bg-subtle js-line-number" id="L97">97</div>
                  <div class="blob-code blob-code-inner js-file-line" id="LC97">    <span class="pl-s"><span class="pl-pds">&quot;</span>X = []<span class="pl-cce">\n</span><span class="pl-pds">&quot;</span></span>,</div>
                </div>
                <div class="d-flex flex-justify-start flex-items-start">
                  <div class="blob-num blame-blob-num color-bg-subtle js-line-number" id="L98">98</div>
                  <div class="blob-code blob-code-inner js-file-line" id="LC98">    <span class="pl-s"><span class="pl-pds">&quot;</span>Y = []<span class="pl-cce">\n</span><span class="pl-pds">&quot;</span></span>,</div>
                </div>
                <div class="d-flex flex-justify-start flex-items-start">
                  <div class="blob-num blame-blob-num color-bg-subtle js-line-number" id="L99">99</div>
                  <div class="blob-code blob-code-inner js-file-line" id="LC99">    <span class="pl-s"><span class="pl-pds">&quot;</span>for t in range(len(series) - T):<span class="pl-cce">\n</span><span class="pl-pds">&quot;</span></span>,</div>
                </div>
                <div class="d-flex flex-justify-start flex-items-start">
                  <div class="blob-num blame-blob-num color-bg-subtle js-line-number" id="L100">100</div>
                  <div class="blob-code blob-code-inner js-file-line" id="LC100">    <span class="pl-s"><span class="pl-pds">&quot;</span>    x = series[t:t+T]<span class="pl-cce">\n</span><span class="pl-pds">&quot;</span></span>,</div>
                </div>
                <div class="d-flex flex-justify-start flex-items-start">
                  <div class="blob-num blame-blob-num color-bg-subtle js-line-number" id="L101">101</div>
                  <div class="blob-code blob-code-inner js-file-line" id="LC101">    <span class="pl-s"><span class="pl-pds">&quot;</span>    X.append(x)<span class="pl-cce">\n</span><span class="pl-pds">&quot;</span></span>,</div>
                </div>
                <div class="d-flex flex-justify-start flex-items-start">
                  <div class="blob-num blame-blob-num color-bg-subtle js-line-number" id="L102">102</div>
                  <div class="blob-code blob-code-inner js-file-line" id="LC102">    <span class="pl-s"><span class="pl-pds">&quot;</span>    y = series[t+T]<span class="pl-cce">\n</span><span class="pl-pds">&quot;</span></span>,</div>
                </div>
                <div class="d-flex flex-justify-start flex-items-start">
                  <div class="blob-num blame-blob-num color-bg-subtle js-line-number" id="L103">103</div>
                  <div class="blob-code blob-code-inner js-file-line" id="LC103">    <span class="pl-s"><span class="pl-pds">&quot;</span>    Y.append(y)<span class="pl-cce">\n</span><span class="pl-pds">&quot;</span></span>,</div>
                </div>
                <div class="d-flex flex-justify-start flex-items-start">
                  <div class="blob-num blame-blob-num color-bg-subtle js-line-number" id="L104">104</div>
                  <div class="blob-code blob-code-inner js-file-line" id="LC104">    <span class="pl-s"><span class="pl-pds">&quot;</span><span class="pl-cce">\n</span><span class="pl-pds">&quot;</span></span>,</div>
                </div>
                <div class="d-flex flex-justify-start flex-items-start">
                  <div class="blob-num blame-blob-num color-bg-subtle js-line-number" id="L105">105</div>
                  <div class="blob-code blob-code-inner js-file-line" id="LC105">    <span class="pl-s"><span class="pl-pds">&quot;</span>np.array(X).shape<span class="pl-cce">\n</span><span class="pl-pds">&quot;</span></span>,</div>
                </div>
                <div class="d-flex flex-justify-start flex-items-start">
                  <div class="blob-num blame-blob-num color-bg-subtle js-line-number" id="L106">106</div>
                  <div class="blob-code blob-code-inner js-file-line" id="LC106">    <span class="pl-s"><span class="pl-pds">&quot;</span># np.array(Y).shape<span class="pl-pds">&quot;</span></span></div>
                </div>
                <div class="d-flex flex-justify-start flex-items-start">
                  <div class="blob-num blame-blob-num color-bg-subtle js-line-number" id="L107">107</div>
                  <div class="blob-code blob-code-inner js-file-line" id="LC107">   ]</div>
                </div>
                <div class="d-flex flex-justify-start flex-items-start">
                  <div class="blob-num blame-blob-num color-bg-subtle js-line-number" id="L108">108</div>
                  <div class="blob-code blob-code-inner js-file-line" id="LC108">  },</div>
                </div>
                <div class="d-flex flex-justify-start flex-items-start">
                  <div class="blob-num blame-blob-num color-bg-subtle js-line-number" id="L109">109</div>
                  <div class="blob-code blob-code-inner js-file-line" id="LC109">  {</div>
                </div>
                <div class="d-flex flex-justify-start flex-items-start">
                  <div class="blob-num blame-blob-num color-bg-subtle js-line-number" id="L110">110</div>
                  <div class="blob-code blob-code-inner js-file-line" id="LC110">   <span class="pl-ent">&quot;cell_type&quot;</span>: <span class="pl-s"><span class="pl-pds">&quot;</span>code<span class="pl-pds">&quot;</span></span>,</div>
                </div>
                <div class="d-flex flex-justify-start flex-items-start">
                  <div class="blob-num blame-blob-num color-bg-subtle js-line-number" id="L111">111</div>
                  <div class="blob-code blob-code-inner js-file-line" id="LC111">   <span class="pl-ent">&quot;execution_count&quot;</span>: <span class="pl-c1">6</span>,</div>
                </div>
                <div class="d-flex flex-justify-start flex-items-start">
                  <div class="blob-num blame-blob-num color-bg-subtle js-line-number" id="L112">112</div>
                  <div class="blob-code blob-code-inner js-file-line" id="LC112">   <span class="pl-ent">&quot;id&quot;</span>: <span class="pl-s"><span class="pl-pds">&quot;</span>26ca13f3<span class="pl-pds">&quot;</span></span>,</div>
                </div>
                <div class="d-flex flex-justify-start flex-items-start">
                  <div class="blob-num blame-blob-num color-bg-subtle js-line-number" id="L113">113</div>
                  <div class="blob-code blob-code-inner js-file-line" id="LC113">   <span class="pl-ent">&quot;metadata&quot;</span>: {},</div>
                </div>
                <div class="d-flex flex-justify-start flex-items-start">
                  <div class="blob-num blame-blob-num color-bg-subtle js-line-number" id="L114">114</div>
                  <div class="blob-code blob-code-inner js-file-line" id="LC114">   <span class="pl-ent">&quot;outputs&quot;</span>: [</div>
                </div>
                <div class="d-flex flex-justify-start flex-items-start">
                  <div class="blob-num blame-blob-num color-bg-subtle js-line-number" id="L115">115</div>
                  <div class="blob-code blob-code-inner js-file-line" id="LC115">    {</div>
                </div>
                <div class="d-flex flex-justify-start flex-items-start">
                  <div class="blob-num blame-blob-num color-bg-subtle js-line-number" id="L116">116</div>
                  <div class="blob-code blob-code-inner js-file-line" id="LC116">     <span class="pl-ent">&quot;name&quot;</span>: <span class="pl-s"><span class="pl-pds">&quot;</span>stdout<span class="pl-pds">&quot;</span></span>,</div>
                </div>
                <div class="d-flex flex-justify-start flex-items-start">
                  <div class="blob-num blame-blob-num color-bg-subtle js-line-number" id="L117">117</div>
                  <div class="blob-code blob-code-inner js-file-line" id="LC117">     <span class="pl-ent">&quot;output_type&quot;</span>: <span class="pl-s"><span class="pl-pds">&quot;</span>stream<span class="pl-pds">&quot;</span></span>,</div>
                </div>
                <div class="d-flex flex-justify-start flex-items-start">
                  <div class="blob-num blame-blob-num color-bg-subtle js-line-number" id="L118">118</div>
                  <div class="blob-code blob-code-inner js-file-line" id="LC118">     <span class="pl-ent">&quot;text&quot;</span>: [</div>
                </div>
                <div class="d-flex flex-justify-start flex-items-start">
                  <div class="blob-num blame-blob-num color-bg-subtle js-line-number" id="L119">119</div>
                  <div class="blob-code blob-code-inner js-file-line" id="LC119">      <span class="pl-s"><span class="pl-pds">&quot;</span>X.shape:(190, 10, 1), Y.shape:(190,), N.length:190<span class="pl-cce">\n</span><span class="pl-pds">&quot;</span></span></div>
                </div>
                <div class="d-flex flex-justify-start flex-items-start">
                  <div class="blob-num blame-blob-num color-bg-subtle js-line-number" id="L120">120</div>
                  <div class="blob-code blob-code-inner js-file-line" id="LC120">     ]</div>
                </div>
                <div class="d-flex flex-justify-start flex-items-start">
                  <div class="blob-num blame-blob-num color-bg-subtle js-line-number" id="L121">121</div>
                  <div class="blob-code blob-code-inner js-file-line" id="LC121">    }</div>
                </div>
                <div class="d-flex flex-justify-start flex-items-start">
                  <div class="blob-num blame-blob-num color-bg-subtle js-line-number" id="L122">122</div>
                  <div class="blob-code blob-code-inner js-file-line" id="LC122">   ],</div>
                </div>
                <div class="d-flex flex-justify-start flex-items-start">
                  <div class="blob-num blame-blob-num color-bg-subtle js-line-number" id="L123">123</div>
                  <div class="blob-code blob-code-inner js-file-line" id="LC123">   <span class="pl-ent">&quot;source&quot;</span>: [</div>
                </div>
                <div class="d-flex flex-justify-start flex-items-start">
                  <div class="blob-num blame-blob-num color-bg-subtle js-line-number" id="L124">124</div>
                  <div class="blob-code blob-code-inner js-file-line" id="LC124">    <span class="pl-s"><span class="pl-pds">&quot;</span># sequences data -&gt; N x T x D -&gt; 190 x 10 x 1<span class="pl-cce">\n</span><span class="pl-pds">&quot;</span></span>,</div>
                </div>
                <div class="d-flex flex-justify-start flex-items-start">
                  <div class="blob-num blame-blob-num color-bg-subtle js-line-number" id="L125">125</div>
                  <div class="blob-code blob-code-inner js-file-line" id="LC125">    <span class="pl-s"><span class="pl-pds">&quot;</span>X = np.array(X).reshape(-1, T, 1)<span class="pl-cce">\n</span><span class="pl-pds">&quot;</span></span>,</div>
                </div>
                <div class="d-flex flex-justify-start flex-items-start">
                  <div class="blob-num blame-blob-num color-bg-subtle js-line-number" id="L126">126</div>
                  <div class="blob-code blob-code-inner js-file-line" id="LC126">    <span class="pl-s"><span class="pl-pds">&quot;</span>Y = np.array(Y)<span class="pl-cce">\n</span><span class="pl-pds">&quot;</span></span>,</div>
                </div>
                <div class="d-flex flex-justify-start flex-items-start">
                  <div class="blob-num blame-blob-num color-bg-subtle js-line-number" id="L127">127</div>
                  <div class="blob-code blob-code-inner js-file-line" id="LC127">    <span class="pl-s"><span class="pl-pds">&quot;</span>N = len(X)<span class="pl-cce">\n</span><span class="pl-pds">&quot;</span></span>,</div>
                </div>
                <div class="d-flex flex-justify-start flex-items-start">
                  <div class="blob-num blame-blob-num color-bg-subtle js-line-number" id="L128">128</div>
                  <div class="blob-code blob-code-inner js-file-line" id="LC128">    <span class="pl-s"><span class="pl-pds">&quot;</span>print(f<span class="pl-cce">\&quot;</span>X.shape:{X.shape}, Y.shape:{Y.shape}, N.length:{N}<span class="pl-cce">\&quot;</span>)<span class="pl-pds">&quot;</span></span></div>
                </div>
                <div class="d-flex flex-justify-start flex-items-start">
                  <div class="blob-num blame-blob-num color-bg-subtle js-line-number" id="L129">129</div>
                  <div class="blob-code blob-code-inner js-file-line" id="LC129">   ]</div>
                </div>
                <div class="d-flex flex-justify-start flex-items-start">
                  <div class="blob-num blame-blob-num color-bg-subtle js-line-number" id="L130">130</div>
                  <div class="blob-code blob-code-inner js-file-line" id="LC130">  },</div>
                </div>
                <div class="d-flex flex-justify-start flex-items-start">
                  <div class="blob-num blame-blob-num color-bg-subtle js-line-number" id="L131">131</div>
                  <div class="blob-code blob-code-inner js-file-line" id="LC131">  {</div>
                </div>
                <div class="d-flex flex-justify-start flex-items-start">
                  <div class="blob-num blame-blob-num color-bg-subtle js-line-number" id="L132">132</div>
                  <div class="blob-code blob-code-inner js-file-line" id="LC132">   <span class="pl-ent">&quot;cell_type&quot;</span>: <span class="pl-s"><span class="pl-pds">&quot;</span>code<span class="pl-pds">&quot;</span></span>,</div>
                </div>
                <div class="d-flex flex-justify-start flex-items-start">
                  <div class="blob-num blame-blob-num color-bg-subtle js-line-number" id="L133">133</div>
                  <div class="blob-code blob-code-inner js-file-line" id="LC133">   <span class="pl-ent">&quot;execution_count&quot;</span>: <span class="pl-c1">15</span>,</div>
                </div>
                <div class="d-flex flex-justify-start flex-items-start">
                  <div class="blob-num blame-blob-num color-bg-subtle js-line-number" id="L134">134</div>
                  <div class="blob-code blob-code-inner js-file-line" id="LC134">   <span class="pl-ent">&quot;id&quot;</span>: <span class="pl-s"><span class="pl-pds">&quot;</span>28de85fd<span class="pl-pds">&quot;</span></span>,</div>
                </div>
                <div class="d-flex flex-justify-start flex-items-start">
                  <div class="blob-num blame-blob-num color-bg-subtle js-line-number" id="L135">135</div>
                  <div class="blob-code blob-code-inner js-file-line" id="LC135">   <span class="pl-ent">&quot;metadata&quot;</span>: {},</div>
                </div>
                <div class="d-flex flex-justify-start flex-items-start">
                  <div class="blob-num blame-blob-num color-bg-subtle js-line-number" id="L136">136</div>
                  <div class="blob-code blob-code-inner js-file-line" id="LC136">   <span class="pl-ent">&quot;outputs&quot;</span>: [</div>
                </div>
                <div class="d-flex flex-justify-start flex-items-start">
                  <div class="blob-num blame-blob-num color-bg-subtle js-line-number" id="L137">137</div>
                  <div class="blob-code blob-code-inner js-file-line" id="LC137">    {</div>
                </div>
                <div class="d-flex flex-justify-start flex-items-start">
                  <div class="blob-num blame-blob-num color-bg-subtle js-line-number" id="L138">138</div>
                  <div class="blob-code blob-code-inner js-file-line" id="LC138">     <span class="pl-ent">&quot;name&quot;</span>: <span class="pl-s"><span class="pl-pds">&quot;</span>stderr<span class="pl-pds">&quot;</span></span>,</div>
                </div>
                <div class="d-flex flex-justify-start flex-items-start">
                  <div class="blob-num blame-blob-num color-bg-subtle js-line-number" id="L139">139</div>
                  <div class="blob-code blob-code-inner js-file-line" id="LC139">     <span class="pl-ent">&quot;output_type&quot;</span>: <span class="pl-s"><span class="pl-pds">&quot;</span>stream<span class="pl-pds">&quot;</span></span>,</div>
                </div>
                <div class="d-flex flex-justify-start flex-items-start">
                  <div class="blob-num blame-blob-num color-bg-subtle js-line-number" id="L140">140</div>
                  <div class="blob-code blob-code-inner js-file-line" id="LC140">     <span class="pl-ent">&quot;text&quot;</span>: [</div>
                </div>
                <div class="d-flex flex-justify-start flex-items-start">
                  <div class="blob-num blame-blob-num color-bg-subtle js-line-number" id="L141">141</div>
                  <div class="blob-code blob-code-inner js-file-line" id="LC141">      <span class="pl-s"><span class="pl-pds">&quot;</span>/opt/anaconda3/lib/python3.8/site-packages/keras/optimizer_v2/adam.py:105: UserWarning: The `lr` argument is deprecated, use `learning_rate` instead.<span class="pl-cce">\n</span><span class="pl-pds">&quot;</span></span>,</div>
                </div>
                <div class="d-flex flex-justify-start flex-items-start">
                  <div class="blob-num blame-blob-num color-bg-subtle js-line-number" id="L142">142</div>
                  <div class="blob-code blob-code-inner js-file-line" id="LC142">      <span class="pl-s"><span class="pl-pds">&quot;</span>  super(Adam, self).__init__(name, **kwargs)<span class="pl-cce">\n</span><span class="pl-pds">&quot;</span></span></div>
                </div>
                <div class="d-flex flex-justify-start flex-items-start">
                  <div class="blob-num blame-blob-num color-bg-subtle js-line-number" id="L143">143</div>
                  <div class="blob-code blob-code-inner js-file-line" id="LC143">     ]</div>
                </div>
                <div class="d-flex flex-justify-start flex-items-start">
                  <div class="blob-num blame-blob-num color-bg-subtle js-line-number" id="L144">144</div>
                  <div class="blob-code blob-code-inner js-file-line" id="LC144">    }</div>
                </div>
                <div class="d-flex flex-justify-start flex-items-start">
                  <div class="blob-num blame-blob-num color-bg-subtle js-line-number" id="L145">145</div>
                  <div class="blob-code blob-code-inner js-file-line" id="LC145">   ],</div>
                </div>
                <div class="d-flex flex-justify-start flex-items-start">
                  <div class="blob-num blame-blob-num color-bg-subtle js-line-number" id="L146">146</div>
                  <div class="blob-code blob-code-inner js-file-line" id="LC146">   <span class="pl-ent">&quot;source&quot;</span>: [</div>
                </div>
                <div class="d-flex flex-justify-start flex-items-start">
                  <div class="blob-num blame-blob-num color-bg-subtle js-line-number" id="L147">147</div>
                  <div class="blob-code blob-code-inner js-file-line" id="LC147">    <span class="pl-s"><span class="pl-pds">&quot;</span># build a RNN model <span class="pl-cce">\n</span><span class="pl-pds">&quot;</span></span>,</div>
                </div>
                <div class="d-flex flex-justify-start flex-items-start">
                  <div class="blob-num blame-blob-num color-bg-subtle js-line-number" id="L148">148</div>
                  <div class="blob-code blob-code-inner js-file-line" id="LC148">    <span class="pl-s"><span class="pl-pds">&quot;</span># 1. Input  <span class="pl-cce">\n</span><span class="pl-pds">&quot;</span></span>,</div>
                </div>
                <div class="d-flex flex-justify-start flex-items-start">
                  <div class="blob-num blame-blob-num color-bg-subtle js-line-number" id="L149">149</div>
                  <div class="blob-code blob-code-inner js-file-line" id="LC149">    <span class="pl-s"><span class="pl-pds">&quot;</span>i = Input(shape=(T, 1)) # T x D<span class="pl-cce">\n</span><span class="pl-pds">&quot;</span></span>,</div>
                </div>
                <div class="d-flex flex-justify-start flex-items-start">
                  <div class="blob-num blame-blob-num color-bg-subtle js-line-number" id="L150">150</div>
                  <div class="blob-code blob-code-inner js-file-line" id="LC150">    <span class="pl-s"><span class="pl-pds">&quot;</span># 2. SimpleRNN(5, activation=&#39;tanh&#39;)<span class="pl-cce">\n</span><span class="pl-pds">&quot;</span></span>,</div>
                </div>
                <div class="d-flex flex-justify-start flex-items-start">
                  <div class="blob-num blame-blob-num color-bg-subtle js-line-number" id="L151">151</div>
                  <div class="blob-code blob-code-inner js-file-line" id="LC151">    <span class="pl-s"><span class="pl-pds">&quot;</span>x = SimpleRNN(5, activation=&#39;tanh&#39;)(i)<span class="pl-cce">\n</span><span class="pl-pds">&quot;</span></span>,</div>
                </div>
                <div class="d-flex flex-justify-start flex-items-start">
                  <div class="blob-num blame-blob-num color-bg-subtle js-line-number" id="L152">152</div>
                  <div class="blob-code blob-code-inner js-file-line" id="LC152">    <span class="pl-s"><span class="pl-pds">&quot;</span># 3. Output <span class="pl-cce">\n</span><span class="pl-pds">&quot;</span></span>,</div>
                </div>
                <div class="d-flex flex-justify-start flex-items-start">
                  <div class="blob-num blame-blob-num color-bg-subtle js-line-number" id="L153">153</div>
                  <div class="blob-code blob-code-inner js-file-line" id="LC153">    <span class="pl-s"><span class="pl-pds">&quot;</span>x = Dense(1)(x)<span class="pl-cce">\n</span><span class="pl-pds">&quot;</span></span>,</div>
                </div>
                <div class="d-flex flex-justify-start flex-items-start">
                  <div class="blob-num blame-blob-num color-bg-subtle js-line-number" id="L154">154</div>
                  <div class="blob-code blob-code-inner js-file-line" id="LC154">    <span class="pl-s"><span class="pl-pds">&quot;</span>model = Model(i , x)<span class="pl-cce">\n</span><span class="pl-pds">&quot;</span></span>,</div>
                </div>
                <div class="d-flex flex-justify-start flex-items-start">
                  <div class="blob-num blame-blob-num color-bg-subtle js-line-number" id="L155">155</div>
                  <div class="blob-code blob-code-inner js-file-line" id="LC155">    <span class="pl-s"><span class="pl-pds">&quot;</span>model.compile(loss=&#39;mse&#39;, optimizer=Adam(lr=0.1))<span class="pl-cce">\n</span><span class="pl-pds">&quot;</span></span>,</div>
                </div>
                <div class="d-flex flex-justify-start flex-items-start">
                  <div class="blob-num blame-blob-num color-bg-subtle js-line-number" id="L156">156</div>
                  <div class="blob-code blob-code-inner js-file-line" id="LC156">    <span class="pl-s"><span class="pl-pds">&quot;</span># Quiz. trainable params -&gt; 41 = hidden weights + current weights + bais <span class="pl-cce">\n</span><span class="pl-pds">&quot;</span></span>,</div>
                </div>
                <div class="d-flex flex-justify-start flex-items-start">
                  <div class="blob-num blame-blob-num color-bg-subtle js-line-number" id="L157">157</div>
                  <div class="blob-code blob-code-inner js-file-line" id="LC157">    <span class="pl-s"><span class="pl-pds">&quot;</span>#                              = (features * unit) + (unit * unit) + (feature * unit)<span class="pl-cce">\n</span><span class="pl-pds">&quot;</span></span>,</div>
                </div>
                <div class="d-flex flex-justify-start flex-items-start">
                  <div class="blob-num blame-blob-num color-bg-subtle js-line-number" id="L158">158</div>
                  <div class="blob-code blob-code-inner js-file-line" id="LC158">    <span class="pl-s"><span class="pl-pds">&quot;</span>#                              = (1 * 5) + (5 * 5) + (1 * 5) = 35<span class="pl-pds">&quot;</span></span></div>
                </div>
                <div class="d-flex flex-justify-start flex-items-start">
                  <div class="blob-num blame-blob-num color-bg-subtle js-line-number" id="L159">159</div>
                  <div class="blob-code blob-code-inner js-file-line" id="LC159">   ]</div>
                </div>
                <div class="d-flex flex-justify-start flex-items-start">
                  <div class="blob-num blame-blob-num color-bg-subtle js-line-number" id="L160">160</div>
                  <div class="blob-code blob-code-inner js-file-line" id="LC160">  },</div>
                </div>
                <div class="d-flex flex-justify-start flex-items-start">
                  <div class="blob-num blame-blob-num color-bg-subtle js-line-number" id="L161">161</div>
                  <div class="blob-code blob-code-inner js-file-line" id="LC161">  {</div>
                </div>
                <div class="d-flex flex-justify-start flex-items-start">
                  <div class="blob-num blame-blob-num color-bg-subtle js-line-number" id="L162">162</div>
                  <div class="blob-code blob-code-inner js-file-line" id="LC162">   <span class="pl-ent">&quot;cell_type&quot;</span>: <span class="pl-s"><span class="pl-pds">&quot;</span>code<span class="pl-pds">&quot;</span></span>,</div>
                </div>
                <div class="d-flex flex-justify-start flex-items-start">
                  <div class="blob-num blame-blob-num color-bg-subtle js-line-number" id="L163">163</div>
                  <div class="blob-code blob-code-inner js-file-line" id="LC163">   <span class="pl-ent">&quot;execution_count&quot;</span>: <span class="pl-c1">16</span>,</div>
                </div>
                <div class="d-flex flex-justify-start flex-items-start">
                  <div class="blob-num blame-blob-num color-bg-subtle js-line-number" id="L164">164</div>
                  <div class="blob-code blob-code-inner js-file-line" id="LC164">   <span class="pl-ent">&quot;id&quot;</span>: <span class="pl-s"><span class="pl-pds">&quot;</span>14dd2a95<span class="pl-pds">&quot;</span></span>,</div>
                </div>
                <div class="d-flex flex-justify-start flex-items-start">
                  <div class="blob-num blame-blob-num color-bg-subtle js-line-number" id="L165">165</div>
                  <div class="blob-code blob-code-inner js-file-line" id="LC165">   <span class="pl-ent">&quot;metadata&quot;</span>: {},</div>
                </div>
                <div class="d-flex flex-justify-start flex-items-start">
                  <div class="blob-num blame-blob-num color-bg-subtle js-line-number" id="L166">166</div>
                  <div class="blob-code blob-code-inner js-file-line" id="LC166">   <span class="pl-ent">&quot;outputs&quot;</span>: [</div>
                </div>
                <div class="d-flex flex-justify-start flex-items-start">
                  <div class="blob-num blame-blob-num color-bg-subtle js-line-number" id="L167">167</div>
                  <div class="blob-code blob-code-inner js-file-line" id="LC167">    {</div>
                </div>
                <div class="d-flex flex-justify-start flex-items-start">
                  <div class="blob-num blame-blob-num color-bg-subtle js-line-number" id="L168">168</div>
                  <div class="blob-code blob-code-inner js-file-line" id="LC168">     <span class="pl-ent">&quot;name&quot;</span>: <span class="pl-s"><span class="pl-pds">&quot;</span>stdout<span class="pl-pds">&quot;</span></span>,</div>
                </div>
                <div class="d-flex flex-justify-start flex-items-start">
                  <div class="blob-num blame-blob-num color-bg-subtle js-line-number" id="L169">169</div>
                  <div class="blob-code blob-code-inner js-file-line" id="LC169">     <span class="pl-ent">&quot;output_type&quot;</span>: <span class="pl-s"><span class="pl-pds">&quot;</span>stream<span class="pl-pds">&quot;</span></span>,</div>
                </div>
                <div class="d-flex flex-justify-start flex-items-start">
                  <div class="blob-num blame-blob-num color-bg-subtle js-line-number" id="L170">170</div>
                  <div class="blob-code blob-code-inner js-file-line" id="LC170">     <span class="pl-ent">&quot;text&quot;</span>: [</div>
                </div>
                <div class="d-flex flex-justify-start flex-items-start">
                  <div class="blob-num blame-blob-num color-bg-subtle js-line-number" id="L171">171</div>
                  <div class="blob-code blob-code-inner js-file-line" id="LC171">      <span class="pl-s"><span class="pl-pds">&quot;</span>Model: <span class="pl-cce">\&quot;</span>model_1<span class="pl-cce">\&quot;\n</span><span class="pl-pds">&quot;</span></span>,</div>
                </div>
                <div class="d-flex flex-justify-start flex-items-start">
                  <div class="blob-num blame-blob-num color-bg-subtle js-line-number" id="L172">172</div>
                  <div class="blob-code blob-code-inner js-file-line" id="LC172">      <span class="pl-s"><span class="pl-pds">&quot;</span>_________________________________________________________________<span class="pl-cce">\n</span><span class="pl-pds">&quot;</span></span>,</div>
                </div>
                <div class="d-flex flex-justify-start flex-items-start">
                  <div class="blob-num blame-blob-num color-bg-subtle js-line-number" id="L173">173</div>
                  <div class="blob-code blob-code-inner js-file-line" id="LC173">      <span class="pl-s"><span class="pl-pds">&quot;</span> Layer (type)                Output Shape              Param #   <span class="pl-cce">\n</span><span class="pl-pds">&quot;</span></span>,</div>
                </div>
                <div class="d-flex flex-justify-start flex-items-start">
                  <div class="blob-num blame-blob-num color-bg-subtle js-line-number" id="L174">174</div>
                  <div class="blob-code blob-code-inner js-file-line" id="LC174">      <span class="pl-s"><span class="pl-pds">&quot;</span>=================================================================<span class="pl-cce">\n</span><span class="pl-pds">&quot;</span></span>,</div>
                </div>
                <div class="d-flex flex-justify-start flex-items-start">
                  <div class="blob-num blame-blob-num color-bg-subtle js-line-number" id="L175">175</div>
                  <div class="blob-code blob-code-inner js-file-line" id="LC175">      <span class="pl-s"><span class="pl-pds">&quot;</span> input_2 (InputLayer)        [(None, 10, 1)]           0         <span class="pl-cce">\n</span><span class="pl-pds">&quot;</span></span>,</div>
                </div>
                <div class="d-flex flex-justify-start flex-items-start">
                  <div class="blob-num blame-blob-num color-bg-subtle js-line-number" id="L176">176</div>
                  <div class="blob-code blob-code-inner js-file-line" id="LC176">      <span class="pl-s"><span class="pl-pds">&quot;</span>                                                                 <span class="pl-cce">\n</span><span class="pl-pds">&quot;</span></span>,</div>
                </div>
                <div class="d-flex flex-justify-start flex-items-start">
                  <div class="blob-num blame-blob-num color-bg-subtle js-line-number" id="L177">177</div>
                  <div class="blob-code blob-code-inner js-file-line" id="LC177">      <span class="pl-s"><span class="pl-pds">&quot;</span> simple_rnn_1 (SimpleRNN)    (None, 5)                 35        <span class="pl-cce">\n</span><span class="pl-pds">&quot;</span></span>,</div>
                </div>
                <div class="d-flex flex-justify-start flex-items-start">
                  <div class="blob-num blame-blob-num color-bg-subtle js-line-number" id="L178">178</div>
                  <div class="blob-code blob-code-inner js-file-line" id="LC178">      <span class="pl-s"><span class="pl-pds">&quot;</span>                                                                 <span class="pl-cce">\n</span><span class="pl-pds">&quot;</span></span>,</div>
                </div>
                <div class="d-flex flex-justify-start flex-items-start">
                  <div class="blob-num blame-blob-num color-bg-subtle js-line-number" id="L179">179</div>
                  <div class="blob-code blob-code-inner js-file-line" id="LC179">      <span class="pl-s"><span class="pl-pds">&quot;</span> dense_1 (Dense)             (None, 1)                 6         <span class="pl-cce">\n</span><span class="pl-pds">&quot;</span></span>,</div>
                </div>
                <div class="d-flex flex-justify-start flex-items-start">
                  <div class="blob-num blame-blob-num color-bg-subtle js-line-number" id="L180">180</div>
                  <div class="blob-code blob-code-inner js-file-line" id="LC180">      <span class="pl-s"><span class="pl-pds">&quot;</span>                                                                 <span class="pl-cce">\n</span><span class="pl-pds">&quot;</span></span>,</div>
                </div>
                <div class="d-flex flex-justify-start flex-items-start">
                  <div class="blob-num blame-blob-num color-bg-subtle js-line-number" id="L181">181</div>
                  <div class="blob-code blob-code-inner js-file-line" id="LC181">      <span class="pl-s"><span class="pl-pds">&quot;</span>=================================================================<span class="pl-cce">\n</span><span class="pl-pds">&quot;</span></span>,</div>
                </div>
                <div class="d-flex flex-justify-start flex-items-start">
                  <div class="blob-num blame-blob-num color-bg-subtle js-line-number" id="L182">182</div>
                  <div class="blob-code blob-code-inner js-file-line" id="LC182">      <span class="pl-s"><span class="pl-pds">&quot;</span>Total params: 41<span class="pl-cce">\n</span><span class="pl-pds">&quot;</span></span>,</div>
                </div>
                <div class="d-flex flex-justify-start flex-items-start">
                  <div class="blob-num blame-blob-num color-bg-subtle js-line-number" id="L183">183</div>
                  <div class="blob-code blob-code-inner js-file-line" id="LC183">      <span class="pl-s"><span class="pl-pds">&quot;</span>Trainable params: 41<span class="pl-cce">\n</span><span class="pl-pds">&quot;</span></span>,</div>
                </div>
                <div class="d-flex flex-justify-start flex-items-start">
                  <div class="blob-num blame-blob-num color-bg-subtle js-line-number" id="L184">184</div>
                  <div class="blob-code blob-code-inner js-file-line" id="LC184">      <span class="pl-s"><span class="pl-pds">&quot;</span>Non-trainable params: 0<span class="pl-cce">\n</span><span class="pl-pds">&quot;</span></span>,</div>
                </div>
                <div class="d-flex flex-justify-start flex-items-start">
                  <div class="blob-num blame-blob-num color-bg-subtle js-line-number" id="L185">185</div>
                  <div class="blob-code blob-code-inner js-file-line" id="LC185">      <span class="pl-s"><span class="pl-pds">&quot;</span>_________________________________________________________________<span class="pl-cce">\n</span><span class="pl-pds">&quot;</span></span></div>
                </div>
                <div class="d-flex flex-justify-start flex-items-start">
                  <div class="blob-num blame-blob-num color-bg-subtle js-line-number" id="L186">186</div>
                  <div class="blob-code blob-code-inner js-file-line" id="LC186">     ]</div>
                </div>
                <div class="d-flex flex-justify-start flex-items-start">
                  <div class="blob-num blame-blob-num color-bg-subtle js-line-number" id="L187">187</div>
                  <div class="blob-code blob-code-inner js-file-line" id="LC187">    }</div>
                </div>
                <div class="d-flex flex-justify-start flex-items-start">
                  <div class="blob-num blame-blob-num color-bg-subtle js-line-number" id="L188">188</div>
                  <div class="blob-code blob-code-inner js-file-line" id="LC188">   ],</div>
                </div>
                <div class="d-flex flex-justify-start flex-items-start">
                  <div class="blob-num blame-blob-num color-bg-subtle js-line-number" id="L189">189</div>
                  <div class="blob-code blob-code-inner js-file-line" id="LC189">   <span class="pl-ent">&quot;source&quot;</span>: [</div>
                </div>
                <div class="d-flex flex-justify-start flex-items-start">
                  <div class="blob-num blame-blob-num color-bg-subtle js-line-number" id="L190">190</div>
                  <div class="blob-code blob-code-inner js-file-line" id="LC190">    <span class="pl-s"><span class="pl-pds">&quot;</span>model.summary()<span class="pl-pds">&quot;</span></span></div>
                </div>
                <div class="d-flex flex-justify-start flex-items-start">
                  <div class="blob-num blame-blob-num color-bg-subtle js-line-number" id="L191">191</div>
                  <div class="blob-code blob-code-inner js-file-line" id="LC191">   ]</div>
                </div>
                <div class="d-flex flex-justify-start flex-items-start">
                  <div class="blob-num blame-blob-num color-bg-subtle js-line-number" id="L192">192</div>
                  <div class="blob-code blob-code-inner js-file-line" id="LC192">  },</div>
                </div>
                <div class="d-flex flex-justify-start flex-items-start">
                  <div class="blob-num blame-blob-num color-bg-subtle js-line-number" id="L193">193</div>
                  <div class="blob-code blob-code-inner js-file-line" id="LC193">  {</div>
                </div>
                <div class="d-flex flex-justify-start flex-items-start">
                  <div class="blob-num blame-blob-num color-bg-subtle js-line-number" id="L194">194</div>
                  <div class="blob-code blob-code-inner js-file-line" id="LC194">   <span class="pl-ent">&quot;cell_type&quot;</span>: <span class="pl-s"><span class="pl-pds">&quot;</span>code<span class="pl-pds">&quot;</span></span>,</div>
                </div>
                <div class="d-flex flex-justify-start flex-items-start">
                  <div class="blob-num blame-blob-num color-bg-subtle js-line-number" id="L195">195</div>
                  <div class="blob-code blob-code-inner js-file-line" id="LC195">   <span class="pl-ent">&quot;execution_count&quot;</span>: <span class="pl-c1">17</span>,</div>
                </div>
                <div class="d-flex flex-justify-start flex-items-start">
                  <div class="blob-num blame-blob-num color-bg-subtle js-line-number" id="L196">196</div>
                  <div class="blob-code blob-code-inner js-file-line" id="LC196">   <span class="pl-ent">&quot;id&quot;</span>: <span class="pl-s"><span class="pl-pds">&quot;</span>bae6eda4<span class="pl-pds">&quot;</span></span>,</div>
                </div>
                <div class="d-flex flex-justify-start flex-items-start">
                  <div class="blob-num blame-blob-num color-bg-subtle js-line-number" id="L197">197</div>
                  <div class="blob-code blob-code-inner js-file-line" id="LC197">   <span class="pl-ent">&quot;metadata&quot;</span>: {},</div>
                </div>
                <div class="d-flex flex-justify-start flex-items-start">
                  <div class="blob-num blame-blob-num color-bg-subtle js-line-number" id="L198">198</div>
                  <div class="blob-code blob-code-inner js-file-line" id="LC198">   <span class="pl-ent">&quot;outputs&quot;</span>: [</div>
                </div>
                <div class="d-flex flex-justify-start flex-items-start">
                  <div class="blob-num blame-blob-num color-bg-subtle js-line-number" id="L199">199</div>
                  <div class="blob-code blob-code-inner js-file-line" id="LC199">    {</div>
                </div>
                <div class="d-flex flex-justify-start flex-items-start">
                  <div class="blob-num blame-blob-num color-bg-subtle js-line-number" id="L200">200</div>
                  <div class="blob-code blob-code-inner js-file-line" id="LC200">     <span class="pl-ent">&quot;name&quot;</span>: <span class="pl-s"><span class="pl-pds">&quot;</span>stdout<span class="pl-pds">&quot;</span></span>,</div>
                </div>
                <div class="d-flex flex-justify-start flex-items-start">
                  <div class="blob-num blame-blob-num color-bg-subtle js-line-number" id="L201">201</div>
                  <div class="blob-code blob-code-inner js-file-line" id="LC201">     <span class="pl-ent">&quot;output_type&quot;</span>: <span class="pl-s"><span class="pl-pds">&quot;</span>stream<span class="pl-pds">&quot;</span></span>,</div>
                </div>
                <div class="d-flex flex-justify-start flex-items-start">
                  <div class="blob-num blame-blob-num color-bg-subtle js-line-number" id="L202">202</div>
                  <div class="blob-code blob-code-inner js-file-line" id="LC202">     <span class="pl-ent">&quot;text&quot;</span>: [</div>
                </div>
                <div class="d-flex flex-justify-start flex-items-start">
                  <div class="blob-num blame-blob-num color-bg-subtle js-line-number" id="L203">203</div>
                  <div class="blob-code blob-code-inner js-file-line" id="LC203">      <span class="pl-s"><span class="pl-pds">&quot;</span>Epoch 1/80<span class="pl-cce">\n</span><span class="pl-pds">&quot;</span></span>,</div>
                </div>
                <div class="d-flex flex-justify-start flex-items-start">
                  <div class="blob-num blame-blob-num color-bg-subtle js-line-number" id="L204">204</div>
                  <div class="blob-code blob-code-inner js-file-line" id="LC204">      <span class="pl-s"><span class="pl-pds">&quot;</span>3/3 [==============================] - 1s 75ms/step - loss: 0.3644 - val_loss: 0.1224<span class="pl-cce">\n</span><span class="pl-pds">&quot;</span></span>,</div>
                </div>
                <div class="d-flex flex-justify-start flex-items-start">
                  <div class="blob-num blame-blob-num color-bg-subtle js-line-number" id="L205">205</div>
                  <div class="blob-code blob-code-inner js-file-line" id="LC205">      <span class="pl-s"><span class="pl-pds">&quot;</span>Epoch 2/80<span class="pl-cce">\n</span><span class="pl-pds">&quot;</span></span>,</div>
                </div>
                <div class="d-flex flex-justify-start flex-items-start">
                  <div class="blob-num blame-blob-num color-bg-subtle js-line-number" id="L206">206</div>
                  <div class="blob-code blob-code-inner js-file-line" id="LC206">      <span class="pl-s"><span class="pl-pds">&quot;</span>3/3 [==============================] - 0s 12ms/step - loss: 0.1080 - val_loss: 0.0800<span class="pl-cce">\n</span><span class="pl-pds">&quot;</span></span>,</div>
                </div>
                <div class="d-flex flex-justify-start flex-items-start">
                  <div class="blob-num blame-blob-num color-bg-subtle js-line-number" id="L207">207</div>
                  <div class="blob-code blob-code-inner js-file-line" id="LC207">      <span class="pl-s"><span class="pl-pds">&quot;</span>Epoch 3/80<span class="pl-cce">\n</span><span class="pl-pds">&quot;</span></span>,</div>
                </div>
                <div class="d-flex flex-justify-start flex-items-start">
                  <div class="blob-num blame-blob-num color-bg-subtle js-line-number" id="L208">208</div>
                  <div class="blob-code blob-code-inner js-file-line" id="LC208">      <span class="pl-s"><span class="pl-pds">&quot;</span>3/3 [==============================] - 0s 14ms/step - loss: 0.0578 - val_loss: 0.0326<span class="pl-cce">\n</span><span class="pl-pds">&quot;</span></span>,</div>
                </div>
                <div class="d-flex flex-justify-start flex-items-start">
                  <div class="blob-num blame-blob-num color-bg-subtle js-line-number" id="L209">209</div>
                  <div class="blob-code blob-code-inner js-file-line" id="LC209">      <span class="pl-s"><span class="pl-pds">&quot;</span>Epoch 4/80<span class="pl-cce">\n</span><span class="pl-pds">&quot;</span></span>,</div>
                </div>
                <div class="d-flex flex-justify-start flex-items-start">
                  <div class="blob-num blame-blob-num color-bg-subtle js-line-number" id="L210">210</div>
                  <div class="blob-code blob-code-inner js-file-line" id="LC210">      <span class="pl-s"><span class="pl-pds">&quot;</span>3/3 [==============================] - 0s 13ms/step - loss: 0.0447 - val_loss: 0.0292<span class="pl-cce">\n</span><span class="pl-pds">&quot;</span></span>,</div>
                </div>
                <div class="d-flex flex-justify-start flex-items-start">
                  <div class="blob-num blame-blob-num color-bg-subtle js-line-number" id="L211">211</div>
                  <div class="blob-code blob-code-inner js-file-line" id="LC211">      <span class="pl-s"><span class="pl-pds">&quot;</span>Epoch 5/80<span class="pl-cce">\n</span><span class="pl-pds">&quot;</span></span>,</div>
                </div>
                <div class="d-flex flex-justify-start flex-items-start">
                  <div class="blob-num blame-blob-num color-bg-subtle js-line-number" id="L212">212</div>
                  <div class="blob-code blob-code-inner js-file-line" id="LC212">      <span class="pl-s"><span class="pl-pds">&quot;</span>3/3 [==============================] - 0s 13ms/step - loss: 0.0416 - val_loss: 0.0306<span class="pl-cce">\n</span><span class="pl-pds">&quot;</span></span>,</div>
                </div>
                <div class="d-flex flex-justify-start flex-items-start">
                  <div class="blob-num blame-blob-num color-bg-subtle js-line-number" id="L213">213</div>
                  <div class="blob-code blob-code-inner js-file-line" id="LC213">      <span class="pl-s"><span class="pl-pds">&quot;</span>Epoch 6/80<span class="pl-cce">\n</span><span class="pl-pds">&quot;</span></span>,</div>
                </div>
                <div class="d-flex flex-justify-start flex-items-start">
                  <div class="blob-num blame-blob-num color-bg-subtle js-line-number" id="L214">214</div>
                  <div class="blob-code blob-code-inner js-file-line" id="LC214">      <span class="pl-s"><span class="pl-pds">&quot;</span>3/3 [==============================] - 0s 16ms/step - loss: 0.0342 - val_loss: 0.0403<span class="pl-cce">\n</span><span class="pl-pds">&quot;</span></span>,</div>
                </div>
                <div class="d-flex flex-justify-start flex-items-start">
                  <div class="blob-num blame-blob-num color-bg-subtle js-line-number" id="L215">215</div>
                  <div class="blob-code blob-code-inner js-file-line" id="LC215">      <span class="pl-s"><span class="pl-pds">&quot;</span>Epoch 7/80<span class="pl-cce">\n</span><span class="pl-pds">&quot;</span></span>,</div>
                </div>
                <div class="d-flex flex-justify-start flex-items-start">
                  <div class="blob-num blame-blob-num color-bg-subtle js-line-number" id="L216">216</div>
                  <div class="blob-code blob-code-inner js-file-line" id="LC216">      <span class="pl-s"><span class="pl-pds">&quot;</span>3/3 [==============================] - 0s 14ms/step - loss: 0.0313 - val_loss: 0.0401<span class="pl-cce">\n</span><span class="pl-pds">&quot;</span></span>,</div>
                </div>
                <div class="d-flex flex-justify-start flex-items-start">
                  <div class="blob-num blame-blob-num color-bg-subtle js-line-number" id="L217">217</div>
                  <div class="blob-code blob-code-inner js-file-line" id="LC217">      <span class="pl-s"><span class="pl-pds">&quot;</span>Epoch 8/80<span class="pl-cce">\n</span><span class="pl-pds">&quot;</span></span>,</div>
                </div>
                <div class="d-flex flex-justify-start flex-items-start">
                  <div class="blob-num blame-blob-num color-bg-subtle js-line-number" id="L218">218</div>
                  <div class="blob-code blob-code-inner js-file-line" id="LC218">      <span class="pl-s"><span class="pl-pds">&quot;</span>3/3 [==============================] - 0s 13ms/step - loss: 0.0364 - val_loss: 0.0301<span class="pl-cce">\n</span><span class="pl-pds">&quot;</span></span>,</div>
                </div>
                <div class="d-flex flex-justify-start flex-items-start">
                  <div class="blob-num blame-blob-num color-bg-subtle js-line-number" id="L219">219</div>
                  <div class="blob-code blob-code-inner js-file-line" id="LC219">      <span class="pl-s"><span class="pl-pds">&quot;</span>Epoch 9/80<span class="pl-cce">\n</span><span class="pl-pds">&quot;</span></span>,</div>
                </div>
                <div class="d-flex flex-justify-start flex-items-start">
                  <div class="blob-num blame-blob-num color-bg-subtle js-line-number" id="L220">220</div>
                  <div class="blob-code blob-code-inner js-file-line" id="LC220">      <span class="pl-s"><span class="pl-pds">&quot;</span>3/3 [==============================] - 0s 12ms/step - loss: 0.0254 - val_loss: 0.0331<span class="pl-cce">\n</span><span class="pl-pds">&quot;</span></span>,</div>
                </div>
                <div class="d-flex flex-justify-start flex-items-start">
                  <div class="blob-num blame-blob-num color-bg-subtle js-line-number" id="L221">221</div>
                  <div class="blob-code blob-code-inner js-file-line" id="LC221">      <span class="pl-s"><span class="pl-pds">&quot;</span>Epoch 10/80<span class="pl-cce">\n</span><span class="pl-pds">&quot;</span></span>,</div>
                </div>
                <div class="d-flex flex-justify-start flex-items-start">
                  <div class="blob-num blame-blob-num color-bg-subtle js-line-number" id="L222">222</div>
                  <div class="blob-code blob-code-inner js-file-line" id="LC222">      <span class="pl-s"><span class="pl-pds">&quot;</span>3/3 [==============================] - 0s 13ms/step - loss: 0.0310 - val_loss: 0.0297<span class="pl-cce">\n</span><span class="pl-pds">&quot;</span></span>,</div>
                </div>
                <div class="d-flex flex-justify-start flex-items-start">
                  <div class="blob-num blame-blob-num color-bg-subtle js-line-number" id="L223">223</div>
                  <div class="blob-code blob-code-inner js-file-line" id="LC223">      <span class="pl-s"><span class="pl-pds">&quot;</span>Epoch 11/80<span class="pl-cce">\n</span><span class="pl-pds">&quot;</span></span>,</div>
                </div>
                <div class="d-flex flex-justify-start flex-items-start">
                  <div class="blob-num blame-blob-num color-bg-subtle js-line-number" id="L224">224</div>
                  <div class="blob-code blob-code-inner js-file-line" id="LC224">      <span class="pl-s"><span class="pl-pds">&quot;</span>3/3 [==============================] - 0s 15ms/step - loss: 0.0248 - val_loss: 0.0312<span class="pl-cce">\n</span><span class="pl-pds">&quot;</span></span>,</div>
                </div>
                <div class="d-flex flex-justify-start flex-items-start">
                  <div class="blob-num blame-blob-num color-bg-subtle js-line-number" id="L225">225</div>
                  <div class="blob-code blob-code-inner js-file-line" id="LC225">      <span class="pl-s"><span class="pl-pds">&quot;</span>Epoch 12/80<span class="pl-cce">\n</span><span class="pl-pds">&quot;</span></span>,</div>
                </div>
                <div class="d-flex flex-justify-start flex-items-start">
                  <div class="blob-num blame-blob-num color-bg-subtle js-line-number" id="L226">226</div>
                  <div class="blob-code blob-code-inner js-file-line" id="LC226">      <span class="pl-s"><span class="pl-pds">&quot;</span>3/3 [==============================] - 0s 63ms/step - loss: 0.0280 - val_loss: 0.0282<span class="pl-cce">\n</span><span class="pl-pds">&quot;</span></span>,</div>
                </div>
                <div class="d-flex flex-justify-start flex-items-start">
                  <div class="blob-num blame-blob-num color-bg-subtle js-line-number" id="L227">227</div>
                  <div class="blob-code blob-code-inner js-file-line" id="LC227">      <span class="pl-s"><span class="pl-pds">&quot;</span>Epoch 13/80<span class="pl-cce">\n</span><span class="pl-pds">&quot;</span></span>,</div>
                </div>
                <div class="d-flex flex-justify-start flex-items-start">
                  <div class="blob-num blame-blob-num color-bg-subtle js-line-number" id="L228">228</div>
                  <div class="blob-code blob-code-inner js-file-line" id="LC228">      <span class="pl-s"><span class="pl-pds">&quot;</span>3/3 [==============================] - 0s 17ms/step - loss: 0.0231 - val_loss: 0.0299<span class="pl-cce">\n</span><span class="pl-pds">&quot;</span></span>,</div>
                </div>
                <div class="d-flex flex-justify-start flex-items-start">
                  <div class="blob-num blame-blob-num color-bg-subtle js-line-number" id="L229">229</div>
                  <div class="blob-code blob-code-inner js-file-line" id="LC229">      <span class="pl-s"><span class="pl-pds">&quot;</span>Epoch 14/80<span class="pl-cce">\n</span><span class="pl-pds">&quot;</span></span>,</div>
                </div>
                <div class="d-flex flex-justify-start flex-items-start">
                  <div class="blob-num blame-blob-num color-bg-subtle js-line-number" id="L230">230</div>
                  <div class="blob-code blob-code-inner js-file-line" id="LC230">      <span class="pl-s"><span class="pl-pds">&quot;</span>3/3 [==============================] - 0s 18ms/step - loss: 0.0258 - val_loss: 0.0277<span class="pl-cce">\n</span><span class="pl-pds">&quot;</span></span>,</div>
                </div>
                <div class="d-flex flex-justify-start flex-items-start">
                  <div class="blob-num blame-blob-num color-bg-subtle js-line-number" id="L231">231</div>
                  <div class="blob-code blob-code-inner js-file-line" id="LC231">      <span class="pl-s"><span class="pl-pds">&quot;</span>Epoch 15/80<span class="pl-cce">\n</span><span class="pl-pds">&quot;</span></span>,</div>
                </div>
                <div class="d-flex flex-justify-start flex-items-start">
                  <div class="blob-num blame-blob-num color-bg-subtle js-line-number" id="L232">232</div>
                  <div class="blob-code blob-code-inner js-file-line" id="LC232">      <span class="pl-s"><span class="pl-pds">&quot;</span>3/3 [==============================] - 0s 11ms/step - loss: 0.0239 - val_loss: 0.0280<span class="pl-cce">\n</span><span class="pl-pds">&quot;</span></span>,</div>
                </div>
                <div class="d-flex flex-justify-start flex-items-start">
                  <div class="blob-num blame-blob-num color-bg-subtle js-line-number" id="L233">233</div>
                  <div class="blob-code blob-code-inner js-file-line" id="LC233">      <span class="pl-s"><span class="pl-pds">&quot;</span>Epoch 16/80<span class="pl-cce">\n</span><span class="pl-pds">&quot;</span></span>,</div>
                </div>
                <div class="d-flex flex-justify-start flex-items-start">
                  <div class="blob-num blame-blob-num color-bg-subtle js-line-number" id="L234">234</div>
                  <div class="blob-code blob-code-inner js-file-line" id="LC234">      <span class="pl-s"><span class="pl-pds">&quot;</span>3/3 [==============================] - 0s 13ms/step - loss: 0.0252 - val_loss: 0.0266<span class="pl-cce">\n</span><span class="pl-pds">&quot;</span></span>,</div>
                </div>
                <div class="d-flex flex-justify-start flex-items-start">
                  <div class="blob-num blame-blob-num color-bg-subtle js-line-number" id="L235">235</div>
                  <div class="blob-code blob-code-inner js-file-line" id="LC235">      <span class="pl-s"><span class="pl-pds">&quot;</span>Epoch 17/80<span class="pl-cce">\n</span><span class="pl-pds">&quot;</span></span>,</div>
                </div>
                <div class="d-flex flex-justify-start flex-items-start">
                  <div class="blob-num blame-blob-num color-bg-subtle js-line-number" id="L236">236</div>
                  <div class="blob-code blob-code-inner js-file-line" id="LC236">      <span class="pl-s"><span class="pl-pds">&quot;</span>3/3 [==============================] - 0s 15ms/step - loss: 0.0222 - val_loss: 0.0257<span class="pl-cce">\n</span><span class="pl-pds">&quot;</span></span>,</div>
                </div>
                <div class="d-flex flex-justify-start flex-items-start">
                  <div class="blob-num blame-blob-num color-bg-subtle js-line-number" id="L237">237</div>
                  <div class="blob-code blob-code-inner js-file-line" id="LC237">      <span class="pl-s"><span class="pl-pds">&quot;</span>Epoch 18/80<span class="pl-cce">\n</span><span class="pl-pds">&quot;</span></span>,</div>
                </div>
                <div class="d-flex flex-justify-start flex-items-start">
                  <div class="blob-num blame-blob-num color-bg-subtle js-line-number" id="L238">238</div>
                  <div class="blob-code blob-code-inner js-file-line" id="LC238">      <span class="pl-s"><span class="pl-pds">&quot;</span>3/3 [==============================] - 0s 15ms/step - loss: 0.0261 - val_loss: 0.0253<span class="pl-cce">\n</span><span class="pl-pds">&quot;</span></span>,</div>
                </div>
                <div class="d-flex flex-justify-start flex-items-start">
                  <div class="blob-num blame-blob-num color-bg-subtle js-line-number" id="L239">239</div>
                  <div class="blob-code blob-code-inner js-file-line" id="LC239">      <span class="pl-s"><span class="pl-pds">&quot;</span>Epoch 19/80<span class="pl-cce">\n</span><span class="pl-pds">&quot;</span></span>,</div>
                </div>
                <div class="d-flex flex-justify-start flex-items-start">
                  <div class="blob-num blame-blob-num color-bg-subtle js-line-number" id="L240">240</div>
                  <div class="blob-code blob-code-inner js-file-line" id="LC240">      <span class="pl-s"><span class="pl-pds">&quot;</span>3/3 [==============================] - 0s 13ms/step - loss: 0.0211 - val_loss: 0.0250<span class="pl-cce">\n</span><span class="pl-pds">&quot;</span></span>,</div>
                </div>
                <div class="d-flex flex-justify-start flex-items-start">
                  <div class="blob-num blame-blob-num color-bg-subtle js-line-number" id="L241">241</div>
                  <div class="blob-code blob-code-inner js-file-line" id="LC241">      <span class="pl-s"><span class="pl-pds">&quot;</span>Epoch 20/80<span class="pl-cce">\n</span><span class="pl-pds">&quot;</span></span>,</div>
                </div>
                <div class="d-flex flex-justify-start flex-items-start">
                  <div class="blob-num blame-blob-num color-bg-subtle js-line-number" id="L242">242</div>
                  <div class="blob-code blob-code-inner js-file-line" id="LC242">      <span class="pl-s"><span class="pl-pds">&quot;</span>3/3 [==============================] - 0s 14ms/step - loss: 0.0213 - val_loss: 0.0252<span class="pl-cce">\n</span><span class="pl-pds">&quot;</span></span>,</div>
                </div>
                <div class="d-flex flex-justify-start flex-items-start">
                  <div class="blob-num blame-blob-num color-bg-subtle js-line-number" id="L243">243</div>
                  <div class="blob-code blob-code-inner js-file-line" id="LC243">      <span class="pl-s"><span class="pl-pds">&quot;</span>Epoch 21/80<span class="pl-cce">\n</span><span class="pl-pds">&quot;</span></span>,</div>
                </div>
                <div class="d-flex flex-justify-start flex-items-start">
                  <div class="blob-num blame-blob-num color-bg-subtle js-line-number" id="L244">244</div>
                  <div class="blob-code blob-code-inner js-file-line" id="LC244">      <span class="pl-s"><span class="pl-pds">&quot;</span>3/3 [==============================] - 0s 12ms/step - loss: 0.0215 - val_loss: 0.0250<span class="pl-cce">\n</span><span class="pl-pds">&quot;</span></span>,</div>
                </div>
                <div class="d-flex flex-justify-start flex-items-start">
                  <div class="blob-num blame-blob-num color-bg-subtle js-line-number" id="L245">245</div>
                  <div class="blob-code blob-code-inner js-file-line" id="LC245">      <span class="pl-s"><span class="pl-pds">&quot;</span>Epoch 22/80<span class="pl-cce">\n</span><span class="pl-pds">&quot;</span></span>,</div>
                </div>
                <div class="d-flex flex-justify-start flex-items-start">
                  <div class="blob-num blame-blob-num color-bg-subtle js-line-number" id="L246">246</div>
                  <div class="blob-code blob-code-inner js-file-line" id="LC246">      <span class="pl-s"><span class="pl-pds">&quot;</span>3/3 [==============================] - 0s 13ms/step - loss: 0.0226 - val_loss: 0.0247<span class="pl-cce">\n</span><span class="pl-pds">&quot;</span></span>,</div>
                </div>
                <div class="d-flex flex-justify-start flex-items-start">
                  <div class="blob-num blame-blob-num color-bg-subtle js-line-number" id="L247">247</div>
                  <div class="blob-code blob-code-inner js-file-line" id="LC247">      <span class="pl-s"><span class="pl-pds">&quot;</span>Epoch 23/80<span class="pl-cce">\n</span><span class="pl-pds">&quot;</span></span>,</div>
                </div>
                <div class="d-flex flex-justify-start flex-items-start">
                  <div class="blob-num blame-blob-num color-bg-subtle js-line-number" id="L248">248</div>
                  <div class="blob-code blob-code-inner js-file-line" id="LC248">      <span class="pl-s"><span class="pl-pds">&quot;</span>3/3 [==============================] - 0s 15ms/step - loss: 0.0217 - val_loss: 0.0237<span class="pl-cce">\n</span><span class="pl-pds">&quot;</span></span>,</div>
                </div>
                <div class="d-flex flex-justify-start flex-items-start">
                  <div class="blob-num blame-blob-num color-bg-subtle js-line-number" id="L249">249</div>
                  <div class="blob-code blob-code-inner js-file-line" id="LC249">      <span class="pl-s"><span class="pl-pds">&quot;</span>Epoch 24/80<span class="pl-cce">\n</span><span class="pl-pds">&quot;</span></span>,</div>
                </div>
                <div class="d-flex flex-justify-start flex-items-start">
                  <div class="blob-num blame-blob-num color-bg-subtle js-line-number" id="L250">250</div>
                  <div class="blob-code blob-code-inner js-file-line" id="LC250">      <span class="pl-s"><span class="pl-pds">&quot;</span>3/3 [==============================] - 0s 13ms/step - loss: 0.0200 - val_loss: 0.0242<span class="pl-cce">\n</span><span class="pl-pds">&quot;</span></span>,</div>
                </div>
                <div class="d-flex flex-justify-start flex-items-start">
                  <div class="blob-num blame-blob-num color-bg-subtle js-line-number" id="L251">251</div>
                  <div class="blob-code blob-code-inner js-file-line" id="LC251">      <span class="pl-s"><span class="pl-pds">&quot;</span>Epoch 25/80<span class="pl-cce">\n</span><span class="pl-pds">&quot;</span></span>,</div>
                </div>
                <div class="d-flex flex-justify-start flex-items-start">
                  <div class="blob-num blame-blob-num color-bg-subtle js-line-number" id="L252">252</div>
                  <div class="blob-code blob-code-inner js-file-line" id="LC252">      <span class="pl-s"><span class="pl-pds">&quot;</span>3/3 [==============================] - 0s 23ms/step - loss: 0.0212 - val_loss: 0.0229<span class="pl-cce">\n</span><span class="pl-pds">&quot;</span></span>,</div>
                </div>
                <div class="d-flex flex-justify-start flex-items-start">
                  <div class="blob-num blame-blob-num color-bg-subtle js-line-number" id="L253">253</div>
                  <div class="blob-code blob-code-inner js-file-line" id="LC253">      <span class="pl-s"><span class="pl-pds">&quot;</span>Epoch 26/80<span class="pl-cce">\n</span><span class="pl-pds">&quot;</span></span>,</div>
                </div>
                <div class="d-flex flex-justify-start flex-items-start">
                  <div class="blob-num blame-blob-num color-bg-subtle js-line-number" id="L254">254</div>
                  <div class="blob-code blob-code-inner js-file-line" id="LC254">      <span class="pl-s"><span class="pl-pds">&quot;</span>3/3 [==============================] - 0s 14ms/step - loss: 0.0217 - val_loss: 0.0237<span class="pl-cce">\n</span><span class="pl-pds">&quot;</span></span>,</div>
                </div>
                <div class="d-flex flex-justify-start flex-items-start">
                  <div class="blob-num blame-blob-num color-bg-subtle js-line-number" id="L255">255</div>
                  <div class="blob-code blob-code-inner js-file-line" id="LC255">      <span class="pl-s"><span class="pl-pds">&quot;</span>Epoch 27/80<span class="pl-cce">\n</span><span class="pl-pds">&quot;</span></span>,</div>
                </div>
                <div class="d-flex flex-justify-start flex-items-start">
                  <div class="blob-num blame-blob-num color-bg-subtle js-line-number" id="L256">256</div>
                  <div class="blob-code blob-code-inner js-file-line" id="LC256">      <span class="pl-s"><span class="pl-pds">&quot;</span>3/3 [==============================] - 0s 25ms/step - loss: 0.0250 - val_loss: 0.0251<span class="pl-cce">\n</span><span class="pl-pds">&quot;</span></span>,</div>
                </div>
                <div class="d-flex flex-justify-start flex-items-start">
                  <div class="blob-num blame-blob-num color-bg-subtle js-line-number" id="L257">257</div>
                  <div class="blob-code blob-code-inner js-file-line" id="LC257">      <span class="pl-s"><span class="pl-pds">&quot;</span>Epoch 28/80<span class="pl-cce">\n</span><span class="pl-pds">&quot;</span></span>,</div>
                </div>
                <div class="d-flex flex-justify-start flex-items-start">
                  <div class="blob-num blame-blob-num color-bg-subtle js-line-number" id="L258">258</div>
                  <div class="blob-code blob-code-inner js-file-line" id="LC258">      <span class="pl-s"><span class="pl-pds">&quot;</span>3/3 [==============================] - 0s 16ms/step - loss: 0.0251 - val_loss: 0.0282<span class="pl-cce">\n</span><span class="pl-pds">&quot;</span></span>,</div>
                </div>
                <div class="d-flex flex-justify-start flex-items-start">
                  <div class="blob-num blame-blob-num color-bg-subtle js-line-number" id="L259">259</div>
                  <div class="blob-code blob-code-inner js-file-line" id="LC259">      <span class="pl-s"><span class="pl-pds">&quot;</span>Epoch 29/80<span class="pl-cce">\n</span><span class="pl-pds">&quot;</span></span>,</div>
                </div>
                <div class="d-flex flex-justify-start flex-items-start">
                  <div class="blob-num blame-blob-num color-bg-subtle js-line-number" id="L260">260</div>
                  <div class="blob-code blob-code-inner js-file-line" id="LC260">      <span class="pl-s"><span class="pl-pds">&quot;</span>3/3 [==============================] - 0s 14ms/step - loss: 0.0242 - val_loss: 0.0253<span class="pl-cce">\n</span><span class="pl-pds">&quot;</span></span>,</div>
                </div>
                <div class="d-flex flex-justify-start flex-items-start">
                  <div class="blob-num blame-blob-num color-bg-subtle js-line-number" id="L261">261</div>
                  <div class="blob-code blob-code-inner js-file-line" id="LC261">      <span class="pl-s"><span class="pl-pds">&quot;</span>Epoch 30/80<span class="pl-cce">\n</span><span class="pl-pds">&quot;</span></span>,</div>
                </div>
                <div class="d-flex flex-justify-start flex-items-start">
                  <div class="blob-num blame-blob-num color-bg-subtle js-line-number" id="L262">262</div>
                  <div class="blob-code blob-code-inner js-file-line" id="LC262">      <span class="pl-s"><span class="pl-pds">&quot;</span>3/3 [==============================] - 0s 14ms/step - loss: 0.0246 - val_loss: 0.0246<span class="pl-cce">\n</span><span class="pl-pds">&quot;</span></span>,</div>
                </div>
                <div class="d-flex flex-justify-start flex-items-start">
                  <div class="blob-num blame-blob-num color-bg-subtle js-line-number" id="L263">263</div>
                  <div class="blob-code blob-code-inner js-file-line" id="LC263">      <span class="pl-s"><span class="pl-pds">&quot;</span>Epoch 31/80<span class="pl-cce">\n</span><span class="pl-pds">&quot;</span></span>,</div>
                </div>
                <div class="d-flex flex-justify-start flex-items-start">
                  <div class="blob-num blame-blob-num color-bg-subtle js-line-number" id="L264">264</div>
                  <div class="blob-code blob-code-inner js-file-line" id="LC264">      <span class="pl-s"><span class="pl-pds">&quot;</span>3/3 [==============================] - 0s 16ms/step - loss: 0.0215 - val_loss: 0.0323<span class="pl-cce">\n</span><span class="pl-pds">&quot;</span></span>,</div>
                </div>
                <div class="d-flex flex-justify-start flex-items-start">
                  <div class="blob-num blame-blob-num color-bg-subtle js-line-number" id="L265">265</div>
                  <div class="blob-code blob-code-inner js-file-line" id="LC265">      <span class="pl-s"><span class="pl-pds">&quot;</span>Epoch 32/80<span class="pl-cce">\n</span><span class="pl-pds">&quot;</span></span>,</div>
                </div>
                <div class="d-flex flex-justify-start flex-items-start">
                  <div class="blob-num blame-blob-num color-bg-subtle js-line-number" id="L266">266</div>
                  <div class="blob-code blob-code-inner js-file-line" id="LC266">      <span class="pl-s"><span class="pl-pds">&quot;</span>3/3 [==============================] - 0s 14ms/step - loss: 0.0261 - val_loss: 0.0376<span class="pl-cce">\n</span><span class="pl-pds">&quot;</span></span>,</div>
                </div>
                <div class="d-flex flex-justify-start flex-items-start">
                  <div class="blob-num blame-blob-num color-bg-subtle js-line-number" id="L267">267</div>
                  <div class="blob-code blob-code-inner js-file-line" id="LC267">      <span class="pl-s"><span class="pl-pds">&quot;</span>Epoch 33/80<span class="pl-cce">\n</span><span class="pl-pds">&quot;</span></span>,</div>
                </div>
                <div class="d-flex flex-justify-start flex-items-start">
                  <div class="blob-num blame-blob-num color-bg-subtle js-line-number" id="L268">268</div>
                  <div class="blob-code blob-code-inner js-file-line" id="LC268">      <span class="pl-s"><span class="pl-pds">&quot;</span>3/3 [==============================] - 0s 11ms/step - loss: 0.0274 - val_loss: 0.0290<span class="pl-cce">\n</span><span class="pl-pds">&quot;</span></span>,</div>
                </div>
                <div class="d-flex flex-justify-start flex-items-start">
                  <div class="blob-num blame-blob-num color-bg-subtle js-line-number" id="L269">269</div>
                  <div class="blob-code blob-code-inner js-file-line" id="LC269">      <span class="pl-s"><span class="pl-pds">&quot;</span>Epoch 34/80<span class="pl-cce">\n</span><span class="pl-pds">&quot;</span></span>,</div>
                </div>
                <div class="d-flex flex-justify-start flex-items-start">
                  <div class="blob-num blame-blob-num color-bg-subtle js-line-number" id="L270">270</div>
                  <div class="blob-code blob-code-inner js-file-line" id="LC270">      <span class="pl-s"><span class="pl-pds">&quot;</span>3/3 [==============================] - 0s 14ms/step - loss: 0.0229 - val_loss: 0.0232<span class="pl-cce">\n</span><span class="pl-pds">&quot;</span></span>,</div>
                </div>
                <div class="d-flex flex-justify-start flex-items-start">
                  <div class="blob-num blame-blob-num color-bg-subtle js-line-number" id="L271">271</div>
                  <div class="blob-code blob-code-inner js-file-line" id="LC271">      <span class="pl-s"><span class="pl-pds">&quot;</span>Epoch 35/80<span class="pl-cce">\n</span><span class="pl-pds">&quot;</span></span>,</div>
                </div>
                <div class="d-flex flex-justify-start flex-items-start">
                  <div class="blob-num blame-blob-num color-bg-subtle js-line-number" id="L272">272</div>
                  <div class="blob-code blob-code-inner js-file-line" id="LC272">      <span class="pl-s"><span class="pl-pds">&quot;</span>3/3 [==============================] - 0s 15ms/step - loss: 0.0211 - val_loss: 0.0227<span class="pl-cce">\n</span><span class="pl-pds">&quot;</span></span>,</div>
                </div>
                <div class="d-flex flex-justify-start flex-items-start">
                  <div class="blob-num blame-blob-num color-bg-subtle js-line-number" id="L273">273</div>
                  <div class="blob-code blob-code-inner js-file-line" id="LC273">      <span class="pl-s"><span class="pl-pds">&quot;</span>Epoch 36/80<span class="pl-cce">\n</span><span class="pl-pds">&quot;</span></span>,</div>
                </div>
                <div class="d-flex flex-justify-start flex-items-start">
                  <div class="blob-num blame-blob-num color-bg-subtle js-line-number" id="L274">274</div>
                  <div class="blob-code blob-code-inner js-file-line" id="LC274">      <span class="pl-s"><span class="pl-pds">&quot;</span>3/3 [==============================] - 0s 15ms/step - loss: 0.0206 - val_loss: 0.0235<span class="pl-cce">\n</span><span class="pl-pds">&quot;</span></span>,</div>
                </div>
                <div class="d-flex flex-justify-start flex-items-start">
                  <div class="blob-num blame-blob-num color-bg-subtle js-line-number" id="L275">275</div>
                  <div class="blob-code blob-code-inner js-file-line" id="LC275">      <span class="pl-s"><span class="pl-pds">&quot;</span>Epoch 37/80<span class="pl-cce">\n</span><span class="pl-pds">&quot;</span></span>,</div>
                </div>
                <div class="d-flex flex-justify-start flex-items-start">
                  <div class="blob-num blame-blob-num color-bg-subtle js-line-number" id="L276">276</div>
                  <div class="blob-code blob-code-inner js-file-line" id="LC276">      <span class="pl-s"><span class="pl-pds">&quot;</span>3/3 [==============================] - 0s 14ms/step - loss: 0.0206 - val_loss: 0.0220<span class="pl-cce">\n</span><span class="pl-pds">&quot;</span></span>,</div>
                </div>
                <div class="d-flex flex-justify-start flex-items-start">
                  <div class="blob-num blame-blob-num color-bg-subtle js-line-number" id="L277">277</div>
                  <div class="blob-code blob-code-inner js-file-line" id="LC277">      <span class="pl-s"><span class="pl-pds">&quot;</span>Epoch 38/80<span class="pl-cce">\n</span><span class="pl-pds">&quot;</span></span>,</div>
                </div>
                <div class="d-flex flex-justify-start flex-items-start">
                  <div class="blob-num blame-blob-num color-bg-subtle js-line-number" id="L278">278</div>
                  <div class="blob-code blob-code-inner js-file-line" id="LC278">      <span class="pl-s"><span class="pl-pds">&quot;</span>3/3 [==============================] - 0s 15ms/step - loss: 0.0209 - val_loss: 0.0220<span class="pl-cce">\n</span><span class="pl-pds">&quot;</span></span>,</div>
                </div>
                <div class="d-flex flex-justify-start flex-items-start">
                  <div class="blob-num blame-blob-num color-bg-subtle js-line-number" id="L279">279</div>
                  <div class="blob-code blob-code-inner js-file-line" id="LC279">      <span class="pl-s"><span class="pl-pds">&quot;</span>Epoch 39/80<span class="pl-cce">\n</span><span class="pl-pds">&quot;</span></span>,</div>
                </div>
                <div class="d-flex flex-justify-start flex-items-start">
                  <div class="blob-num blame-blob-num color-bg-subtle js-line-number" id="L280">280</div>
                  <div class="blob-code blob-code-inner js-file-line" id="LC280">      <span class="pl-s"><span class="pl-pds">&quot;</span>3/3 [==============================] - 0s 16ms/step - loss: 0.0190 - val_loss: 0.0222<span class="pl-cce">\n</span><span class="pl-pds">&quot;</span></span>,</div>
                </div>
                <div class="d-flex flex-justify-start flex-items-start">
                  <div class="blob-num blame-blob-num color-bg-subtle js-line-number" id="L281">281</div>
                  <div class="blob-code blob-code-inner js-file-line" id="LC281">      <span class="pl-s"><span class="pl-pds">&quot;</span>Epoch 40/80<span class="pl-cce">\n</span><span class="pl-pds">&quot;</span></span>,</div>
                </div>
                <div class="d-flex flex-justify-start flex-items-start">
                  <div class="blob-num blame-blob-num color-bg-subtle js-line-number" id="L282">282</div>
                  <div class="blob-code blob-code-inner js-file-line" id="LC282">      <span class="pl-s"><span class="pl-pds">&quot;</span>3/3 [==============================] - 0s 16ms/step - loss: 0.0196 - val_loss: 0.0217<span class="pl-cce">\n</span><span class="pl-pds">&quot;</span></span>,</div>
                </div>
                <div class="d-flex flex-justify-start flex-items-start">
                  <div class="blob-num blame-blob-num color-bg-subtle js-line-number" id="L283">283</div>
                  <div class="blob-code blob-code-inner js-file-line" id="LC283">      <span class="pl-s"><span class="pl-pds">&quot;</span>Epoch 41/80<span class="pl-cce">\n</span><span class="pl-pds">&quot;</span></span>,</div>
                </div>
                <div class="d-flex flex-justify-start flex-items-start">
                  <div class="blob-num blame-blob-num color-bg-subtle js-line-number" id="L284">284</div>
                  <div class="blob-code blob-code-inner js-file-line" id="LC284">      <span class="pl-s"><span class="pl-pds">&quot;</span>3/3 [==============================] - 0s 14ms/step - loss: 0.0181 - val_loss: 0.0214<span class="pl-cce">\n</span><span class="pl-pds">&quot;</span></span>,</div>
                </div>
                <div class="d-flex flex-justify-start flex-items-start">
                  <div class="blob-num blame-blob-num color-bg-subtle js-line-number" id="L285">285</div>
                  <div class="blob-code blob-code-inner js-file-line" id="LC285">      <span class="pl-s"><span class="pl-pds">&quot;</span>Epoch 42/80<span class="pl-cce">\n</span><span class="pl-pds">&quot;</span></span>,</div>
                </div>
                <div class="d-flex flex-justify-start flex-items-start">
                  <div class="blob-num blame-blob-num color-bg-subtle js-line-number" id="L286">286</div>
                  <div class="blob-code blob-code-inner js-file-line" id="LC286">      <span class="pl-s"><span class="pl-pds">&quot;</span>3/3 [==============================] - 0s 15ms/step - loss: 0.0206 - val_loss: 0.0229<span class="pl-cce">\n</span><span class="pl-pds">&quot;</span></span>,</div>
                </div>
                <div class="d-flex flex-justify-start flex-items-start">
                  <div class="blob-num blame-blob-num color-bg-subtle js-line-number" id="L287">287</div>
                  <div class="blob-code blob-code-inner js-file-line" id="LC287">      <span class="pl-s"><span class="pl-pds">&quot;</span>Epoch 43/80<span class="pl-cce">\n</span><span class="pl-pds">&quot;</span></span>,</div>
                </div>
                <div class="d-flex flex-justify-start flex-items-start">
                  <div class="blob-num blame-blob-num color-bg-subtle js-line-number" id="L288">288</div>
                  <div class="blob-code blob-code-inner js-file-line" id="LC288">      <span class="pl-s"><span class="pl-pds">&quot;</span>3/3 [==============================] - 0s 14ms/step - loss: 0.0264 - val_loss: 0.0273<span class="pl-cce">\n</span><span class="pl-pds">&quot;</span></span>,</div>
                </div>
                <div class="d-flex flex-justify-start flex-items-start">
                  <div class="blob-num blame-blob-num color-bg-subtle js-line-number" id="L289">289</div>
                  <div class="blob-code blob-code-inner js-file-line" id="LC289">      <span class="pl-s"><span class="pl-pds">&quot;</span>Epoch 44/80<span class="pl-cce">\n</span><span class="pl-pds">&quot;</span></span>,</div>
                </div>
                <div class="d-flex flex-justify-start flex-items-start">
                  <div class="blob-num blame-blob-num color-bg-subtle js-line-number" id="L290">290</div>
                  <div class="blob-code blob-code-inner js-file-line" id="LC290">      <span class="pl-s"><span class="pl-pds">&quot;</span>3/3 [==============================] - 0s 15ms/step - loss: 0.0279 - val_loss: 0.0269<span class="pl-cce">\n</span><span class="pl-pds">&quot;</span></span>,</div>
                </div>
                <div class="d-flex flex-justify-start flex-items-start">
                  <div class="blob-num blame-blob-num color-bg-subtle js-line-number" id="L291">291</div>
                  <div class="blob-code blob-code-inner js-file-line" id="LC291">      <span class="pl-s"><span class="pl-pds">&quot;</span>Epoch 45/80<span class="pl-cce">\n</span><span class="pl-pds">&quot;</span></span>,</div>
                </div>
                <div class="d-flex flex-justify-start flex-items-start">
                  <div class="blob-num blame-blob-num color-bg-subtle js-line-number" id="L292">292</div>
                  <div class="blob-code blob-code-inner js-file-line" id="LC292">      <span class="pl-s"><span class="pl-pds">&quot;</span>3/3 [==============================] - 0s 14ms/step - loss: 0.0261 - val_loss: 0.0231<span class="pl-cce">\n</span><span class="pl-pds">&quot;</span></span>,</div>
                </div>
                <div class="d-flex flex-justify-start flex-items-start">
                  <div class="blob-num blame-blob-num color-bg-subtle js-line-number" id="L293">293</div>
                  <div class="blob-code blob-code-inner js-file-line" id="LC293">      <span class="pl-s"><span class="pl-pds">&quot;</span>Epoch 46/80<span class="pl-cce">\n</span><span class="pl-pds">&quot;</span></span>,</div>
                </div>
                <div class="d-flex flex-justify-start flex-items-start">
                  <div class="blob-num blame-blob-num color-bg-subtle js-line-number" id="L294">294</div>
                  <div class="blob-code blob-code-inner js-file-line" id="LC294">      <span class="pl-s"><span class="pl-pds">&quot;</span>3/3 [==============================] - 0s 13ms/step - loss: 0.0227 - val_loss: 0.0218<span class="pl-cce">\n</span><span class="pl-pds">&quot;</span></span>,</div>
                </div>
                <div class="d-flex flex-justify-start flex-items-start">
                  <div class="blob-num blame-blob-num color-bg-subtle js-line-number" id="L295">295</div>
                  <div class="blob-code blob-code-inner js-file-line" id="LC295">      <span class="pl-s"><span class="pl-pds">&quot;</span>Epoch 47/80<span class="pl-cce">\n</span><span class="pl-pds">&quot;</span></span>,</div>
                </div>
                <div class="d-flex flex-justify-start flex-items-start">
                  <div class="blob-num blame-blob-num color-bg-subtle js-line-number" id="L296">296</div>
                  <div class="blob-code blob-code-inner js-file-line" id="LC296">      <span class="pl-s"><span class="pl-pds">&quot;</span>3/3 [==============================] - 0s 15ms/step - loss: 0.0238 - val_loss: 0.0232<span class="pl-cce">\n</span><span class="pl-pds">&quot;</span></span>,</div>
                </div>
                <div class="d-flex flex-justify-start flex-items-start">
                  <div class="blob-num blame-blob-num color-bg-subtle js-line-number" id="L297">297</div>
                  <div class="blob-code blob-code-inner js-file-line" id="LC297">      <span class="pl-s"><span class="pl-pds">&quot;</span>Epoch 48/80<span class="pl-cce">\n</span><span class="pl-pds">&quot;</span></span>,</div>
                </div>
                <div class="d-flex flex-justify-start flex-items-start">
                  <div class="blob-num blame-blob-num color-bg-subtle js-line-number" id="L298">298</div>
                  <div class="blob-code blob-code-inner js-file-line" id="LC298">      <span class="pl-s"><span class="pl-pds">&quot;</span>3/3 [==============================] - 0s 12ms/step - loss: 0.0197 - val_loss: 0.0254<span class="pl-cce">\n</span><span class="pl-pds">&quot;</span></span>,</div>
                </div>
                <div class="d-flex flex-justify-start flex-items-start">
                  <div class="blob-num blame-blob-num color-bg-subtle js-line-number" id="L299">299</div>
                  <div class="blob-code blob-code-inner js-file-line" id="LC299">      <span class="pl-s"><span class="pl-pds">&quot;</span>Epoch 49/80<span class="pl-cce">\n</span><span class="pl-pds">&quot;</span></span>,</div>
                </div>
                <div class="d-flex flex-justify-start flex-items-start">
                  <div class="blob-num blame-blob-num color-bg-subtle js-line-number" id="L300">300</div>
                  <div class="blob-code blob-code-inner js-file-line" id="LC300">      <span class="pl-s"><span class="pl-pds">&quot;</span>3/3 [==============================] - 0s 16ms/step - loss: 0.0203 - val_loss: 0.0248<span class="pl-cce">\n</span><span class="pl-pds">&quot;</span></span>,</div>
                </div>
                <div class="d-flex flex-justify-start flex-items-start">
                  <div class="blob-num blame-blob-num color-bg-subtle js-line-number" id="L301">301</div>
                  <div class="blob-code blob-code-inner js-file-line" id="LC301">      <span class="pl-s"><span class="pl-pds">&quot;</span>Epoch 50/80<span class="pl-cce">\n</span><span class="pl-pds">&quot;</span></span>,</div>
                </div>
                <div class="d-flex flex-justify-start flex-items-start">
                  <div class="blob-num blame-blob-num color-bg-subtle js-line-number" id="L302">302</div>
                  <div class="blob-code blob-code-inner js-file-line" id="LC302">      <span class="pl-s"><span class="pl-pds">&quot;</span>3/3 [==============================] - 0s 15ms/step - loss: 0.0204 - val_loss: 0.0220<span class="pl-cce">\n</span><span class="pl-pds">&quot;</span></span>,</div>
                </div>
                <div class="d-flex flex-justify-start flex-items-start">
                  <div class="blob-num blame-blob-num color-bg-subtle js-line-number" id="L303">303</div>
                  <div class="blob-code blob-code-inner js-file-line" id="LC303">      <span class="pl-s"><span class="pl-pds">&quot;</span>Epoch 51/80<span class="pl-cce">\n</span><span class="pl-pds">&quot;</span></span>,</div>
                </div>
                <div class="d-flex flex-justify-start flex-items-start">
                  <div class="blob-num blame-blob-num color-bg-subtle js-line-number" id="L304">304</div>
                  <div class="blob-code blob-code-inner js-file-line" id="LC304">      <span class="pl-s"><span class="pl-pds">&quot;</span>3/3 [==============================] - 0s 14ms/step - loss: 0.0184 - val_loss: 0.0224<span class="pl-cce">\n</span><span class="pl-pds">&quot;</span></span>,</div>
                </div>
                <div class="d-flex flex-justify-start flex-items-start">
                  <div class="blob-num blame-blob-num color-bg-subtle js-line-number" id="L305">305</div>
                  <div class="blob-code blob-code-inner js-file-line" id="LC305">      <span class="pl-s"><span class="pl-pds">&quot;</span>Epoch 52/80<span class="pl-cce">\n</span><span class="pl-pds">&quot;</span></span>,</div>
                </div>
                <div class="d-flex flex-justify-start flex-items-start">
                  <div class="blob-num blame-blob-num color-bg-subtle js-line-number" id="L306">306</div>
                  <div class="blob-code blob-code-inner js-file-line" id="LC306">      <span class="pl-s"><span class="pl-pds">&quot;</span>3/3 [==============================] - 0s 11ms/step - loss: 0.0191 - val_loss: 0.0231<span class="pl-cce">\n</span><span class="pl-pds">&quot;</span></span>,</div>
                </div>
                <div class="d-flex flex-justify-start flex-items-start">
                  <div class="blob-num blame-blob-num color-bg-subtle js-line-number" id="L307">307</div>
                  <div class="blob-code blob-code-inner js-file-line" id="LC307">      <span class="pl-s"><span class="pl-pds">&quot;</span>Epoch 53/80<span class="pl-cce">\n</span><span class="pl-pds">&quot;</span></span>,</div>
                </div>
                <div class="d-flex flex-justify-start flex-items-start">
                  <div class="blob-num blame-blob-num color-bg-subtle js-line-number" id="L308">308</div>
                  <div class="blob-code blob-code-inner js-file-line" id="LC308">      <span class="pl-s"><span class="pl-pds">&quot;</span>3/3 [==============================] - 0s 13ms/step - loss: 0.0185 - val_loss: 0.0231<span class="pl-cce">\n</span><span class="pl-pds">&quot;</span></span>,</div>
                </div>
                <div class="d-flex flex-justify-start flex-items-start">
                  <div class="blob-num blame-blob-num color-bg-subtle js-line-number" id="L309">309</div>
                  <div class="blob-code blob-code-inner js-file-line" id="LC309">      <span class="pl-s"><span class="pl-pds">&quot;</span>Epoch 54/80<span class="pl-cce">\n</span><span class="pl-pds">&quot;</span></span>,</div>
                </div>
                <div class="d-flex flex-justify-start flex-items-start">
                  <div class="blob-num blame-blob-num color-bg-subtle js-line-number" id="L310">310</div>
                  <div class="blob-code blob-code-inner js-file-line" id="LC310">      <span class="pl-s"><span class="pl-pds">&quot;</span>3/3 [==============================] - 0s 14ms/step - loss: 0.0180 - val_loss: 0.0215<span class="pl-cce">\n</span><span class="pl-pds">&quot;</span></span>,</div>
                </div>
                <div class="d-flex flex-justify-start flex-items-start">
                  <div class="blob-num blame-blob-num color-bg-subtle js-line-number" id="L311">311</div>
                  <div class="blob-code blob-code-inner js-file-line" id="LC311">      <span class="pl-s"><span class="pl-pds">&quot;</span>Epoch 55/80<span class="pl-cce">\n</span><span class="pl-pds">&quot;</span></span>,</div>
                </div>
                <div class="d-flex flex-justify-start flex-items-start">
                  <div class="blob-num blame-blob-num color-bg-subtle js-line-number" id="L312">312</div>
                  <div class="blob-code blob-code-inner js-file-line" id="LC312">      <span class="pl-s"><span class="pl-pds">&quot;</span>3/3 [==============================] - 0s 12ms/step - loss: 0.0171 - val_loss: 0.0250<span class="pl-cce">\n</span><span class="pl-pds">&quot;</span></span>,</div>
                </div>
                <div class="d-flex flex-justify-start flex-items-start">
                  <div class="blob-num blame-blob-num color-bg-subtle js-line-number" id="L313">313</div>
                  <div class="blob-code blob-code-inner js-file-line" id="LC313">      <span class="pl-s"><span class="pl-pds">&quot;</span>Epoch 56/80<span class="pl-cce">\n</span><span class="pl-pds">&quot;</span></span>,</div>
                </div>
                <div class="d-flex flex-justify-start flex-items-start">
                  <div class="blob-num blame-blob-num color-bg-subtle js-line-number" id="L314">314</div>
                  <div class="blob-code blob-code-inner js-file-line" id="LC314">      <span class="pl-s"><span class="pl-pds">&quot;</span>3/3 [==============================] - 0s 14ms/step - loss: 0.0170 - val_loss: 0.0237<span class="pl-cce">\n</span><span class="pl-pds">&quot;</span></span>,</div>
                </div>
                <div class="d-flex flex-justify-start flex-items-start">
                  <div class="blob-num blame-blob-num color-bg-subtle js-line-number" id="L315">315</div>
                  <div class="blob-code blob-code-inner js-file-line" id="LC315">      <span class="pl-s"><span class="pl-pds">&quot;</span>Epoch 57/80<span class="pl-cce">\n</span><span class="pl-pds">&quot;</span></span>,</div>
                </div>
                <div class="d-flex flex-justify-start flex-items-start">
                  <div class="blob-num blame-blob-num color-bg-subtle js-line-number" id="L316">316</div>
                  <div class="blob-code blob-code-inner js-file-line" id="LC316">      <span class="pl-s"><span class="pl-pds">&quot;</span>3/3 [==============================] - 0s 14ms/step - loss: 0.0176 - val_loss: 0.0225<span class="pl-cce">\n</span><span class="pl-pds">&quot;</span></span>,</div>
                </div>
                <div class="d-flex flex-justify-start flex-items-start">
                  <div class="blob-num blame-blob-num color-bg-subtle js-line-number" id="L317">317</div>
                  <div class="blob-code blob-code-inner js-file-line" id="LC317">      <span class="pl-s"><span class="pl-pds">&quot;</span>Epoch 58/80<span class="pl-cce">\n</span><span class="pl-pds">&quot;</span></span>,</div>
                </div>
                <div class="d-flex flex-justify-start flex-items-start">
                  <div class="blob-num blame-blob-num color-bg-subtle js-line-number" id="L318">318</div>
                  <div class="blob-code blob-code-inner js-file-line" id="LC318">      <span class="pl-s"><span class="pl-pds">&quot;</span>3/3 [==============================] - 0s 15ms/step - loss: 0.0183 - val_loss: 0.0209<span class="pl-cce">\n</span><span class="pl-pds">&quot;</span></span>,</div>
                </div>
                <div class="d-flex flex-justify-start flex-items-start">
                  <div class="blob-num blame-blob-num color-bg-subtle js-line-number" id="L319">319</div>
                  <div class="blob-code blob-code-inner js-file-line" id="LC319">      <span class="pl-s"><span class="pl-pds">&quot;</span>Epoch 59/80<span class="pl-cce">\n</span><span class="pl-pds">&quot;</span></span>,</div>
                </div>
                <div class="d-flex flex-justify-start flex-items-start">
                  <div class="blob-num blame-blob-num color-bg-subtle js-line-number" id="L320">320</div>
                  <div class="blob-code blob-code-inner js-file-line" id="LC320">      <span class="pl-s"><span class="pl-pds">&quot;</span>3/3 [==============================] - 0s 14ms/step - loss: 0.0164 - val_loss: 0.0224<span class="pl-cce">\n</span><span class="pl-pds">&quot;</span></span>,</div>
                </div>
                <div class="d-flex flex-justify-start flex-items-start">
                  <div class="blob-num blame-blob-num color-bg-subtle js-line-number" id="L321">321</div>
                  <div class="blob-code blob-code-inner js-file-line" id="LC321">      <span class="pl-s"><span class="pl-pds">&quot;</span>Epoch 60/80<span class="pl-cce">\n</span><span class="pl-pds">&quot;</span></span>,</div>
                </div>
                <div class="d-flex flex-justify-start flex-items-start">
                  <div class="blob-num blame-blob-num color-bg-subtle js-line-number" id="L322">322</div>
                  <div class="blob-code blob-code-inner js-file-line" id="LC322">      <span class="pl-s"><span class="pl-pds">&quot;</span>3/3 [==============================] - 0s 13ms/step - loss: 0.0180 - val_loss: 0.0250<span class="pl-cce">\n</span><span class="pl-pds">&quot;</span></span>,</div>
                </div>
                <div class="d-flex flex-justify-start flex-items-start">
                  <div class="blob-num blame-blob-num color-bg-subtle js-line-number" id="L323">323</div>
                  <div class="blob-code blob-code-inner js-file-line" id="LC323">      <span class="pl-s"><span class="pl-pds">&quot;</span>Epoch 61/80<span class="pl-cce">\n</span><span class="pl-pds">&quot;</span></span>,</div>
                </div>
                <div class="d-flex flex-justify-start flex-items-start">
                  <div class="blob-num blame-blob-num color-bg-subtle js-line-number" id="L324">324</div>
                  <div class="blob-code blob-code-inner js-file-line" id="LC324">      <span class="pl-s"><span class="pl-pds">&quot;</span>3/3 [==============================] - 0s 16ms/step - loss: 0.0161 - val_loss: 0.0258<span class="pl-cce">\n</span><span class="pl-pds">&quot;</span></span>,</div>
                </div>
                <div class="d-flex flex-justify-start flex-items-start">
                  <div class="blob-num blame-blob-num color-bg-subtle js-line-number" id="L325">325</div>
                  <div class="blob-code blob-code-inner js-file-line" id="LC325">      <span class="pl-s"><span class="pl-pds">&quot;</span>Epoch 62/80<span class="pl-cce">\n</span><span class="pl-pds">&quot;</span></span>,</div>
                </div>
                <div class="d-flex flex-justify-start flex-items-start">
                  <div class="blob-num blame-blob-num color-bg-subtle js-line-number" id="L326">326</div>
                  <div class="blob-code blob-code-inner js-file-line" id="LC326">      <span class="pl-s"><span class="pl-pds">&quot;</span>3/3 [==============================] - 0s 12ms/step - loss: 0.0183 - val_loss: 0.0257<span class="pl-cce">\n</span><span class="pl-pds">&quot;</span></span>,</div>
                </div>
                <div class="d-flex flex-justify-start flex-items-start">
                  <div class="blob-num blame-blob-num color-bg-subtle js-line-number" id="L327">327</div>
                  <div class="blob-code blob-code-inner js-file-line" id="LC327">      <span class="pl-s"><span class="pl-pds">&quot;</span>Epoch 63/80<span class="pl-cce">\n</span><span class="pl-pds">&quot;</span></span>,</div>
                </div>
                <div class="d-flex flex-justify-start flex-items-start">
                  <div class="blob-num blame-blob-num color-bg-subtle js-line-number" id="L328">328</div>
                  <div class="blob-code blob-code-inner js-file-line" id="LC328">      <span class="pl-s"><span class="pl-pds">&quot;</span>3/3 [==============================] - 0s 13ms/step - loss: 0.0184 - val_loss: 0.0255<span class="pl-cce">\n</span><span class="pl-pds">&quot;</span></span>,</div>
                </div>
                <div class="d-flex flex-justify-start flex-items-start">
                  <div class="blob-num blame-blob-num color-bg-subtle js-line-number" id="L329">329</div>
                  <div class="blob-code blob-code-inner js-file-line" id="LC329">      <span class="pl-s"><span class="pl-pds">&quot;</span>Epoch 64/80<span class="pl-cce">\n</span><span class="pl-pds">&quot;</span></span>,</div>
                </div>
                <div class="d-flex flex-justify-start flex-items-start">
                  <div class="blob-num blame-blob-num color-bg-subtle js-line-number" id="L330">330</div>
                  <div class="blob-code blob-code-inner js-file-line" id="LC330">      <span class="pl-s"><span class="pl-pds">&quot;</span>3/3 [==============================] - 0s 14ms/step - loss: 0.0165 - val_loss: 0.0239<span class="pl-cce">\n</span><span class="pl-pds">&quot;</span></span>,</div>
                </div>
                <div class="d-flex flex-justify-start flex-items-start">
                  <div class="blob-num blame-blob-num color-bg-subtle js-line-number" id="L331">331</div>
                  <div class="blob-code blob-code-inner js-file-line" id="LC331">      <span class="pl-s"><span class="pl-pds">&quot;</span>Epoch 65/80<span class="pl-cce">\n</span><span class="pl-pds">&quot;</span></span>,</div>
                </div>
                <div class="d-flex flex-justify-start flex-items-start">
                  <div class="blob-num blame-blob-num color-bg-subtle js-line-number" id="L332">332</div>
                  <div class="blob-code blob-code-inner js-file-line" id="LC332">      <span class="pl-s"><span class="pl-pds">&quot;</span>3/3 [==============================] - 0s 13ms/step - loss: 0.0196 - val_loss: 0.0272<span class="pl-cce">\n</span><span class="pl-pds">&quot;</span></span>,</div>
                </div>
                <div class="d-flex flex-justify-start flex-items-start">
                  <div class="blob-num blame-blob-num color-bg-subtle js-line-number" id="L333">333</div>
                  <div class="blob-code blob-code-inner js-file-line" id="LC333">      <span class="pl-s"><span class="pl-pds">&quot;</span>Epoch 66/80<span class="pl-cce">\n</span><span class="pl-pds">&quot;</span></span>,</div>
                </div>
                <div class="d-flex flex-justify-start flex-items-start">
                  <div class="blob-num blame-blob-num color-bg-subtle js-line-number" id="L334">334</div>
                  <div class="blob-code blob-code-inner js-file-line" id="LC334">      <span class="pl-s"><span class="pl-pds">&quot;</span>3/3 [==============================] - 0s 12ms/step - loss: 0.0202 - val_loss: 0.0219<span class="pl-cce">\n</span><span class="pl-pds">&quot;</span></span>,</div>
                </div>
                <div class="d-flex flex-justify-start flex-items-start">
                  <div class="blob-num blame-blob-num color-bg-subtle js-line-number" id="L335">335</div>
                  <div class="blob-code blob-code-inner js-file-line" id="LC335">      <span class="pl-s"><span class="pl-pds">&quot;</span>Epoch 67/80<span class="pl-cce">\n</span><span class="pl-pds">&quot;</span></span>,</div>
                </div>
                <div class="d-flex flex-justify-start flex-items-start">
                  <div class="blob-num blame-blob-num color-bg-subtle js-line-number" id="L336">336</div>
                  <div class="blob-code blob-code-inner js-file-line" id="LC336">      <span class="pl-s"><span class="pl-pds">&quot;</span>3/3 [==============================] - 0s 12ms/step - loss: 0.0160 - val_loss: 0.0211<span class="pl-cce">\n</span><span class="pl-pds">&quot;</span></span>,</div>
                </div>
                <div class="d-flex flex-justify-start flex-items-start">
                  <div class="blob-num blame-blob-num color-bg-subtle js-line-number" id="L337">337</div>
                  <div class="blob-code blob-code-inner js-file-line" id="LC337">      <span class="pl-s"><span class="pl-pds">&quot;</span>Epoch 68/80<span class="pl-cce">\n</span><span class="pl-pds">&quot;</span></span>,</div>
                </div>
                <div class="d-flex flex-justify-start flex-items-start">
                  <div class="blob-num blame-blob-num color-bg-subtle js-line-number" id="L338">338</div>
                  <div class="blob-code blob-code-inner js-file-line" id="LC338">      <span class="pl-s"><span class="pl-pds">&quot;</span>3/3 [==============================] - 0s 15ms/step - loss: 0.0171 - val_loss: 0.0207<span class="pl-cce">\n</span><span class="pl-pds">&quot;</span></span>,</div>
                </div>
                <div class="d-flex flex-justify-start flex-items-start">
                  <div class="blob-num blame-blob-num color-bg-subtle js-line-number" id="L339">339</div>
                  <div class="blob-code blob-code-inner js-file-line" id="LC339">      <span class="pl-s"><span class="pl-pds">&quot;</span>Epoch 69/80<span class="pl-cce">\n</span><span class="pl-pds">&quot;</span></span>,</div>
                </div>
                <div class="d-flex flex-justify-start flex-items-start">
                  <div class="blob-num blame-blob-num color-bg-subtle js-line-number" id="L340">340</div>
                  <div class="blob-code blob-code-inner js-file-line" id="LC340">      <span class="pl-s"><span class="pl-pds">&quot;</span>3/3 [==============================] - 0s 17ms/step - loss: 0.0153 - val_loss: 0.0218<span class="pl-cce">\n</span><span class="pl-pds">&quot;</span></span>,</div>
                </div>
                <div class="d-flex flex-justify-start flex-items-start">
                  <div class="blob-num blame-blob-num color-bg-subtle js-line-number" id="L341">341</div>
                  <div class="blob-code blob-code-inner js-file-line" id="LC341">      <span class="pl-s"><span class="pl-pds">&quot;</span>Epoch 70/80<span class="pl-cce">\n</span><span class="pl-pds">&quot;</span></span>,</div>
                </div>
                <div class="d-flex flex-justify-start flex-items-start">
                  <div class="blob-num blame-blob-num color-bg-subtle js-line-number" id="L342">342</div>
                  <div class="blob-code blob-code-inner js-file-line" id="LC342">      <span class="pl-s"><span class="pl-pds">&quot;</span>3/3 [==============================] - 0s 14ms/step - loss: 0.0160 - val_loss: 0.0217<span class="pl-cce">\n</span><span class="pl-pds">&quot;</span></span>,</div>
                </div>
                <div class="d-flex flex-justify-start flex-items-start">
                  <div class="blob-num blame-blob-num color-bg-subtle js-line-number" id="L343">343</div>
                  <div class="blob-code blob-code-inner js-file-line" id="LC343">      <span class="pl-s"><span class="pl-pds">&quot;</span>Epoch 71/80<span class="pl-cce">\n</span><span class="pl-pds">&quot;</span></span>,</div>
                </div>
                <div class="d-flex flex-justify-start flex-items-start">
                  <div class="blob-num blame-blob-num color-bg-subtle js-line-number" id="L344">344</div>
                  <div class="blob-code blob-code-inner js-file-line" id="LC344">      <span class="pl-s"><span class="pl-pds">&quot;</span>3/3 [==============================] - 0s 13ms/step - loss: 0.0163 - val_loss: 0.0224<span class="pl-cce">\n</span><span class="pl-pds">&quot;</span></span>,</div>
                </div>
                <div class="d-flex flex-justify-start flex-items-start">
                  <div class="blob-num blame-blob-num color-bg-subtle js-line-number" id="L345">345</div>
                  <div class="blob-code blob-code-inner js-file-line" id="LC345">      <span class="pl-s"><span class="pl-pds">&quot;</span>Epoch 72/80<span class="pl-cce">\n</span><span class="pl-pds">&quot;</span></span>,</div>
                </div>
                <div class="d-flex flex-justify-start flex-items-start">
                  <div class="blob-num blame-blob-num color-bg-subtle js-line-number" id="L346">346</div>
                  <div class="blob-code blob-code-inner js-file-line" id="LC346">      <span class="pl-s"><span class="pl-pds">&quot;</span>3/3 [==============================] - 0s 15ms/step - loss: 0.0169 - val_loss: 0.0216<span class="pl-cce">\n</span><span class="pl-pds">&quot;</span></span>,</div>
                </div>
                <div class="d-flex flex-justify-start flex-items-start">
                  <div class="blob-num blame-blob-num color-bg-subtle js-line-number" id="L347">347</div>
                  <div class="blob-code blob-code-inner js-file-line" id="LC347">      <span class="pl-s"><span class="pl-pds">&quot;</span>Epoch 73/80<span class="pl-cce">\n</span><span class="pl-pds">&quot;</span></span>,</div>
                </div>
                <div class="d-flex flex-justify-start flex-items-start">
                  <div class="blob-num blame-blob-num color-bg-subtle js-line-number" id="L348">348</div>
                  <div class="blob-code blob-code-inner js-file-line" id="LC348">      <span class="pl-s"><span class="pl-pds">&quot;</span>3/3 [==============================] - 0s 12ms/step - loss: 0.0150 - val_loss: 0.0238<span class="pl-cce">\n</span><span class="pl-pds">&quot;</span></span>,</div>
                </div>
                <div class="d-flex flex-justify-start flex-items-start">
                  <div class="blob-num blame-blob-num color-bg-subtle js-line-number" id="L349">349</div>
                  <div class="blob-code blob-code-inner js-file-line" id="LC349">      <span class="pl-s"><span class="pl-pds">&quot;</span>Epoch 74/80<span class="pl-cce">\n</span><span class="pl-pds">&quot;</span></span>,</div>
                </div>
                <div class="d-flex flex-justify-start flex-items-start">
                  <div class="blob-num blame-blob-num color-bg-subtle js-line-number" id="L350">350</div>
                  <div class="blob-code blob-code-inner js-file-line" id="LC350">      <span class="pl-s"><span class="pl-pds">&quot;</span>3/3 [==============================] - 0s 13ms/step - loss: 0.0166 - val_loss: 0.0283<span class="pl-cce">\n</span><span class="pl-pds">&quot;</span></span>,</div>
                </div>
                <div class="d-flex flex-justify-start flex-items-start">
                  <div class="blob-num blame-blob-num color-bg-subtle js-line-number" id="L351">351</div>
                  <div class="blob-code blob-code-inner js-file-line" id="LC351">      <span class="pl-s"><span class="pl-pds">&quot;</span>Epoch 75/80<span class="pl-cce">\n</span><span class="pl-pds">&quot;</span></span>,</div>
                </div>
                <div class="d-flex flex-justify-start flex-items-start">
                  <div class="blob-num blame-blob-num color-bg-subtle js-line-number" id="L352">352</div>
                  <div class="blob-code blob-code-inner js-file-line" id="LC352">      <span class="pl-s"><span class="pl-pds">&quot;</span>3/3 [==============================] - 0s 14ms/step - loss: 0.0218 - val_loss: 0.0290<span class="pl-cce">\n</span><span class="pl-pds">&quot;</span></span>,</div>
                </div>
                <div class="d-flex flex-justify-start flex-items-start">
                  <div class="blob-num blame-blob-num color-bg-subtle js-line-number" id="L353">353</div>
                  <div class="blob-code blob-code-inner js-file-line" id="LC353">      <span class="pl-s"><span class="pl-pds">&quot;</span>Epoch 76/80<span class="pl-cce">\n</span><span class="pl-pds">&quot;</span></span>,</div>
                </div>
                <div class="d-flex flex-justify-start flex-items-start">
                  <div class="blob-num blame-blob-num color-bg-subtle js-line-number" id="L354">354</div>
                  <div class="blob-code blob-code-inner js-file-line" id="LC354">      <span class="pl-s"><span class="pl-pds">&quot;</span>3/3 [==============================] - 0s 13ms/step - loss: 0.0227 - val_loss: 0.0223<span class="pl-cce">\n</span><span class="pl-pds">&quot;</span></span>,</div>
                </div>
                <div class="d-flex flex-justify-start flex-items-start">
                  <div class="blob-num blame-blob-num color-bg-subtle js-line-number" id="L355">355</div>
                  <div class="blob-code blob-code-inner js-file-line" id="LC355">      <span class="pl-s"><span class="pl-pds">&quot;</span>Epoch 77/80<span class="pl-cce">\n</span><span class="pl-pds">&quot;</span></span>,</div>
                </div>
                <div class="d-flex flex-justify-start flex-items-start">
                  <div class="blob-num blame-blob-num color-bg-subtle js-line-number" id="L356">356</div>
                  <div class="blob-code blob-code-inner js-file-line" id="LC356">      <span class="pl-s"><span class="pl-pds">&quot;</span>3/3 [==============================] - 0s 12ms/step - loss: 0.0170 - val_loss: 0.0222<span class="pl-cce">\n</span><span class="pl-pds">&quot;</span></span>,</div>
                </div>
                <div class="d-flex flex-justify-start flex-items-start">
                  <div class="blob-num blame-blob-num color-bg-subtle js-line-number" id="L357">357</div>
                  <div class="blob-code blob-code-inner js-file-line" id="LC357">      <span class="pl-s"><span class="pl-pds">&quot;</span>Epoch 78/80<span class="pl-cce">\n</span><span class="pl-pds">&quot;</span></span>,</div>
                </div>
                <div class="d-flex flex-justify-start flex-items-start">
                  <div class="blob-num blame-blob-num color-bg-subtle js-line-number" id="L358">358</div>
                  <div class="blob-code blob-code-inner js-file-line" id="LC358">      <span class="pl-s"><span class="pl-pds">&quot;</span>3/3 [==============================] - 0s 10ms/step - loss: 0.0172 - val_loss: 0.0221<span class="pl-cce">\n</span><span class="pl-pds">&quot;</span></span>,</div>
                </div>
                <div class="d-flex flex-justify-start flex-items-start">
                  <div class="blob-num blame-blob-num color-bg-subtle js-line-number" id="L359">359</div>
                  <div class="blob-code blob-code-inner js-file-line" id="LC359">      <span class="pl-s"><span class="pl-pds">&quot;</span>Epoch 79/80<span class="pl-cce">\n</span><span class="pl-pds">&quot;</span></span>,</div>
                </div>
                <div class="d-flex flex-justify-start flex-items-start">
                  <div class="blob-num blame-blob-num color-bg-subtle js-line-number" id="L360">360</div>
                  <div class="blob-code blob-code-inner js-file-line" id="LC360">      <span class="pl-s"><span class="pl-pds">&quot;</span>3/3 [==============================] - 0s 13ms/step - loss: 0.0152 - val_loss: 0.0231<span class="pl-cce">\n</span><span class="pl-pds">&quot;</span></span>,</div>
                </div>
                <div class="d-flex flex-justify-start flex-items-start">
                  <div class="blob-num blame-blob-num color-bg-subtle js-line-number" id="L361">361</div>
                  <div class="blob-code blob-code-inner js-file-line" id="LC361">      <span class="pl-s"><span class="pl-pds">&quot;</span>Epoch 80/80<span class="pl-cce">\n</span><span class="pl-pds">&quot;</span></span>,</div>
                </div>
                <div class="d-flex flex-justify-start flex-items-start">
                  <div class="blob-num blame-blob-num color-bg-subtle js-line-number" id="L362">362</div>
                  <div class="blob-code blob-code-inner js-file-line" id="LC362">      <span class="pl-s"><span class="pl-pds">&quot;</span>3/3 [==============================] - 0s 12ms/step - loss: 0.0159 - val_loss: 0.0233<span class="pl-cce">\n</span><span class="pl-pds">&quot;</span></span></div>
                </div>
                <div class="d-flex flex-justify-start flex-items-start">
                  <div class="blob-num blame-blob-num color-bg-subtle js-line-number" id="L363">363</div>
                  <div class="blob-code blob-code-inner js-file-line" id="LC363">     ]</div>
                </div>
                <div class="d-flex flex-justify-start flex-items-start">
                  <div class="blob-num blame-blob-num color-bg-subtle js-line-number" id="L364">364</div>
                  <div class="blob-code blob-code-inner js-file-line" id="LC364">    }</div>
                </div>
                <div class="d-flex flex-justify-start flex-items-start">
                  <div class="blob-num blame-blob-num color-bg-subtle js-line-number" id="L365">365</div>
                  <div class="blob-code blob-code-inner js-file-line" id="LC365">   ],</div>
                </div>
                <div class="d-flex flex-justify-start flex-items-start">
                  <div class="blob-num blame-blob-num color-bg-subtle js-line-number" id="L366">366</div>
                  <div class="blob-code blob-code-inner js-file-line" id="LC366">   <span class="pl-ent">&quot;source&quot;</span>: [</div>
                </div>
                <div class="d-flex flex-justify-start flex-items-start">
                  <div class="blob-num blame-blob-num color-bg-subtle js-line-number" id="L367">367</div>
                  <div class="blob-code blob-code-inner js-file-line" id="LC367">    <span class="pl-s"><span class="pl-pds">&quot;</span># train the RNN<span class="pl-cce">\n</span><span class="pl-pds">&quot;</span></span>,</div>
                </div>
                <div class="d-flex flex-justify-start flex-items-start">
                  <div class="blob-num blame-blob-num color-bg-subtle js-line-number" id="L368">368</div>
                  <div class="blob-code blob-code-inner js-file-line" id="LC368">    <span class="pl-s"><span class="pl-pds">&quot;</span>r = model.fit(X[:-N//2], Y[:-N//2], epochs=80, validation_data=(X[-N//2:], Y[-N//2:]))<span class="pl-pds">&quot;</span></span></div>
                </div>
                <div class="d-flex flex-justify-start flex-items-start">
                  <div class="blob-num blame-blob-num color-bg-subtle js-line-number" id="L369">369</div>
                  <div class="blob-code blob-code-inner js-file-line" id="LC369">   ]</div>
                </div>
                <div class="d-flex flex-justify-start flex-items-start">
                  <div class="blob-num blame-blob-num color-bg-subtle js-line-number" id="L370">370</div>
                  <div class="blob-code blob-code-inner js-file-line" id="LC370">  },</div>
                </div>
                <div class="d-flex flex-justify-start flex-items-start">
                  <div class="blob-num blame-blob-num color-bg-subtle js-line-number" id="L371">371</div>
                  <div class="blob-code blob-code-inner js-file-line" id="LC371">  {</div>
                </div>
                <div class="d-flex flex-justify-start flex-items-start">
                  <div class="blob-num blame-blob-num color-bg-subtle js-line-number" id="L372">372</div>
                  <div class="blob-code blob-code-inner js-file-line" id="LC372">   <span class="pl-ent">&quot;cell_type&quot;</span>: <span class="pl-s"><span class="pl-pds">&quot;</span>code<span class="pl-pds">&quot;</span></span>,</div>
                </div>
                <div class="d-flex flex-justify-start flex-items-start">
                  <div class="blob-num blame-blob-num color-bg-subtle js-line-number" id="L373">373</div>
                  <div class="blob-code blob-code-inner js-file-line" id="LC373">   <span class="pl-ent">&quot;execution_count&quot;</span>: <span class="pl-c1">18</span>,</div>
                </div>
                <div class="d-flex flex-justify-start flex-items-start">
                  <div class="blob-num blame-blob-num color-bg-subtle js-line-number" id="L374">374</div>
                  <div class="blob-code blob-code-inner js-file-line" id="LC374">   <span class="pl-ent">&quot;id&quot;</span>: <span class="pl-s"><span class="pl-pds">&quot;</span>5399066c<span class="pl-pds">&quot;</span></span>,</div>
                </div>
                <div class="d-flex flex-justify-start flex-items-start">
                  <div class="blob-num blame-blob-num color-bg-subtle js-line-number" id="L375">375</div>
                  <div class="blob-code blob-code-inner js-file-line" id="LC375">   <span class="pl-ent">&quot;metadata&quot;</span>: {},</div>
                </div>
                <div class="d-flex flex-justify-start flex-items-start">
                  <div class="blob-num blame-blob-num color-bg-subtle js-line-number" id="L376">376</div>
                  <div class="blob-code blob-code-inner js-file-line" id="LC376">   <span class="pl-ent">&quot;outputs&quot;</span>: [</div>
                </div>
                <div class="d-flex flex-justify-start flex-items-start">
                  <div class="blob-num blame-blob-num color-bg-subtle js-line-number" id="L377">377</div>
                  <div class="blob-code blob-code-inner js-file-line" id="LC377">    {</div>
                </div>
                <div class="d-flex flex-justify-start flex-items-start">
                  <div class="blob-num blame-blob-num color-bg-subtle js-line-number" id="L378">378</div>
                  <div class="blob-code blob-code-inner js-file-line" id="LC378">     <span class="pl-ent">&quot;data&quot;</span>: {</div>
                </div>
                <div class="d-flex flex-justify-start flex-items-start">
                  <div class="blob-num blame-blob-num color-bg-subtle js-line-number" id="L379">379</div>
                  <div class="blob-code blob-code-inner js-file-line" id="LC379">      <span class="pl-ent">&quot;text/plain&quot;</span>: [</div>
                </div>
                <div class="d-flex flex-justify-start flex-items-start">
                  <div class="blob-num blame-blob-num color-bg-subtle js-line-number" id="L380">380</div>
                  <div class="blob-code blob-code-inner js-file-line" id="LC380">       <span class="pl-s"><span class="pl-pds">&quot;</span>&lt;matplotlib.legend.Legend at 0x7fa0dbf17430&gt;<span class="pl-pds">&quot;</span></span></div>
                </div>
                <div class="d-flex flex-justify-start flex-items-start">
                  <div class="blob-num blame-blob-num color-bg-subtle js-line-number" id="L381">381</div>
                  <div class="blob-code blob-code-inner js-file-line" id="LC381">      ]</div>
                </div>
                <div class="d-flex flex-justify-start flex-items-start">
                  <div class="blob-num blame-blob-num color-bg-subtle js-line-number" id="L382">382</div>
                  <div class="blob-code blob-code-inner js-file-line" id="LC382">     },</div>
                </div>
                <div class="d-flex flex-justify-start flex-items-start">
                  <div class="blob-num blame-blob-num color-bg-subtle js-line-number" id="L383">383</div>
                  <div class="blob-code blob-code-inner js-file-line" id="LC383">     <span class="pl-ent">&quot;execution_count&quot;</span>: <span class="pl-c1">18</span>,</div>
                </div>
                <div class="d-flex flex-justify-start flex-items-start">
                  <div class="blob-num blame-blob-num color-bg-subtle js-line-number" id="L384">384</div>
                  <div class="blob-code blob-code-inner js-file-line" id="LC384">     <span class="pl-ent">&quot;metadata&quot;</span>: {},</div>
                </div>
                <div class="d-flex flex-justify-start flex-items-start">
                  <div class="blob-num blame-blob-num color-bg-subtle js-line-number" id="L385">385</div>
                  <div class="blob-code blob-code-inner js-file-line" id="LC385">     <span class="pl-ent">&quot;output_type&quot;</span>: <span class="pl-s"><span class="pl-pds">&quot;</span>execute_result<span class="pl-pds">&quot;</span></span></div>
                </div>
                <div class="d-flex flex-justify-start flex-items-start">
                  <div class="blob-num blame-blob-num color-bg-subtle js-line-number" id="L386">386</div>
                  <div class="blob-code blob-code-inner js-file-line" id="LC386">    },</div>
                </div>
                <div class="d-flex flex-justify-start flex-items-start">
                  <div class="blob-num blame-blob-num color-bg-subtle js-line-number" id="L387">387</div>
                  <div class="blob-code blob-code-inner js-file-line" id="LC387">    {</div>
                </div>
                <div class="d-flex flex-justify-start flex-items-start">
                  <div class="blob-num blame-blob-num color-bg-subtle js-line-number" id="L388">388</div>
                  <div class="blob-code blob-code-inner js-file-line" id="LC388">     <span class="pl-ent">&quot;data&quot;</span>: {</div>
                </div>
                <div class="d-flex flex-justify-start flex-items-start">
                  <div class="blob-num blame-blob-num color-bg-subtle js-line-number" id="L389">389</div>
                  <div class="blob-code blob-code-inner js-file-line" id="LC389">      &quot;image/png&quot;: &quot;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\n&quot;,</div>
                </div>
                <div class="d-flex flex-justify-start flex-items-start">
                  <div class="blob-num blame-blob-num color-bg-subtle js-line-number" id="L390">390</div>
                  <div class="blob-code blob-code-inner js-file-line" id="LC390">      <span class="pl-ent">&quot;text/plain&quot;</span>: [</div>
                </div>
                <div class="d-flex flex-justify-start flex-items-start">
                  <div class="blob-num blame-blob-num color-bg-subtle js-line-number" id="L391">391</div>
                  <div class="blob-code blob-code-inner js-file-line" id="LC391">       <span class="pl-s"><span class="pl-pds">&quot;</span>&lt;Figure size 432x288 with 1 Axes&gt;<span class="pl-pds">&quot;</span></span></div>
                </div>
                <div class="d-flex flex-justify-start flex-items-start">
                  <div class="blob-num blame-blob-num color-bg-subtle js-line-number" id="L392">392</div>
                  <div class="blob-code blob-code-inner js-file-line" id="LC392">      ]</div>
                </div>
                <div class="d-flex flex-justify-start flex-items-start">
                  <div class="blob-num blame-blob-num color-bg-subtle js-line-number" id="L393">393</div>
                  <div class="blob-code blob-code-inner js-file-line" id="LC393">     },</div>
                </div>
                <div class="d-flex flex-justify-start flex-items-start">
                  <div class="blob-num blame-blob-num color-bg-subtle js-line-number" id="L394">394</div>
                  <div class="blob-code blob-code-inner js-file-line" id="LC394">     <span class="pl-ent">&quot;metadata&quot;</span>: {</div>
                </div>
                <div class="d-flex flex-justify-start flex-items-start">
                  <div class="blob-num blame-blob-num color-bg-subtle js-line-number" id="L395">395</div>
                  <div class="blob-code blob-code-inner js-file-line" id="LC395">      <span class="pl-ent">&quot;needs_background&quot;</span>: <span class="pl-s"><span class="pl-pds">&quot;</span>light<span class="pl-pds">&quot;</span></span></div>
                </div>
                <div class="d-flex flex-justify-start flex-items-start">
                  <div class="blob-num blame-blob-num color-bg-subtle js-line-number" id="L396">396</div>
                  <div class="blob-code blob-code-inner js-file-line" id="LC396">     },</div>
                </div>
                <div class="d-flex flex-justify-start flex-items-start">
                  <div class="blob-num blame-blob-num color-bg-subtle js-line-number" id="L397">397</div>
                  <div class="blob-code blob-code-inner js-file-line" id="LC397">     <span class="pl-ent">&quot;output_type&quot;</span>: <span class="pl-s"><span class="pl-pds">&quot;</span>display_data<span class="pl-pds">&quot;</span></span></div>
                </div>
                <div class="d-flex flex-justify-start flex-items-start">
                  <div class="blob-num blame-blob-num color-bg-subtle js-line-number" id="L398">398</div>
                  <div class="blob-code blob-code-inner js-file-line" id="LC398">    }</div>
                </div>
                <div class="d-flex flex-justify-start flex-items-start">
                  <div class="blob-num blame-blob-num color-bg-subtle js-line-number" id="L399">399</div>
                  <div class="blob-code blob-code-inner js-file-line" id="LC399">   ],</div>
                </div>
                <div class="d-flex flex-justify-start flex-items-start">
                  <div class="blob-num blame-blob-num color-bg-subtle js-line-number" id="L400">400</div>
                  <div class="blob-code blob-code-inner js-file-line" id="LC400">   <span class="pl-ent">&quot;source&quot;</span>: [</div>
                </div>
                <div class="d-flex flex-justify-start flex-items-start">
                  <div class="blob-num blame-blob-num color-bg-subtle js-line-number" id="L401">401</div>
                  <div class="blob-code blob-code-inner js-file-line" id="LC401">    <span class="pl-s"><span class="pl-pds">&quot;</span>plt.plot(r.history[&#39;loss&#39;], label=&#39;loss&#39;)<span class="pl-cce">\n</span><span class="pl-pds">&quot;</span></span>,</div>
                </div>
                <div class="d-flex flex-justify-start flex-items-start">
                  <div class="blob-num blame-blob-num color-bg-subtle js-line-number" id="L402">402</div>
                  <div class="blob-code blob-code-inner js-file-line" id="LC402">    <span class="pl-s"><span class="pl-pds">&quot;</span>plt.plot(r.history[&#39;val_loss&#39;], label=&#39;val_loss&#39;)<span class="pl-cce">\n</span><span class="pl-pds">&quot;</span></span>,</div>
                </div>
                <div class="d-flex flex-justify-start flex-items-start">
                  <div class="blob-num blame-blob-num color-bg-subtle js-line-number" id="L403">403</div>
                  <div class="blob-code blob-code-inner js-file-line" id="LC403">    <span class="pl-s"><span class="pl-pds">&quot;</span>plt.legend()<span class="pl-pds">&quot;</span></span></div>
                </div>
                <div class="d-flex flex-justify-start flex-items-start">
                  <div class="blob-num blame-blob-num color-bg-subtle js-line-number" id="L404">404</div>
                  <div class="blob-code blob-code-inner js-file-line" id="LC404">   ]</div>
                </div>
                <div class="d-flex flex-justify-start flex-items-start">
                  <div class="blob-num blame-blob-num color-bg-subtle js-line-number" id="L405">405</div>
                  <div class="blob-code blob-code-inner js-file-line" id="LC405">  },</div>
                </div>
                <div class="d-flex flex-justify-start flex-items-start">
                  <div class="blob-num blame-blob-num color-bg-subtle js-line-number" id="L406">406</div>
                  <div class="blob-code blob-code-inner js-file-line" id="LC406">  {</div>
                </div>
                <div class="d-flex flex-justify-start flex-items-start">
                  <div class="blob-num blame-blob-num color-bg-subtle js-line-number" id="L407">407</div>
                  <div class="blob-code blob-code-inner js-file-line" id="LC407">   <span class="pl-ent">&quot;cell_type&quot;</span>: <span class="pl-s"><span class="pl-pds">&quot;</span>code<span class="pl-pds">&quot;</span></span>,</div>
                </div>
                <div class="d-flex flex-justify-start flex-items-start">
                  <div class="blob-num blame-blob-num color-bg-subtle js-line-number" id="L408">408</div>
                  <div class="blob-code blob-code-inner js-file-line" id="LC408">   <span class="pl-ent">&quot;execution_count&quot;</span>: <span class="pl-c1">19</span>,</div>
                </div>
                <div class="d-flex flex-justify-start flex-items-start">
                  <div class="blob-num blame-blob-num color-bg-subtle js-line-number" id="L409">409</div>
                  <div class="blob-code blob-code-inner js-file-line" id="LC409">   <span class="pl-ent">&quot;id&quot;</span>: <span class="pl-s"><span class="pl-pds">&quot;</span>c9d7e3f1<span class="pl-pds">&quot;</span></span>,</div>
                </div>
                <div class="d-flex flex-justify-start flex-items-start">
                  <div class="blob-num blame-blob-num color-bg-subtle js-line-number" id="L410">410</div>
                  <div class="blob-code blob-code-inner js-file-line" id="LC410">   <span class="pl-ent">&quot;metadata&quot;</span>: {},</div>
                </div>
                <div class="d-flex flex-justify-start flex-items-start">
                  <div class="blob-num blame-blob-num color-bg-subtle js-line-number" id="L411">411</div>
                  <div class="blob-code blob-code-inner js-file-line" id="LC411">   <span class="pl-ent">&quot;outputs&quot;</span>: [],</div>
                </div>
                <div class="d-flex flex-justify-start flex-items-start">
                  <div class="blob-num blame-blob-num color-bg-subtle js-line-number" id="L412">412</div>
                  <div class="blob-code blob-code-inner js-file-line" id="LC412">   <span class="pl-ent">&quot;source&quot;</span>: [</div>
                </div>
                <div class="d-flex flex-justify-start flex-items-start">
                  <div class="blob-num blame-blob-num color-bg-subtle js-line-number" id="L413">413</div>
                  <div class="blob-code blob-code-inner js-file-line" id="LC413">    <span class="pl-s"><span class="pl-pds">&quot;</span># Wrong forecast using true targets<span class="pl-cce">\n</span><span class="pl-pds">&quot;</span></span>,</div>
                </div>
                <div class="d-flex flex-justify-start flex-items-start">
                  <div class="blob-num blame-blob-num color-bg-subtle js-line-number" id="L414">414</div>
                  <div class="blob-code blob-code-inner js-file-line" id="LC414">    <span class="pl-s"><span class="pl-pds">&quot;</span>validation_target = Y[-N//2:]<span class="pl-cce">\n</span><span class="pl-pds">&quot;</span></span>,</div>
                </div>
                <div class="d-flex flex-justify-start flex-items-start">
                  <div class="blob-num blame-blob-num color-bg-subtle js-line-number" id="L415">415</div>
                  <div class="blob-code blob-code-inner js-file-line" id="LC415">    <span class="pl-s"><span class="pl-pds">&quot;</span>validation_predictions = []<span class="pl-cce">\n</span><span class="pl-pds">&quot;</span></span>,</div>
                </div>
                <div class="d-flex flex-justify-start flex-items-start">
                  <div class="blob-num blame-blob-num color-bg-subtle js-line-number" id="L416">416</div>
                  <div class="blob-code blob-code-inner js-file-line" id="LC416">    <span class="pl-s"><span class="pl-pds">&quot;</span><span class="pl-cce">\n</span><span class="pl-pds">&quot;</span></span>,</div>
                </div>
                <div class="d-flex flex-justify-start flex-items-start">
                  <div class="blob-num blame-blob-num color-bg-subtle js-line-number" id="L417">417</div>
                  <div class="blob-code blob-code-inner js-file-line" id="LC417">    <span class="pl-s"><span class="pl-pds">&quot;</span>i = -N//2 <span class="pl-cce">\n</span><span class="pl-pds">&quot;</span></span>,</div>
                </div>
                <div class="d-flex flex-justify-start flex-items-start">
                  <div class="blob-num blame-blob-num color-bg-subtle js-line-number" id="L418">418</div>
                  <div class="blob-code blob-code-inner js-file-line" id="LC418">    <span class="pl-s"><span class="pl-pds">&quot;</span><span class="pl-cce">\n</span><span class="pl-pds">&quot;</span></span>,</div>
                </div>
                <div class="d-flex flex-justify-start flex-items-start">
                  <div class="blob-num blame-blob-num color-bg-subtle js-line-number" id="L419">419</div>
                  <div class="blob-code blob-code-inner js-file-line" id="LC419">    <span class="pl-s"><span class="pl-pds">&quot;</span>while len(validation_predictions) &lt; len(validation_target):<span class="pl-cce">\n</span><span class="pl-pds">&quot;</span></span>,</div>
                </div>
                <div class="d-flex flex-justify-start flex-items-start">
                  <div class="blob-num blame-blob-num color-bg-subtle js-line-number" id="L420">420</div>
                  <div class="blob-code blob-code-inner js-file-line" id="LC420">    <span class="pl-s"><span class="pl-pds">&quot;</span>    p = model.predict(X[i].reshape(1, -1, 1))[0,0]<span class="pl-cce">\n</span><span class="pl-pds">&quot;</span></span>,</div>
                </div>
                <div class="d-flex flex-justify-start flex-items-start">
                  <div class="blob-num blame-blob-num color-bg-subtle js-line-number" id="L421">421</div>
                  <div class="blob-code blob-code-inner js-file-line" id="LC421">    <span class="pl-s"><span class="pl-pds">&quot;</span>    i += 1<span class="pl-cce">\n</span><span class="pl-pds">&quot;</span></span>,</div>
                </div>
                <div class="d-flex flex-justify-start flex-items-start">
                  <div class="blob-num blame-blob-num color-bg-subtle js-line-number" id="L422">422</div>
                  <div class="blob-code blob-code-inner js-file-line" id="LC422">    <span class="pl-s"><span class="pl-pds">&quot;</span>    <span class="pl-cce">\n</span><span class="pl-pds">&quot;</span></span>,</div>
                </div>
                <div class="d-flex flex-justify-start flex-items-start">
                  <div class="blob-num blame-blob-num color-bg-subtle js-line-number" id="L423">423</div>
                  <div class="blob-code blob-code-inner js-file-line" id="LC423">    <span class="pl-s"><span class="pl-pds">&quot;</span>    validation_predictions.append(p)<span class="pl-pds">&quot;</span></span></div>
                </div>
                <div class="d-flex flex-justify-start flex-items-start">
                  <div class="blob-num blame-blob-num color-bg-subtle js-line-number" id="L424">424</div>
                  <div class="blob-code blob-code-inner js-file-line" id="LC424">   ]</div>
                </div>
                <div class="d-flex flex-justify-start flex-items-start">
                  <div class="blob-num blame-blob-num color-bg-subtle js-line-number" id="L425">425</div>
                  <div class="blob-code blob-code-inner js-file-line" id="LC425">  },</div>
                </div>
                <div class="d-flex flex-justify-start flex-items-start">
                  <div class="blob-num blame-blob-num color-bg-subtle js-line-number" id="L426">426</div>
                  <div class="blob-code blob-code-inner js-file-line" id="LC426">  {</div>
                </div>
                <div class="d-flex flex-justify-start flex-items-start">
                  <div class="blob-num blame-blob-num color-bg-subtle js-line-number" id="L427">427</div>
                  <div class="blob-code blob-code-inner js-file-line" id="LC427">   <span class="pl-ent">&quot;cell_type&quot;</span>: <span class="pl-s"><span class="pl-pds">&quot;</span>code<span class="pl-pds">&quot;</span></span>,</div>
                </div>
                <div class="d-flex flex-justify-start flex-items-start">
                  <div class="blob-num blame-blob-num color-bg-subtle js-line-number" id="L428">428</div>
                  <div class="blob-code blob-code-inner js-file-line" id="LC428">   <span class="pl-ent">&quot;execution_count&quot;</span>: <span class="pl-c1">20</span>,</div>
                </div>
                <div class="d-flex flex-justify-start flex-items-start">
                  <div class="blob-num blame-blob-num color-bg-subtle js-line-number" id="L429">429</div>
                  <div class="blob-code blob-code-inner js-file-line" id="LC429">   <span class="pl-ent">&quot;id&quot;</span>: <span class="pl-s"><span class="pl-pds">&quot;</span>5d4371d7<span class="pl-pds">&quot;</span></span>,</div>
                </div>
                <div class="d-flex flex-justify-start flex-items-start">
                  <div class="blob-num blame-blob-num color-bg-subtle js-line-number" id="L430">430</div>
                  <div class="blob-code blob-code-inner js-file-line" id="LC430">   <span class="pl-ent">&quot;metadata&quot;</span>: {},</div>
                </div>
                <div class="d-flex flex-justify-start flex-items-start">
                  <div class="blob-num blame-blob-num color-bg-subtle js-line-number" id="L431">431</div>
                  <div class="blob-code blob-code-inner js-file-line" id="LC431">   <span class="pl-ent">&quot;outputs&quot;</span>: [</div>
                </div>
                <div class="d-flex flex-justify-start flex-items-start">
                  <div class="blob-num blame-blob-num color-bg-subtle js-line-number" id="L432">432</div>
                  <div class="blob-code blob-code-inner js-file-line" id="LC432">    {</div>
                </div>
                <div class="d-flex flex-justify-start flex-items-start">
                  <div class="blob-num blame-blob-num color-bg-subtle js-line-number" id="L433">433</div>
                  <div class="blob-code blob-code-inner js-file-line" id="LC433">     <span class="pl-ent">&quot;data&quot;</span>: {</div>
                </div>
                <div class="d-flex flex-justify-start flex-items-start">
                  <div class="blob-num blame-blob-num color-bg-subtle js-line-number" id="L434">434</div>
                  <div class="blob-code blob-code-inner js-file-line" id="LC434">      <span class="pl-ent">&quot;text/plain&quot;</span>: [</div>
                </div>
                <div class="d-flex flex-justify-start flex-items-start">
                  <div class="blob-num blame-blob-num color-bg-subtle js-line-number" id="L435">435</div>
                  <div class="blob-code blob-code-inner js-file-line" id="LC435">       <span class="pl-s"><span class="pl-pds">&quot;</span>&lt;matplotlib.legend.Legend at 0x7fa0c80f87f0&gt;<span class="pl-pds">&quot;</span></span></div>
                </div>
                <div class="d-flex flex-justify-start flex-items-start">
                  <div class="blob-num blame-blob-num color-bg-subtle js-line-number" id="L436">436</div>
                  <div class="blob-code blob-code-inner js-file-line" id="LC436">      ]</div>
                </div>
                <div class="d-flex flex-justify-start flex-items-start">
                  <div class="blob-num blame-blob-num color-bg-subtle js-line-number" id="L437">437</div>
                  <div class="blob-code blob-code-inner js-file-line" id="LC437">     },</div>
                </div>
                <div class="d-flex flex-justify-start flex-items-start">
                  <div class="blob-num blame-blob-num color-bg-subtle js-line-number" id="L438">438</div>
                  <div class="blob-code blob-code-inner js-file-line" id="LC438">     <span class="pl-ent">&quot;execution_count&quot;</span>: <span class="pl-c1">20</span>,</div>
                </div>
                <div class="d-flex flex-justify-start flex-items-start">
                  <div class="blob-num blame-blob-num color-bg-subtle js-line-number" id="L439">439</div>
                  <div class="blob-code blob-code-inner js-file-line" id="LC439">     <span class="pl-ent">&quot;metadata&quot;</span>: {},</div>
                </div>
                <div class="d-flex flex-justify-start flex-items-start">
                  <div class="blob-num blame-blob-num color-bg-subtle js-line-number" id="L440">440</div>
                  <div class="blob-code blob-code-inner js-file-line" id="LC440">     <span class="pl-ent">&quot;output_type&quot;</span>: <span class="pl-s"><span class="pl-pds">&quot;</span>execute_result<span class="pl-pds">&quot;</span></span></div>
                </div>
                <div class="d-flex flex-justify-start flex-items-start">
                  <div class="blob-num blame-blob-num color-bg-subtle js-line-number" id="L441">441</div>
                  <div class="blob-code blob-code-inner js-file-line" id="LC441">    },</div>
                </div>
                <div class="d-flex flex-justify-start flex-items-start">
                  <div class="blob-num blame-blob-num color-bg-subtle js-line-number" id="L442">442</div>
                  <div class="blob-code blob-code-inner js-file-line" id="LC442">    {</div>
                </div>
                <div class="d-flex flex-justify-start flex-items-start">
                  <div class="blob-num blame-blob-num color-bg-subtle js-line-number" id="L443">443</div>
                  <div class="blob-code blob-code-inner js-file-line" id="LC443">     <span class="pl-ent">&quot;data&quot;</span>: {</div>
                </div>
                <div class="d-flex flex-justify-start flex-items-start">
                  <div class="blob-num blame-blob-num color-bg-subtle js-line-number" id="L444">444</div>
                  <div class="blob-code blob-code-inner js-file-line" id="LC444">      &quot;image/png&quot;: &quot;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\n&quot;,</div>
                </div>
                <div class="d-flex flex-justify-start flex-items-start">
                  <div class="blob-num blame-blob-num color-bg-subtle js-line-number" id="L445">445</div>
                  <div class="blob-code blob-code-inner js-file-line" id="LC445">      <span class="pl-ent">&quot;text/plain&quot;</span>: [</div>
                </div>
                <div class="d-flex flex-justify-start flex-items-start">
                  <div class="blob-num blame-blob-num color-bg-subtle js-line-number" id="L446">446</div>
                  <div class="blob-code blob-code-inner js-file-line" id="LC446">       <span class="pl-s"><span class="pl-pds">&quot;</span>&lt;Figure size 432x288 with 1 Axes&gt;<span class="pl-pds">&quot;</span></span></div>
                </div>
                <div class="d-flex flex-justify-start flex-items-start">
                  <div class="blob-num blame-blob-num color-bg-subtle js-line-number" id="L447">447</div>
                  <div class="blob-code blob-code-inner js-file-line" id="LC447">      ]</div>
                </div>
                <div class="d-flex flex-justify-start flex-items-start">
                  <div class="blob-num blame-blob-num color-bg-subtle js-line-number" id="L448">448</div>
                  <div class="blob-code blob-code-inner js-file-line" id="LC448">     },</div>
                </div>
                <div class="d-flex flex-justify-start flex-items-start">
                  <div class="blob-num blame-blob-num color-bg-subtle js-line-number" id="L449">449</div>
                  <div class="blob-code blob-code-inner js-file-line" id="LC449">     <span class="pl-ent">&quot;metadata&quot;</span>: {</div>
                </div>
                <div class="d-flex flex-justify-start flex-items-start">
                  <div class="blob-num blame-blob-num color-bg-subtle js-line-number" id="L450">450</div>
                  <div class="blob-code blob-code-inner js-file-line" id="LC450">      <span class="pl-ent">&quot;needs_background&quot;</span>: <span class="pl-s"><span class="pl-pds">&quot;</span>light<span class="pl-pds">&quot;</span></span></div>
                </div>
                <div class="d-flex flex-justify-start flex-items-start">
                  <div class="blob-num blame-blob-num color-bg-subtle js-line-number" id="L451">451</div>
                  <div class="blob-code blob-code-inner js-file-line" id="LC451">     },</div>
                </div>
                <div class="d-flex flex-justify-start flex-items-start">
                  <div class="blob-num blame-blob-num color-bg-subtle js-line-number" id="L452">452</div>
                  <div class="blob-code blob-code-inner js-file-line" id="LC452">     <span class="pl-ent">&quot;output_type&quot;</span>: <span class="pl-s"><span class="pl-pds">&quot;</span>display_data<span class="pl-pds">&quot;</span></span></div>
                </div>
                <div class="d-flex flex-justify-start flex-items-start">
                  <div class="blob-num blame-blob-num color-bg-subtle js-line-number" id="L453">453</div>
                  <div class="blob-code blob-code-inner js-file-line" id="LC453">    }</div>
                </div>
                <div class="d-flex flex-justify-start flex-items-start">
                  <div class="blob-num blame-blob-num color-bg-subtle js-line-number" id="L454">454</div>
                  <div class="blob-code blob-code-inner js-file-line" id="LC454">   ],</div>
                </div>
                <div class="d-flex flex-justify-start flex-items-start">
                  <div class="blob-num blame-blob-num color-bg-subtle js-line-number" id="L455">455</div>
                  <div class="blob-code blob-code-inner js-file-line" id="LC455">   <span class="pl-ent">&quot;source&quot;</span>: [</div>
                </div>
                <div class="d-flex flex-justify-start flex-items-start">
                  <div class="blob-num blame-blob-num color-bg-subtle js-line-number" id="L456">456</div>
                  <div class="blob-code blob-code-inner js-file-line" id="LC456">    <span class="pl-s"><span class="pl-pds">&quot;</span>plt.plot(validation_target, label=&#39;validation_target&#39;)<span class="pl-cce">\n</span><span class="pl-pds">&quot;</span></span>,</div>
                </div>
                <div class="d-flex flex-justify-start flex-items-start">
                  <div class="blob-num blame-blob-num color-bg-subtle js-line-number" id="L457">457</div>
                  <div class="blob-code blob-code-inner js-file-line" id="LC457">    <span class="pl-s"><span class="pl-pds">&quot;</span>plt.plot(validation_predictions, label=&#39;validation_predictions&#39;)<span class="pl-cce">\n</span><span class="pl-pds">&quot;</span></span>,</div>
                </div>
                <div class="d-flex flex-justify-start flex-items-start">
                  <div class="blob-num blame-blob-num color-bg-subtle js-line-number" id="L458">458</div>
                  <div class="blob-code blob-code-inner js-file-line" id="LC458">    <span class="pl-s"><span class="pl-pds">&quot;</span>plt.legend()<span class="pl-pds">&quot;</span></span></div>
                </div>
                <div class="d-flex flex-justify-start flex-items-start">
                  <div class="blob-num blame-blob-num color-bg-subtle js-line-number" id="L459">459</div>
                  <div class="blob-code blob-code-inner js-file-line" id="LC459">   ]</div>
                </div>
                <div class="d-flex flex-justify-start flex-items-start">
                  <div class="blob-num blame-blob-num color-bg-subtle js-line-number" id="L460">460</div>
                  <div class="blob-code blob-code-inner js-file-line" id="LC460">  },</div>
                </div>
                <div class="d-flex flex-justify-start flex-items-start">
                  <div class="blob-num blame-blob-num color-bg-subtle js-line-number" id="L461">461</div>
                  <div class="blob-code blob-code-inner js-file-line" id="LC461">  {</div>
                </div>
                <div class="d-flex flex-justify-start flex-items-start">
                  <div class="blob-num blame-blob-num color-bg-subtle js-line-number" id="L462">462</div>
                  <div class="blob-code blob-code-inner js-file-line" id="LC462">   <span class="pl-ent">&quot;cell_type&quot;</span>: <span class="pl-s"><span class="pl-pds">&quot;</span>code<span class="pl-pds">&quot;</span></span>,</div>
                </div>
                <div class="d-flex flex-justify-start flex-items-start">
                  <div class="blob-num blame-blob-num color-bg-subtle js-line-number" id="L463">463</div>
                  <div class="blob-code blob-code-inner js-file-line" id="LC463">   <span class="pl-ent">&quot;execution_count&quot;</span>: <span class="pl-c1">21</span>,</div>
                </div>
                <div class="d-flex flex-justify-start flex-items-start">
                  <div class="blob-num blame-blob-num color-bg-subtle js-line-number" id="L464">464</div>
                  <div class="blob-code blob-code-inner js-file-line" id="LC464">   <span class="pl-ent">&quot;id&quot;</span>: <span class="pl-s"><span class="pl-pds">&quot;</span>d9fb897d<span class="pl-pds">&quot;</span></span>,</div>
                </div>
                <div class="d-flex flex-justify-start flex-items-start">
                  <div class="blob-num blame-blob-num color-bg-subtle js-line-number" id="L465">465</div>
                  <div class="blob-code blob-code-inner js-file-line" id="LC465">   <span class="pl-ent">&quot;metadata&quot;</span>: {},</div>
                </div>
                <div class="d-flex flex-justify-start flex-items-start">
                  <div class="blob-num blame-blob-num color-bg-subtle js-line-number" id="L466">466</div>
                  <div class="blob-code blob-code-inner js-file-line" id="LC466">   <span class="pl-ent">&quot;outputs&quot;</span>: [],</div>
                </div>
                <div class="d-flex flex-justify-start flex-items-start">
                  <div class="blob-num blame-blob-num color-bg-subtle js-line-number" id="L467">467</div>
                  <div class="blob-code blob-code-inner js-file-line" id="LC467">   <span class="pl-ent">&quot;source&quot;</span>: [</div>
                </div>
                <div class="d-flex flex-justify-start flex-items-start">
                  <div class="blob-num blame-blob-num color-bg-subtle js-line-number" id="L468">468</div>
                  <div class="blob-code blob-code-inner js-file-line" id="LC468">    <span class="pl-s"><span class="pl-pds">&quot;</span># Forecast future values<span class="pl-cce">\n</span><span class="pl-pds">&quot;</span></span>,</div>
                </div>
                <div class="d-flex flex-justify-start flex-items-start">
                  <div class="blob-num blame-blob-num color-bg-subtle js-line-number" id="L469">469</div>
                  <div class="blob-code blob-code-inner js-file-line" id="LC469">    <span class="pl-s"><span class="pl-pds">&quot;</span>validation_target = Y[-N//2:]<span class="pl-cce">\n</span><span class="pl-pds">&quot;</span></span>,</div>
                </div>
                <div class="d-flex flex-justify-start flex-items-start">
                  <div class="blob-num blame-blob-num color-bg-subtle js-line-number" id="L470">470</div>
                  <div class="blob-code blob-code-inner js-file-line" id="LC470">    <span class="pl-s"><span class="pl-pds">&quot;</span>validation_predictions = []<span class="pl-cce">\n</span><span class="pl-pds">&quot;</span></span>,</div>
                </div>
                <div class="d-flex flex-justify-start flex-items-start">
                  <div class="blob-num blame-blob-num color-bg-subtle js-line-number" id="L471">471</div>
                  <div class="blob-code blob-code-inner js-file-line" id="LC471">    <span class="pl-s"><span class="pl-pds">&quot;</span><span class="pl-cce">\n</span><span class="pl-pds">&quot;</span></span>,</div>
                </div>
                <div class="d-flex flex-justify-start flex-items-start">
                  <div class="blob-num blame-blob-num color-bg-subtle js-line-number" id="L472">472</div>
                  <div class="blob-code blob-code-inner js-file-line" id="LC472">    <span class="pl-s"><span class="pl-pds">&quot;</span># last train input<span class="pl-cce">\n</span><span class="pl-pds">&quot;</span></span>,</div>
                </div>
                <div class="d-flex flex-justify-start flex-items-start">
                  <div class="blob-num blame-blob-num color-bg-subtle js-line-number" id="L473">473</div>
                  <div class="blob-code blob-code-inner js-file-line" id="LC473">    <span class="pl-s"><span class="pl-pds">&quot;</span>last_x = X[-N//2]  <span class="pl-cce">\n</span><span class="pl-pds">&quot;</span></span>,</div>
                </div>
                <div class="d-flex flex-justify-start flex-items-start">
                  <div class="blob-num blame-blob-num color-bg-subtle js-line-number" id="L474">474</div>
                  <div class="blob-code blob-code-inner js-file-line" id="LC474">    <span class="pl-s"><span class="pl-pds">&quot;</span><span class="pl-cce">\n</span><span class="pl-pds">&quot;</span></span>,</div>
                </div>
                <div class="d-flex flex-justify-start flex-items-start">
                  <div class="blob-num blame-blob-num color-bg-subtle js-line-number" id="L475">475</div>
                  <div class="blob-code blob-code-inner js-file-line" id="LC475">    <span class="pl-s"><span class="pl-pds">&quot;</span>while len(validation_predictions) &lt; len(validation_target):<span class="pl-cce">\n</span><span class="pl-pds">&quot;</span></span>,</div>
                </div>
                <div class="d-flex flex-justify-start flex-items-start">
                  <div class="blob-num blame-blob-num color-bg-subtle js-line-number" id="L476">476</div>
                  <div class="blob-code blob-code-inner js-file-line" id="LC476">    <span class="pl-s"><span class="pl-pds">&quot;</span>    p = model.predict(last_x.reshape(1, -1, 1))[0,0]<span class="pl-cce">\n</span><span class="pl-pds">&quot;</span></span>,</div>
                </div>
                <div class="d-flex flex-justify-start flex-items-start">
                  <div class="blob-num blame-blob-num color-bg-subtle js-line-number" id="L477">477</div>
                  <div class="blob-code blob-code-inner js-file-line" id="LC477">    <span class="pl-s"><span class="pl-pds">&quot;</span>    <span class="pl-cce">\n</span><span class="pl-pds">&quot;</span></span>,</div>
                </div>
                <div class="d-flex flex-justify-start flex-items-start">
                  <div class="blob-num blame-blob-num color-bg-subtle js-line-number" id="L478">478</div>
                  <div class="blob-code blob-code-inner js-file-line" id="LC478">    <span class="pl-s"><span class="pl-pds">&quot;</span>    validation_predictions.append(p)<span class="pl-cce">\n</span><span class="pl-pds">&quot;</span></span>,</div>
                </div>
                <div class="d-flex flex-justify-start flex-items-start">
                  <div class="blob-num blame-blob-num color-bg-subtle js-line-number" id="L479">479</div>
                  <div class="blob-code blob-code-inner js-file-line" id="LC479">    <span class="pl-s"><span class="pl-pds">&quot;</span>    <span class="pl-cce">\n</span><span class="pl-pds">&quot;</span></span>,</div>
                </div>
                <div class="d-flex flex-justify-start flex-items-start">
                  <div class="blob-num blame-blob-num color-bg-subtle js-line-number" id="L480">480</div>
                  <div class="blob-code blob-code-inner js-file-line" id="LC480">    <span class="pl-s"><span class="pl-pds">&quot;</span>    last_x = np.roll(last_x, -1)<span class="pl-cce">\n</span><span class="pl-pds">&quot;</span></span>,</div>
                </div>
                <div class="d-flex flex-justify-start flex-items-start">
                  <div class="blob-num blame-blob-num color-bg-subtle js-line-number" id="L481">481</div>
                  <div class="blob-code blob-code-inner js-file-line" id="LC481">    <span class="pl-s"><span class="pl-pds">&quot;</span>#     print(last_x)<span class="pl-cce">\n</span><span class="pl-pds">&quot;</span></span>,</div>
                </div>
                <div class="d-flex flex-justify-start flex-items-start">
                  <div class="blob-num blame-blob-num color-bg-subtle js-line-number" id="L482">482</div>
                  <div class="blob-code blob-code-inner js-file-line" id="LC482">    <span class="pl-s"><span class="pl-pds">&quot;</span>    last_x[-1] = p<span class="pl-pds">&quot;</span></span></div>
                </div>
                <div class="d-flex flex-justify-start flex-items-start">
                  <div class="blob-num blame-blob-num color-bg-subtle js-line-number" id="L483">483</div>
                  <div class="blob-code blob-code-inner js-file-line" id="LC483">   ]</div>
                </div>
                <div class="d-flex flex-justify-start flex-items-start">
                  <div class="blob-num blame-blob-num color-bg-subtle js-line-number" id="L484">484</div>
                  <div class="blob-code blob-code-inner js-file-line" id="LC484">  },</div>
                </div>
                <div class="d-flex flex-justify-start flex-items-start">
                  <div class="blob-num blame-blob-num color-bg-subtle js-line-number" id="L485">485</div>
                  <div class="blob-code blob-code-inner js-file-line" id="LC485">  {</div>
                </div>
                <div class="d-flex flex-justify-start flex-items-start">
                  <div class="blob-num blame-blob-num color-bg-subtle js-line-number" id="L486">486</div>
                  <div class="blob-code blob-code-inner js-file-line" id="LC486">   <span class="pl-ent">&quot;cell_type&quot;</span>: <span class="pl-s"><span class="pl-pds">&quot;</span>code<span class="pl-pds">&quot;</span></span>,</div>
                </div>
                <div class="d-flex flex-justify-start flex-items-start">
                  <div class="blob-num blame-blob-num color-bg-subtle js-line-number" id="L487">487</div>
                  <div class="blob-code blob-code-inner js-file-line" id="LC487">   <span class="pl-ent">&quot;execution_count&quot;</span>: <span class="pl-c1">22</span>,</div>
                </div>
                <div class="d-flex flex-justify-start flex-items-start">
                  <div class="blob-num blame-blob-num color-bg-subtle js-line-number" id="L488">488</div>
                  <div class="blob-code blob-code-inner js-file-line" id="LC488">   <span class="pl-ent">&quot;id&quot;</span>: <span class="pl-s"><span class="pl-pds">&quot;</span>69ba4fae<span class="pl-pds">&quot;</span></span>,</div>
                </div>
                <div class="d-flex flex-justify-start flex-items-start">
                  <div class="blob-num blame-blob-num color-bg-subtle js-line-number" id="L489">489</div>
                  <div class="blob-code blob-code-inner js-file-line" id="LC489">   <span class="pl-ent">&quot;metadata&quot;</span>: {},</div>
                </div>
                <div class="d-flex flex-justify-start flex-items-start">
                  <div class="blob-num blame-blob-num color-bg-subtle js-line-number" id="L490">490</div>
                  <div class="blob-code blob-code-inner js-file-line" id="LC490">   <span class="pl-ent">&quot;outputs&quot;</span>: [</div>
                </div>
                <div class="d-flex flex-justify-start flex-items-start">
                  <div class="blob-num blame-blob-num color-bg-subtle js-line-number" id="L491">491</div>
                  <div class="blob-code blob-code-inner js-file-line" id="LC491">    {</div>
                </div>
                <div class="d-flex flex-justify-start flex-items-start">
                  <div class="blob-num blame-blob-num color-bg-subtle js-line-number" id="L492">492</div>
                  <div class="blob-code blob-code-inner js-file-line" id="LC492">     <span class="pl-ent">&quot;data&quot;</span>: {</div>
                </div>
                <div class="d-flex flex-justify-start flex-items-start">
                  <div class="blob-num blame-blob-num color-bg-subtle js-line-number" id="L493">493</div>
                  <div class="blob-code blob-code-inner js-file-line" id="LC493">      <span class="pl-ent">&quot;text/plain&quot;</span>: [</div>
                </div>
                <div class="d-flex flex-justify-start flex-items-start">
                  <div class="blob-num blame-blob-num color-bg-subtle js-line-number" id="L494">494</div>
                  <div class="blob-code blob-code-inner js-file-line" id="LC494">       <span class="pl-s"><span class="pl-pds">&quot;</span>&lt;matplotlib.legend.Legend at 0x7fa0dbfa2130&gt;<span class="pl-pds">&quot;</span></span></div>
                </div>
                <div class="d-flex flex-justify-start flex-items-start">
                  <div class="blob-num blame-blob-num color-bg-subtle js-line-number" id="L495">495</div>
                  <div class="blob-code blob-code-inner js-file-line" id="LC495">      ]</div>
                </div>
                <div class="d-flex flex-justify-start flex-items-start">
                  <div class="blob-num blame-blob-num color-bg-subtle js-line-number" id="L496">496</div>
                  <div class="blob-code blob-code-inner js-file-line" id="LC496">     },</div>
                </div>
                <div class="d-flex flex-justify-start flex-items-start">
                  <div class="blob-num blame-blob-num color-bg-subtle js-line-number" id="L497">497</div>
                  <div class="blob-code blob-code-inner js-file-line" id="LC497">     <span class="pl-ent">&quot;execution_count&quot;</span>: <span class="pl-c1">22</span>,</div>
                </div>
                <div class="d-flex flex-justify-start flex-items-start">
                  <div class="blob-num blame-blob-num color-bg-subtle js-line-number" id="L498">498</div>
                  <div class="blob-code blob-code-inner js-file-line" id="LC498">     <span class="pl-ent">&quot;metadata&quot;</span>: {},</div>
                </div>
                <div class="d-flex flex-justify-start flex-items-start">
                  <div class="blob-num blame-blob-num color-bg-subtle js-line-number" id="L499">499</div>
                  <div class="blob-code blob-code-inner js-file-line" id="LC499">     <span class="pl-ent">&quot;output_type&quot;</span>: <span class="pl-s"><span class="pl-pds">&quot;</span>execute_result<span class="pl-pds">&quot;</span></span></div>
                </div>
                <div class="d-flex flex-justify-start flex-items-start">
                  <div class="blob-num blame-blob-num color-bg-subtle js-line-number" id="L500">500</div>
                  <div class="blob-code blob-code-inner js-file-line" id="LC500">    },</div>
                </div>
                <div class="d-flex flex-justify-start flex-items-start">
                  <div class="blob-num blame-blob-num color-bg-subtle js-line-number" id="L501">501</div>
                  <div class="blob-code blob-code-inner js-file-line" id="LC501">    {</div>
                </div>
                <div class="d-flex flex-justify-start flex-items-start">
                  <div class="blob-num blame-blob-num color-bg-subtle js-line-number" id="L502">502</div>
                  <div class="blob-code blob-code-inner js-file-line" id="LC502">     <span class="pl-ent">&quot;data&quot;</span>: {</div>
                </div>
                <div class="d-flex flex-justify-start flex-items-start">
                  <div class="blob-num blame-blob-num color-bg-subtle js-line-number" id="L503">503</div>
                  <div class="blob-code blob-code-inner js-file-line" id="LC503">      &quot;image/png&quot;: &quot;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\n&quot;,</div>
                </div>
                <div class="d-flex flex-justify-start flex-items-start">
                  <div class="blob-num blame-blob-num color-bg-subtle js-line-number" id="L504">504</div>
                  <div class="blob-code blob-code-inner js-file-line" id="LC504">      <span class="pl-ent">&quot;text/plain&quot;</span>: [</div>
                </div>
                <div class="d-flex flex-justify-start flex-items-start">
                  <div class="blob-num blame-blob-num color-bg-subtle js-line-number" id="L505">505</div>
                  <div class="blob-code blob-code-inner js-file-line" id="LC505">       <span class="pl-s"><span class="pl-pds">&quot;</span>&lt;Figure size 432x288 with 1 Axes&gt;<span class="pl-pds">&quot;</span></span></div>
                </div>
                <div class="d-flex flex-justify-start flex-items-start">
                  <div class="blob-num blame-blob-num color-bg-subtle js-line-number" id="L506">506</div>
                  <div class="blob-code blob-code-inner js-file-line" id="LC506">      ]</div>
                </div>
                <div class="d-flex flex-justify-start flex-items-start">
                  <div class="blob-num blame-blob-num color-bg-subtle js-line-number" id="L507">507</div>
                  <div class="blob-code blob-code-inner js-file-line" id="LC507">     },</div>
                </div>
                <div class="d-flex flex-justify-start flex-items-start">
                  <div class="blob-num blame-blob-num color-bg-subtle js-line-number" id="L508">508</div>
                  <div class="blob-code blob-code-inner js-file-line" id="LC508">     <span class="pl-ent">&quot;metadata&quot;</span>: {</div>
                </div>
                <div class="d-flex flex-justify-start flex-items-start">
                  <div class="blob-num blame-blob-num color-bg-subtle js-line-number" id="L509">509</div>
                  <div class="blob-code blob-code-inner js-file-line" id="LC509">      <span class="pl-ent">&quot;needs_background&quot;</span>: <span class="pl-s"><span class="pl-pds">&quot;</span>light<span class="pl-pds">&quot;</span></span></div>
                </div>
                <div class="d-flex flex-justify-start flex-items-start">
                  <div class="blob-num blame-blob-num color-bg-subtle js-line-number" id="L510">510</div>
                  <div class="blob-code blob-code-inner js-file-line" id="LC510">     },</div>
                </div>
                <div class="d-flex flex-justify-start flex-items-start">
                  <div class="blob-num blame-blob-num color-bg-subtle js-line-number" id="L511">511</div>
                  <div class="blob-code blob-code-inner js-file-line" id="LC511">     <span class="pl-ent">&quot;output_type&quot;</span>: <span class="pl-s"><span class="pl-pds">&quot;</span>display_data<span class="pl-pds">&quot;</span></span></div>
                </div>
                <div class="d-flex flex-justify-start flex-items-start">
                  <div class="blob-num blame-blob-num color-bg-subtle js-line-number" id="L512">512</div>
                  <div class="blob-code blob-code-inner js-file-line" id="LC512">    }</div>
                </div>
                <div class="d-flex flex-justify-start flex-items-start">
                  <div class="blob-num blame-blob-num color-bg-subtle js-line-number" id="L513">513</div>
                  <div class="blob-code blob-code-inner js-file-line" id="LC513">   ],</div>
                </div>
                <div class="d-flex flex-justify-start flex-items-start">
                  <div class="blob-num blame-blob-num color-bg-subtle js-line-number" id="L514">514</div>
                  <div class="blob-code blob-code-inner js-file-line" id="LC514">   <span class="pl-ent">&quot;source&quot;</span>: [</div>
                </div>
                <div class="d-flex flex-justify-start flex-items-start">
                  <div class="blob-num blame-blob-num color-bg-subtle js-line-number" id="L515">515</div>
                  <div class="blob-code blob-code-inner js-file-line" id="LC515">    <span class="pl-s"><span class="pl-pds">&quot;</span>plt.plot(validation_target, label=&#39;validation_target&#39;)<span class="pl-cce">\n</span><span class="pl-pds">&quot;</span></span>,</div>
                </div>
                <div class="d-flex flex-justify-start flex-items-start">
                  <div class="blob-num blame-blob-num color-bg-subtle js-line-number" id="L516">516</div>
                  <div class="blob-code blob-code-inner js-file-line" id="LC516">    <span class="pl-s"><span class="pl-pds">&quot;</span>plt.plot(validation_predictions, label=&#39;validation_predictions&#39;)<span class="pl-cce">\n</span><span class="pl-pds">&quot;</span></span>,</div>
                </div>
                <div class="d-flex flex-justify-start flex-items-start">
                  <div class="blob-num blame-blob-num color-bg-subtle js-line-number" id="L517">517</div>
                  <div class="blob-code blob-code-inner js-file-line" id="LC517">    <span class="pl-s"><span class="pl-pds">&quot;</span>plt.legend()<span class="pl-pds">&quot;</span></span></div>
                </div>
                <div class="d-flex flex-justify-start flex-items-start">
                  <div class="blob-num blame-blob-num color-bg-subtle js-line-number" id="L518">518</div>
                  <div class="blob-code blob-code-inner js-file-line" id="LC518">   ]</div>
                </div>
                <div class="d-flex flex-justify-start flex-items-start">
                  <div class="blob-num blame-blob-num color-bg-subtle js-line-number" id="L519">519</div>
                  <div class="blob-code blob-code-inner js-file-line" id="LC519">  },</div>
                </div>
                <div class="d-flex flex-justify-start flex-items-start">
                  <div class="blob-num blame-blob-num color-bg-subtle js-line-number" id="L520">520</div>
                  <div class="blob-code blob-code-inner js-file-line" id="LC520">  {</div>
                </div>
                <div class="d-flex flex-justify-start flex-items-start">
                  <div class="blob-num blame-blob-num color-bg-subtle js-line-number" id="L521">521</div>
                  <div class="blob-code blob-code-inner js-file-line" id="LC521">   <span class="pl-ent">&quot;cell_type&quot;</span>: <span class="pl-s"><span class="pl-pds">&quot;</span>code<span class="pl-pds">&quot;</span></span>,</div>
                </div>
                <div class="d-flex flex-justify-start flex-items-start">
                  <div class="blob-num blame-blob-num color-bg-subtle js-line-number" id="L522">522</div>
                  <div class="blob-code blob-code-inner js-file-line" id="LC522">   <span class="pl-ent">&quot;execution_count&quot;</span>: <span class="pl-c1">null</span>,</div>
                </div>
                <div class="d-flex flex-justify-start flex-items-start">
                  <div class="blob-num blame-blob-num color-bg-subtle js-line-number" id="L523">523</div>
                  <div class="blob-code blob-code-inner js-file-line" id="LC523">   <span class="pl-ent">&quot;id&quot;</span>: <span class="pl-s"><span class="pl-pds">&quot;</span>f0523da4<span class="pl-pds">&quot;</span></span>,</div>
                </div>
                <div class="d-flex flex-justify-start flex-items-start">
                  <div class="blob-num blame-blob-num color-bg-subtle js-line-number" id="L524">524</div>
                  <div class="blob-code blob-code-inner js-file-line" id="LC524">   <span class="pl-ent">&quot;metadata&quot;</span>: {},</div>
                </div>
                <div class="d-flex flex-justify-start flex-items-start">
                  <div class="blob-num blame-blob-num color-bg-subtle js-line-number" id="L525">525</div>
                  <div class="blob-code blob-code-inner js-file-line" id="LC525">   <span class="pl-ent">&quot;outputs&quot;</span>: [],</div>
                </div>
                <div class="d-flex flex-justify-start flex-items-start">
                  <div class="blob-num blame-blob-num color-bg-subtle js-line-number" id="L526">526</div>
                  <div class="blob-code blob-code-inner js-file-line" id="LC526">   <span class="pl-ent">&quot;source&quot;</span>: []</div>
                </div>
                <div class="d-flex flex-justify-start flex-items-start">
                  <div class="blob-num blame-blob-num color-bg-subtle js-line-number" id="L527">527</div>
                  <div class="blob-code blob-code-inner js-file-line" id="LC527">  }</div>
                </div>
                <div class="d-flex flex-justify-start flex-items-start">
                  <div class="blob-num blame-blob-num color-bg-subtle js-line-number" id="L528">528</div>
                  <div class="blob-code blob-code-inner js-file-line" id="LC528"> ],</div>
                </div>
                <div class="d-flex flex-justify-start flex-items-start">
                  <div class="blob-num blame-blob-num color-bg-subtle js-line-number" id="L529">529</div>
                  <div class="blob-code blob-code-inner js-file-line" id="LC529"> <span class="pl-ent">&quot;metadata&quot;</span>: {</div>
                </div>
                <div class="d-flex flex-justify-start flex-items-start">
                  <div class="blob-num blame-blob-num color-bg-subtle js-line-number" id="L530">530</div>
                  <div class="blob-code blob-code-inner js-file-line" id="LC530">  <span class="pl-ent">&quot;kernelspec&quot;</span>: {</div>
                </div>
                <div class="d-flex flex-justify-start flex-items-start">
                  <div class="blob-num blame-blob-num color-bg-subtle js-line-number" id="L531">531</div>
                  <div class="blob-code blob-code-inner js-file-line" id="LC531">   <span class="pl-ent">&quot;display_name&quot;</span>: <span class="pl-s"><span class="pl-pds">&quot;</span>Python 3 (ipykernel)<span class="pl-pds">&quot;</span></span>,</div>
                </div>
                <div class="d-flex flex-justify-start flex-items-start">
                  <div class="blob-num blame-blob-num color-bg-subtle js-line-number" id="L532">532</div>
                  <div class="blob-code blob-code-inner js-file-line" id="LC532">   <span class="pl-ent">&quot;language&quot;</span>: <span class="pl-s"><span class="pl-pds">&quot;</span>python<span class="pl-pds">&quot;</span></span>,</div>
                </div>
                <div class="d-flex flex-justify-start flex-items-start">
                  <div class="blob-num blame-blob-num color-bg-subtle js-line-number" id="L533">533</div>
                  <div class="blob-code blob-code-inner js-file-line" id="LC533">   <span class="pl-ent">&quot;name&quot;</span>: <span class="pl-s"><span class="pl-pds">&quot;</span>python3<span class="pl-pds">&quot;</span></span></div>
                </div>
                <div class="d-flex flex-justify-start flex-items-start">
                  <div class="blob-num blame-blob-num color-bg-subtle js-line-number" id="L534">534</div>
                  <div class="blob-code blob-code-inner js-file-line" id="LC534">  },</div>
                </div>
                <div class="d-flex flex-justify-start flex-items-start">
                  <div class="blob-num blame-blob-num color-bg-subtle js-line-number" id="L535">535</div>
                  <div class="blob-code blob-code-inner js-file-line" id="LC535">  <span class="pl-ent">&quot;language_info&quot;</span>: {</div>
                </div>
                <div class="d-flex flex-justify-start flex-items-start">
                  <div class="blob-num blame-blob-num color-bg-subtle js-line-number" id="L536">536</div>
                  <div class="blob-code blob-code-inner js-file-line" id="LC536">   <span class="pl-ent">&quot;codemirror_mode&quot;</span>: {</div>
                </div>
                <div class="d-flex flex-justify-start flex-items-start">
                  <div class="blob-num blame-blob-num color-bg-subtle js-line-number" id="L537">537</div>
                  <div class="blob-code blob-code-inner js-file-line" id="LC537">    <span class="pl-ent">&quot;name&quot;</span>: <span class="pl-s"><span class="pl-pds">&quot;</span>ipython<span class="pl-pds">&quot;</span></span>,</div>
                </div>
                <div class="d-flex flex-justify-start flex-items-start">
                  <div class="blob-num blame-blob-num color-bg-subtle js-line-number" id="L538">538</div>
                  <div class="blob-code blob-code-inner js-file-line" id="LC538">    <span class="pl-ent">&quot;version&quot;</span>: <span class="pl-c1">3</span></div>
                </div>
                <div class="d-flex flex-justify-start flex-items-start">
                  <div class="blob-num blame-blob-num color-bg-subtle js-line-number" id="L539">539</div>
                  <div class="blob-code blob-code-inner js-file-line" id="LC539">   },</div>
                </div>
                <div class="d-flex flex-justify-start flex-items-start">
                  <div class="blob-num blame-blob-num color-bg-subtle js-line-number" id="L540">540</div>
                  <div class="blob-code blob-code-inner js-file-line" id="LC540">   <span class="pl-ent">&quot;file_extension&quot;</span>: <span class="pl-s"><span class="pl-pds">&quot;</span>.py<span class="pl-pds">&quot;</span></span>,</div>
                </div>
                <div class="d-flex flex-justify-start flex-items-start">
                  <div class="blob-num blame-blob-num color-bg-subtle js-line-number" id="L541">541</div>
                  <div class="blob-code blob-code-inner js-file-line" id="LC541">   <span class="pl-ent">&quot;mimetype&quot;</span>: <span class="pl-s"><span class="pl-pds">&quot;</span>text/x-python<span class="pl-pds">&quot;</span></span>,</div>
                </div>
                <div class="d-flex flex-justify-start flex-items-start">
                  <div class="blob-num blame-blob-num color-bg-subtle js-line-number" id="L542">542</div>
                  <div class="blob-code blob-code-inner js-file-line" id="LC542">   <span class="pl-ent">&quot;name&quot;</span>: <span class="pl-s"><span class="pl-pds">&quot;</span>python<span class="pl-pds">&quot;</span></span>,</div>
                </div>
                <div class="d-flex flex-justify-start flex-items-start">
                  <div class="blob-num blame-blob-num color-bg-subtle js-line-number" id="L543">543</div>
                  <div class="blob-code blob-code-inner js-file-line" id="LC543">   <span class="pl-ent">&quot;nbconvert_exporter&quot;</span>: <span class="pl-s"><span class="pl-pds">&quot;</span>python<span class="pl-pds">&quot;</span></span>,</div>
                </div>
                <div class="d-flex flex-justify-start flex-items-start">
                  <div class="blob-num blame-blob-num color-bg-subtle js-line-number" id="L544">544</div>
                  <div class="blob-code blob-code-inner js-file-line" id="LC544">   <span class="pl-ent">&quot;pygments_lexer&quot;</span>: <span class="pl-s"><span class="pl-pds">&quot;</span>ipython3<span class="pl-pds">&quot;</span></span>,</div>
                </div>
                <div class="d-flex flex-justify-start flex-items-start">
                  <div class="blob-num blame-blob-num color-bg-subtle js-line-number" id="L545">545</div>
                  <div class="blob-code blob-code-inner js-file-line" id="LC545">   <span class="pl-ent">&quot;version&quot;</span>: <span class="pl-s"><span class="pl-pds">&quot;</span>3.8.12<span class="pl-pds">&quot;</span></span></div>
                </div>
                <div class="d-flex flex-justify-start flex-items-start">
                  <div class="blob-num blame-blob-num color-bg-subtle js-line-number" id="L546">546</div>
                  <div class="blob-code blob-code-inner js-file-line" id="LC546">  }</div>
                </div>
                <div class="d-flex flex-justify-start flex-items-start">
                  <div class="blob-num blame-blob-num color-bg-subtle js-line-number" id="L547">547</div>
                  <div class="blob-code blob-code-inner js-file-line" id="LC547"> },</div>
                </div>
                <div class="d-flex flex-justify-start flex-items-start">
                  <div class="blob-num blame-blob-num color-bg-subtle js-line-number" id="L548">548</div>
                  <div class="blob-code blob-code-inner js-file-line" id="LC548"> <span class="pl-ent">&quot;nbformat&quot;</span>: <span class="pl-c1">4</span>,</div>
                </div>
                <div class="d-flex flex-justify-start flex-items-start">
                  <div class="blob-num blame-blob-num color-bg-subtle js-line-number" id="L549">549</div>
                  <div class="blob-code blob-code-inner js-file-line" id="LC549"> <span class="pl-ent">&quot;nbformat_minor&quot;</span>: <span class="pl-c1">5</span></div>
                </div>
                <div class="d-flex flex-justify-start flex-items-start">
                  <div class="blob-num blame-blob-num color-bg-subtle js-line-number" id="L550">550</div>
                  <div class="blob-code blob-code-inner js-file-line" id="LC550">}</div>
                </div>
            </div>
          </div>
      </div>
    </div>

  </div>



  </div>
</div>

    </main>
  </div>

  </div>

          <footer class="footer width-full container-xl p-responsive" role="contentinfo">


  <div class="position-relative d-flex flex-items-center pb-2 f6 color-fg-muted border-top color-border-muted flex-column-reverse flex-lg-row flex-wrap flex-lg-nowrap mt-6 pt-6">
    <ul class="list-style-none d-flex flex-wrap col-0 col-lg-2 flex-justify-start flex-lg-justify-between mb-2 mb-lg-0">
      <li class="mt-2 mt-lg-0 d-flex flex-items-center">
        <a aria-label="Homepage" title="GitHub" class="footer-octicon mr-2" href="https://github.com">
          <svg aria-hidden="true" height="24" viewBox="0 0 16 16" version="1.1" width="24" data-view-component="true" class="octicon octicon-mark-github">
    <path fill-rule="evenodd" d="M8 0C3.58 0 0 3.58 0 8c0 3.54 2.29 6.53 5.47 7.59.4.07.55-.17.55-.38 0-.19-.01-.82-.01-1.49-2.01.37-2.53-.49-2.69-.94-.09-.23-.48-.94-.82-1.13-.28-.15-.68-.52-.01-.53.63-.01 1.08.58 1.23.82.72 1.21 1.87.87 2.33.66.07-.52.28-.87.51-1.07-1.78-.2-3.64-.89-3.64-3.95 0-.87.31-1.59.82-2.15-.08-.2-.36-1.02.08-2.12 0 0 .67-.21 2.2.82.64-.18 1.32-.27 2-.27.68 0 1.36.09 2 .27 1.53-1.04 2.2-.82 2.2-.82.44 1.1.16 1.92.08 2.12.51.56.82 1.27.82 2.15 0 3.07-1.87 3.75-3.65 3.95.29.25.54.73.54 1.48 0 1.07-.01 1.93-.01 2.2 0 .21.15.46.55.38A8.013 8.013 0 0016 8c0-4.42-3.58-8-8-8z"></path>
</svg>
</a>        <span>
        &copy; 2022 GitHub, Inc.
        </span>
      </li>
    </ul>
    <ul class="list-style-none d-flex flex-wrap col-12 col-lg-8 flex-justify-center flex-lg-justify-between mb-2 mb-lg-0">
        <li class="mr-3 mr-lg-0"><a href="https://docs.github.com/en/github/site-policy/github-terms-of-service" data-analytics-event="{&quot;category&quot;:&quot;Footer&quot;,&quot;action&quot;:&quot;go to terms&quot;,&quot;label&quot;:&quot;text:terms&quot;}">Terms</a></li>
        <li class="mr-3 mr-lg-0"><a href="https://docs.github.com/en/github/site-policy/github-privacy-statement" data-analytics-event="{&quot;category&quot;:&quot;Footer&quot;,&quot;action&quot;:&quot;go to privacy&quot;,&quot;label&quot;:&quot;text:privacy&quot;}">Privacy</a></li>
        <li class="mr-3 mr-lg-0"><a data-analytics-event="{&quot;category&quot;:&quot;Footer&quot;,&quot;action&quot;:&quot;go to security&quot;,&quot;label&quot;:&quot;text:security&quot;}" href="https://github.com/security">Security</a></li>
        <li class="mr-3 mr-lg-0"><a href="https://www.githubstatus.com/" data-analytics-event="{&quot;category&quot;:&quot;Footer&quot;,&quot;action&quot;:&quot;go to status&quot;,&quot;label&quot;:&quot;text:status&quot;}">Status</a></li>
        <li class="mr-3 mr-lg-0"><a data-ga-click="Footer, go to help, text:Docs" href="https://docs.github.com">Docs</a></li>
        <li class="mr-3 mr-lg-0"><a href="https://support.github.com?tags=dotcom-footer" data-analytics-event="{&quot;category&quot;:&quot;Footer&quot;,&quot;action&quot;:&quot;go to contact&quot;,&quot;label&quot;:&quot;text:contact&quot;}">Contact GitHub</a></li>
        <li class="mr-3 mr-lg-0"><a href="https://github.com/pricing" data-analytics-event="{&quot;category&quot;:&quot;Footer&quot;,&quot;action&quot;:&quot;go to Pricing&quot;,&quot;label&quot;:&quot;text:Pricing&quot;}">Pricing</a></li>
      <li class="mr-3 mr-lg-0"><a href="https://docs.github.com" data-analytics-event="{&quot;category&quot;:&quot;Footer&quot;,&quot;action&quot;:&quot;go to api&quot;,&quot;label&quot;:&quot;text:api&quot;}">API</a></li>
      <li class="mr-3 mr-lg-0"><a href="https://services.github.com" data-analytics-event="{&quot;category&quot;:&quot;Footer&quot;,&quot;action&quot;:&quot;go to training&quot;,&quot;label&quot;:&quot;text:training&quot;}">Training</a></li>
        <li class="mr-3 mr-lg-0"><a href="https://github.blog" data-analytics-event="{&quot;category&quot;:&quot;Footer&quot;,&quot;action&quot;:&quot;go to blog&quot;,&quot;label&quot;:&quot;text:blog&quot;}">Blog</a></li>
        <li><a data-ga-click="Footer, go to about, text:about" href="https://github.com/about">About</a></li>
    </ul>
  </div>
  <div class="d-flex flex-justify-center pb-6">
    <span class="f6 color-fg-muted"></span>
  </div>
</footer>




  <div id="ajax-error-message" class="ajax-error-message flash flash-error" hidden>
    <svg aria-hidden="true" height="16" viewBox="0 0 16 16" version="1.1" width="16" data-view-component="true" class="octicon octicon-alert">
    <path fill-rule="evenodd" d="M8.22 1.754a.25.25 0 00-.44 0L1.698 13.132a.25.25 0 00.22.368h12.164a.25.25 0 00.22-.368L8.22 1.754zm-1.763-.707c.659-1.234 2.427-1.234 3.086 0l6.082 11.378A1.75 1.75 0 0114.082 15H1.918a1.75 1.75 0 01-1.543-2.575L6.457 1.047zM9 11a1 1 0 11-2 0 1 1 0 012 0zm-.25-5.25a.75.75 0 00-1.5 0v2.5a.75.75 0 001.5 0v-2.5z"></path>
</svg>
    <button type="button" class="flash-close js-ajax-error-dismiss" aria-label="Dismiss error">
      <svg aria-hidden="true" height="16" viewBox="0 0 16 16" version="1.1" width="16" data-view-component="true" class="octicon octicon-x">
    <path fill-rule="evenodd" d="M3.72 3.72a.75.75 0 011.06 0L8 6.94l3.22-3.22a.75.75 0 111.06 1.06L9.06 8l3.22 3.22a.75.75 0 11-1.06 1.06L8 9.06l-3.22 3.22a.75.75 0 01-1.06-1.06L6.94 8 3.72 4.78a.75.75 0 010-1.06z"></path>
</svg>
    </button>
    You can’t perform that action at this time.
  </div>

  <div class="js-stale-session-flash flash flash-warn flash-banner" hidden
    >
    <svg aria-hidden="true" height="16" viewBox="0 0 16 16" version="1.1" width="16" data-view-component="true" class="octicon octicon-alert">
    <path fill-rule="evenodd" d="M8.22 1.754a.25.25 0 00-.44 0L1.698 13.132a.25.25 0 00.22.368h12.164a.25.25 0 00.22-.368L8.22 1.754zm-1.763-.707c.659-1.234 2.427-1.234 3.086 0l6.082 11.378A1.75 1.75 0 0114.082 15H1.918a1.75 1.75 0 01-1.543-2.575L6.457 1.047zM9 11a1 1 0 11-2 0 1 1 0 012 0zm-.25-5.25a.75.75 0 00-1.5 0v2.5a.75.75 0 001.5 0v-2.5z"></path>
</svg>
    <span class="js-stale-session-flash-signed-in" hidden>You signed in with another tab or window. <a href="">Reload</a> to refresh your session.</span>
    <span class="js-stale-session-flash-signed-out" hidden>You signed out in another tab or window. <a href="">Reload</a> to refresh your session.</span>
  </div>
    <template id="site-details-dialog">
  <details class="details-reset details-overlay details-overlay-dark lh-default color-fg-default hx_rsm" open>
    <summary role="button" aria-label="Close dialog"></summary>
    <details-dialog class="Box Box--overlay d-flex flex-column anim-fade-in fast hx_rsm-dialog hx_rsm-modal">
      <button class="Box-btn-octicon m-0 btn-octicon position-absolute right-0 top-0" type="button" aria-label="Close dialog" data-close-dialog>
        <svg aria-hidden="true" height="16" viewBox="0 0 16 16" version="1.1" width="16" data-view-component="true" class="octicon octicon-x">
    <path fill-rule="evenodd" d="M3.72 3.72a.75.75 0 011.06 0L8 6.94l3.22-3.22a.75.75 0 111.06 1.06L9.06 8l3.22 3.22a.75.75 0 11-1.06 1.06L8 9.06l-3.22 3.22a.75.75 0 01-1.06-1.06L6.94 8 3.72 4.78a.75.75 0 010-1.06z"></path>
</svg>
      </button>
      <div class="octocat-spinner my-6 js-details-dialog-spinner"></div>
    </details-dialog>
  </details>
</template>

    <div class="Popover js-hovercard-content position-absolute" style="display: none; outline: none;" tabindex="0">
  <div class="Popover-message Popover-message--bottom-left Popover-message--large Box color-shadow-large" style="width:360px;">
  </div>
</div>

    <template id="snippet-clipboard-copy-button">
  <div class="zeroclipboard-container position-absolute right-0 top-0">
    <clipboard-copy aria-label="Copy" class="ClipboardButton btn js-clipboard-copy m-2 p-0 tooltipped-no-delay" data-copy-feedback="Copied!" data-tooltip-direction="w">
      <svg aria-hidden="true" height="16" viewBox="0 0 16 16" version="1.1" width="16" data-view-component="true" class="octicon octicon-copy js-clipboard-copy-icon m-2">
    <path fill-rule="evenodd" d="M0 6.75C0 5.784.784 5 1.75 5h1.5a.75.75 0 010 1.5h-1.5a.25.25 0 00-.25.25v7.5c0 .138.112.25.25.25h7.5a.25.25 0 00.25-.25v-1.5a.75.75 0 011.5 0v1.5A1.75 1.75 0 019.25 16h-7.5A1.75 1.75 0 010 14.25v-7.5z"></path><path fill-rule="evenodd" d="M5 1.75C5 .784 5.784 0 6.75 0h7.5C15.216 0 16 .784 16 1.75v7.5A1.75 1.75 0 0114.25 11h-7.5A1.75 1.75 0 015 9.25v-7.5zm1.75-.25a.25.25 0 00-.25.25v7.5c0 .138.112.25.25.25h7.5a.25.25 0 00.25-.25v-7.5a.25.25 0 00-.25-.25h-7.5z"></path>
</svg>
      <svg aria-hidden="true" height="16" viewBox="0 0 16 16" version="1.1" width="16" data-view-component="true" class="octicon octicon-check js-clipboard-check-icon color-fg-success d-none m-2">
    <path fill-rule="evenodd" d="M13.78 4.22a.75.75 0 010 1.06l-7.25 7.25a.75.75 0 01-1.06 0L2.22 9.28a.75.75 0 011.06-1.06L6 10.94l6.72-6.72a.75.75 0 011.06 0z"></path>
</svg>
    </clipboard-copy>
  </div>
</template>


    <style>
      .user-mention[href$="/ansimhyang60"] {
        color: var(--color-user-mention-fg);
        background-color: var(--color-user-mention-bg);
        border-radius: 2px;
        margin-left: -2px;
        margin-right: -2px;
        padding: 0 2px;
      }
    </style>


  </body>
</html>

