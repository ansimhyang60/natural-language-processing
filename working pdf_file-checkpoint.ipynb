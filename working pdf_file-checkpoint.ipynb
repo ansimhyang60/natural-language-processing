{
 "cells": [
  {
   "cell_type": "code",
   "execution_count": 33,
   "id": "7e081ee8",
   "metadata": {},
   "outputs": [
    {
     "name": "stdout",
     "output_type": "stream",
     "text": [
      "Requirement already satisfied: PyPDF2 in c:\\programdata\\anaconda3\\lib\\site-packages (1.26.0)\n"
     ]
    }
   ],
   "source": [
    "!pip install PyPDF2"
   ]
  },
  {
   "cell_type": "code",
   "execution_count": 40,
   "id": "df26f7df",
   "metadata": {},
   "outputs": [],
   "source": [
    "import PyPDF2"
   ]
  },
  {
   "cell_type": "code",
   "execution_count": 41,
   "id": "bcdd808b",
   "metadata": {},
   "outputs": [],
   "source": [
    "f = open('KR_nlp.pdf', 'rb')"
   ]
  },
  {
   "cell_type": "code",
   "execution_count": 51,
   "id": "92527add",
   "metadata": {},
   "outputs": [],
   "source": [
    "pdf_reader = PyPDF2.PdfFileReader(f)"
   ]
  },
  {
   "cell_type": "code",
   "execution_count": 52,
   "id": "ff472d68",
   "metadata": {},
   "outputs": [
    {
     "data": {
      "text/plain": [
       "1"
      ]
     },
     "execution_count": 52,
     "metadata": {},
     "output_type": "execute_result"
    }
   ],
   "source": [
    "pdf_reader.numPages"
   ]
  },
  {
   "cell_type": "code",
   "execution_count": 43,
   "id": "ae2ce5be",
   "metadata": {},
   "outputs": [],
   "source": [
    "page_one = pdf_reader.getPage(0)"
   ]
  },
  {
   "cell_type": "code",
   "execution_count": 44,
   "id": "a2a03a2a",
   "metadata": {},
   "outputs": [
    {
     "data": {
      "text/plain": [
       "'!\"#!$%!!\"#$!\"%&\"\\'()\"#$*+#\"!\"#!$%\"&\\'()*#!+,!!\"!-#!$%\"&\\'.()*#,!/01!-#!234!56789!:;!<=>!?@AB!CDE!F!GHI!\"JKL!?>!J2K,!/MNO1!PQ!RS!T!KUV$!!\"!-#!$%,!\"J!W3?!-#!?<!XYZ![\"K\\\\H!-#!!]>!\"JK,!-#^_!-#!231!`a!<b>!cJK,!-#!/N!_^_!\"d?!eV$!J24!fA!F^a!g=a!HJ>!h?!i@Kj!kl!<=^m!HJ>!h?!D@K,!Wna/!RS?V$!opqr%!&\\'!\\nstu%!YB!!v!Rw%!xY<D!yzt7{%!W|}!\\'()*+!\\n~!!†@?!?‡#NL!GV$!}…—!R–!!\"!-#!$%ZB!ƒK,!}…—!R–?⁄!#‹!W3!#›4!−—1!1‰!„f/!,}…—,“!R–K,!”4!1‰•V$!\"}…—,!„#!‘!!]’!‚!FH!GL%!™ﬁaﬂ“,!„#pV!Ł;!„f?V$#!op!qr!ŒŠZB!•Ÿ#1!r/#!ŽıZ!h?!D@•V$!}…—!R–!„=ZB!Ył’!œ,!šR;!‰~I#%!%!€#¡<!žw!~Z!1•!}…—!R–1!žw%!T1¢?U!x£#!$%!~?!G,¤%!?¥;!}…—!R–Z!¦§a/!¨©?ª!E!F!GV$!«¬!§D!RAH!}…—!R–1!!Ył!T!KU?V$!«¬!§D⁄!KU!?31!„#’!¬¯B!°“®!1‰>!±¢A!²!„#“!,³´µ,!opqr,!,\\n¶¬opstu,!~4!‘!·“!¥!F!GV$!?z•!„#,!•Ÿ#ZB!€#¡<Z!¸¹!}ºH!»R§E!¼½!¾¿ª!!«¬!À}!~Z!¸ª!1‰1!g¬?U!RA’!!!p?<!XYZ!?¥!}…—>!R–K,!”;!ÁÂ!!Ył?V$!<=aﬂ“!«¬§D>!$%K,!Ãº!T1!KU,%!Ä›!„f>!<ﬁﬂ“!K,!-./(012\\n?!GV$!·>!¥#%!,«¬!§D,,!Ä›!„f“!,«¬3§D,%!,\\n«3¬§D,%!,\\n«¬§3D,!1!Å!’N!}…“!ÆÇ!F!GL%!?!T!’È!a¬•!RA!É_>!YB!`ZB!ı2K,!ÊH!~1!Ž’!op>!gA!ËÌK,!ÍL%Î?!G4!F!GV$!™ﬁaﬂ“%!!ÆÏN,!R–!É_¥!TZB!a¬•!É_>!ËÌK<!fA%!Ð?Ñ!ÒÓ?ª,!va!Ô“‘ÕÖ!Ã×4!D@•V$!!!'"
      ]
     },
     "execution_count": 44,
     "metadata": {},
     "output_type": "execute_result"
    }
   ],
   "source": [
    "page_one_text = page_one.extractText()\n",
    "page_one_text"
   ]
  },
  {
   "cell_type": "code",
   "execution_count": 62,
   "id": "7678e92e",
   "metadata": {},
   "outputs": [],
   "source": [
    "from tika import parser"
   ]
  },
  {
   "cell_type": "code",
   "execution_count": 61,
   "id": "b01032df",
   "metadata": {
    "collapsed": true
   },
   "outputs": [
    {
     "name": "stderr",
     "output_type": "stream",
     "text": [
      "2022-03-11 16:42:59,057 [MainThread  ] [ERROR]  Unable to run java; is it installed?\n",
      "2022-03-11 16:42:59,058 [MainThread  ] [ERROR]  Failed to receive startup confirmation from startServer.\n"
     ]
    },
    {
     "ename": "RuntimeError",
     "evalue": "Unable to start Tika server.",
     "output_type": "error",
     "traceback": [
      "\u001b[1;31m---------------------------------------------------------------------------\u001b[0m",
      "\u001b[1;31mRuntimeError\u001b[0m                              Traceback (most recent call last)",
      "\u001b[1;32m~\\AppData\\Local\\Temp/ipykernel_17116/2247796183.py\u001b[0m in \u001b[0;36m<module>\u001b[1;34m\u001b[0m\n\u001b[1;32m----> 1\u001b[1;33m \u001b[0mdata\u001b[0m \u001b[1;33m=\u001b[0m \u001b[0mparser\u001b[0m\u001b[1;33m.\u001b[0m\u001b[0mfrom_file\u001b[0m\u001b[1;33m(\u001b[0m\u001b[1;34m'KR_nlp.pdf'\u001b[0m\u001b[1;33m)\u001b[0m\u001b[1;33m\u001b[0m\u001b[1;33m\u001b[0m\u001b[0m\n\u001b[0m\u001b[0;32m      2\u001b[0m \u001b[0mdata\u001b[0m\u001b[1;33m\u001b[0m\u001b[1;33m\u001b[0m\u001b[0m\n",
      "\u001b[1;32mC:\\ProgramData\\Anaconda3\\lib\\site-packages\\tika\\parser.py\u001b[0m in \u001b[0;36mfrom_file\u001b[1;34m(filename, serverEndpoint, service, xmlContent, headers, config_path, requestOptions)\u001b[0m\n\u001b[0;32m     38\u001b[0m     '''\n\u001b[0;32m     39\u001b[0m     \u001b[1;32mif\u001b[0m \u001b[1;32mnot\u001b[0m \u001b[0mxmlContent\u001b[0m\u001b[1;33m:\u001b[0m\u001b[1;33m\u001b[0m\u001b[1;33m\u001b[0m\u001b[0m\n\u001b[1;32m---> 40\u001b[1;33m         \u001b[0moutput\u001b[0m \u001b[1;33m=\u001b[0m \u001b[0mparse1\u001b[0m\u001b[1;33m(\u001b[0m\u001b[0mservice\u001b[0m\u001b[1;33m,\u001b[0m \u001b[0mfilename\u001b[0m\u001b[1;33m,\u001b[0m \u001b[0mserverEndpoint\u001b[0m\u001b[1;33m,\u001b[0m \u001b[0mheaders\u001b[0m\u001b[1;33m=\u001b[0m\u001b[0mheaders\u001b[0m\u001b[1;33m,\u001b[0m \u001b[0mconfig_path\u001b[0m\u001b[1;33m=\u001b[0m\u001b[0mconfig_path\u001b[0m\u001b[1;33m,\u001b[0m \u001b[0mrequestOptions\u001b[0m\u001b[1;33m=\u001b[0m\u001b[0mrequestOptions\u001b[0m\u001b[1;33m)\u001b[0m\u001b[1;33m\u001b[0m\u001b[1;33m\u001b[0m\u001b[0m\n\u001b[0m\u001b[0;32m     41\u001b[0m     \u001b[1;32melse\u001b[0m\u001b[1;33m:\u001b[0m\u001b[1;33m\u001b[0m\u001b[1;33m\u001b[0m\u001b[0m\n\u001b[0;32m     42\u001b[0m         output = parse1(service, filename, serverEndpoint, services={'meta': '/meta', 'text': '/tika', 'all': '/rmeta/xml'},\n",
      "\u001b[1;32mC:\\ProgramData\\Anaconda3\\lib\\site-packages\\tika\\tika.py\u001b[0m in \u001b[0;36mparse1\u001b[1;34m(option, urlOrPath, serverEndpoint, verbose, tikaServerJar, responseMimeType, services, rawResponse, headers, config_path, requestOptions)\u001b[0m\n\u001b[0;32m    334\u001b[0m     \u001b[0mheaders\u001b[0m\u001b[1;33m.\u001b[0m\u001b[0mupdate\u001b[0m\u001b[1;33m(\u001b[0m\u001b[1;33m{\u001b[0m\u001b[1;34m'Accept'\u001b[0m\u001b[1;33m:\u001b[0m \u001b[0mresponseMimeType\u001b[0m\u001b[1;33m,\u001b[0m \u001b[1;34m'Content-Disposition'\u001b[0m\u001b[1;33m:\u001b[0m \u001b[0mmake_content_disposition_header\u001b[0m\u001b[1;33m(\u001b[0m\u001b[0mpath\u001b[0m\u001b[1;33m.\u001b[0m\u001b[0mencode\u001b[0m\u001b[1;33m(\u001b[0m\u001b[1;34m'utf-8'\u001b[0m\u001b[1;33m)\u001b[0m \u001b[1;32mif\u001b[0m \u001b[0mtype\u001b[0m\u001b[1;33m(\u001b[0m\u001b[0mpath\u001b[0m\u001b[1;33m)\u001b[0m \u001b[1;32mis\u001b[0m \u001b[0municode_string\u001b[0m \u001b[1;32melse\u001b[0m \u001b[0mpath\u001b[0m\u001b[1;33m)\u001b[0m\u001b[1;33m}\u001b[0m\u001b[1;33m)\u001b[0m\u001b[1;33m\u001b[0m\u001b[1;33m\u001b[0m\u001b[0m\n\u001b[0;32m    335\u001b[0m     \u001b[1;32mwith\u001b[0m \u001b[0murlOrPath\u001b[0m \u001b[1;32mif\u001b[0m \u001b[0m_is_file_object\u001b[0m\u001b[1;33m(\u001b[0m\u001b[0murlOrPath\u001b[0m\u001b[1;33m)\u001b[0m \u001b[1;32melse\u001b[0m \u001b[0mopen\u001b[0m\u001b[1;33m(\u001b[0m\u001b[0mpath\u001b[0m\u001b[1;33m,\u001b[0m \u001b[1;34m'rb'\u001b[0m\u001b[1;33m)\u001b[0m \u001b[1;32mas\u001b[0m \u001b[0mf\u001b[0m\u001b[1;33m:\u001b[0m\u001b[1;33m\u001b[0m\u001b[1;33m\u001b[0m\u001b[0m\n\u001b[1;32m--> 336\u001b[1;33m         status, response = callServer('put', serverEndpoint, service, f,\n\u001b[0m\u001b[0;32m    337\u001b[0m                                       \u001b[0mheaders\u001b[0m\u001b[1;33m,\u001b[0m \u001b[0mverbose\u001b[0m\u001b[1;33m,\u001b[0m \u001b[0mtikaServerJar\u001b[0m\u001b[1;33m,\u001b[0m \u001b[0mconfig_path\u001b[0m\u001b[1;33m=\u001b[0m\u001b[0mconfig_path\u001b[0m\u001b[1;33m,\u001b[0m\u001b[1;33m\u001b[0m\u001b[1;33m\u001b[0m\u001b[0m\n\u001b[0;32m    338\u001b[0m                                       rawResponse=rawResponse, requestOptions=requestOptions)\n",
      "\u001b[1;32mC:\\ProgramData\\Anaconda3\\lib\\site-packages\\tika\\tika.py\u001b[0m in \u001b[0;36mcallServer\u001b[1;34m(verb, serverEndpoint, service, data, headers, verbose, tikaServerJar, httpVerbs, classpath, rawResponse, config_path, requestOptions)\u001b[0m\n\u001b[0;32m    529\u001b[0m     \u001b[1;32mglobal\u001b[0m \u001b[0mTikaClientOnly\u001b[0m\u001b[1;33m\u001b[0m\u001b[1;33m\u001b[0m\u001b[0m\n\u001b[0;32m    530\u001b[0m     \u001b[1;32mif\u001b[0m \u001b[1;32mnot\u001b[0m \u001b[0mTikaClientOnly\u001b[0m\u001b[1;33m:\u001b[0m\u001b[1;33m\u001b[0m\u001b[1;33m\u001b[0m\u001b[0m\n\u001b[1;32m--> 531\u001b[1;33m         \u001b[0mserverEndpoint\u001b[0m \u001b[1;33m=\u001b[0m \u001b[0mcheckTikaServer\u001b[0m\u001b[1;33m(\u001b[0m\u001b[0mscheme\u001b[0m\u001b[1;33m,\u001b[0m \u001b[0mserverHost\u001b[0m\u001b[1;33m,\u001b[0m \u001b[0mport\u001b[0m\u001b[1;33m,\u001b[0m \u001b[0mtikaServerJar\u001b[0m\u001b[1;33m,\u001b[0m \u001b[0mclasspath\u001b[0m\u001b[1;33m,\u001b[0m \u001b[0mconfig_path\u001b[0m\u001b[1;33m)\u001b[0m\u001b[1;33m\u001b[0m\u001b[1;33m\u001b[0m\u001b[0m\n\u001b[0m\u001b[0;32m    532\u001b[0m \u001b[1;33m\u001b[0m\u001b[0m\n\u001b[0;32m    533\u001b[0m     \u001b[0mserviceUrl\u001b[0m  \u001b[1;33m=\u001b[0m \u001b[0mserverEndpoint\u001b[0m \u001b[1;33m+\u001b[0m \u001b[0mservice\u001b[0m\u001b[1;33m\u001b[0m\u001b[1;33m\u001b[0m\u001b[0m\n",
      "\u001b[1;32mC:\\ProgramData\\Anaconda3\\lib\\site-packages\\tika\\tika.py\u001b[0m in \u001b[0;36mcheckTikaServer\u001b[1;34m(scheme, serverHost, port, tikaServerJar, classpath, config_path)\u001b[0m\n\u001b[0;32m    599\u001b[0m             \u001b[1;32mif\u001b[0m \u001b[1;32mnot\u001b[0m \u001b[0mstatus\u001b[0m\u001b[1;33m:\u001b[0m\u001b[1;33m\u001b[0m\u001b[1;33m\u001b[0m\u001b[0m\n\u001b[0;32m    600\u001b[0m                 \u001b[0mlog\u001b[0m\u001b[1;33m.\u001b[0m\u001b[0merror\u001b[0m\u001b[1;33m(\u001b[0m\u001b[1;34m\"Failed to receive startup confirmation from startServer.\"\u001b[0m\u001b[1;33m)\u001b[0m\u001b[1;33m\u001b[0m\u001b[1;33m\u001b[0m\u001b[0m\n\u001b[1;32m--> 601\u001b[1;33m                 \u001b[1;32mraise\u001b[0m \u001b[0mRuntimeError\u001b[0m\u001b[1;33m(\u001b[0m\u001b[1;34m\"Unable to start Tika server.\"\u001b[0m\u001b[1;33m)\u001b[0m\u001b[1;33m\u001b[0m\u001b[1;33m\u001b[0m\u001b[0m\n\u001b[0m\u001b[0;32m    602\u001b[0m     \u001b[1;32mreturn\u001b[0m \u001b[0mserverEndpoint\u001b[0m\u001b[1;33m\u001b[0m\u001b[1;33m\u001b[0m\u001b[0m\n\u001b[0;32m    603\u001b[0m \u001b[1;33m\u001b[0m\u001b[0m\n",
      "\u001b[1;31mRuntimeError\u001b[0m: Unable to start Tika server."
     ]
    }
   ],
   "source": [
    "data = parser.from_file('KR_nlp.pdf')\n",
    "data"
   ]
  },
  {
   "cell_type": "code",
   "execution_count": 50,
   "id": "9b80c06c",
   "metadata": {},
   "outputs": [
    {
     "ename": "NameError",
     "evalue": "name 'data' is not defined",
     "output_type": "error",
     "traceback": [
      "\u001b[1;31m---------------------------------------------------------------------------\u001b[0m",
      "\u001b[1;31mNameError\u001b[0m                                 Traceback (most recent call last)",
      "\u001b[1;32m~\\AppData\\Local\\Temp/ipykernel_17116/3763837538.py\u001b[0m in \u001b[0;36m<module>\u001b[1;34m\u001b[0m\n\u001b[1;32m----> 1\u001b[1;33m \u001b[0mcontent\u001b[0m \u001b[1;33m=\u001b[0m \u001b[0mdata\u001b[0m\u001b[1;33m[\u001b[0m\u001b[1;34m'content'\u001b[0m\u001b[1;33m]\u001b[0m\u001b[1;33m.\u001b[0m\u001b[0mstrip\u001b[0m\u001b[1;33m(\u001b[0m\u001b[1;33m)\u001b[0m\u001b[1;33m\u001b[0m\u001b[1;33m\u001b[0m\u001b[0m\n\u001b[0m\u001b[0;32m      2\u001b[0m \u001b[0mcontent\u001b[0m\u001b[1;33m\u001b[0m\u001b[1;33m\u001b[0m\u001b[0m\n",
      "\u001b[1;31mNameError\u001b[0m: name 'data' is not defined"
     ]
    }
   ],
   "source": [
    "content = data['content'].strip()\n",
    "content"
   ]
  },
  {
   "cell_type": "code",
   "execution_count": null,
   "id": "1687f39f",
   "metadata": {},
   "outputs": [],
   "source": [
    "with open('output.txt', 'w', encoding='utf-8') as txt:\n",
    "    print(content, file=txt)"
   ]
  },
  {
   "cell_type": "code",
   "execution_count": null,
   "id": "1a1dbfba",
   "metadata": {},
   "outputs": [],
   "source": [
    "f = open('US_Declaration.pdf', 'rb')\n",
    "pdf_reader = PyPDF2.PdfFileReader(f)"
   ]
  },
  {
   "cell_type": "code",
   "execution_count": null,
   "id": "1df160a9",
   "metadata": {},
   "outputs": [],
   "source": [
    "page_one = pdf_reader.getPage(0)\n"
   ]
  },
  {
   "cell_type": "code",
   "execution_count": null,
   "id": "d6f6c414",
   "metadata": {},
   "outputs": [],
   "source": [
    "pdf_writer = PyPDF2.PdfFileWriter()\n",
    "pdf_writer.addPage(page_one)"
   ]
  },
  {
   "cell_type": "code",
   "execution_count": null,
   "id": "363927ed",
   "metadata": {},
   "outputs": [],
   "source": [
    "pdf_output = open('Sample.pdf', 'wb')"
   ]
  },
  {
   "cell_type": "code",
   "execution_count": null,
   "id": "e7c3b811",
   "metadata": {},
   "outputs": [],
   "source": [
    "pdf_writer.write(pdf_output)"
   ]
  },
  {
   "cell_type": "code",
   "execution_count": null,
   "id": "aa1b28db",
   "metadata": {},
   "outputs": [],
   "source": [
    "pdf_output.close()\n",
    "f.close()"
   ]
  }
 ],
 "metadata": {
  "kernelspec": {
   "display_name": "Python 3 (ipykernel)",
   "language": "python",
   "name": "python3"
  },
  "language_info": {
   "codemirror_mode": {
    "name": "ipython",
    "version": 3
   },
   "file_extension": ".py",
   "mimetype": "text/x-python",
   "name": "python",
   "nbconvert_exporter": "python",
   "pygments_lexer": "ipython3",
   "version": "3.9.7"
  }
 },
 "nbformat": 4,
 "nbformat_minor": 5
}
