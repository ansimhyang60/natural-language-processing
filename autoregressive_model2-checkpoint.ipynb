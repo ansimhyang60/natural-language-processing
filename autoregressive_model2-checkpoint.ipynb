{
 "cells": [
  {
   "cell_type": "code",
   "execution_count": 1,
   "id": "9e4604e4",
   "metadata": {},
   "outputs": [
    {
     "data": {
      "text/plain": [
       "'2.8.0'"
      ]
     },
     "execution_count": 1,
     "metadata": {},
     "output_type": "execute_result"
    }
   ],
   "source": [
    "import tensorflow as tf \n",
    "tf.__version__"
   ]
  },
  {
   "cell_type": "code",
   "execution_count": 2,
   "id": "4836d057",
   "metadata": {},
   "outputs": [],
   "source": [
    "from tensorflow.keras.layers import Input, Dense\n",
    "from tensorflow.keras.models import Model\n",
    "from tensorflow.keras.optimizers import SGD, Adam\n",
    "\n",
    "import numpy as np\n",
    "import pandas as pd \n",
    "import matplotlib.pyplot as plt\n"
   ]
  },
  {
   "cell_type": "code",
   "execution_count": 3,
   "id": "78e462de",
   "metadata": {},
   "outputs": [],
   "source": [
    "series = np.sin(0.1 * np.arange(200)) # + np.random.randn(200) * 0.1 "
   ]
  },
  {
   "cell_type": "code",
   "execution_count": 4,
   "id": "293a23f1",
   "metadata": {},
   "outputs": [
    {
     "data": {
      "text/plain": [
       "[<matplotlib.lines.Line2D at 0x1b1a4c7cb50>]"
      ]
     },
     "execution_count": 4,
     "metadata": {},
     "output_type": "execute_result"
    },
    {
     "data": {
      "image/png": "[encoded data removed]",
      "text/plain": [
       "<Figure size 432x288 with 1 Axes>"
      ]
     },
     "metadata": {
      "needs_background": "light"
     },
     "output_type": "display_data"
    }
   ],
   "source": [
    "plt.plot(series)"
   ]
  },
  {
   "cell_type": "code",
   "execution_count": 5,
   "id": "b4785062",
   "metadata": {},
   "outputs": [],
   "source": [
    "T = 10\n",
    "X = []\n",
    "Y = []"
   ]
  },
  {
   "cell_type": "code",
   "execution_count": 6,
   "id": "f18bff85",
   "metadata": {},
   "outputs": [],
   "source": [
    "for t in range(len(series) - T):\n",
    "    x = series[t : t+T]\n",
    "    X.append(x)\n",
    "    y = series[t+T]\n",
    "    Y.append(y)"
   ]
  },
  {
   "cell_type": "code",
   "execution_count": 7,
   "id": "0945bbfc",
   "metadata": {},
   "outputs": [
    {
     "name": "stdout",
     "output_type": "stream",
     "text": [
      "X.shape:(190, 10), Y.shape:(190,), N.length:190\n"
     ]
    }
   ],
   "source": [
    "X = np.array(X).reshape(-1 ,T)\n",
    "Y = np.array(Y)\n",
    "N = len(X)\n",
    "print(f\"X.shape:{X.shape}, Y.shape:{Y.shape}, N.length:{N}\")"
   ]
  },
  {
   "cell_type": "code",
   "execution_count": 8,
   "id": "c90e57fc",
   "metadata": {},
   "outputs": [
    {
     "name": "stdout",
     "output_type": "stream",
     "text": [
      "Model: \"model\"\n",
      "_________________________________________________________________\n",
      " Layer (type)                Output Shape              Param #   \n",
      "=================================================================\n",
      " input_1 (InputLayer)        [(None, 10)]              0         \n",
      "                                                                 \n",
      " dense (Dense)               (None, 1)                 11        \n",
      "                                                                 \n",
      "=================================================================\n",
      "Total params: 11\n",
      "Trainable params: 11\n",
      "Non-trainable params: 0\n",
      "_________________________________________________________________\n"
     ]
    }
   ],
   "source": [
    "# linear model\n",
    "i = Input(shape=(T, ))\n",
    "x = Dense(1)(i)\n",
    "\n",
    "model = Model(i, x)\n",
    "model.summary()"
   ]
  },
  {
   "cell_type": "code",
   "execution_count": 9,
   "id": "f5022bec",
   "metadata": {},
   "outputs": [
    {
     "name": "stderr",
     "output_type": "stream",
     "text": [
      "C:\\ProgramData\\Anaconda3\\lib\\site-packages\\keras\\optimizer_v2\\adam.py:105: UserWarning: The `lr` argument is deprecated, use `learning_rate` instead.\n",
      "  super(Adam, self).__init__(name, **kwargs)\n"
     ]
    }
   ],
   "source": [
    "model.compile(loss='mse', optimizer=Adam(lr=0.1))"
   ]
  },
  {
   "cell_type": "code",
   "execution_count": 10,
   "id": "af156c8e",
   "metadata": {},
   "outputs": [
    {
     "name": "stdout",
     "output_type": "stream",
     "text": [
      "Epoch 1/80\n",
      "3/3 [==============================] - 0s 43ms/step - loss: 0.2333 - val_loss: 0.1662\n",
      "Epoch 2/80\n",
      "3/3 [==============================] - 0s 10ms/step - loss: 0.0962 - val_loss: 0.0717\n",
      "Epoch 3/80\n",
      "3/3 [==============================] - 0s 9ms/step - loss: 0.1030 - val_loss: 0.0143\n",
      "Epoch 4/80\n",
      "3/3 [==============================] - 0s 9ms/step - loss: 0.0269 - val_loss: 0.0666\n",
      "Epoch 5/80\n",
      "3/3 [==============================] - 0s 9ms/step - loss: 0.0387 - val_loss: 0.0019\n",
      "Epoch 6/80\n",
      "3/3 [==============================] - 0s 10ms/step - loss: 0.0152 - val_loss: 0.0346\n",
      "Epoch 7/80\n",
      "3/3 [==============================] - 0s 10ms/step - loss: 0.0170 - val_loss: 0.0063\n",
      "Epoch 8/80\n",
      "3/3 [==============================] - 0s 10ms/step - loss: 0.0128 - val_loss: 0.0104\n",
      "Epoch 9/80\n",
      "3/3 [==============================] - 0s 10ms/step - loss: 0.0072 - val_loss: 0.0045\n",
      "Epoch 10/80\n",
      "3/3 [==============================] - 0s 9ms/step - loss: 0.0088 - val_loss: 0.0026\n",
      "Epoch 11/80\n",
      "3/3 [==============================] - 0s 9ms/step - loss: 0.0029 - val_loss: 0.0095\n",
      "Epoch 12/80\n",
      "3/3 [==============================] - 0s 10ms/step - loss: 0.0061 - val_loss: 6.9342e-04\n",
      "Epoch 13/80\n",
      "3/3 [==============================] - 0s 10ms/step - loss: 0.0024 - val_loss: 0.0049\n",
      "Epoch 14/80\n",
      "3/3 [==============================] - 0s 10ms/step - loss: 0.0024 - val_loss: 6.0552e-04\n",
      "Epoch 15/80\n",
      "3/3 [==============================] - 0s 10ms/step - loss: 0.0022 - val_loss: 6.2331e-04\n",
      "Epoch 16/80\n",
      "3/3 [==============================] - 0s 11ms/step - loss: 6.3691e-04 - val_loss: 0.0015\n",
      "Epoch 17/80\n",
      "3/3 [==============================] - 0s 11ms/step - loss: 0.0013 - val_loss: 2.3391e-04\n",
      "Epoch 18/80\n",
      "3/3 [==============================] - 0s 10ms/step - loss: 7.1981e-04 - val_loss: 7.5121e-04\n",
      "Epoch 19/80\n",
      "3/3 [==============================] - 0s 12ms/step - loss: 4.2668e-04 - val_loss: 7.3007e-04\n",
      "Epoch 20/80\n",
      "3/3 [==============================] - 0s 10ms/step - loss: 5.5983e-04 - val_loss: 6.8447e-05\n",
      "Epoch 21/80\n",
      "3/3 [==============================] - 0s 9ms/step - loss: 4.1990e-04 - val_loss: 1.6627e-04\n",
      "Epoch 22/80\n",
      "3/3 [==============================] - 0s 10ms/step - loss: 1.5445e-04 - val_loss: 3.9232e-04\n",
      "Epoch 23/80\n",
      "3/3 [==============================] - 0s 9ms/step - loss: 3.0503e-04 - val_loss: 1.5332e-04\n",
      "Epoch 24/80\n",
      "3/3 [==============================] - 0s 15ms/step - loss: 2.6946e-04 - val_loss: 1.0014e-04\n",
      "Epoch 25/80\n",
      "3/3 [==============================] - 0s 10ms/step - loss: 9.2129e-05 - val_loss: 2.0327e-04\n",
      "Epoch 26/80\n",
      "3/3 [==============================] - 0s 10ms/step - loss: 9.8269e-05 - val_loss: 6.0970e-05\n",
      "Epoch 27/80\n",
      "3/3 [==============================] - 0s 9ms/step - loss: 1.0071e-04 - val_loss: 6.5259e-07\n",
      "Epoch 28/80\n",
      "3/3 [==============================] - 0s 11ms/step - loss: 4.5631e-05 - val_loss: 3.5472e-05\n",
      "Epoch 29/80\n",
      "3/3 [==============================] - 0s 11ms/step - loss: 3.0821e-05 - val_loss: 7.2183e-05\n",
      "Epoch 30/80\n",
      "3/3 [==============================] - 0s 10ms/step - loss: 3.9158e-05 - val_loss: 1.9146e-05\n",
      "Epoch 31/80\n",
      "3/3 [==============================] - 0s 10ms/step - loss: 3.2663e-05 - val_loss: 3.7775e-06\n",
      "Epoch 32/80\n",
      "3/3 [==============================] - 0s 10ms/step - loss: 1.5160e-05 - val_loss: 1.8092e-05\n",
      "Epoch 33/80\n",
      "3/3 [==============================] - 0s 10ms/step - loss: 9.5852e-06 - val_loss: 1.5113e-05\n",
      "Epoch 34/80\n",
      "3/3 [==============================] - 0s 9ms/step - loss: 1.1852e-05 - val_loss: 5.9962e-06\n",
      "Epoch 35/80\n",
      "3/3 [==============================] - 0s 10ms/step - loss: 8.1072e-06 - val_loss: 6.4614e-07\n",
      "Epoch 36/80\n",
      "3/3 [==============================] - 0s 10ms/step - loss: 3.5705e-06 - val_loss: 4.0837e-06\n",
      "Epoch 37/80\n",
      "3/3 [==============================] - 0s 10ms/step - loss: 2.2344e-06 - val_loss: 3.7530e-06\n",
      "Epoch 38/80\n",
      "3/3 [==============================] - 0s 9ms/step - loss: 2.5064e-06 - val_loss: 3.0447e-06\n",
      "Epoch 39/80\n",
      "3/3 [==============================] - 0s 10ms/step - loss: 2.4746e-06 - val_loss: 4.4064e-07\n",
      "Epoch 40/80\n",
      "3/3 [==============================] - 0s 9ms/step - loss: 1.4493e-06 - val_loss: 1.8373e-07\n",
      "Epoch 41/80\n",
      "3/3 [==============================] - 0s 9ms/step - loss: 7.9521e-07 - val_loss: 1.1259e-06\n",
      "Epoch 42/80\n",
      "3/3 [==============================] - 0s 10ms/step - loss: 5.9833e-07 - val_loss: 8.3608e-07\n",
      "Epoch 43/80\n",
      "3/3 [==============================] - 0s 9ms/step - loss: 5.3646e-07 - val_loss: 7.1316e-07\n",
      "Epoch 44/80\n",
      "3/3 [==============================] - 0s 10ms/step - loss: 5.4968e-07 - val_loss: 3.9691e-07\n",
      "Epoch 45/80\n",
      "3/3 [==============================] - 0s 10ms/step - loss: 3.2098e-07 - val_loss: 1.7117e-08\n",
      "Epoch 46/80\n",
      "3/3 [==============================] - 0s 10ms/step - loss: 1.6275e-07 - val_loss: 5.3342e-08\n",
      "Epoch 47/80\n",
      "3/3 [==============================] - 0s 11ms/step - loss: 8.4840e-08 - val_loss: 9.0580e-08\n",
      "Epoch 48/80\n",
      "3/3 [==============================] - 0s 9ms/step - loss: 8.1854e-08 - val_loss: 1.9161e-07\n",
      "Epoch 49/80\n",
      "3/3 [==============================] - 0s 10ms/step - loss: 8.6716e-08 - val_loss: 9.9720e-08\n",
      "Epoch 50/80\n",
      "3/3 [==============================] - 0s 8ms/step - loss: 5.3980e-08 - val_loss: 2.5680e-08\n",
      "Epoch 51/80\n",
      "3/3 [==============================] - 0s 9ms/step - loss: 3.3058e-08 - val_loss: 5.0529e-09\n",
      "Epoch 52/80\n",
      "3/3 [==============================] - 0s 9ms/step - loss: 2.3748e-08 - val_loss: 5.1428e-09\n",
      "Epoch 53/80\n",
      "3/3 [==============================] - 0s 9ms/step - loss: 1.5257e-08 - val_loss: 6.4083e-09\n",
      "Epoch 54/80\n",
      "3/3 [==============================] - 0s 9ms/step - loss: 8.9503e-09 - val_loss: 8.5320e-09\n",
      "Epoch 55/80\n",
      "3/3 [==============================] - 0s 9ms/step - loss: 6.9311e-09 - val_loss: 7.8697e-09\n",
      "Epoch 56/80\n",
      "3/3 [==============================] - 0s 10ms/step - loss: 4.5118e-09 - val_loss: 6.5568e-09\n",
      "Epoch 57/80\n",
      "3/3 [==============================] - 0s 10ms/step - loss: 3.9692e-09 - val_loss: 4.4599e-09\n",
      "Epoch 58/80\n",
      "3/3 [==============================] - 0s 9ms/step - loss: 2.1410e-09 - val_loss: 1.6698e-09\n",
      "Epoch 59/80\n",
      "3/3 [==============================] - 0s 10ms/step - loss: 1.5547e-09 - val_loss: 7.4948e-10\n",
      "Epoch 60/80\n",
      "3/3 [==============================] - 0s 10ms/step - loss: 1.2724e-09 - val_loss: 4.7013e-10\n",
      "Epoch 61/80\n",
      "3/3 [==============================] - 0s 9ms/step - loss: 7.9734e-10 - val_loss: 1.7172e-10\n",
      "Epoch 62/80\n",
      "3/3 [==============================] - 0s 8ms/step - loss: 4.6847e-10 - val_loss: 4.8318e-11\n",
      "Epoch 63/80\n",
      "3/3 [==============================] - 0s 9ms/step - loss: 2.9806e-10 - val_loss: 1.9183e-10\n",
      "Epoch 64/80\n",
      "3/3 [==============================] - 0s 11ms/step - loss: 2.0963e-10 - val_loss: 2.0128e-10\n",
      "Epoch 65/80\n",
      "3/3 [==============================] - 0s 9ms/step - loss: 1.1766e-10 - val_loss: 1.5167e-10\n",
      "Epoch 66/80\n",
      "3/3 [==============================] - 0s 10ms/step - loss: 1.0105e-10 - val_loss: 8.7173e-11\n",
      "Epoch 67/80\n",
      "3/3 [==============================] - 0s 10ms/step - loss: 4.3856e-11 - val_loss: 8.9629e-11\n",
      "Epoch 68/80\n",
      "3/3 [==============================] - 0s 9ms/step - loss: 6.1128e-11 - val_loss: 7.3501e-11\n",
      "Epoch 69/80\n",
      "3/3 [==============================] - 0s 9ms/step - loss: 4.8305e-11 - val_loss: 4.2167e-11\n",
      "Epoch 70/80\n",
      "3/3 [==============================] - 0s 10ms/step - loss: 2.7031e-11 - val_loss: 2.2454e-11\n",
      "Epoch 71/80\n",
      "3/3 [==============================] - 0s 10ms/step - loss: 2.0497e-11 - val_loss: 2.0464e-11\n",
      "Epoch 72/80\n",
      "3/3 [==============================] - 0s 9ms/step - loss: 1.9497e-11 - val_loss: 1.8861e-11\n",
      "Epoch 73/80\n",
      "3/3 [==============================] - 0s 12ms/step - loss: 1.5259e-11 - val_loss: 6.1201e-12\n",
      "Epoch 74/80\n",
      "3/3 [==============================] - 0s 9ms/step - loss: 8.2459e-12 - val_loss: 2.3270e-12\n",
      "Epoch 75/80\n",
      "3/3 [==============================] - 0s 10ms/step - loss: 5.6827e-12 - val_loss: 3.0118e-12\n",
      "Epoch 76/80\n",
      "3/3 [==============================] - 0s 9ms/step - loss: 5.0158e-12 - val_loss: 1.8578e-12\n",
      "Epoch 77/80\n",
      "3/3 [==============================] - 0s 10ms/step - loss: 5.1295e-12 - val_loss: 3.8173e-13\n",
      "Epoch 78/80\n",
      "3/3 [==============================] - 0s 10ms/step - loss: 3.3278e-12 - val_loss: 4.4271e-13\n",
      "Epoch 79/80\n",
      "3/3 [==============================] - 0s 10ms/step - loss: 3.1747e-12 - val_loss: 7.0311e-13\n"
     ]
    },
    {
     "name": "stdout",
     "output_type": "stream",
     "text": [
      "Epoch 80/80\n",
      "3/3 [==============================] - 0s 12ms/step - loss: 3.0921e-12 - val_loss: 3.3643e-13\n"
     ]
    }
   ],
   "source": [
    "r = model.fit(X[:-N//2], Y[:-N//2], epochs=80, validation_data=(X[-N//2:], Y[-N//2:]))"
   ]
  },
  {
   "cell_type": "code",
   "execution_count": 11,
   "id": "d32dd1a6",
   "metadata": {},
   "outputs": [
    {
     "data": {
      "text/plain": [
       "<matplotlib.legend.Legend at 0x1b1a42a0c40>"
      ]
     },
     "execution_count": 11,
     "metadata": {},
     "output_type": "execute_result"
    },
    {
     "data": {
      "image/png": "[encoded data removed]",
      "text/plain": [
       "<Figure size 432x288 with 1 Axes>"
      ]
     },
     "metadata": {
      "needs_background": "light"
     },
     "output_type": "display_data"
    }
   ],
   "source": [
    "plt.plot(r.history['loss'], label='loss')\n",
    "plt.plot(r.history['val_loss'], label='val_loss')\n",
    "plt.legend()"
   ]
  },
  {
   "cell_type": "code",
   "execution_count": 12,
   "id": "df2a8023",
   "metadata": {},
   "outputs": [],
   "source": [
    "validation_target = Y[-N//2:]\n",
    "validation_predictions = []\n",
    "\n",
    "i = -N//2 \n",
    "while len(validation_predictions) < len(validation_target):\n",
    "    p = model.predict(X[i].reshape(1, -1))[0,0] # 1x1 array -> scalar\n",
    "    i += 1\n",
    "    \n",
    "    validation_predictions.append(p)"
   ]
  },
  {
   "cell_type": "code",
   "execution_count": 13,
   "id": "3c7afc6b",
   "metadata": {},
   "outputs": [
    {
     "data": {
      "text/plain": [
       "<matplotlib.legend.Legend at 0x1b1a6b56760>"
      ]
     },
     "execution_count": 13,
     "metadata": {},
     "output_type": "execute_result"
    },
    {
     "data": {
      "image/png": "[encoded data removed]",
      "text/plain": [
       "<Figure size 432x288 with 1 Axes>"
      ]
     },
     "metadata": {
      "needs_background": "light"
     },
     "output_type": "display_data"
    }
   ],
   "source": [
    "plt.plot(validation_target, label='forecast_target')\n",
    "plt.plot(validation_predictions, label='forecast_prediction')\n",
    "plt.legend()"
   ]
  },
  {
   "cell_type": "code",
   "execution_count": 14,
   "id": "8691e871",
   "metadata": {},
   "outputs": [],
   "source": [
    "validation_target = Y[-N//2:]\n",
    "validation_predictions = []\n",
    "\n",
    "# last train input \n",
    "last_x = X[-N//2]"
   ]
  },
  {
   "cell_type": "code",
   "execution_count": 15,
   "id": "8011dbf7",
   "metadata": {},
   "outputs": [
    {
     "name": "stdout",
     "output_type": "stream",
     "text": [
      "95\n",
      "[-0.07515112 -0.17432678 -0.27176063 -0.36647913 -0.45753589 -0.54402111\n",
      " -0.62507065 -0.69987469 -0.76768581 -0.82782647]\n"
     ]
    }
   ],
   "source": [
    "print(len(validation_target))\n",
    "print(last_x)"
   ]
  },
  {
   "cell_type": "code",
   "execution_count": 16,
   "id": "b7b3d71f",
   "metadata": {},
   "outputs": [
    {
     "name": "stdout",
     "output_type": "stream",
     "text": [
      "[[-0.07515112 -0.17432678 -0.27176063 -0.36647913 -0.45753589 -0.54402111\n",
      "  -0.62507065 -0.69987469 -0.76768581 -0.82782647]]\n"
     ]
    }
   ],
   "source": [
    "print(last_x.reshape(1, -1))"
   ]
  },
  {
   "cell_type": "code",
   "execution_count": 17,
   "id": "eba4795e",
   "metadata": {},
   "outputs": [
    {
     "name": "stdout",
     "output_type": "stream",
     "text": [
      "-0.8796963\n"
     ]
    }
   ],
   "source": [
    "print(model.predict(last_x.reshape(1, -1))[0,0])"
   ]
  },
  {
   "cell_type": "code",
   "execution_count": 18,
   "id": "c915a036",
   "metadata": {},
   "outputs": [],
   "source": [
    "while len(validation_predictions) < len(validation_target):\n",
    "    p = model.predict(last_x.reshape(1, -1))[0,0] # 1x1 array -> scalar\n",
    "    validation_predictions.append(p)\n",
    "    \n",
    "    last_x = np.roll(last_x, -1)\n",
    "    last_x[-1] = p"
   ]
  },
  {
   "cell_type": "code",
   "execution_count": 19,
   "id": "89a00ea0",
   "metadata": {},
   "outputs": [
    {
     "data": {
      "text/plain": [
       "<matplotlib.legend.Legend at 0x1b1a6d075e0>"
      ]
     },
     "execution_count": 19,
     "metadata": {},
     "output_type": "execute_result"
    },
    {
     "data": {
      "image/png": "[encoded data removed]",
      "text/plain": [
       "<Figure size 432x288 with 1 Axes>"
      ]
     },
     "metadata": {
      "needs_background": "light"
     },
     "output_type": "display_data"
    }
   ],
   "source": [
    "plt.plot(validation_target, label='forecast_target')\n",
    "plt.plot(validation_predictions, label='forecast_prediction')\n",
    "plt.legend()"
   ]
  },
  {
   "cell_type": "code",
   "execution_count": 20,
   "id": "2da15a64",
   "metadata": {},
   "outputs": [
    {
     "data": {
      "image/png": "[encoded data removed]",
      "text/plain": [
       "<Figure size 432x288 with 1 Axes>"
      ]
     },
     "metadata": {
      "needs_background": "light"
     },
     "output_type": "display_data"
    }
   ],
   "source": [
    "series = np.sin(0.1 * np.arange(200)) + np.random.randn(200) * 0.1\n",
    "\n",
    "plt.plot(series)\n",
    "plt.show()"
   ]
  },
  {
   "cell_type": "code",
   "execution_count": null,
   "id": "f10126d4",
   "metadata": {},
   "outputs": [],
   "source": []
  }
 ],
 "metadata": {
  "kernelspec": {
   "display_name": "Python 3 (ipykernel)",
   "language": "python",
   "name": "python3"
  },
  "language_info": {
   "codemirror_mode": {
    "name": "ipython",
    "version": 3
   },
   "file_extension": ".py",
   "mimetype": "text/x-python",
   "name": "python",
   "nbconvert_exporter": "python",
   "pygments_lexer": "ipython3",
   "version": "3.9.7"
  }
 },
 "nbformat": 4,
 "nbformat_minor": 5
}
